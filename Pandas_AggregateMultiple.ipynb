{
 "cells": [
  {
   "cell_type": "code",
   "execution_count": 25,
   "metadata": {},
   "outputs": [
    {
     "data": {
      "text/html": [
       "\n",
       "    <div class=\"bk-root\">\n",
       "        <a href=\"https://bokeh.pydata.org\" target=\"_blank\" class=\"bk-logo bk-logo-small bk-logo-notebook\"></a>\n",
       "        <span id=\"c49647c5-7e3f-4dca-9a38-b4795465b4d0\">Loading BokehJS ...</span>\n",
       "    </div>"
      ]
     },
     "metadata": {},
     "output_type": "display_data"
    },
    {
     "data": {
      "application/javascript": [
       "\n",
       "(function(root) {\n",
       "  function now() {\n",
       "    return new Date();\n",
       "  }\n",
       "\n",
       "  var force = true;\n",
       "\n",
       "  if (typeof (root._bokeh_onload_callbacks) === \"undefined\" || force === true) {\n",
       "    root._bokeh_onload_callbacks = [];\n",
       "    root._bokeh_is_loading = undefined;\n",
       "  }\n",
       "\n",
       "  var JS_MIME_TYPE = 'application/javascript';\n",
       "  var HTML_MIME_TYPE = 'text/html';\n",
       "  var EXEC_MIME_TYPE = 'application/vnd.bokehjs_exec.v0+json';\n",
       "  var CLASS_NAME = 'output_bokeh rendered_html';\n",
       "\n",
       "  /**\n",
       "   * Render data to the DOM node\n",
       "   */\n",
       "  function render(props, node) {\n",
       "    var script = document.createElement(\"script\");\n",
       "    node.appendChild(script);\n",
       "  }\n",
       "\n",
       "  /**\n",
       "   * Handle when an output is cleared or removed\n",
       "   */\n",
       "  function handleClearOutput(event, handle) {\n",
       "    var cell = handle.cell;\n",
       "\n",
       "    var id = cell.output_area._bokeh_element_id;\n",
       "    var server_id = cell.output_area._bokeh_server_id;\n",
       "    // Clean up Bokeh references\n",
       "    if (id !== undefined) {\n",
       "      Bokeh.index[id].model.document.clear();\n",
       "      delete Bokeh.index[id];\n",
       "    }\n",
       "\n",
       "    if (server_id !== undefined) {\n",
       "      // Clean up Bokeh references\n",
       "      var cmd = \"from bokeh.io.state import curstate; print(curstate().uuid_to_server['\" + server_id + \"'].get_sessions()[0].document.roots[0]._id)\";\n",
       "      cell.notebook.kernel.execute(cmd, {\n",
       "        iopub: {\n",
       "          output: function(msg) {\n",
       "            var element_id = msg.content.text.trim();\n",
       "            Bokeh.index[element_id].model.document.clear();\n",
       "            delete Bokeh.index[element_id];\n",
       "          }\n",
       "        }\n",
       "      });\n",
       "      // Destroy server and session\n",
       "      var cmd = \"import bokeh.io.notebook as ion; ion.destroy_server('\" + server_id + \"')\";\n",
       "      cell.notebook.kernel.execute(cmd);\n",
       "    }\n",
       "  }\n",
       "\n",
       "  /**\n",
       "   * Handle when a new output is added\n",
       "   */\n",
       "  function handleAddOutput(event, handle) {\n",
       "    var output_area = handle.output_area;\n",
       "    var output = handle.output;\n",
       "\n",
       "    // limit handleAddOutput to display_data with EXEC_MIME_TYPE content only\n",
       "    if ((output.output_type != \"display_data\") || (!output.data.hasOwnProperty(EXEC_MIME_TYPE))) {\n",
       "      return\n",
       "    }\n",
       "\n",
       "    var toinsert = output_area.element.find(\".\" + CLASS_NAME.split(' ')[0]);\n",
       "\n",
       "    if (output.metadata[EXEC_MIME_TYPE][\"id\"] !== undefined) {\n",
       "      toinsert[0].firstChild.textContent = output.data[JS_MIME_TYPE];\n",
       "      // store reference to embed id on output_area\n",
       "      output_area._bokeh_element_id = output.metadata[EXEC_MIME_TYPE][\"id\"];\n",
       "    }\n",
       "    if (output.metadata[EXEC_MIME_TYPE][\"server_id\"] !== undefined) {\n",
       "      var bk_div = document.createElement(\"div\");\n",
       "      bk_div.innerHTML = output.data[HTML_MIME_TYPE];\n",
       "      var script_attrs = bk_div.children[0].attributes;\n",
       "      for (var i = 0; i < script_attrs.length; i++) {\n",
       "        toinsert[0].firstChild.setAttribute(script_attrs[i].name, script_attrs[i].value);\n",
       "      }\n",
       "      // store reference to server id on output_area\n",
       "      output_area._bokeh_server_id = output.metadata[EXEC_MIME_TYPE][\"server_id\"];\n",
       "    }\n",
       "  }\n",
       "\n",
       "  function register_renderer(events, OutputArea) {\n",
       "\n",
       "    function append_mime(data, metadata, element) {\n",
       "      // create a DOM node to render to\n",
       "      var toinsert = this.create_output_subarea(\n",
       "        metadata,\n",
       "        CLASS_NAME,\n",
       "        EXEC_MIME_TYPE\n",
       "      );\n",
       "      this.keyboard_manager.register_events(toinsert);\n",
       "      // Render to node\n",
       "      var props = {data: data, metadata: metadata[EXEC_MIME_TYPE]};\n",
       "      render(props, toinsert[0]);\n",
       "      element.append(toinsert);\n",
       "      return toinsert\n",
       "    }\n",
       "\n",
       "    /* Handle when an output is cleared or removed */\n",
       "    events.on('clear_output.CodeCell', handleClearOutput);\n",
       "    events.on('delete.Cell', handleClearOutput);\n",
       "\n",
       "    /* Handle when a new output is added */\n",
       "    events.on('output_added.OutputArea', handleAddOutput);\n",
       "\n",
       "    /**\n",
       "     * Register the mime type and append_mime function with output_area\n",
       "     */\n",
       "    OutputArea.prototype.register_mime_type(EXEC_MIME_TYPE, append_mime, {\n",
       "      /* Is output safe? */\n",
       "      safe: true,\n",
       "      /* Index of renderer in `output_area.display_order` */\n",
       "      index: 0\n",
       "    });\n",
       "  }\n",
       "\n",
       "  // register the mime type if in Jupyter Notebook environment and previously unregistered\n",
       "  if (root.Jupyter !== undefined) {\n",
       "    var events = require('base/js/events');\n",
       "    var OutputArea = require('notebook/js/outputarea').OutputArea;\n",
       "\n",
       "    if (OutputArea.prototype.mime_types().indexOf(EXEC_MIME_TYPE) == -1) {\n",
       "      register_renderer(events, OutputArea);\n",
       "    }\n",
       "  }\n",
       "\n",
       "  \n",
       "  if (typeof (root._bokeh_timeout) === \"undefined\" || force === true) {\n",
       "    root._bokeh_timeout = Date.now() + 5000;\n",
       "    root._bokeh_failed_load = false;\n",
       "  }\n",
       "\n",
       "  var NB_LOAD_WARNING = {'data': {'text/html':\n",
       "     \"<div style='background-color: #fdd'>\\n\"+\n",
       "     \"<p>\\n\"+\n",
       "     \"BokehJS does not appear to have successfully loaded. If loading BokehJS from CDN, this \\n\"+\n",
       "     \"may be due to a slow or bad network connection. Possible fixes:\\n\"+\n",
       "     \"</p>\\n\"+\n",
       "     \"<ul>\\n\"+\n",
       "     \"<li>re-rerun `output_notebook()` to attempt to load from CDN again, or</li>\\n\"+\n",
       "     \"<li>use INLINE resources instead, as so:</li>\\n\"+\n",
       "     \"</ul>\\n\"+\n",
       "     \"<code>\\n\"+\n",
       "     \"from bokeh.resources import INLINE\\n\"+\n",
       "     \"output_notebook(resources=INLINE)\\n\"+\n",
       "     \"</code>\\n\"+\n",
       "     \"</div>\"}};\n",
       "\n",
       "  function display_loaded() {\n",
       "    var el = document.getElementById(\"c49647c5-7e3f-4dca-9a38-b4795465b4d0\");\n",
       "    if (el != null) {\n",
       "      el.textContent = \"BokehJS is loading...\";\n",
       "    }\n",
       "    if (root.Bokeh !== undefined) {\n",
       "      if (el != null) {\n",
       "        el.textContent = \"BokehJS \" + root.Bokeh.version + \" successfully loaded.\";\n",
       "      }\n",
       "    } else if (Date.now() < root._bokeh_timeout) {\n",
       "      setTimeout(display_loaded, 100)\n",
       "    }\n",
       "  }\n",
       "\n",
       "\n",
       "  function run_callbacks() {\n",
       "    try {\n",
       "      root._bokeh_onload_callbacks.forEach(function(callback) { callback() });\n",
       "    }\n",
       "    finally {\n",
       "      delete root._bokeh_onload_callbacks\n",
       "    }\n",
       "    console.info(\"Bokeh: all callbacks have finished\");\n",
       "  }\n",
       "\n",
       "  function load_libs(js_urls, callback) {\n",
       "    root._bokeh_onload_callbacks.push(callback);\n",
       "    if (root._bokeh_is_loading > 0) {\n",
       "      console.log(\"Bokeh: BokehJS is being loaded, scheduling callback at\", now());\n",
       "      return null;\n",
       "    }\n",
       "    if (js_urls == null || js_urls.length === 0) {\n",
       "      run_callbacks();\n",
       "      return null;\n",
       "    }\n",
       "    console.log(\"Bokeh: BokehJS not loaded, scheduling load and callback at\", now());\n",
       "    root._bokeh_is_loading = js_urls.length;\n",
       "    for (var i = 0; i < js_urls.length; i++) {\n",
       "      var url = js_urls[i];\n",
       "      var s = document.createElement('script');\n",
       "      s.src = url;\n",
       "      s.async = false;\n",
       "      s.onreadystatechange = s.onload = function() {\n",
       "        root._bokeh_is_loading--;\n",
       "        if (root._bokeh_is_loading === 0) {\n",
       "          console.log(\"Bokeh: all BokehJS libraries loaded\");\n",
       "          run_callbacks()\n",
       "        }\n",
       "      };\n",
       "      s.onerror = function() {\n",
       "        console.warn(\"failed to load library \" + url);\n",
       "      };\n",
       "      console.log(\"Bokeh: injecting script tag for BokehJS library: \", url);\n",
       "      document.getElementsByTagName(\"head\")[0].appendChild(s);\n",
       "    }\n",
       "  };var element = document.getElementById(\"c49647c5-7e3f-4dca-9a38-b4795465b4d0\");\n",
       "  if (element == null) {\n",
       "    console.log(\"Bokeh: ERROR: autoload.js configured with elementid 'c49647c5-7e3f-4dca-9a38-b4795465b4d0' but no matching script tag was found. \")\n",
       "    return false;\n",
       "  }\n",
       "\n",
       "  var js_urls = [\"https://cdn.pydata.org/bokeh/release/bokeh-0.12.13.min.js\", \"https://cdn.pydata.org/bokeh/release/bokeh-widgets-0.12.13.min.js\", \"https://cdn.pydata.org/bokeh/release/bokeh-tables-0.12.13.min.js\", \"https://cdn.pydata.org/bokeh/release/bokeh-gl-0.12.13.min.js\"];\n",
       "\n",
       "  var inline_js = [\n",
       "    function(Bokeh) {\n",
       "      Bokeh.set_log_level(\"info\");\n",
       "    },\n",
       "    \n",
       "    function(Bokeh) {\n",
       "      \n",
       "    },\n",
       "    function(Bokeh) {\n",
       "      console.log(\"Bokeh: injecting CSS: https://cdn.pydata.org/bokeh/release/bokeh-0.12.13.min.css\");\n",
       "      Bokeh.embed.inject_css(\"https://cdn.pydata.org/bokeh/release/bokeh-0.12.13.min.css\");\n",
       "      console.log(\"Bokeh: injecting CSS: https://cdn.pydata.org/bokeh/release/bokeh-widgets-0.12.13.min.css\");\n",
       "      Bokeh.embed.inject_css(\"https://cdn.pydata.org/bokeh/release/bokeh-widgets-0.12.13.min.css\");\n",
       "      console.log(\"Bokeh: injecting CSS: https://cdn.pydata.org/bokeh/release/bokeh-tables-0.12.13.min.css\");\n",
       "      Bokeh.embed.inject_css(\"https://cdn.pydata.org/bokeh/release/bokeh-tables-0.12.13.min.css\");\n",
       "    }\n",
       "  ];\n",
       "\n",
       "  function run_inline_js() {\n",
       "    \n",
       "    if ((root.Bokeh !== undefined) || (force === true)) {\n",
       "      for (var i = 0; i < inline_js.length; i++) {\n",
       "        inline_js[i].call(root, root.Bokeh);\n",
       "      }if (force === true) {\n",
       "        display_loaded();\n",
       "      }} else if (Date.now() < root._bokeh_timeout) {\n",
       "      setTimeout(run_inline_js, 100);\n",
       "    } else if (!root._bokeh_failed_load) {\n",
       "      console.log(\"Bokeh: BokehJS failed to load within specified timeout.\");\n",
       "      root._bokeh_failed_load = true;\n",
       "    } else if (force !== true) {\n",
       "      var cell = $(document.getElementById(\"c49647c5-7e3f-4dca-9a38-b4795465b4d0\")).parents('.cell').data().cell;\n",
       "      cell.output_area.append_execute_result(NB_LOAD_WARNING)\n",
       "    }\n",
       "\n",
       "  }\n",
       "\n",
       "  if (root._bokeh_is_loading === 0) {\n",
       "    console.log(\"Bokeh: BokehJS loaded, going straight to plotting\");\n",
       "    run_inline_js();\n",
       "  } else {\n",
       "    load_libs(js_urls, function() {\n",
       "      console.log(\"Bokeh: BokehJS plotting callback run at\", now());\n",
       "      run_inline_js();\n",
       "    });\n",
       "  }\n",
       "}(window));"
      ],
      "application/vnd.bokehjs_load.v0+json": "\n(function(root) {\n  function now() {\n    return new Date();\n  }\n\n  var force = true;\n\n  if (typeof (root._bokeh_onload_callbacks) === \"undefined\" || force === true) {\n    root._bokeh_onload_callbacks = [];\n    root._bokeh_is_loading = undefined;\n  }\n\n  \n\n  \n  if (typeof (root._bokeh_timeout) === \"undefined\" || force === true) {\n    root._bokeh_timeout = Date.now() + 5000;\n    root._bokeh_failed_load = false;\n  }\n\n  var NB_LOAD_WARNING = {'data': {'text/html':\n     \"<div style='background-color: #fdd'>\\n\"+\n     \"<p>\\n\"+\n     \"BokehJS does not appear to have successfully loaded. If loading BokehJS from CDN, this \\n\"+\n     \"may be due to a slow or bad network connection. Possible fixes:\\n\"+\n     \"</p>\\n\"+\n     \"<ul>\\n\"+\n     \"<li>re-rerun `output_notebook()` to attempt to load from CDN again, or</li>\\n\"+\n     \"<li>use INLINE resources instead, as so:</li>\\n\"+\n     \"</ul>\\n\"+\n     \"<code>\\n\"+\n     \"from bokeh.resources import INLINE\\n\"+\n     \"output_notebook(resources=INLINE)\\n\"+\n     \"</code>\\n\"+\n     \"</div>\"}};\n\n  function display_loaded() {\n    var el = document.getElementById(\"c49647c5-7e3f-4dca-9a38-b4795465b4d0\");\n    if (el != null) {\n      el.textContent = \"BokehJS is loading...\";\n    }\n    if (root.Bokeh !== undefined) {\n      if (el != null) {\n        el.textContent = \"BokehJS \" + root.Bokeh.version + \" successfully loaded.\";\n      }\n    } else if (Date.now() < root._bokeh_timeout) {\n      setTimeout(display_loaded, 100)\n    }\n  }\n\n\n  function run_callbacks() {\n    try {\n      root._bokeh_onload_callbacks.forEach(function(callback) { callback() });\n    }\n    finally {\n      delete root._bokeh_onload_callbacks\n    }\n    console.info(\"Bokeh: all callbacks have finished\");\n  }\n\n  function load_libs(js_urls, callback) {\n    root._bokeh_onload_callbacks.push(callback);\n    if (root._bokeh_is_loading > 0) {\n      console.log(\"Bokeh: BokehJS is being loaded, scheduling callback at\", now());\n      return null;\n    }\n    if (js_urls == null || js_urls.length === 0) {\n      run_callbacks();\n      return null;\n    }\n    console.log(\"Bokeh: BokehJS not loaded, scheduling load and callback at\", now());\n    root._bokeh_is_loading = js_urls.length;\n    for (var i = 0; i < js_urls.length; i++) {\n      var url = js_urls[i];\n      var s = document.createElement('script');\n      s.src = url;\n      s.async = false;\n      s.onreadystatechange = s.onload = function() {\n        root._bokeh_is_loading--;\n        if (root._bokeh_is_loading === 0) {\n          console.log(\"Bokeh: all BokehJS libraries loaded\");\n          run_callbacks()\n        }\n      };\n      s.onerror = function() {\n        console.warn(\"failed to load library \" + url);\n      };\n      console.log(\"Bokeh: injecting script tag for BokehJS library: \", url);\n      document.getElementsByTagName(\"head\")[0].appendChild(s);\n    }\n  };var element = document.getElementById(\"c49647c5-7e3f-4dca-9a38-b4795465b4d0\");\n  if (element == null) {\n    console.log(\"Bokeh: ERROR: autoload.js configured with elementid 'c49647c5-7e3f-4dca-9a38-b4795465b4d0' but no matching script tag was found. \")\n    return false;\n  }\n\n  var js_urls = [\"https://cdn.pydata.org/bokeh/release/bokeh-0.12.13.min.js\", \"https://cdn.pydata.org/bokeh/release/bokeh-widgets-0.12.13.min.js\", \"https://cdn.pydata.org/bokeh/release/bokeh-tables-0.12.13.min.js\", \"https://cdn.pydata.org/bokeh/release/bokeh-gl-0.12.13.min.js\"];\n\n  var inline_js = [\n    function(Bokeh) {\n      Bokeh.set_log_level(\"info\");\n    },\n    \n    function(Bokeh) {\n      \n    },\n    function(Bokeh) {\n      console.log(\"Bokeh: injecting CSS: https://cdn.pydata.org/bokeh/release/bokeh-0.12.13.min.css\");\n      Bokeh.embed.inject_css(\"https://cdn.pydata.org/bokeh/release/bokeh-0.12.13.min.css\");\n      console.log(\"Bokeh: injecting CSS: https://cdn.pydata.org/bokeh/release/bokeh-widgets-0.12.13.min.css\");\n      Bokeh.embed.inject_css(\"https://cdn.pydata.org/bokeh/release/bokeh-widgets-0.12.13.min.css\");\n      console.log(\"Bokeh: injecting CSS: https://cdn.pydata.org/bokeh/release/bokeh-tables-0.12.13.min.css\");\n      Bokeh.embed.inject_css(\"https://cdn.pydata.org/bokeh/release/bokeh-tables-0.12.13.min.css\");\n    }\n  ];\n\n  function run_inline_js() {\n    \n    if ((root.Bokeh !== undefined) || (force === true)) {\n      for (var i = 0; i < inline_js.length; i++) {\n        inline_js[i].call(root, root.Bokeh);\n      }if (force === true) {\n        display_loaded();\n      }} else if (Date.now() < root._bokeh_timeout) {\n      setTimeout(run_inline_js, 100);\n    } else if (!root._bokeh_failed_load) {\n      console.log(\"Bokeh: BokehJS failed to load within specified timeout.\");\n      root._bokeh_failed_load = true;\n    } else if (force !== true) {\n      var cell = $(document.getElementById(\"c49647c5-7e3f-4dca-9a38-b4795465b4d0\")).parents('.cell').data().cell;\n      cell.output_area.append_execute_result(NB_LOAD_WARNING)\n    }\n\n  }\n\n  if (root._bokeh_is_loading === 0) {\n    console.log(\"Bokeh: BokehJS loaded, going straight to plotting\");\n    run_inline_js();\n  } else {\n    load_libs(js_urls, function() {\n      console.log(\"Bokeh: BokehJS plotting callback run at\", now());\n      run_inline_js();\n    });\n  }\n}(window));"
     },
     "metadata": {},
     "output_type": "display_data"
    }
   ],
   "source": [
    "import pandas as pd\n",
    "import numpy as np\n",
    "import datetime\n",
    "\n",
    "from bokeh.io import push_notebook, show, output_notebook\n",
    "from bokeh.layouts import row\n",
    "from bokeh.plotting import figure\n",
    "output_notebook()"
   ]
  },
  {
   "cell_type": "code",
   "execution_count": 2,
   "metadata": {
    "collapsed": true
   },
   "outputs": [],
   "source": [
    "df = pd.read_csv('Crimes_2015.csv')"
   ]
  },
  {
   "cell_type": "code",
   "execution_count": 3,
   "metadata": {},
   "outputs": [
    {
     "data": {
      "text/html": [
       "<div>\n",
       "<style>\n",
       "    .dataframe thead tr:only-child th {\n",
       "        text-align: right;\n",
       "    }\n",
       "\n",
       "    .dataframe thead th {\n",
       "        text-align: left;\n",
       "    }\n",
       "\n",
       "    .dataframe tbody tr th {\n",
       "        vertical-align: top;\n",
       "    }\n",
       "</style>\n",
       "<table border=\"1\" class=\"dataframe\">\n",
       "  <thead>\n",
       "    <tr style=\"text-align: right;\">\n",
       "      <th></th>\n",
       "      <th>ID</th>\n",
       "      <th>Case Number</th>\n",
       "      <th>Date</th>\n",
       "      <th>Block</th>\n",
       "      <th>IUCR</th>\n",
       "      <th>Primary Type</th>\n",
       "      <th>Description</th>\n",
       "      <th>Location Description</th>\n",
       "      <th>Arrest</th>\n",
       "      <th>Domestic</th>\n",
       "      <th>...</th>\n",
       "      <th>Ward</th>\n",
       "      <th>Community Area</th>\n",
       "      <th>FBI Code</th>\n",
       "      <th>X Coordinate</th>\n",
       "      <th>Y Coordinate</th>\n",
       "      <th>Year</th>\n",
       "      <th>Updated On</th>\n",
       "      <th>Latitude</th>\n",
       "      <th>Longitude</th>\n",
       "      <th>Location</th>\n",
       "    </tr>\n",
       "  </thead>\n",
       "  <tbody>\n",
       "    <tr>\n",
       "      <th>0</th>\n",
       "      <td>10514462</td>\n",
       "      <td>HZ256372</td>\n",
       "      <td>01/01/2015 12:00:00 AM</td>\n",
       "      <td>073XX S EXCHANGE AVE</td>\n",
       "      <td>0281</td>\n",
       "      <td>CRIM SEXUAL ASSAULT</td>\n",
       "      <td>NON-AGGRAVATED</td>\n",
       "      <td>NURSING HOME/RETIREMENT HOME</td>\n",
       "      <td>False</td>\n",
       "      <td>False</td>\n",
       "      <td>...</td>\n",
       "      <td>7.0</td>\n",
       "      <td>43</td>\n",
       "      <td>02</td>\n",
       "      <td>NaN</td>\n",
       "      <td>NaN</td>\n",
       "      <td>2015</td>\n",
       "      <td>05/10/2016 03:56:50 PM</td>\n",
       "      <td>NaN</td>\n",
       "      <td>NaN</td>\n",
       "      <td>NaN</td>\n",
       "    </tr>\n",
       "    <tr>\n",
       "      <th>1</th>\n",
       "      <td>10515175</td>\n",
       "      <td>HZ257172</td>\n",
       "      <td>11/24/2015 05:30:00 PM</td>\n",
       "      <td>033XX W ADAMS ST</td>\n",
       "      <td>0820</td>\n",
       "      <td>THEFT</td>\n",
       "      <td>$500 AND UNDER</td>\n",
       "      <td>RESIDENCE</td>\n",
       "      <td>False</td>\n",
       "      <td>False</td>\n",
       "      <td>...</td>\n",
       "      <td>28.0</td>\n",
       "      <td>27</td>\n",
       "      <td>06</td>\n",
       "      <td>NaN</td>\n",
       "      <td>NaN</td>\n",
       "      <td>2015</td>\n",
       "      <td>05/10/2016 03:56:50 PM</td>\n",
       "      <td>NaN</td>\n",
       "      <td>NaN</td>\n",
       "      <td>NaN</td>\n",
       "    </tr>\n",
       "    <tr>\n",
       "      <th>2</th>\n",
       "      <td>10077106</td>\n",
       "      <td>HY266148</td>\n",
       "      <td>05/19/2015 01:12:00 AM</td>\n",
       "      <td>009XX W BELMONT AVE</td>\n",
       "      <td>0560</td>\n",
       "      <td>ASSAULT</td>\n",
       "      <td>SIMPLE</td>\n",
       "      <td>APARTMENT</td>\n",
       "      <td>True</td>\n",
       "      <td>False</td>\n",
       "      <td>...</td>\n",
       "      <td>44.0</td>\n",
       "      <td>6</td>\n",
       "      <td>08A</td>\n",
       "      <td>1169640.0</td>\n",
       "      <td>1921442.0</td>\n",
       "      <td>2015</td>\n",
       "      <td>05/11/2016 03:48:18 PM</td>\n",
       "      <td>41.939943</td>\n",
       "      <td>-87.651925</td>\n",
       "      <td>(41.939943264, -87.651924995)</td>\n",
       "    </tr>\n",
       "    <tr>\n",
       "      <th>3</th>\n",
       "      <td>10301916</td>\n",
       "      <td>HY469211</td>\n",
       "      <td>01/01/2015 12:00:00 AM</td>\n",
       "      <td>062XX W BARRY AVE</td>\n",
       "      <td>0266</td>\n",
       "      <td>CRIM SEXUAL ASSAULT</td>\n",
       "      <td>PREDATORY</td>\n",
       "      <td>RESIDENCE</td>\n",
       "      <td>True</td>\n",
       "      <td>True</td>\n",
       "      <td>...</td>\n",
       "      <td>36.0</td>\n",
       "      <td>19</td>\n",
       "      <td>02</td>\n",
       "      <td>1134262.0</td>\n",
       "      <td>1919947.0</td>\n",
       "      <td>2015</td>\n",
       "      <td>05/11/2016 03:48:18 PM</td>\n",
       "      <td>41.936539</td>\n",
       "      <td>-87.781987</td>\n",
       "      <td>(41.936538876, -87.781987083)</td>\n",
       "    </tr>\n",
       "    <tr>\n",
       "      <th>4</th>\n",
       "      <td>10160687</td>\n",
       "      <td>HY313819</td>\n",
       "      <td>06/24/2015 06:00:00 AM</td>\n",
       "      <td>052XX N MARMORA AVE</td>\n",
       "      <td>1811</td>\n",
       "      <td>NARCOTICS</td>\n",
       "      <td>POSS: CANNABIS 30GMS OR LESS</td>\n",
       "      <td>RESIDENCE</td>\n",
       "      <td>True</td>\n",
       "      <td>False</td>\n",
       "      <td>...</td>\n",
       "      <td>45.0</td>\n",
       "      <td>11</td>\n",
       "      <td>18</td>\n",
       "      <td>1135867.0</td>\n",
       "      <td>1934466.0</td>\n",
       "      <td>2015</td>\n",
       "      <td>05/12/2016 03:48:29 PM</td>\n",
       "      <td>41.976352</td>\n",
       "      <td>-87.775741</td>\n",
       "      <td>(41.976351974, -87.775741229)</td>\n",
       "    </tr>\n",
       "  </tbody>\n",
       "</table>\n",
       "<p>5 rows × 22 columns</p>\n",
       "</div>"
      ],
      "text/plain": [
       "         ID Case Number                    Date                 Block  IUCR  \\\n",
       "0  10514462    HZ256372  01/01/2015 12:00:00 AM  073XX S EXCHANGE AVE  0281   \n",
       "1  10515175    HZ257172  11/24/2015 05:30:00 PM      033XX W ADAMS ST  0820   \n",
       "2  10077106    HY266148  05/19/2015 01:12:00 AM   009XX W BELMONT AVE  0560   \n",
       "3  10301916    HY469211  01/01/2015 12:00:00 AM     062XX W BARRY AVE  0266   \n",
       "4  10160687    HY313819  06/24/2015 06:00:00 AM   052XX N MARMORA AVE  1811   \n",
       "\n",
       "          Primary Type                   Description  \\\n",
       "0  CRIM SEXUAL ASSAULT                NON-AGGRAVATED   \n",
       "1                THEFT                $500 AND UNDER   \n",
       "2              ASSAULT                        SIMPLE   \n",
       "3  CRIM SEXUAL ASSAULT                     PREDATORY   \n",
       "4            NARCOTICS  POSS: CANNABIS 30GMS OR LESS   \n",
       "\n",
       "           Location Description  Arrest  Domestic  \\\n",
       "0  NURSING HOME/RETIREMENT HOME   False     False   \n",
       "1                     RESIDENCE   False     False   \n",
       "2                     APARTMENT    True     False   \n",
       "3                     RESIDENCE    True      True   \n",
       "4                     RESIDENCE    True     False   \n",
       "\n",
       "               ...                Ward  Community Area  FBI Code  \\\n",
       "0              ...                 7.0              43        02   \n",
       "1              ...                28.0              27        06   \n",
       "2              ...                44.0               6       08A   \n",
       "3              ...                36.0              19        02   \n",
       "4              ...                45.0              11        18   \n",
       "\n",
       "   X Coordinate Y Coordinate  Year              Updated On   Latitude  \\\n",
       "0           NaN          NaN  2015  05/10/2016 03:56:50 PM        NaN   \n",
       "1           NaN          NaN  2015  05/10/2016 03:56:50 PM        NaN   \n",
       "2     1169640.0    1921442.0  2015  05/11/2016 03:48:18 PM  41.939943   \n",
       "3     1134262.0    1919947.0  2015  05/11/2016 03:48:18 PM  41.936539   \n",
       "4     1135867.0    1934466.0  2015  05/12/2016 03:48:29 PM  41.976352   \n",
       "\n",
       "   Longitude                       Location  \n",
       "0        NaN                            NaN  \n",
       "1        NaN                            NaN  \n",
       "2 -87.651925  (41.939943264, -87.651924995)  \n",
       "3 -87.781987  (41.936538876, -87.781987083)  \n",
       "4 -87.775741  (41.976351974, -87.775741229)  \n",
       "\n",
       "[5 rows x 22 columns]"
      ]
     },
     "execution_count": 3,
     "metadata": {},
     "output_type": "execute_result"
    }
   ],
   "source": [
    "df.head()"
   ]
  },
  {
   "cell_type": "code",
   "execution_count": 4,
   "metadata": {
    "collapsed": true
   },
   "outputs": [],
   "source": [
    "def process_date(input_date):\n",
    "    '''Function to process formatted date'''\n",
    "    try:\n",
    "        mydate = datetime.datetime.strptime(input_date, '%m/%d/%Y %I:%M:%S %p')\n",
    "    except:\n",
    "        mydate = datetime.datetime.strptime('1700', '%Y')\n",
    "    return mydate\n"
   ]
  },
  {
   "cell_type": "code",
   "execution_count": 5,
   "metadata": {},
   "outputs": [
    {
     "name": "stdout",
     "output_type": "stream",
     "text": [
      "2015-06-24 06:00:00\n"
     ]
    }
   ],
   "source": [
    "t1 = process_date('06/24/2015 06:00:00 AM')\n",
    "print(t1)"
   ]
  },
  {
   "cell_type": "code",
   "execution_count": 6,
   "metadata": {
    "collapsed": true
   },
   "outputs": [],
   "source": [
    "df['DateTime'] = df.apply((lambda x: process_date(x['Date'])), axis=1)"
   ]
  },
  {
   "cell_type": "code",
   "execution_count": 7,
   "metadata": {
    "collapsed": true
   },
   "outputs": [],
   "source": [
    "# Lets calculate some of the columns for date time grouping!\n",
    "df['Year'] = df.apply(lambda x: x['DateTime'].year, axis=1)\n",
    "df['Month'] = df.apply(lambda x: x['DateTime'].month, axis=1)\n",
    "df['Day'] = df.apply(lambda x: x['DateTime'].day, axis=1)\n",
    "df['DayOfWeek'] = df.apply(lambda x: x['DateTime'].weekday(), axis=1)\n",
    "df['Hour'] = df.apply(lambda x: x['DateTime'].hour, axis=1)"
   ]
  },
  {
   "cell_type": "code",
   "execution_count": 8,
   "metadata": {
    "scrolled": true
   },
   "outputs": [
    {
     "data": {
      "text/html": [
       "<div>\n",
       "<style>\n",
       "    .dataframe thead tr:only-child th {\n",
       "        text-align: right;\n",
       "    }\n",
       "\n",
       "    .dataframe thead th {\n",
       "        text-align: left;\n",
       "    }\n",
       "\n",
       "    .dataframe tbody tr th {\n",
       "        vertical-align: top;\n",
       "    }\n",
       "</style>\n",
       "<table border=\"1\" class=\"dataframe\">\n",
       "  <thead>\n",
       "    <tr style=\"text-align: right;\">\n",
       "      <th></th>\n",
       "      <th>ID</th>\n",
       "      <th>Case Number</th>\n",
       "      <th>Date</th>\n",
       "      <th>Block</th>\n",
       "      <th>IUCR</th>\n",
       "      <th>Primary Type</th>\n",
       "      <th>Description</th>\n",
       "      <th>Location Description</th>\n",
       "      <th>Arrest</th>\n",
       "      <th>Domestic</th>\n",
       "      <th>...</th>\n",
       "      <th>Year</th>\n",
       "      <th>Updated On</th>\n",
       "      <th>Latitude</th>\n",
       "      <th>Longitude</th>\n",
       "      <th>Location</th>\n",
       "      <th>DateTime</th>\n",
       "      <th>Month</th>\n",
       "      <th>Day</th>\n",
       "      <th>DayOfWeek</th>\n",
       "      <th>Hour</th>\n",
       "    </tr>\n",
       "  </thead>\n",
       "  <tbody>\n",
       "    <tr>\n",
       "      <th>0</th>\n",
       "      <td>10514462</td>\n",
       "      <td>HZ256372</td>\n",
       "      <td>01/01/2015 12:00:00 AM</td>\n",
       "      <td>073XX S EXCHANGE AVE</td>\n",
       "      <td>0281</td>\n",
       "      <td>CRIM SEXUAL ASSAULT</td>\n",
       "      <td>NON-AGGRAVATED</td>\n",
       "      <td>NURSING HOME/RETIREMENT HOME</td>\n",
       "      <td>False</td>\n",
       "      <td>False</td>\n",
       "      <td>...</td>\n",
       "      <td>2015</td>\n",
       "      <td>05/10/2016 03:56:50 PM</td>\n",
       "      <td>NaN</td>\n",
       "      <td>NaN</td>\n",
       "      <td>NaN</td>\n",
       "      <td>2015-01-01 00:00:00</td>\n",
       "      <td>1</td>\n",
       "      <td>1</td>\n",
       "      <td>3</td>\n",
       "      <td>0</td>\n",
       "    </tr>\n",
       "    <tr>\n",
       "      <th>1</th>\n",
       "      <td>10515175</td>\n",
       "      <td>HZ257172</td>\n",
       "      <td>11/24/2015 05:30:00 PM</td>\n",
       "      <td>033XX W ADAMS ST</td>\n",
       "      <td>0820</td>\n",
       "      <td>THEFT</td>\n",
       "      <td>$500 AND UNDER</td>\n",
       "      <td>RESIDENCE</td>\n",
       "      <td>False</td>\n",
       "      <td>False</td>\n",
       "      <td>...</td>\n",
       "      <td>2015</td>\n",
       "      <td>05/10/2016 03:56:50 PM</td>\n",
       "      <td>NaN</td>\n",
       "      <td>NaN</td>\n",
       "      <td>NaN</td>\n",
       "      <td>2015-11-24 17:30:00</td>\n",
       "      <td>11</td>\n",
       "      <td>24</td>\n",
       "      <td>1</td>\n",
       "      <td>17</td>\n",
       "    </tr>\n",
       "    <tr>\n",
       "      <th>2</th>\n",
       "      <td>10077106</td>\n",
       "      <td>HY266148</td>\n",
       "      <td>05/19/2015 01:12:00 AM</td>\n",
       "      <td>009XX W BELMONT AVE</td>\n",
       "      <td>0560</td>\n",
       "      <td>ASSAULT</td>\n",
       "      <td>SIMPLE</td>\n",
       "      <td>APARTMENT</td>\n",
       "      <td>True</td>\n",
       "      <td>False</td>\n",
       "      <td>...</td>\n",
       "      <td>2015</td>\n",
       "      <td>05/11/2016 03:48:18 PM</td>\n",
       "      <td>41.939943</td>\n",
       "      <td>-87.651925</td>\n",
       "      <td>(41.939943264, -87.651924995)</td>\n",
       "      <td>2015-05-19 01:12:00</td>\n",
       "      <td>5</td>\n",
       "      <td>19</td>\n",
       "      <td>1</td>\n",
       "      <td>1</td>\n",
       "    </tr>\n",
       "    <tr>\n",
       "      <th>3</th>\n",
       "      <td>10301916</td>\n",
       "      <td>HY469211</td>\n",
       "      <td>01/01/2015 12:00:00 AM</td>\n",
       "      <td>062XX W BARRY AVE</td>\n",
       "      <td>0266</td>\n",
       "      <td>CRIM SEXUAL ASSAULT</td>\n",
       "      <td>PREDATORY</td>\n",
       "      <td>RESIDENCE</td>\n",
       "      <td>True</td>\n",
       "      <td>True</td>\n",
       "      <td>...</td>\n",
       "      <td>2015</td>\n",
       "      <td>05/11/2016 03:48:18 PM</td>\n",
       "      <td>41.936539</td>\n",
       "      <td>-87.781987</td>\n",
       "      <td>(41.936538876, -87.781987083)</td>\n",
       "      <td>2015-01-01 00:00:00</td>\n",
       "      <td>1</td>\n",
       "      <td>1</td>\n",
       "      <td>3</td>\n",
       "      <td>0</td>\n",
       "    </tr>\n",
       "    <tr>\n",
       "      <th>4</th>\n",
       "      <td>10160687</td>\n",
       "      <td>HY313819</td>\n",
       "      <td>06/24/2015 06:00:00 AM</td>\n",
       "      <td>052XX N MARMORA AVE</td>\n",
       "      <td>1811</td>\n",
       "      <td>NARCOTICS</td>\n",
       "      <td>POSS: CANNABIS 30GMS OR LESS</td>\n",
       "      <td>RESIDENCE</td>\n",
       "      <td>True</td>\n",
       "      <td>False</td>\n",
       "      <td>...</td>\n",
       "      <td>2015</td>\n",
       "      <td>05/12/2016 03:48:29 PM</td>\n",
       "      <td>41.976352</td>\n",
       "      <td>-87.775741</td>\n",
       "      <td>(41.976351974, -87.775741229)</td>\n",
       "      <td>2015-06-24 06:00:00</td>\n",
       "      <td>6</td>\n",
       "      <td>24</td>\n",
       "      <td>2</td>\n",
       "      <td>6</td>\n",
       "    </tr>\n",
       "  </tbody>\n",
       "</table>\n",
       "<p>5 rows × 27 columns</p>\n",
       "</div>"
      ],
      "text/plain": [
       "         ID Case Number                    Date                 Block  IUCR  \\\n",
       "0  10514462    HZ256372  01/01/2015 12:00:00 AM  073XX S EXCHANGE AVE  0281   \n",
       "1  10515175    HZ257172  11/24/2015 05:30:00 PM      033XX W ADAMS ST  0820   \n",
       "2  10077106    HY266148  05/19/2015 01:12:00 AM   009XX W BELMONT AVE  0560   \n",
       "3  10301916    HY469211  01/01/2015 12:00:00 AM     062XX W BARRY AVE  0266   \n",
       "4  10160687    HY313819  06/24/2015 06:00:00 AM   052XX N MARMORA AVE  1811   \n",
       "\n",
       "          Primary Type                   Description  \\\n",
       "0  CRIM SEXUAL ASSAULT                NON-AGGRAVATED   \n",
       "1                THEFT                $500 AND UNDER   \n",
       "2              ASSAULT                        SIMPLE   \n",
       "3  CRIM SEXUAL ASSAULT                     PREDATORY   \n",
       "4            NARCOTICS  POSS: CANNABIS 30GMS OR LESS   \n",
       "\n",
       "           Location Description  Arrest  Domestic  ...   Year  \\\n",
       "0  NURSING HOME/RETIREMENT HOME   False     False  ...   2015   \n",
       "1                     RESIDENCE   False     False  ...   2015   \n",
       "2                     APARTMENT    True     False  ...   2015   \n",
       "3                     RESIDENCE    True      True  ...   2015   \n",
       "4                     RESIDENCE    True     False  ...   2015   \n",
       "\n",
       "               Updated On   Latitude  Longitude  \\\n",
       "0  05/10/2016 03:56:50 PM        NaN        NaN   \n",
       "1  05/10/2016 03:56:50 PM        NaN        NaN   \n",
       "2  05/11/2016 03:48:18 PM  41.939943 -87.651925   \n",
       "3  05/11/2016 03:48:18 PM  41.936539 -87.781987   \n",
       "4  05/12/2016 03:48:29 PM  41.976352 -87.775741   \n",
       "\n",
       "                        Location            DateTime  Month  Day DayOfWeek  \\\n",
       "0                            NaN 2015-01-01 00:00:00      1    1         3   \n",
       "1                            NaN 2015-11-24 17:30:00     11   24         1   \n",
       "2  (41.939943264, -87.651924995) 2015-05-19 01:12:00      5   19         1   \n",
       "3  (41.936538876, -87.781987083) 2015-01-01 00:00:00      1    1         3   \n",
       "4  (41.976351974, -87.775741229) 2015-06-24 06:00:00      6   24         2   \n",
       "\n",
       "   Hour  \n",
       "0     0  \n",
       "1    17  \n",
       "2     1  \n",
       "3     0  \n",
       "4     6  \n",
       "\n",
       "[5 rows x 27 columns]"
      ]
     },
     "execution_count": 8,
     "metadata": {},
     "output_type": "execute_result"
    }
   ],
   "source": [
    "df.head()"
   ]
  },
  {
   "cell_type": "markdown",
   "metadata": {},
   "source": [
    "## OK! So lets start simple... Group by \n",
    "\n",
    "We would like to group by the DayOfWeek and the Hour"
   ]
  },
  {
   "cell_type": "code",
   "execution_count": null,
   "metadata": {
    "collapsed": true
   },
   "outputs": [],
   "source": [
    "dfg = df.groupby(['DayOfWeek', 'Hour'])"
   ]
  },
  {
   "cell_type": "code",
   "execution_count": null,
   "metadata": {},
   "outputs": [],
   "source": [
    "dg2 = df.groupby(['DayOfWeek', 'Hour'])['Latitude'].count()"
   ]
  },
  {
   "cell_type": "code",
   "execution_count": null,
   "metadata": {},
   "outputs": [],
   "source": [
    "dg2.keys()"
   ]
  },
  {
   "cell_type": "code",
   "execution_count": null,
   "metadata": {},
   "outputs": [],
   "source": [
    "type(dg2)"
   ]
  },
  {
   "cell_type": "code",
   "execution_count": null,
   "metadata": {},
   "outputs": [],
   "source": [
    "for idx, val_df in dg2.iteritems():\n",
    "    print(\"########{}########\".format(idx))\n",
    "    print(val_df)"
   ]
  },
  {
   "cell_type": "code",
   "execution_count": null,
   "metadata": {},
   "outputs": [],
   "source": [
    "for dgi in dg2:\n",
    "    print(dgi)"
   ]
  },
  {
   "cell_type": "code",
   "execution_count": null,
   "metadata": {},
   "outputs": [],
   "source": [
    "# Get all of the day of week\n",
    "dg2[:,0]"
   ]
  },
  {
   "cell_type": "code",
   "execution_count": null,
   "metadata": {},
   "outputs": [],
   "source": [
    "dg2.shape"
   ]
  },
  {
   "cell_type": "code",
   "execution_count": null,
   "metadata": {
    "collapsed": true
   },
   "outputs": [],
   "source": [
    "dff = pd.DataFrame(dg2)"
   ]
  },
  {
   "cell_type": "code",
   "execution_count": null,
   "metadata": {},
   "outputs": [],
   "source": []
  },
  {
   "cell_type": "code",
   "execution_count": null,
   "metadata": {
    "collapsed": true
   },
   "outputs": [],
   "source": []
  },
  {
   "cell_type": "code",
   "execution_count": null,
   "metadata": {},
   "outputs": [],
   "source": [
    "# Return all the hours for a day of week\n",
    "dg2[6]"
   ]
  },
  {
   "cell_type": "code",
   "execution_count": null,
   "metadata": {},
   "outputs": [],
   "source": [
    "# Well this is kinda of cheap, but we know there are 7 days of the week\n",
    "times = [x for x in range(24)]\n",
    "day_of_week_name = ['Monday', 'Tuesday', 'Wednesday', 'Thursday', 'Friday', 'Saturday', 'Sunday']\n",
    "color_list = ['#a6cee3','#1f78b4','#b2df8a','#33a02c','#fb9a99','#e31a1c','#fdbf6f']\n",
    "p = figure(plot_width=800, plot_height=400)\n",
    "\n",
    "for i in range(7):\n",
    "    cur_values = dg2[i].tolist()\n",
    "    # add a line renderer\n",
    "    p.line(times, cur_values, line_width=2, color=color_list[i], legend=day_of_week_name[i])\n",
    "\n",
    "show(p)"
   ]
  },
  {
   "cell_type": "code",
   "execution_count": null,
   "metadata": {},
   "outputs": [],
   "source": [
    "times"
   ]
  },
  {
   "cell_type": "code",
   "execution_count": null,
   "metadata": {},
   "outputs": [],
   "source": [
    "dg2[0].tolist()"
   ]
  },
  {
   "cell_type": "code",
   "execution_count": null,
   "metadata": {
    "collapsed": true
   },
   "outputs": [],
   "source": []
  },
  {
   "cell_type": "code",
   "execution_count": null,
   "metadata": {
    "collapsed": true
   },
   "outputs": [],
   "source": []
  },
  {
   "cell_type": "code",
   "execution_count": null,
   "metadata": {
    "collapsed": true
   },
   "outputs": [],
   "source": []
  },
  {
   "cell_type": "code",
   "execution_count": null,
   "metadata": {},
   "outputs": [],
   "source": []
  },
  {
   "cell_type": "code",
   "execution_count": null,
   "metadata": {
    "collapsed": true
   },
   "outputs": [],
   "source": []
  },
  {
   "cell_type": "code",
   "execution_count": null,
   "metadata": {
    "collapsed": true
   },
   "outputs": [],
   "source": []
  },
  {
   "cell_type": "code",
   "execution_count": null,
   "metadata": {
    "collapsed": true
   },
   "outputs": [],
   "source": [
    "########################3\n",
    "# Lets try to group by another way for plotting"
   ]
  },
  {
   "cell_type": "code",
   "execution_count": 9,
   "metadata": {},
   "outputs": [],
   "source": [
    "# Create a new data frame and get the count\n",
    "dfg2 = df.groupby(['DayOfWeek', 'Hour'])['Latitude'].count()\n",
    "dfg2.name = 'Count'"
   ]
  },
  {
   "cell_type": "code",
   "execution_count": 32,
   "metadata": {},
   "outputs": [],
   "source": [
    "# Reset the index so we have a df to work with\n",
    "dfg3 = dfg2.reset_index().groupby(['DayOfWeek'])"
   ]
  },
  {
   "cell_type": "code",
   "execution_count": 37,
   "metadata": {},
   "outputs": [
    {
     "name": "stdout",
     "output_type": "stream",
     "text": [
      "[1676, 940, 761, 690, 496, 459, 647, 937, 1350, 1809, 1702, 1669, 2187, 1776, 1832, 2139, 1948, 1926, 2253, 2180, 2079, 1948, 1804, 1441]\n",
      "[1487, 888, 618, 581, 416, 411, 639, 942, 1365, 1797, 1702, 1856, 2216, 1775, 1861, 2027, 1949, 2005, 2234, 2201, 2031, 2062, 1861, 1477]\n",
      "[1560, 796, 683, 590, 438, 461, 636, 935, 1404, 1780, 1688, 1834, 2253, 1902, 1978, 2067, 2039, 2093, 2260, 2151, 2043, 1919, 1819, 1451]\n",
      "[1754, 954, 771, 630, 510, 490, 624, 1006, 1495, 1846, 1752, 1707, 2184, 1845, 1919, 2119, 2043, 2062, 2141, 2200, 2010, 1993, 1901, 1503]\n",
      "[1652, 985, 802, 675, 448, 452, 615, 925, 1371, 1803, 1644, 1741, 2231, 1844, 1929, 2191, 2124, 2073, 2310, 2333, 2144, 2111, 2164, 1833]\n",
      "[1874, 1468, 1390, 1240, 848, 680, 571, 620, 959, 1379, 1540, 1608, 2053, 1649, 1749, 1913, 1797, 1772, 2101, 2093, 2034, 2082, 2124, 1856]\n",
      "[2056, 1718, 1666, 1340, 1041, 782, 587, 601, 838, 1272, 1351, 1485, 1780, 1508, 1588, 1799, 1762, 1875, 1988, 2040, 2172, 1945, 1954, 1528]\n"
     ]
    }
   ],
   "source": [
    "# quick test to show that our list to values is working, each row has \n",
    "# 24 entries, so that is good, its the number of hours in a day\n",
    "for idx, cur_df in dfg3:\n",
    "    print(cur_df['Count'].tolist())"
   ]
  },
  {
   "cell_type": "code",
   "execution_count": 39,
   "metadata": {},
   "outputs": [
    {
     "data": {
      "text/html": [
       "\n",
       "<div class=\"bk-root\">\n",
       "    <div class=\"bk-plotdiv\" id=\"23c2520c-a29f-489d-a83a-3139ef35a8a4\"></div>\n",
       "</div>"
      ]
     },
     "metadata": {},
     "output_type": "display_data"
    },
    {
     "data": {
      "application/javascript": [
       "(function(root) {\n",
       "  function embed_document(root) {\n",
       "    \n",
       "  var docs_json = {\"e229edb1-df4a-45b1-b5bb-542d389e5cf7\":{\"roots\":{\"references\":[{\"attributes\":{\"data_source\":{\"id\":\"f5e11bde-5c0a-42a6-aedc-53eb1dd67ee5\",\"type\":\"ColumnDataSource\"},\"glyph\":{\"id\":\"2f4a32c1-9f8b-4519-8427-0906e6e6d92c\",\"type\":\"Line\"},\"hover_glyph\":null,\"muted_glyph\":null,\"nonselection_glyph\":{\"id\":\"f4972de2-e720-47c8-a473-3e7eed722b77\",\"type\":\"Line\"},\"selection_glyph\":null,\"view\":{\"id\":\"5f1a96cb-d811-40b9-92f0-3c800420291f\",\"type\":\"CDSView\"}},\"id\":\"8451fb56-a444-42fa-937f-dc9f82edcc58\",\"type\":\"GlyphRenderer\"},{\"attributes\":{\"source\":{\"id\":\"857e7cb9-c3d4-4c35-99fe-99ef876e618a\",\"type\":\"ColumnDataSource\"}},\"id\":\"2ea0de4f-0341-40d4-a00f-aaa181742984\",\"type\":\"CDSView\"},{\"attributes\":{\"callback\":null,\"column_names\":[\"x\",\"y\"],\"data\":{\"x\":[0,1,2,3,4,5,6,7,8,9,10,11,12,13,14,15,16,17,18,19,20,21,22,23],\"y\":[1754,954,771,630,510,490,624,1006,1495,1846,1752,1707,2184,1845,1919,2119,2043,2062,2141,2200,2010,1993,1901,1503]}},\"id\":\"857e7cb9-c3d4-4c35-99fe-99ef876e618a\",\"type\":\"ColumnDataSource\"},{\"attributes\":{\"callback\":null},\"id\":\"5ccac78a-d0d6-4e68-8b20-319a90616fd6\",\"type\":\"DataRange1d\"},{\"attributes\":{\"label\":{\"value\":\"Tuesday\"},\"renderers\":[{\"id\":\"8451fb56-a444-42fa-937f-dc9f82edcc58\",\"type\":\"GlyphRenderer\"}]},\"id\":\"4ddc40b0-6f0f-48bb-913f-0ca9710e5c3e\",\"type\":\"LegendItem\"},{\"attributes\":{\"line_alpha\":0.1,\"line_color\":\"#1f77b4\",\"line_width\":2,\"x\":{\"field\":\"x\"},\"y\":{\"field\":\"y\"}},\"id\":\"f4972de2-e720-47c8-a473-3e7eed722b77\",\"type\":\"Line\"},{\"attributes\":{\"active_drag\":\"auto\",\"active_inspect\":\"auto\",\"active_scroll\":\"auto\",\"active_tap\":\"auto\",\"tools\":[{\"id\":\"9e24670c-7e46-406c-a5be-a3014cde9936\",\"type\":\"PanTool\"},{\"id\":\"69a0ddc9-cb4b-45d4-bcdc-4220b7b3576c\",\"type\":\"WheelZoomTool\"},{\"id\":\"6a8dfd10-15ec-4173-a7ee-c9db9d975fcb\",\"type\":\"BoxZoomTool\"},{\"id\":\"aa3dbc0d-929f-4e0e-a036-bb3305ed895a\",\"type\":\"SaveTool\"},{\"id\":\"c522687a-7460-4f9e-acba-c8687287c3f6\",\"type\":\"ResetTool\"},{\"id\":\"58f0c06c-23f4-447a-819b-8a0e50d8fa51\",\"type\":\"HelpTool\"}]},\"id\":\"ce333b1f-c049-4860-ba03-14d0c76218b7\",\"type\":\"Toolbar\"},{\"attributes\":{\"source\":{\"id\":\"f5e11bde-5c0a-42a6-aedc-53eb1dd67ee5\",\"type\":\"ColumnDataSource\"}},\"id\":\"5f1a96cb-d811-40b9-92f0-3c800420291f\",\"type\":\"CDSView\"},{\"attributes\":{\"callback\":null},\"id\":\"f6e02d1f-4d32-440e-b291-dbeba2a86377\",\"type\":\"DataRange1d\"},{\"attributes\":{\"line_alpha\":0.1,\"line_color\":\"#1f77b4\",\"line_width\":2,\"x\":{\"field\":\"x\"},\"y\":{\"field\":\"y\"}},\"id\":\"da85a805-9346-4b33-b013-62d24b2640b2\",\"type\":\"Line\"},{\"attributes\":{\"line_color\":\"#33a02c\",\"line_width\":2,\"x\":{\"field\":\"x\"},\"y\":{\"field\":\"y\"}},\"id\":\"67ed72dd-83a6-49ca-960e-1d3d5269d8f4\",\"type\":\"Line\"},{\"attributes\":{\"data_source\":{\"id\":\"857e7cb9-c3d4-4c35-99fe-99ef876e618a\",\"type\":\"ColumnDataSource\"},\"glyph\":{\"id\":\"67ed72dd-83a6-49ca-960e-1d3d5269d8f4\",\"type\":\"Line\"},\"hover_glyph\":null,\"muted_glyph\":null,\"nonselection_glyph\":{\"id\":\"da85a805-9346-4b33-b013-62d24b2640b2\",\"type\":\"Line\"},\"selection_glyph\":null,\"view\":{\"id\":\"2ea0de4f-0341-40d4-a00f-aaa181742984\",\"type\":\"CDSView\"}},\"id\":\"477bdecd-12be-4879-b5d0-263f4e541b70\",\"type\":\"GlyphRenderer\"},{\"attributes\":{\"line_color\":\"#fb9a99\",\"line_width\":2,\"x\":{\"field\":\"x\"},\"y\":{\"field\":\"y\"}},\"id\":\"4cf6895e-7134-4699-8981-e1aba27ef078\",\"type\":\"Line\"},{\"attributes\":{},\"id\":\"f718cc67-8d00-4624-ba27-dc1e79bb2d58\",\"type\":\"LinearScale\"},{\"attributes\":{\"source\":{\"id\":\"8c5e3dc5-eef1-4f14-9769-d60801d8ecb9\",\"type\":\"ColumnDataSource\"}},\"id\":\"ff6b1e78-a36f-47a0-add9-228ae2eab371\",\"type\":\"CDSView\"},{\"attributes\":{\"data_source\":{\"id\":\"8c5e3dc5-eef1-4f14-9769-d60801d8ecb9\",\"type\":\"ColumnDataSource\"},\"glyph\":{\"id\":\"a08513bc-6f5f-4cdb-afbc-31591c6a51f2\",\"type\":\"Line\"},\"hover_glyph\":null,\"muted_glyph\":null,\"nonselection_glyph\":{\"id\":\"cc2968d1-36ab-45e6-a87e-5c4306f757b5\",\"type\":\"Line\"},\"selection_glyph\":null,\"view\":{\"id\":\"ff6b1e78-a36f-47a0-add9-228ae2eab371\",\"type\":\"CDSView\"}},\"id\":\"7eebeaae-0764-4c78-bac3-180224c14906\",\"type\":\"GlyphRenderer\"},{\"attributes\":{},\"id\":\"0609043e-d2a8-45c0-a619-344b338479f8\",\"type\":\"LinearScale\"},{\"attributes\":{\"plot\":{\"id\":\"045ecffb-dc3d-453a-bc2e-52215364fe3a\",\"subtype\":\"Figure\",\"type\":\"Plot\"},\"ticker\":{\"id\":\"4f20c4cd-16e5-496f-a196-d9d095b4023a\",\"type\":\"BasicTicker\"}},\"id\":\"117dcdbf-8aa5-403f-89d5-d05bcc0d977f\",\"type\":\"Grid\"},{\"attributes\":{\"line_alpha\":0.1,\"line_color\":\"#1f77b4\",\"line_width\":2,\"x\":{\"field\":\"x\"},\"y\":{\"field\":\"y\"}},\"id\":\"cc2968d1-36ab-45e6-a87e-5c4306f757b5\",\"type\":\"Line\"},{\"attributes\":{\"formatter\":{\"id\":\"0dc3fcaf-20cc-4aed-87b3-dd09c06d0c01\",\"type\":\"BasicTickFormatter\"},\"plot\":{\"id\":\"045ecffb-dc3d-453a-bc2e-52215364fe3a\",\"subtype\":\"Figure\",\"type\":\"Plot\"},\"ticker\":{\"id\":\"4f20c4cd-16e5-496f-a196-d9d095b4023a\",\"type\":\"BasicTicker\"}},\"id\":\"848df248-8256-4cf8-ba2d-4c67fa9cf68d\",\"type\":\"LinearAxis\"},{\"attributes\":{},\"id\":\"4f20c4cd-16e5-496f-a196-d9d095b4023a\",\"type\":\"BasicTicker\"},{\"attributes\":{\"formatter\":{\"id\":\"023c1250-6b23-4657-aa3b-24824d49dfa4\",\"type\":\"BasicTickFormatter\"},\"plot\":{\"id\":\"045ecffb-dc3d-453a-bc2e-52215364fe3a\",\"subtype\":\"Figure\",\"type\":\"Plot\"},\"ticker\":{\"id\":\"2969f89c-5f10-4be8-bb2f-9856c2c088e0\",\"type\":\"BasicTicker\"}},\"id\":\"f8ea7bf5-e1b2-4b15-bff5-f8fc119f6989\",\"type\":\"LinearAxis\"},{\"attributes\":{},\"id\":\"2969f89c-5f10-4be8-bb2f-9856c2c088e0\",\"type\":\"BasicTicker\"},{\"attributes\":{\"dimension\":1,\"plot\":{\"id\":\"045ecffb-dc3d-453a-bc2e-52215364fe3a\",\"subtype\":\"Figure\",\"type\":\"Plot\"},\"ticker\":{\"id\":\"2969f89c-5f10-4be8-bb2f-9856c2c088e0\",\"type\":\"BasicTicker\"}},\"id\":\"945e1d41-1e79-40d1-8ec9-6839600e2403\",\"type\":\"Grid\"},{\"attributes\":{\"callback\":null,\"column_names\":[\"x\",\"y\"],\"data\":{\"x\":[0,1,2,3,4,5,6,7,8,9,10,11,12,13,14,15,16,17,18,19,20,21,22,23],\"y\":[1652,985,802,675,448,452,615,925,1371,1803,1644,1741,2231,1844,1929,2191,2124,2073,2310,2333,2144,2111,2164,1833]}},\"id\":\"49b8565c-2a58-4d73-8ccd-a57cfa4a18b6\",\"type\":\"ColumnDataSource\"},{\"attributes\":{\"label\":{\"value\":\"Thursday\"},\"renderers\":[{\"id\":\"477bdecd-12be-4879-b5d0-263f4e541b70\",\"type\":\"GlyphRenderer\"}]},\"id\":\"c5649f95-3b8d-480b-b9fe-e422f25226d2\",\"type\":\"LegendItem\"},{\"attributes\":{\"below\":[{\"id\":\"848df248-8256-4cf8-ba2d-4c67fa9cf68d\",\"type\":\"LinearAxis\"}],\"left\":[{\"id\":\"f8ea7bf5-e1b2-4b15-bff5-f8fc119f6989\",\"type\":\"LinearAxis\"}],\"plot_height\":400,\"plot_width\":800,\"renderers\":[{\"id\":\"848df248-8256-4cf8-ba2d-4c67fa9cf68d\",\"type\":\"LinearAxis\"},{\"id\":\"117dcdbf-8aa5-403f-89d5-d05bcc0d977f\",\"type\":\"Grid\"},{\"id\":\"f8ea7bf5-e1b2-4b15-bff5-f8fc119f6989\",\"type\":\"LinearAxis\"},{\"id\":\"945e1d41-1e79-40d1-8ec9-6839600e2403\",\"type\":\"Grid\"},{\"id\":\"8caeefa3-8bdd-425f-8678-5d145664a06f\",\"type\":\"BoxAnnotation\"},{\"id\":\"5e7d1daa-e4f3-40ee-853d-21064cfab167\",\"type\":\"Legend\"},{\"id\":\"d0ff3588-c8b6-4c96-94c5-3dda6f18c281\",\"type\":\"GlyphRenderer\"},{\"id\":\"8451fb56-a444-42fa-937f-dc9f82edcc58\",\"type\":\"GlyphRenderer\"},{\"id\":\"7eebeaae-0764-4c78-bac3-180224c14906\",\"type\":\"GlyphRenderer\"},{\"id\":\"477bdecd-12be-4879-b5d0-263f4e541b70\",\"type\":\"GlyphRenderer\"},{\"id\":\"0a27551d-1290-456a-9db0-36214c483772\",\"type\":\"GlyphRenderer\"},{\"id\":\"213b4de0-720e-4caa-aa35-d96396339e64\",\"type\":\"GlyphRenderer\"},{\"id\":\"68385883-6879-4659-bb0c-0122693e5327\",\"type\":\"GlyphRenderer\"}],\"title\":{\"id\":\"6153fc30-998b-4fda-8226-ae89d093f32f\",\"type\":\"Title\"},\"toolbar\":{\"id\":\"ce333b1f-c049-4860-ba03-14d0c76218b7\",\"type\":\"Toolbar\"},\"x_range\":{\"id\":\"5ccac78a-d0d6-4e68-8b20-319a90616fd6\",\"type\":\"DataRange1d\"},\"x_scale\":{\"id\":\"f718cc67-8d00-4624-ba27-dc1e79bb2d58\",\"type\":\"LinearScale\"},\"y_range\":{\"id\":\"f6e02d1f-4d32-440e-b291-dbeba2a86377\",\"type\":\"DataRange1d\"},\"y_scale\":{\"id\":\"0609043e-d2a8-45c0-a619-344b338479f8\",\"type\":\"LinearScale\"}},\"id\":\"045ecffb-dc3d-453a-bc2e-52215364fe3a\",\"subtype\":\"Figure\",\"type\":\"Plot\"},{\"attributes\":{\"bottom_units\":\"screen\",\"fill_alpha\":{\"value\":0.5},\"fill_color\":{\"value\":\"lightgrey\"},\"left_units\":\"screen\",\"level\":\"overlay\",\"line_alpha\":{\"value\":1.0},\"line_color\":{\"value\":\"black\"},\"line_dash\":[4,4],\"line_width\":{\"value\":2},\"plot\":null,\"render_mode\":\"css\",\"right_units\":\"screen\",\"top_units\":\"screen\"},\"id\":\"8caeefa3-8bdd-425f-8678-5d145664a06f\",\"type\":\"BoxAnnotation\"},{\"attributes\":{},\"id\":\"9e24670c-7e46-406c-a5be-a3014cde9936\",\"type\":\"PanTool\"},{\"attributes\":{},\"id\":\"69a0ddc9-cb4b-45d4-bcdc-4220b7b3576c\",\"type\":\"WheelZoomTool\"},{\"attributes\":{\"overlay\":{\"id\":\"8caeefa3-8bdd-425f-8678-5d145664a06f\",\"type\":\"BoxAnnotation\"}},\"id\":\"6a8dfd10-15ec-4173-a7ee-c9db9d975fcb\",\"type\":\"BoxZoomTool\"},{\"attributes\":{},\"id\":\"aa3dbc0d-929f-4e0e-a036-bb3305ed895a\",\"type\":\"SaveTool\"},{\"attributes\":{},\"id\":\"c522687a-7460-4f9e-acba-c8687287c3f6\",\"type\":\"ResetTool\"},{\"attributes\":{},\"id\":\"58f0c06c-23f4-447a-819b-8a0e50d8fa51\",\"type\":\"HelpTool\"},{\"attributes\":{\"source\":{\"id\":\"49b8565c-2a58-4d73-8ccd-a57cfa4a18b6\",\"type\":\"ColumnDataSource\"}},\"id\":\"3db44fd0-9340-459c-a19e-d2ba03a14f97\",\"type\":\"CDSView\"},{\"attributes\":{\"line_color\":\"#e31a1c\",\"line_width\":2,\"x\":{\"field\":\"x\"},\"y\":{\"field\":\"y\"}},\"id\":\"d4807885-6664-49d2-afab-dc3a1842db47\",\"type\":\"Line\"},{\"attributes\":{\"data_source\":{\"id\":\"49b8565c-2a58-4d73-8ccd-a57cfa4a18b6\",\"type\":\"ColumnDataSource\"},\"glyph\":{\"id\":\"4cf6895e-7134-4699-8981-e1aba27ef078\",\"type\":\"Line\"},\"hover_glyph\":null,\"muted_glyph\":null,\"nonselection_glyph\":{\"id\":\"16ff8ff8-0a24-41d1-bfff-43cd51b0ff4f\",\"type\":\"Line\"},\"selection_glyph\":null,\"view\":{\"id\":\"3db44fd0-9340-459c-a19e-d2ba03a14f97\",\"type\":\"CDSView\"}},\"id\":\"0a27551d-1290-456a-9db0-36214c483772\",\"type\":\"GlyphRenderer\"},{\"attributes\":{\"callback\":null,\"column_names\":[\"x\",\"y\"],\"data\":{\"x\":[0,1,2,3,4,5,6,7,8,9,10,11,12,13,14,15,16,17,18,19,20,21,22,23],\"y\":[1874,1468,1390,1240,848,680,571,620,959,1379,1540,1608,2053,1649,1749,1913,1797,1772,2101,2093,2034,2082,2124,1856]}},\"id\":\"16f7be61-b1c2-41b4-9fac-4009ca2adbf9\",\"type\":\"ColumnDataSource\"},{\"attributes\":{\"line_color\":\"#b2df8a\",\"line_width\":2,\"x\":{\"field\":\"x\"},\"y\":{\"field\":\"y\"}},\"id\":\"a08513bc-6f5f-4cdb-afbc-31591c6a51f2\",\"type\":\"Line\"},{\"attributes\":{\"data_source\":{\"id\":\"dc0b9829-66f8-4ebe-b69a-b56a060a7554\",\"type\":\"ColumnDataSource\"},\"glyph\":{\"id\":\"c1edbfa1-f0c2-410f-ac14-698e447d74fb\",\"type\":\"Line\"},\"hover_glyph\":null,\"muted_glyph\":null,\"nonselection_glyph\":{\"id\":\"58f0d8c6-2913-4e10-b616-c9ea9cdb6ea1\",\"type\":\"Line\"},\"selection_glyph\":null,\"view\":{\"id\":\"1fa006d3-a153-4676-9cec-6489e9f90d6a\",\"type\":\"CDSView\"}},\"id\":\"d0ff3588-c8b6-4c96-94c5-3dda6f18c281\",\"type\":\"GlyphRenderer\"},{\"attributes\":{\"line_alpha\":0.1,\"line_color\":\"#1f77b4\",\"line_width\":2,\"x\":{\"field\":\"x\"},\"y\":{\"field\":\"y\"}},\"id\":\"16ff8ff8-0a24-41d1-bfff-43cd51b0ff4f\",\"type\":\"Line\"},{\"attributes\":{\"label\":{\"value\":\"Wednesday\"},\"renderers\":[{\"id\":\"7eebeaae-0764-4c78-bac3-180224c14906\",\"type\":\"GlyphRenderer\"}]},\"id\":\"3d6fd5c9-7435-41d5-8a29-ad971bdb2896\",\"type\":\"LegendItem\"},{\"attributes\":{\"callback\":null,\"column_names\":[\"x\",\"y\"],\"data\":{\"x\":[0,1,2,3,4,5,6,7,8,9,10,11,12,13,14,15,16,17,18,19,20,21,22,23],\"y\":[1676,940,761,690,496,459,647,937,1350,1809,1702,1669,2187,1776,1832,2139,1948,1926,2253,2180,2079,1948,1804,1441]}},\"id\":\"dc0b9829-66f8-4ebe-b69a-b56a060a7554\",\"type\":\"ColumnDataSource\"},{\"attributes\":{\"label\":{\"value\":\"Monday\"},\"renderers\":[{\"id\":\"d0ff3588-c8b6-4c96-94c5-3dda6f18c281\",\"type\":\"GlyphRenderer\"}]},\"id\":\"2ad41e63-c57e-4dd8-84fa-d9eb92a3d0f4\",\"type\":\"LegendItem\"},{\"attributes\":{\"source\":{\"id\":\"dc0b9829-66f8-4ebe-b69a-b56a060a7554\",\"type\":\"ColumnDataSource\"}},\"id\":\"1fa006d3-a153-4676-9cec-6489e9f90d6a\",\"type\":\"CDSView\"},{\"attributes\":{\"line_color\":\"#a6cee3\",\"line_width\":2,\"x\":{\"field\":\"x\"},\"y\":{\"field\":\"y\"}},\"id\":\"c1edbfa1-f0c2-410f-ac14-698e447d74fb\",\"type\":\"Line\"},{\"attributes\":{\"line_alpha\":0.1,\"line_color\":\"#1f77b4\",\"line_width\":2,\"x\":{\"field\":\"x\"},\"y\":{\"field\":\"y\"}},\"id\":\"58f0d8c6-2913-4e10-b616-c9ea9cdb6ea1\",\"type\":\"Line\"},{\"attributes\":{},\"id\":\"023c1250-6b23-4657-aa3b-24824d49dfa4\",\"type\":\"BasicTickFormatter\"},{\"attributes\":{\"callback\":null,\"column_names\":[\"x\",\"y\"],\"data\":{\"x\":[0,1,2,3,4,5,6,7,8,9,10,11,12,13,14,15,16,17,18,19,20,21,22,23],\"y\":[1560,796,683,590,438,461,636,935,1404,1780,1688,1834,2253,1902,1978,2067,2039,2093,2260,2151,2043,1919,1819,1451]}},\"id\":\"8c5e3dc5-eef1-4f14-9769-d60801d8ecb9\",\"type\":\"ColumnDataSource\"},{\"attributes\":{\"plot\":null,\"text\":\"\"},\"id\":\"6153fc30-998b-4fda-8226-ae89d093f32f\",\"type\":\"Title\"},{\"attributes\":{\"label\":{\"value\":\"Friday\"},\"renderers\":[{\"id\":\"0a27551d-1290-456a-9db0-36214c483772\",\"type\":\"GlyphRenderer\"}]},\"id\":\"68abe79b-2c98-4f72-922c-4944b9e0a88a\",\"type\":\"LegendItem\"},{\"attributes\":{},\"id\":\"0dc3fcaf-20cc-4aed-87b3-dd09c06d0c01\",\"type\":\"BasicTickFormatter\"},{\"attributes\":{\"callback\":null,\"column_names\":[\"x\",\"y\"],\"data\":{\"x\":[0,1,2,3,4,5,6,7,8,9,10,11,12,13,14,15,16,17,18,19,20,21,22,23],\"y\":[2056,1718,1666,1340,1041,782,587,601,838,1272,1351,1485,1780,1508,1588,1799,1762,1875,1988,2040,2172,1945,1954,1528]}},\"id\":\"74d6ce8b-0f01-4ab5-aac7-000380f2e331\",\"type\":\"ColumnDataSource\"},{\"attributes\":{\"data_source\":{\"id\":\"16f7be61-b1c2-41b4-9fac-4009ca2adbf9\",\"type\":\"ColumnDataSource\"},\"glyph\":{\"id\":\"d4807885-6664-49d2-afab-dc3a1842db47\",\"type\":\"Line\"},\"hover_glyph\":null,\"muted_glyph\":null,\"nonselection_glyph\":{\"id\":\"12ad5b4b-b91b-4556-808d-fe1a779f0c1c\",\"type\":\"Line\"},\"selection_glyph\":null,\"view\":{\"id\":\"a7859728-dad5-4c44-a6c8-484902897f0f\",\"type\":\"CDSView\"}},\"id\":\"213b4de0-720e-4caa-aa35-d96396339e64\",\"type\":\"GlyphRenderer\"},{\"attributes\":{\"callback\":null,\"column_names\":[\"x\",\"y\"],\"data\":{\"x\":[0,1,2,3,4,5,6,7,8,9,10,11,12,13,14,15,16,17,18,19,20,21,22,23],\"y\":[1487,888,618,581,416,411,639,942,1365,1797,1702,1856,2216,1775,1861,2027,1949,2005,2234,2201,2031,2062,1861,1477]}},\"id\":\"f5e11bde-5c0a-42a6-aedc-53eb1dd67ee5\",\"type\":\"ColumnDataSource\"},{\"attributes\":{\"line_alpha\":0.1,\"line_color\":\"#1f77b4\",\"line_width\":2,\"x\":{\"field\":\"x\"},\"y\":{\"field\":\"y\"}},\"id\":\"12ad5b4b-b91b-4556-808d-fe1a779f0c1c\",\"type\":\"Line\"},{\"attributes\":{\"source\":{\"id\":\"16f7be61-b1c2-41b4-9fac-4009ca2adbf9\",\"type\":\"ColumnDataSource\"}},\"id\":\"a7859728-dad5-4c44-a6c8-484902897f0f\",\"type\":\"CDSView\"},{\"attributes\":{\"label\":{\"value\":\"Saturday\"},\"renderers\":[{\"id\":\"213b4de0-720e-4caa-aa35-d96396339e64\",\"type\":\"GlyphRenderer\"}]},\"id\":\"f2b7c53c-69f9-41f0-b3b2-4acdfed67a35\",\"type\":\"LegendItem\"},{\"attributes\":{\"line_alpha\":0.1,\"line_color\":\"#1f77b4\",\"line_width\":2,\"x\":{\"field\":\"x\"},\"y\":{\"field\":\"y\"}},\"id\":\"e5b86a4c-bcda-4bc3-99ec-3c9c902b1608\",\"type\":\"Line\"},{\"attributes\":{\"line_color\":\"#fdbf6f\",\"line_width\":2,\"x\":{\"field\":\"x\"},\"y\":{\"field\":\"y\"}},\"id\":\"ce3e4403-0986-46ff-a01c-ba757c294d52\",\"type\":\"Line\"},{\"attributes\":{\"items\":[{\"id\":\"2ad41e63-c57e-4dd8-84fa-d9eb92a3d0f4\",\"type\":\"LegendItem\"},{\"id\":\"4ddc40b0-6f0f-48bb-913f-0ca9710e5c3e\",\"type\":\"LegendItem\"},{\"id\":\"3d6fd5c9-7435-41d5-8a29-ad971bdb2896\",\"type\":\"LegendItem\"},{\"id\":\"c5649f95-3b8d-480b-b9fe-e422f25226d2\",\"type\":\"LegendItem\"},{\"id\":\"68abe79b-2c98-4f72-922c-4944b9e0a88a\",\"type\":\"LegendItem\"},{\"id\":\"f2b7c53c-69f9-41f0-b3b2-4acdfed67a35\",\"type\":\"LegendItem\"},{\"id\":\"6cfb1253-ecdf-45e7-86e8-52bb09c3f41e\",\"type\":\"LegendItem\"}],\"plot\":{\"id\":\"045ecffb-dc3d-453a-bc2e-52215364fe3a\",\"subtype\":\"Figure\",\"type\":\"Plot\"}},\"id\":\"5e7d1daa-e4f3-40ee-853d-21064cfab167\",\"type\":\"Legend\"},{\"attributes\":{\"source\":{\"id\":\"74d6ce8b-0f01-4ab5-aac7-000380f2e331\",\"type\":\"ColumnDataSource\"}},\"id\":\"d868d2da-4e41-47eb-830b-43f9e0bbf2ad\",\"type\":\"CDSView\"},{\"attributes\":{\"data_source\":{\"id\":\"74d6ce8b-0f01-4ab5-aac7-000380f2e331\",\"type\":\"ColumnDataSource\"},\"glyph\":{\"id\":\"ce3e4403-0986-46ff-a01c-ba757c294d52\",\"type\":\"Line\"},\"hover_glyph\":null,\"muted_glyph\":null,\"nonselection_glyph\":{\"id\":\"e5b86a4c-bcda-4bc3-99ec-3c9c902b1608\",\"type\":\"Line\"},\"selection_glyph\":null,\"view\":{\"id\":\"d868d2da-4e41-47eb-830b-43f9e0bbf2ad\",\"type\":\"CDSView\"}},\"id\":\"68385883-6879-4659-bb0c-0122693e5327\",\"type\":\"GlyphRenderer\"},{\"attributes\":{\"label\":{\"value\":\"Sunday\"},\"renderers\":[{\"id\":\"68385883-6879-4659-bb0c-0122693e5327\",\"type\":\"GlyphRenderer\"}]},\"id\":\"6cfb1253-ecdf-45e7-86e8-52bb09c3f41e\",\"type\":\"LegendItem\"},{\"attributes\":{\"line_color\":\"#1f78b4\",\"line_width\":2,\"x\":{\"field\":\"x\"},\"y\":{\"field\":\"y\"}},\"id\":\"2f4a32c1-9f8b-4519-8427-0906e6e6d92c\",\"type\":\"Line\"}],\"root_ids\":[\"045ecffb-dc3d-453a-bc2e-52215364fe3a\"]},\"title\":\"Bokeh Application\",\"version\":\"0.12.13\"}};\n",
       "  var render_items = [{\"docid\":\"e229edb1-df4a-45b1-b5bb-542d389e5cf7\",\"elementid\":\"23c2520c-a29f-489d-a83a-3139ef35a8a4\",\"modelid\":\"045ecffb-dc3d-453a-bc2e-52215364fe3a\"}];\n",
       "  root.Bokeh.embed.embed_items_notebook(docs_json, render_items);\n",
       "\n",
       "  }\n",
       "  if (root.Bokeh !== undefined) {\n",
       "    embed_document(root);\n",
       "  } else {\n",
       "    var attempts = 0;\n",
       "    var timer = setInterval(function(root) {\n",
       "      if (root.Bokeh !== undefined) {\n",
       "        embed_document(root);\n",
       "        clearInterval(timer);\n",
       "      }\n",
       "      attempts++;\n",
       "      if (attempts > 100) {\n",
       "        console.log(\"Bokeh: ERROR: Unable to run BokehJS code because BokehJS library is missing\")\n",
       "        clearInterval(timer);\n",
       "      }\n",
       "    }, 10, root)\n",
       "  }\n",
       "})(window);"
      ],
      "application/vnd.bokehjs_exec.v0+json": ""
     },
     "metadata": {
      "application/vnd.bokehjs_exec.v0+json": {
       "id": "045ecffb-dc3d-453a-bc2e-52215364fe3a"
      }
     },
     "output_type": "display_data"
    }
   ],
   "source": [
    "# Lets get plotting using our nice new df\n",
    "times = [x for x in range(24)]\n",
    "day_of_week_name = ['Monday', 'Tuesday', 'Wednesday', 'Thursday', 'Friday', 'Saturday', 'Sunday']\n",
    "color_list = ['#a6cee3','#1f78b4','#b2df8a','#33a02c','#fb9a99','#e31a1c','#fdbf6f']\n",
    "p = figure(plot_width=800, plot_height=400)\n",
    "\n",
    "for idx, cur_df in dfg3:\n",
    "#     print(cur_df['Latitude'].tolist())\n",
    "#     cur_values = dg2[i].tolist()\n",
    "    # add a line renderer\n",
    "    p.line(times, cur_df['Count'].tolist(), line_width=2, color=color_list[idx], legend=day_of_week_name[idx])\n",
    "\n",
    "show(p)"
   ]
  },
  {
   "cell_type": "code",
   "execution_count": 40,
   "metadata": {
    "collapsed": true
   },
   "outputs": [],
   "source": [
    "# Ok, so that wasnt so bad!!!\n",
    "# Now what if we wanted to get it by month as well?\n",
    "# That should be easy... Right ? "
   ]
  },
  {
   "cell_type": "code",
   "execution_count": 41,
   "metadata": {
    "collapsed": true
   },
   "outputs": [],
   "source": [
    "# Create a new data frame and get the count\n",
    "dfg2 = df.groupby(['Month', 'DayOfWeek', 'Hour'])['Latitude'].count()\n",
    "dfg2.name = 'Count'"
   ]
  },
  {
   "cell_type": "code",
   "execution_count": 47,
   "metadata": {},
   "outputs": [],
   "source": [
    "# Reset the index so we have a df to work with\n",
    "dfg3 = dfg2.reset_index().groupby(['Month'])"
   ]
  },
  {
   "cell_type": "code",
   "execution_count": 54,
   "metadata": {},
   "outputs": [],
   "source": [
    "# quick test to show that our list to values is working, each row has \n",
    "# 24 entries, so that is good, its the number of hours in a day\n",
    "p_list = []\n",
    "for month_idx, month_df in dfg3:\n",
    "    p = figure(plot_width=800, plot_height=400)\n",
    "    for day_idx, day_df in month_df.groupby(['DayOfWeek']):\n",
    "        p.line(times, day_df['Count'].tolist(), line_width=2, color=color_list[day_idx], legend=day_of_week_name[day_idx])\n",
    "    p_list.append(p)"
   ]
  },
  {
   "cell_type": "code",
   "execution_count": 56,
   "metadata": {},
   "outputs": [
    {
     "data": {
      "text/html": [
       "\n",
       "<div class=\"bk-root\">\n",
       "    <div class=\"bk-plotdiv\" id=\"01e5f7e0-537e-41f3-9bfd-675fd92651b0\"></div>\n",
       "</div>"
      ]
     },
     "metadata": {},
     "output_type": "display_data"
    },
    {
     "data": {
      "application/javascript": [
       "(function(root) {\n",
       "  function embed_document(root) {\n",
       "    \n",
       "  var docs_json = {\"ca9a49d4-3ace-4272-ba10-3eba4df2a563\":{\"roots\":{\"references\":[{\"attributes\":{},\"id\":\"793ce45c-ef59-40fb-8e31-3f0e7735ff28\",\"type\":\"BasicTicker\"},{\"attributes\":{\"callback\":null,\"column_names\":[\"x\",\"y\"],\"data\":{\"x\":[0,1,2,3,4,5,6,7,8,9,10,11,12,13,14,15,16,17,18,19,20,21,22,23],\"y\":[157,129,129,89,53,65,47,48,84,131,144,136,188,156,150,177,173,153,204,222,187,195,192,129]}},\"id\":\"faa45331-9942-48b9-8e66-58a452de0ca6\",\"type\":\"ColumnDataSource\"},{\"attributes\":{\"active_drag\":\"auto\",\"active_inspect\":\"auto\",\"active_scroll\":\"auto\",\"active_tap\":\"auto\",\"tools\":[{\"id\":\"0f1f32d9-24b6-456d-908c-4e6113df3d14\",\"type\":\"PanTool\"},{\"id\":\"bdfc54a7-02ec-4637-ba34-8c45a3c069d1\",\"type\":\"WheelZoomTool\"},{\"id\":\"a1ece761-ee37-4e68-953e-a3255982ef8a\",\"type\":\"BoxZoomTool\"},{\"id\":\"e6a5ecea-8e39-4b8a-9a2f-832cf6725a2d\",\"type\":\"SaveTool\"},{\"id\":\"ad40ceee-1fac-4e21-b991-4c65ce8833f5\",\"type\":\"ResetTool\"},{\"id\":\"e0b1b8d9-1e25-40e4-9446-99d513264114\",\"type\":\"HelpTool\"}]},\"id\":\"f1ce424b-5de5-4450-a5d2-3517e0c4c402\",\"type\":\"Toolbar\"},{\"attributes\":{\"source\":{\"id\":\"55de87cc-e9ca-42d2-8c16-a165bc861de6\",\"type\":\"ColumnDataSource\"}},\"id\":\"263d69af-b4a7-49e2-93dd-047627911384\",\"type\":\"CDSView\"},{\"attributes\":{},\"id\":\"0f1f32d9-24b6-456d-908c-4e6113df3d14\",\"type\":\"PanTool\"},{\"attributes\":{},\"id\":\"6c4d8a20-4b4c-4902-89c7-a5b234ae169f\",\"type\":\"BasicTickFormatter\"},{\"attributes\":{\"bottom_units\":\"screen\",\"fill_alpha\":{\"value\":0.5},\"fill_color\":{\"value\":\"lightgrey\"},\"left_units\":\"screen\",\"level\":\"overlay\",\"line_alpha\":{\"value\":1.0},\"line_color\":{\"value\":\"black\"},\"line_dash\":[4,4],\"line_width\":{\"value\":2},\"plot\":null,\"render_mode\":\"css\",\"right_units\":\"screen\",\"top_units\":\"screen\"},\"id\":\"7795aedb-23ce-4110-8c65-174899cedad6\",\"type\":\"BoxAnnotation\"},{\"attributes\":{\"formatter\":{\"id\":\"45bcd871-36d6-40f1-8307-7d2a355748a5\",\"type\":\"BasicTickFormatter\"},\"plot\":{\"id\":\"510bc52c-2f74-4814-9e12-de69d0f28b51\",\"subtype\":\"Figure\",\"type\":\"Plot\"},\"ticker\":{\"id\":\"793ce45c-ef59-40fb-8e31-3f0e7735ff28\",\"type\":\"BasicTicker\"}},\"id\":\"3068fce3-09ee-4a80-84d0-52837d413dff\",\"type\":\"LinearAxis\"},{\"attributes\":{\"items\":[{\"id\":\"256d7716-6c2f-412d-b2de-4bae46809b76\",\"type\":\"LegendItem\"},{\"id\":\"10dcb08f-d2a5-417b-bbbb-79949248b753\",\"type\":\"LegendItem\"},{\"id\":\"b7e5233f-df84-4761-abe6-5521ad9aa873\",\"type\":\"LegendItem\"},{\"id\":\"bc48666c-d06e-4a45-aef2-55a271c5551f\",\"type\":\"LegendItem\"},{\"id\":\"45e469a3-e3fa-433d-b9e3-2f9a5364ca7b\",\"type\":\"LegendItem\"},{\"id\":\"bca308e6-c343-49aa-9029-d66c2ad96567\",\"type\":\"LegendItem\"},{\"id\":\"9a77a9be-380d-40d6-9d51-6f1eb3b76dd9\",\"type\":\"LegendItem\"}],\"plot\":{\"id\":\"510bc52c-2f74-4814-9e12-de69d0f28b51\",\"subtype\":\"Figure\",\"type\":\"Plot\"}},\"id\":\"914b9e2a-1924-4170-b98e-92489cfaff28\",\"type\":\"Legend\"},{\"attributes\":{\"data_source\":{\"id\":\"33c33118-0304-4a2a-b217-acc2e001b1a9\",\"type\":\"ColumnDataSource\"},\"glyph\":{\"id\":\"06555532-7573-449f-b220-9477a1fa381f\",\"type\":\"Line\"},\"hover_glyph\":null,\"muted_glyph\":null,\"nonselection_glyph\":{\"id\":\"8c9b86c1-4459-4bac-b2fe-fd5d6bb09ea7\",\"type\":\"Line\"},\"selection_glyph\":null,\"view\":{\"id\":\"d4b51ced-6780-4223-a8d8-229f5f5e8ad7\",\"type\":\"CDSView\"}},\"id\":\"e3acdd58-30b6-4153-9690-5cde769ed06b\",\"type\":\"GlyphRenderer\"},{\"attributes\":{},\"id\":\"45bcd871-36d6-40f1-8307-7d2a355748a5\",\"type\":\"BasicTickFormatter\"},{\"attributes\":{\"plot\":{\"id\":\"510bc52c-2f74-4814-9e12-de69d0f28b51\",\"subtype\":\"Figure\",\"type\":\"Plot\"},\"ticker\":{\"id\":\"c183c97d-3d72-4122-a224-370843f04e33\",\"type\":\"BasicTicker\"}},\"id\":\"5ce80095-7834-4f2d-9b10-9a4ccab14f81\",\"type\":\"Grid\"},{\"attributes\":{\"line_color\":\"#e31a1c\",\"line_width\":2,\"x\":{\"field\":\"x\"},\"y\":{\"field\":\"y\"}},\"id\":\"de5fad29-e4a6-40ed-bbd3-608f67fae5cb\",\"type\":\"Line\"},{\"attributes\":{},\"id\":\"bdfc54a7-02ec-4637-ba34-8c45a3c069d1\",\"type\":\"WheelZoomTool\"},{\"attributes\":{},\"id\":\"1fbd699f-8a6d-456c-88c4-f3a0a99335f3\",\"type\":\"LinearScale\"},{\"attributes\":{\"below\":[{\"id\":\"9a8b2268-cd69-4f6f-97e5-d5bc05a75c7a\",\"type\":\"LinearAxis\"}],\"left\":[{\"id\":\"3068fce3-09ee-4a80-84d0-52837d413dff\",\"type\":\"LinearAxis\"}],\"plot_height\":400,\"plot_width\":800,\"renderers\":[{\"id\":\"9a8b2268-cd69-4f6f-97e5-d5bc05a75c7a\",\"type\":\"LinearAxis\"},{\"id\":\"5ce80095-7834-4f2d-9b10-9a4ccab14f81\",\"type\":\"Grid\"},{\"id\":\"3068fce3-09ee-4a80-84d0-52837d413dff\",\"type\":\"LinearAxis\"},{\"id\":\"de3218e7-a762-4e65-a5d3-5cb15e2c84e1\",\"type\":\"Grid\"},{\"id\":\"7795aedb-23ce-4110-8c65-174899cedad6\",\"type\":\"BoxAnnotation\"},{\"id\":\"914b9e2a-1924-4170-b98e-92489cfaff28\",\"type\":\"Legend\"},{\"id\":\"f9020f9c-381a-4d55-ad6a-111939d31ae2\",\"type\":\"GlyphRenderer\"},{\"id\":\"160711dd-6d42-489f-bb8e-4035248f7268\",\"type\":\"GlyphRenderer\"},{\"id\":\"60c414ce-14ba-41cd-9c42-993064b9dff4\",\"type\":\"GlyphRenderer\"},{\"id\":\"f600fbbd-e08a-4e0a-a6f8-ad8308b52196\",\"type\":\"GlyphRenderer\"},{\"id\":\"e3acdd58-30b6-4153-9690-5cde769ed06b\",\"type\":\"GlyphRenderer\"},{\"id\":\"e2a7d768-0a97-47fe-9c4b-41c35254f545\",\"type\":\"GlyphRenderer\"},{\"id\":\"37287415-a0ec-41f7-bd0d-e924380a82da\",\"type\":\"GlyphRenderer\"}],\"title\":{\"id\":\"4fd2ede1-8fea-43f9-8176-aaa2c8293674\",\"type\":\"Title\"},\"toolbar\":{\"id\":\"f1ce424b-5de5-4450-a5d2-3517e0c4c402\",\"type\":\"Toolbar\"},\"x_range\":{\"id\":\"b219be4b-71bd-4d85-88f2-ebc8018af312\",\"type\":\"DataRange1d\"},\"x_scale\":{\"id\":\"a986823e-484b-40e9-a47e-2525f2215450\",\"type\":\"LinearScale\"},\"y_range\":{\"id\":\"bf1705c3-bdc9-4abe-b94f-1dc549342069\",\"type\":\"DataRange1d\"},\"y_scale\":{\"id\":\"1fbd699f-8a6d-456c-88c4-f3a0a99335f3\",\"type\":\"LinearScale\"}},\"id\":\"510bc52c-2f74-4814-9e12-de69d0f28b51\",\"subtype\":\"Figure\",\"type\":\"Plot\"},{\"attributes\":{\"line_color\":\"#fb9a99\",\"line_width\":2,\"x\":{\"field\":\"x\"},\"y\":{\"field\":\"y\"}},\"id\":\"06555532-7573-449f-b220-9477a1fa381f\",\"type\":\"Line\"},{\"attributes\":{\"label\":{\"value\":\"Wednesday\"},\"renderers\":[{\"id\":\"60c414ce-14ba-41cd-9c42-993064b9dff4\",\"type\":\"GlyphRenderer\"}]},\"id\":\"b7e5233f-df84-4761-abe6-5521ad9aa873\",\"type\":\"LegendItem\"},{\"attributes\":{\"label\":{\"value\":\"Thursday\"},\"renderers\":[{\"id\":\"f600fbbd-e08a-4e0a-a6f8-ad8308b52196\",\"type\":\"GlyphRenderer\"}]},\"id\":\"bc48666c-d06e-4a45-aef2-55a271c5551f\",\"type\":\"LegendItem\"},{\"attributes\":{\"line_alpha\":0.1,\"line_color\":\"#1f77b4\",\"line_width\":2,\"x\":{\"field\":\"x\"},\"y\":{\"field\":\"y\"}},\"id\":\"aae08e92-084f-460e-824b-8d6ecaa9749b\",\"type\":\"Line\"},{\"attributes\":{\"data_source\":{\"id\":\"faa45331-9942-48b9-8e66-58a452de0ca6\",\"type\":\"ColumnDataSource\"},\"glyph\":{\"id\":\"de5fad29-e4a6-40ed-bbd3-608f67fae5cb\",\"type\":\"Line\"},\"hover_glyph\":null,\"muted_glyph\":null,\"nonselection_glyph\":{\"id\":\"632ad339-0cf6-439d-90c1-ae4b71239bec\",\"type\":\"Line\"},\"selection_glyph\":null,\"view\":{\"id\":\"f3f1ed4c-b046-42e2-86c4-ac2880b11859\",\"type\":\"CDSView\"}},\"id\":\"e2a7d768-0a97-47fe-9c4b-41c35254f545\",\"type\":\"GlyphRenderer\"},{\"attributes\":{\"source\":{\"id\":\"fd111c49-1cb4-47c8-ae0c-bd65833d80e9\",\"type\":\"ColumnDataSource\"}},\"id\":\"c8ccd964-f8ea-42f3-ab19-281a377a5ecb\",\"type\":\"CDSView\"},{\"attributes\":{\"line_alpha\":0.1,\"line_color\":\"#1f77b4\",\"line_width\":2,\"x\":{\"field\":\"x\"},\"y\":{\"field\":\"y\"}},\"id\":\"8c9b86c1-4459-4bac-b2fe-fd5d6bb09ea7\",\"type\":\"Line\"},{\"attributes\":{},\"id\":\"ad40ceee-1fac-4e21-b991-4c65ce8833f5\",\"type\":\"ResetTool\"},{\"attributes\":{\"overlay\":{\"id\":\"7795aedb-23ce-4110-8c65-174899cedad6\",\"type\":\"BoxAnnotation\"}},\"id\":\"a1ece761-ee37-4e68-953e-a3255982ef8a\",\"type\":\"BoxZoomTool\"},{\"attributes\":{\"line_alpha\":0.1,\"line_color\":\"#1f77b4\",\"line_width\":2,\"x\":{\"field\":\"x\"},\"y\":{\"field\":\"y\"}},\"id\":\"737d5878-c849-44f2-a8a9-0b607c2eb651\",\"type\":\"Line\"},{\"attributes\":{\"source\":{\"id\":\"8544c9ca-f3b9-488c-a85f-5bd454026253\",\"type\":\"ColumnDataSource\"}},\"id\":\"bcdc60e2-552d-41f5-aab4-cf4141327558\",\"type\":\"CDSView\"},{\"attributes\":{\"data_source\":{\"id\":\"8544c9ca-f3b9-488c-a85f-5bd454026253\",\"type\":\"ColumnDataSource\"},\"glyph\":{\"id\":\"9e296386-da3d-4d14-87e1-1ba0fb4c7e7c\",\"type\":\"Line\"},\"hover_glyph\":null,\"muted_glyph\":null,\"nonselection_glyph\":{\"id\":\"4c098df4-3fca-47a1-b4ec-609a84ee7592\",\"type\":\"Line\"},\"selection_glyph\":null,\"view\":{\"id\":\"bcdc60e2-552d-41f5-aab4-cf4141327558\",\"type\":\"CDSView\"}},\"id\":\"f9020f9c-381a-4d55-ad6a-111939d31ae2\",\"type\":\"GlyphRenderer\"},{\"attributes\":{\"callback\":null,\"column_names\":[\"x\",\"y\"],\"data\":{\"x\":[0,1,2,3,4,5,6,7,8,9,10,11,12,13,14,15,16,17,18,19,20,21,22,23],\"y\":[303,99,74,76,76,44,56,90,166,218,167,169,193,158,185,192,199,187,162,196,174,162,145,98]}},\"id\":\"55de87cc-e9ca-42d2-8c16-a165bc861de6\",\"type\":\"ColumnDataSource\"},{\"attributes\":{\"callback\":null,\"column_names\":[\"x\",\"y\"],\"data\":{\"x\":[0,1,2,3,4,5,6,7,8,9,10,11,12,13,14,15,16,17,18,19,20,21,22,23],\"y\":[126,127,92,82,61,47,34,42,60,71,97,118,130,105,97,139,112,136,146,130,141,117,119,102]}},\"id\":\"76da5358-d030-47a0-bbc2-1a5991db6d3d\",\"type\":\"ColumnDataSource\"},{\"attributes\":{},\"id\":\"e6a5ecea-8e39-4b8a-9a2f-832cf6725a2d\",\"type\":\"SaveTool\"},{\"attributes\":{\"source\":{\"id\":\"76da5358-d030-47a0-bbc2-1a5991db6d3d\",\"type\":\"ColumnDataSource\"}},\"id\":\"68fe0bce-aabf-4bfc-a0c3-daf39f91c310\",\"type\":\"CDSView\"},{\"attributes\":{\"callback\":null,\"column_names\":[\"x\",\"y\"],\"data\":{\"x\":[0,1,2,3,4,5,6,7,8,9,10,11,12,13,14,15,16,17,18,19,20,21,22,23],\"y\":[131,67,59,53,37,26,55,97,111,178,153,152,181,166,201,206,172,174,209,247,180,180,207,179]}},\"id\":\"33c33118-0304-4a2a-b217-acc2e001b1a9\",\"type\":\"ColumnDataSource\"},{\"attributes\":{\"label\":{\"value\":\"Sunday\"},\"renderers\":[{\"id\":\"37287415-a0ec-41f7-bd0d-e924380a82da\",\"type\":\"GlyphRenderer\"}]},\"id\":\"9a77a9be-380d-40d6-9d51-6f1eb3b76dd9\",\"type\":\"LegendItem\"},{\"attributes\":{\"plot\":null,\"text\":\"\"},\"id\":\"4fd2ede1-8fea-43f9-8176-aaa2c8293674\",\"type\":\"Title\"},{\"attributes\":{\"data_source\":{\"id\":\"fd111c49-1cb4-47c8-ae0c-bd65833d80e9\",\"type\":\"ColumnDataSource\"},\"glyph\":{\"id\":\"85be40d5-2128-47fe-8bae-2000e4d35195\",\"type\":\"Line\"},\"hover_glyph\":null,\"muted_glyph\":null,\"nonselection_glyph\":{\"id\":\"aae08e92-084f-460e-824b-8d6ecaa9749b\",\"type\":\"Line\"},\"selection_glyph\":null,\"view\":{\"id\":\"c8ccd964-f8ea-42f3-ab19-281a377a5ecb\",\"type\":\"CDSView\"}},\"id\":\"60c414ce-14ba-41cd-9c42-993064b9dff4\",\"type\":\"GlyphRenderer\"},{\"attributes\":{\"label\":{\"value\":\"Monday\"},\"renderers\":[{\"id\":\"f9020f9c-381a-4d55-ad6a-111939d31ae2\",\"type\":\"GlyphRenderer\"}]},\"id\":\"256d7716-6c2f-412d-b2de-4bae46809b76\",\"type\":\"LegendItem\"},{\"attributes\":{\"line_color\":\"#1f78b4\",\"line_width\":2,\"x\":{\"field\":\"x\"},\"y\":{\"field\":\"y\"}},\"id\":\"de9508a7-6a16-43b5-b92e-b416a7e142d6\",\"type\":\"Line\"},{\"attributes\":{\"callback\":null},\"id\":\"b219be4b-71bd-4d85-88f2-ebc8018af312\",\"type\":\"DataRange1d\"},{\"attributes\":{\"callback\":null,\"column_names\":[\"x\",\"y\"],\"data\":{\"x\":[0,1,2,3,4,5,6,7,8,9,10,11,12,13,14,15,16,17,18,19,20,21,22,23],\"y\":[108,39,45,30,17,34,46,64,89,145,117,111,146,137,138,165,136,140,144,164,144,140,120,89]}},\"id\":\"fd111c49-1cb4-47c8-ae0c-bd65833d80e9\",\"type\":\"ColumnDataSource\"},{\"attributes\":{\"line_color\":\"#a6cee3\",\"line_width\":2,\"x\":{\"field\":\"x\"},\"y\":{\"field\":\"y\"}},\"id\":\"9e296386-da3d-4d14-87e1-1ba0fb4c7e7c\",\"type\":\"Line\"},{\"attributes\":{\"data_source\":{\"id\":\"55de87cc-e9ca-42d2-8c16-a165bc861de6\",\"type\":\"ColumnDataSource\"},\"glyph\":{\"id\":\"ec467523-51b9-4410-8f1a-bb0bdbeba821\",\"type\":\"Line\"},\"hover_glyph\":null,\"muted_glyph\":null,\"nonselection_glyph\":{\"id\":\"22481ef6-772c-4972-a537-2c690b0da509\",\"type\":\"Line\"},\"selection_glyph\":null,\"view\":{\"id\":\"263d69af-b4a7-49e2-93dd-047627911384\",\"type\":\"CDSView\"}},\"id\":\"f600fbbd-e08a-4e0a-a6f8-ad8308b52196\",\"type\":\"GlyphRenderer\"},{\"attributes\":{\"data_source\":{\"id\":\"76da5358-d030-47a0-bbc2-1a5991db6d3d\",\"type\":\"ColumnDataSource\"},\"glyph\":{\"id\":\"dd6c66f8-dc98-44ad-b65b-2762837cbe42\",\"type\":\"Line\"},\"hover_glyph\":null,\"muted_glyph\":null,\"nonselection_glyph\":{\"id\":\"737d5878-c849-44f2-a8a9-0b607c2eb651\",\"type\":\"Line\"},\"selection_glyph\":null,\"view\":{\"id\":\"68fe0bce-aabf-4bfc-a0c3-daf39f91c310\",\"type\":\"CDSView\"}},\"id\":\"37287415-a0ec-41f7-bd0d-e924380a82da\",\"type\":\"GlyphRenderer\"},{\"attributes\":{\"line_color\":\"#33a02c\",\"line_width\":2,\"x\":{\"field\":\"x\"},\"y\":{\"field\":\"y\"}},\"id\":\"ec467523-51b9-4410-8f1a-bb0bdbeba821\",\"type\":\"Line\"},{\"attributes\":{\"line_alpha\":0.1,\"line_color\":\"#1f77b4\",\"line_width\":2,\"x\":{\"field\":\"x\"},\"y\":{\"field\":\"y\"}},\"id\":\"4c098df4-3fca-47a1-b4ec-609a84ee7592\",\"type\":\"Line\"},{\"attributes\":{},\"id\":\"e0b1b8d9-1e25-40e4-9446-99d513264114\",\"type\":\"HelpTool\"},{\"attributes\":{},\"id\":\"c183c97d-3d72-4122-a224-370843f04e33\",\"type\":\"BasicTicker\"},{\"attributes\":{\"line_color\":\"#fdbf6f\",\"line_width\":2,\"x\":{\"field\":\"x\"},\"y\":{\"field\":\"y\"}},\"id\":\"dd6c66f8-dc98-44ad-b65b-2762837cbe42\",\"type\":\"Line\"},{\"attributes\":{\"source\":{\"id\":\"33c33118-0304-4a2a-b217-acc2e001b1a9\",\"type\":\"ColumnDataSource\"}},\"id\":\"d4b51ced-6780-4223-a8d8-229f5f5e8ad7\",\"type\":\"CDSView\"},{\"attributes\":{\"label\":{\"value\":\"Friday\"},\"renderers\":[{\"id\":\"e3acdd58-30b6-4153-9690-5cde769ed06b\",\"type\":\"GlyphRenderer\"}]},\"id\":\"45e469a3-e3fa-433d-b9e3-2f9a5364ca7b\",\"type\":\"LegendItem\"},{\"attributes\":{\"source\":{\"id\":\"17714de2-ebc1-4d9c-a521-a6a88ffa73d8\",\"type\":\"ColumnDataSource\"}},\"id\":\"e135c36f-ce8a-42fd-a514-4da9b1de1e1a\",\"type\":\"CDSView\"},{\"attributes\":{\"line_alpha\":0.1,\"line_color\":\"#1f77b4\",\"line_width\":2,\"x\":{\"field\":\"x\"},\"y\":{\"field\":\"y\"}},\"id\":\"22481ef6-772c-4972-a537-2c690b0da509\",\"type\":\"Line\"},{\"attributes\":{\"callback\":null,\"column_names\":[\"x\",\"y\"],\"data\":{\"x\":[0,1,2,3,4,5,6,7,8,9,10,11,12,13,14,15,16,17,18,19,20,21,22,23],\"y\":[97,46,36,57,26,18,39,61,89,125,112,145,179,132,143,167,159,131,159,159,145,146,113,70]}},\"id\":\"17714de2-ebc1-4d9c-a521-a6a88ffa73d8\",\"type\":\"ColumnDataSource\"},{\"attributes\":{\"source\":{\"id\":\"faa45331-9942-48b9-8e66-58a452de0ca6\",\"type\":\"ColumnDataSource\"}},\"id\":\"f3f1ed4c-b046-42e2-86c4-ac2880b11859\",\"type\":\"CDSView\"},{\"attributes\":{\"callback\":null},\"id\":\"bf1705c3-bdc9-4abe-b94f-1dc549342069\",\"type\":\"DataRange1d\"},{\"attributes\":{\"line_color\":\"#b2df8a\",\"line_width\":2,\"x\":{\"field\":\"x\"},\"y\":{\"field\":\"y\"}},\"id\":\"85be40d5-2128-47fe-8bae-2000e4d35195\",\"type\":\"Line\"},{\"attributes\":{\"dimension\":1,\"plot\":{\"id\":\"510bc52c-2f74-4814-9e12-de69d0f28b51\",\"subtype\":\"Figure\",\"type\":\"Plot\"},\"ticker\":{\"id\":\"793ce45c-ef59-40fb-8e31-3f0e7735ff28\",\"type\":\"BasicTicker\"}},\"id\":\"de3218e7-a762-4e65-a5d3-5cb15e2c84e1\",\"type\":\"Grid\"},{\"attributes\":{\"label\":{\"value\":\"Saturday\"},\"renderers\":[{\"id\":\"e2a7d768-0a97-47fe-9c4b-41c35254f545\",\"type\":\"GlyphRenderer\"}]},\"id\":\"bca308e6-c343-49aa-9029-d66c2ad96567\",\"type\":\"LegendItem\"},{\"attributes\":{\"label\":{\"value\":\"Tuesday\"},\"renderers\":[{\"id\":\"160711dd-6d42-489f-bb8e-4035248f7268\",\"type\":\"GlyphRenderer\"}]},\"id\":\"10dcb08f-d2a5-417b-bbbb-79949248b753\",\"type\":\"LegendItem\"},{\"attributes\":{\"callback\":null,\"column_names\":[\"x\",\"y\"],\"data\":{\"x\":[0,1,2,3,4,5,6,7,8,9,10,11,12,13,14,15,16,17,18,19,20,21,22,23],\"y\":[94,67,39,39,31,31,35,62,82,114,123,127,157,126,129,144,153,130,150,147,154,121,113,100]}},\"id\":\"8544c9ca-f3b9-488c-a85f-5bd454026253\",\"type\":\"ColumnDataSource\"},{\"attributes\":{},\"id\":\"a986823e-484b-40e9-a47e-2525f2215450\",\"type\":\"LinearScale\"},{\"attributes\":{\"line_alpha\":0.1,\"line_color\":\"#1f77b4\",\"line_width\":2,\"x\":{\"field\":\"x\"},\"y\":{\"field\":\"y\"}},\"id\":\"632ad339-0cf6-439d-90c1-ae4b71239bec\",\"type\":\"Line\"},{\"attributes\":{\"formatter\":{\"id\":\"6c4d8a20-4b4c-4902-89c7-a5b234ae169f\",\"type\":\"BasicTickFormatter\"},\"plot\":{\"id\":\"510bc52c-2f74-4814-9e12-de69d0f28b51\",\"subtype\":\"Figure\",\"type\":\"Plot\"},\"ticker\":{\"id\":\"c183c97d-3d72-4122-a224-370843f04e33\",\"type\":\"BasicTicker\"}},\"id\":\"9a8b2268-cd69-4f6f-97e5-d5bc05a75c7a\",\"type\":\"LinearAxis\"},{\"attributes\":{\"line_alpha\":0.1,\"line_color\":\"#1f77b4\",\"line_width\":2,\"x\":{\"field\":\"x\"},\"y\":{\"field\":\"y\"}},\"id\":\"6b009e86-48c8-432b-b24f-f88bfe56d730\",\"type\":\"Line\"},{\"attributes\":{\"data_source\":{\"id\":\"17714de2-ebc1-4d9c-a521-a6a88ffa73d8\",\"type\":\"ColumnDataSource\"},\"glyph\":{\"id\":\"de9508a7-6a16-43b5-b92e-b416a7e142d6\",\"type\":\"Line\"},\"hover_glyph\":null,\"muted_glyph\":null,\"nonselection_glyph\":{\"id\":\"6b009e86-48c8-432b-b24f-f88bfe56d730\",\"type\":\"Line\"},\"selection_glyph\":null,\"view\":{\"id\":\"e135c36f-ce8a-42fd-a514-4da9b1de1e1a\",\"type\":\"CDSView\"}},\"id\":\"160711dd-6d42-489f-bb8e-4035248f7268\",\"type\":\"GlyphRenderer\"}],\"root_ids\":[\"510bc52c-2f74-4814-9e12-de69d0f28b51\"]},\"title\":\"Bokeh Application\",\"version\":\"0.12.13\"}};\n",
       "  var render_items = [{\"docid\":\"ca9a49d4-3ace-4272-ba10-3eba4df2a563\",\"elementid\":\"01e5f7e0-537e-41f3-9bfd-675fd92651b0\",\"modelid\":\"510bc52c-2f74-4814-9e12-de69d0f28b51\"}];\n",
       "  root.Bokeh.embed.embed_items_notebook(docs_json, render_items);\n",
       "\n",
       "  }\n",
       "  if (root.Bokeh !== undefined) {\n",
       "    embed_document(root);\n",
       "  } else {\n",
       "    var attempts = 0;\n",
       "    var timer = setInterval(function(root) {\n",
       "      if (root.Bokeh !== undefined) {\n",
       "        embed_document(root);\n",
       "        clearInterval(timer);\n",
       "      }\n",
       "      attempts++;\n",
       "      if (attempts > 100) {\n",
       "        console.log(\"Bokeh: ERROR: Unable to run BokehJS code because BokehJS library is missing\")\n",
       "        clearInterval(timer);\n",
       "      }\n",
       "    }, 10, root)\n",
       "  }\n",
       "})(window);"
      ],
      "application/vnd.bokehjs_exec.v0+json": ""
     },
     "metadata": {
      "application/vnd.bokehjs_exec.v0+json": {
       "id": "510bc52c-2f74-4814-9e12-de69d0f28b51"
      }
     },
     "output_type": "display_data"
    },
    {
     "data": {
      "text/html": [
       "\n",
       "<div class=\"bk-root\">\n",
       "    <div class=\"bk-plotdiv\" id=\"67f9fcb7-a9f7-4dcf-be71-120da4ceba34\"></div>\n",
       "</div>"
      ]
     },
     "metadata": {},
     "output_type": "display_data"
    },
    {
     "data": {
      "application/javascript": [
       "(function(root) {\n",
       "  function embed_document(root) {\n",
       "    \n",
       "  var docs_json = {\"b6694d55-f808-4a96-a6b4-fa1694ecd4c7\":{\"roots\":{\"references\":[{\"attributes\":{\"data_source\":{\"id\":\"d12f97ef-1fcb-4db7-8011-be9032fc0acf\",\"type\":\"ColumnDataSource\"},\"glyph\":{\"id\":\"ca7266ad-222b-4b0e-9d4d-bd3f29c1c059\",\"type\":\"Line\"},\"hover_glyph\":null,\"muted_glyph\":null,\"nonselection_glyph\":{\"id\":\"994cb547-70ba-4107-a95e-fb996c43ed91\",\"type\":\"Line\"},\"selection_glyph\":null,\"view\":{\"id\":\"108c6520-1ffa-42eb-86d7-bb9af70e19c4\",\"type\":\"CDSView\"}},\"id\":\"4fef14e2-a9a0-4ede-8bbc-28f2f098ea78\",\"type\":\"GlyphRenderer\"},{\"attributes\":{\"line_color\":\"#fdbf6f\",\"line_width\":2,\"x\":{\"field\":\"x\"},\"y\":{\"field\":\"y\"}},\"id\":\"bc6ac308-2863-4f4b-b3c2-44a90615a00a\",\"type\":\"Line\"},{\"attributes\":{\"source\":{\"id\":\"ccc8f6fa-550c-4060-941c-1569899a65ef\",\"type\":\"ColumnDataSource\"}},\"id\":\"e826af1e-8880-4d66-aef3-4800a4c61b88\",\"type\":\"CDSView\"},{\"attributes\":{\"formatter\":{\"id\":\"f6f5676d-09ec-4f99-84f5-9ce7c7af3719\",\"type\":\"BasicTickFormatter\"},\"plot\":{\"id\":\"423064ff-02df-444f-ae6b-f0b163e3edd9\",\"subtype\":\"Figure\",\"type\":\"Plot\"},\"ticker\":{\"id\":\"504abd1b-4cbd-428d-817d-0c503bfffe95\",\"type\":\"BasicTicker\"}},\"id\":\"9102ff6d-3b29-4ead-8555-1fae69e37597\",\"type\":\"LinearAxis\"},{\"attributes\":{\"active_drag\":\"auto\",\"active_inspect\":\"auto\",\"active_scroll\":\"auto\",\"active_tap\":\"auto\",\"tools\":[{\"id\":\"75a0b58e-72db-4613-a2a3-a5bdf97aa192\",\"type\":\"PanTool\"},{\"id\":\"f2f150d8-beb8-453a-83ed-bd0831a292c1\",\"type\":\"WheelZoomTool\"},{\"id\":\"7fcfaf4a-2a52-4341-aedf-002eabbbedfb\",\"type\":\"BoxZoomTool\"},{\"id\":\"7015f7e9-a3c7-443a-8c0d-617d8acc7695\",\"type\":\"SaveTool\"},{\"id\":\"50ccc493-2a86-4069-bd4a-404f6560655c\",\"type\":\"ResetTool\"},{\"id\":\"9cd7bee6-8ab5-499c-90ed-ee68a3999412\",\"type\":\"HelpTool\"}]},\"id\":\"7417de38-18bd-4086-abf4-1026910c91b7\",\"type\":\"Toolbar\"},{\"attributes\":{\"label\":{\"value\":\"Friday\"},\"renderers\":[{\"id\":\"203de9c0-6ddc-4c75-8d6a-1dddb91dedad\",\"type\":\"GlyphRenderer\"}]},\"id\":\"92da1017-8cf6-4d8c-b9d6-55c140fcb856\",\"type\":\"LegendItem\"},{\"attributes\":{\"callback\":null,\"column_names\":[\"x\",\"y\"],\"data\":{\"x\":[0,1,2,3,4,5,6,7,8,9,10,11,12,13,14,15,16,17,18,19,20,21,22,23],\"y\":[92,46,34,28,22,22,42,59,124,94,106,141,142,111,109,145,129,122,139,142,114,105,99,72]}},\"id\":\"3029d9cd-1f23-47a5-a16c-65145c3021e1\",\"type\":\"ColumnDataSource\"},{\"attributes\":{\"line_alpha\":0.1,\"line_color\":\"#1f77b4\",\"line_width\":2,\"x\":{\"field\":\"x\"},\"y\":{\"field\":\"y\"}},\"id\":\"789f6107-b389-4a4e-b69c-253ebc199098\",\"type\":\"Line\"},{\"attributes\":{},\"id\":\"1312e983-48f3-4eaa-8add-cbb1805cac74\",\"type\":\"BasicTickFormatter\"},{\"attributes\":{\"callback\":null,\"column_names\":[\"x\",\"y\"],\"data\":{\"x\":[0,1,2,3,4,5,6,7,8,9,10,11,12,13,14,15,16,17,18,19,20,21,22,23],\"y\":[72,35,34,30,28,16,33,50,90,122,124,104,141,119,102,152,120,103,123,128,116,107,104,83]}},\"id\":\"d12f97ef-1fcb-4db7-8011-be9032fc0acf\",\"type\":\"ColumnDataSource\"},{\"attributes\":{\"data_source\":{\"id\":\"3029d9cd-1f23-47a5-a16c-65145c3021e1\",\"type\":\"ColumnDataSource\"},\"glyph\":{\"id\":\"b7a34cf0-2a28-454c-b40a-ee84c5c13bb1\",\"type\":\"Line\"},\"hover_glyph\":null,\"muted_glyph\":null,\"nonselection_glyph\":{\"id\":\"cb2d566f-438f-4de0-b379-38d81fd03550\",\"type\":\"Line\"},\"selection_glyph\":null,\"view\":{\"id\":\"ef0bd28c-925f-46ce-b7d8-c9ad862f1a7e\",\"type\":\"CDSView\"}},\"id\":\"d58af903-a664-47db-bf6d-22f59a466a7e\",\"type\":\"GlyphRenderer\"},{\"attributes\":{\"callback\":null},\"id\":\"e8196926-c10e-4f76-8102-08cc342e36aa\",\"type\":\"DataRange1d\"},{\"attributes\":{\"below\":[{\"id\":\"e0257e0a-8c1d-479a-8a5e-ebdfb6e67e11\",\"type\":\"LinearAxis\"}],\"left\":[{\"id\":\"9102ff6d-3b29-4ead-8555-1fae69e37597\",\"type\":\"LinearAxis\"}],\"plot_height\":400,\"plot_width\":800,\"renderers\":[{\"id\":\"e0257e0a-8c1d-479a-8a5e-ebdfb6e67e11\",\"type\":\"LinearAxis\"},{\"id\":\"1d5b1c3b-154f-44b3-8bee-36134811b9b8\",\"type\":\"Grid\"},{\"id\":\"9102ff6d-3b29-4ead-8555-1fae69e37597\",\"type\":\"LinearAxis\"},{\"id\":\"28059e53-f1a2-46fb-b2df-5c36b7151b23\",\"type\":\"Grid\"},{\"id\":\"ad33b0bb-af55-4259-ad32-cc40045e154e\",\"type\":\"BoxAnnotation\"},{\"id\":\"5b867c2c-4992-4531-ab79-fd9d96ca2504\",\"type\":\"Legend\"},{\"id\":\"bb937ba0-13e9-4202-9e72-6b85e735ea6d\",\"type\":\"GlyphRenderer\"},{\"id\":\"5118bf8b-edfc-4801-aa87-fbaa685f74ad\",\"type\":\"GlyphRenderer\"},{\"id\":\"d58af903-a664-47db-bf6d-22f59a466a7e\",\"type\":\"GlyphRenderer\"},{\"id\":\"4fef14e2-a9a0-4ede-8bbc-28f2f098ea78\",\"type\":\"GlyphRenderer\"},{\"id\":\"203de9c0-6ddc-4c75-8d6a-1dddb91dedad\",\"type\":\"GlyphRenderer\"},{\"id\":\"e8e4f986-a500-4235-a6ea-bd1a5a9a4700\",\"type\":\"GlyphRenderer\"},{\"id\":\"b6672b3a-248a-4ccc-b754-4b6e40de0a08\",\"type\":\"GlyphRenderer\"}],\"title\":{\"id\":\"661f6715-51b1-4475-b04a-fa076f5082e6\",\"type\":\"Title\"},\"toolbar\":{\"id\":\"7417de38-18bd-4086-abf4-1026910c91b7\",\"type\":\"Toolbar\"},\"x_range\":{\"id\":\"e8196926-c10e-4f76-8102-08cc342e36aa\",\"type\":\"DataRange1d\"},\"x_scale\":{\"id\":\"8505c95d-98b6-4882-8565-fb6fba412467\",\"type\":\"LinearScale\"},\"y_range\":{\"id\":\"41ffd727-b625-4e07-998c-a5631a820836\",\"type\":\"DataRange1d\"},\"y_scale\":{\"id\":\"9be3abbc-7cfc-491e-bcb5-9de43c295c53\",\"type\":\"LinearScale\"}},\"id\":\"423064ff-02df-444f-ae6b-f0b163e3edd9\",\"subtype\":\"Figure\",\"type\":\"Plot\"},{\"attributes\":{\"line_color\":\"#a6cee3\",\"line_width\":2,\"x\":{\"field\":\"x\"},\"y\":{\"field\":\"y\"}},\"id\":\"0a088999-91b3-42bd-8ac4-2cd1784e1850\",\"type\":\"Line\"},{\"attributes\":{},\"id\":\"f6f5676d-09ec-4f99-84f5-9ce7c7af3719\",\"type\":\"BasicTickFormatter\"},{\"attributes\":{},\"id\":\"8505c95d-98b6-4882-8565-fb6fba412467\",\"type\":\"LinearScale\"},{\"attributes\":{\"data_source\":{\"id\":\"e34194f7-509a-409d-924d-b391d32b06c6\",\"type\":\"ColumnDataSource\"},\"glyph\":{\"id\":\"6d9ba1b8-c9d3-4cdd-9cb8-6b2b7700a7ee\",\"type\":\"Line\"},\"hover_glyph\":null,\"muted_glyph\":null,\"nonselection_glyph\":{\"id\":\"7bcebe1e-f01c-48d2-84ee-1d523b3faaef\",\"type\":\"Line\"},\"selection_glyph\":null,\"view\":{\"id\":\"3e1c4379-1dea-47b2-a1f9-eb86cd30501e\",\"type\":\"CDSView\"}},\"id\":\"e8e4f986-a500-4235-a6ea-bd1a5a9a4700\",\"type\":\"GlyphRenderer\"},{\"attributes\":{\"label\":{\"value\":\"Monday\"},\"renderers\":[{\"id\":\"bb937ba0-13e9-4202-9e72-6b85e735ea6d\",\"type\":\"GlyphRenderer\"}]},\"id\":\"e29ac815-7be7-48fd-a884-6b89d5c33bd4\",\"type\":\"LegendItem\"},{\"attributes\":{\"items\":[{\"id\":\"e29ac815-7be7-48fd-a884-6b89d5c33bd4\",\"type\":\"LegendItem\"},{\"id\":\"74d6ce9b-ecff-4c2e-9677-285c68362857\",\"type\":\"LegendItem\"},{\"id\":\"5add75dd-fe5b-4048-ac8c-246a2091a61d\",\"type\":\"LegendItem\"},{\"id\":\"bc8022b8-38db-4602-899f-ec13a9208e7e\",\"type\":\"LegendItem\"},{\"id\":\"92da1017-8cf6-4d8c-b9d6-55c140fcb856\",\"type\":\"LegendItem\"},{\"id\":\"ef4c96dd-d124-4eb0-bcf1-372be8f5a1a6\",\"type\":\"LegendItem\"},{\"id\":\"1b72436e-123d-4f22-822c-8ce02fb44682\",\"type\":\"LegendItem\"}],\"plot\":{\"id\":\"423064ff-02df-444f-ae6b-f0b163e3edd9\",\"subtype\":\"Figure\",\"type\":\"Plot\"}},\"id\":\"5b867c2c-4992-4531-ab79-fd9d96ca2504\",\"type\":\"Legend\"},{\"attributes\":{},\"id\":\"9be3abbc-7cfc-491e-bcb5-9de43c295c53\",\"type\":\"LinearScale\"},{\"attributes\":{\"label\":{\"value\":\"Saturday\"},\"renderers\":[{\"id\":\"e8e4f986-a500-4235-a6ea-bd1a5a9a4700\",\"type\":\"GlyphRenderer\"}]},\"id\":\"ef4c96dd-d124-4eb0-bcf1-372be8f5a1a6\",\"type\":\"LegendItem\"},{\"attributes\":{},\"id\":\"50ccc493-2a86-4069-bd4a-404f6560655c\",\"type\":\"ResetTool\"},{\"attributes\":{\"line_alpha\":0.1,\"line_color\":\"#1f77b4\",\"line_width\":2,\"x\":{\"field\":\"x\"},\"y\":{\"field\":\"y\"}},\"id\":\"cb2d566f-438f-4de0-b379-38d81fd03550\",\"type\":\"Line\"},{\"attributes\":{\"data_source\":{\"id\":\"ccc8f6fa-550c-4060-941c-1569899a65ef\",\"type\":\"ColumnDataSource\"},\"glyph\":{\"id\":\"0a088999-91b3-42bd-8ac4-2cd1784e1850\",\"type\":\"Line\"},\"hover_glyph\":null,\"muted_glyph\":null,\"nonselection_glyph\":{\"id\":\"50f7e121-820e-4587-99ea-d6644e04abe0\",\"type\":\"Line\"},\"selection_glyph\":null,\"view\":{\"id\":\"e826af1e-8880-4d66-aef3-4800a4c61b88\",\"type\":\"CDSView\"}},\"id\":\"bb937ba0-13e9-4202-9e72-6b85e735ea6d\",\"type\":\"GlyphRenderer\"},{\"attributes\":{\"line_alpha\":0.1,\"line_color\":\"#1f77b4\",\"line_width\":2,\"x\":{\"field\":\"x\"},\"y\":{\"field\":\"y\"}},\"id\":\"07d74f38-3d3f-4d86-8018-85689b36a80d\",\"type\":\"Line\"},{\"attributes\":{\"callback\":null,\"column_names\":[\"x\",\"y\"],\"data\":{\"x\":[0,1,2,3,4,5,6,7,8,9,10,11,12,13,14,15,16,17,18,19,20,21,22,23],\"y\":[57,47,28,31,17,22,45,70,88,121,136,142,155,122,118,135,143,134,135,142,125,122,121,85]}},\"id\":\"a6048f81-d0b2-4041-82c6-d31a6b155d41\",\"type\":\"ColumnDataSource\"},{\"attributes\":{\"overlay\":{\"id\":\"ad33b0bb-af55-4259-ad32-cc40045e154e\",\"type\":\"BoxAnnotation\"}},\"id\":\"7fcfaf4a-2a52-4341-aedf-002eabbbedfb\",\"type\":\"BoxZoomTool\"},{\"attributes\":{},\"id\":\"75a0b58e-72db-4613-a2a3-a5bdf97aa192\",\"type\":\"PanTool\"},{\"attributes\":{\"line_alpha\":0.1,\"line_color\":\"#1f77b4\",\"line_width\":2,\"x\":{\"field\":\"x\"},\"y\":{\"field\":\"y\"}},\"id\":\"7bcebe1e-f01c-48d2-84ee-1d523b3faaef\",\"type\":\"Line\"},{\"attributes\":{\"line_color\":\"#1f78b4\",\"line_width\":2,\"x\":{\"field\":\"x\"},\"y\":{\"field\":\"y\"}},\"id\":\"0489da4e-5adb-4f07-8137-a6440fce2e5c\",\"type\":\"Line\"},{\"attributes\":{},\"id\":\"f3a8db72-55ea-40a7-a8d5-d4d72ffbc341\",\"type\":\"BasicTicker\"},{\"attributes\":{\"source\":{\"id\":\"3029d9cd-1f23-47a5-a16c-65145c3021e1\",\"type\":\"ColumnDataSource\"}},\"id\":\"ef0bd28c-925f-46ce-b7d8-c9ad862f1a7e\",\"type\":\"CDSView\"},{\"attributes\":{\"label\":{\"value\":\"Thursday\"},\"renderers\":[{\"id\":\"4fef14e2-a9a0-4ede-8bbc-28f2f098ea78\",\"type\":\"GlyphRenderer\"}]},\"id\":\"bc8022b8-38db-4602-899f-ec13a9208e7e\",\"type\":\"LegendItem\"},{\"attributes\":{\"line_color\":\"#33a02c\",\"line_width\":2,\"x\":{\"field\":\"x\"},\"y\":{\"field\":\"y\"}},\"id\":\"ca7266ad-222b-4b0e-9d4d-bd3f29c1c059\",\"type\":\"Line\"},{\"attributes\":{},\"id\":\"7015f7e9-a3c7-443a-8c0d-617d8acc7695\",\"type\":\"SaveTool\"},{\"attributes\":{\"line_color\":\"#fb9a99\",\"line_width\":2,\"x\":{\"field\":\"x\"},\"y\":{\"field\":\"y\"}},\"id\":\"67140040-6e5a-4e32-a5dd-fb9a19e9ff64\",\"type\":\"Line\"},{\"attributes\":{\"plot\":null,\"text\":\"\"},\"id\":\"661f6715-51b1-4475-b04a-fa076f5082e6\",\"type\":\"Title\"},{\"attributes\":{\"dimension\":1,\"plot\":{\"id\":\"423064ff-02df-444f-ae6b-f0b163e3edd9\",\"subtype\":\"Figure\",\"type\":\"Plot\"},\"ticker\":{\"id\":\"504abd1b-4cbd-428d-817d-0c503bfffe95\",\"type\":\"BasicTicker\"}},\"id\":\"28059e53-f1a2-46fb-b2df-5c36b7151b23\",\"type\":\"Grid\"},{\"attributes\":{\"label\":{\"value\":\"Wednesday\"},\"renderers\":[{\"id\":\"d58af903-a664-47db-bf6d-22f59a466a7e\",\"type\":\"GlyphRenderer\"}]},\"id\":\"5add75dd-fe5b-4048-ac8c-246a2091a61d\",\"type\":\"LegendItem\"},{\"attributes\":{\"data_source\":{\"id\":\"70a6fd71-341f-498d-9e87-656ee09bd866\",\"type\":\"ColumnDataSource\"},\"glyph\":{\"id\":\"67140040-6e5a-4e32-a5dd-fb9a19e9ff64\",\"type\":\"Line\"},\"hover_glyph\":null,\"muted_glyph\":null,\"nonselection_glyph\":{\"id\":\"6956c9ec-869e-4567-837c-74e2fdf3185d\",\"type\":\"Line\"},\"selection_glyph\":null,\"view\":{\"id\":\"259a5086-3394-4882-9c45-8a1d470d46d9\",\"type\":\"CDSView\"}},\"id\":\"203de9c0-6ddc-4c75-8d6a-1dddb91dedad\",\"type\":\"GlyphRenderer\"},{\"attributes\":{\"data_source\":{\"id\":\"a6048f81-d0b2-4041-82c6-d31a6b155d41\",\"type\":\"ColumnDataSource\"},\"glyph\":{\"id\":\"0489da4e-5adb-4f07-8137-a6440fce2e5c\",\"type\":\"Line\"},\"hover_glyph\":null,\"muted_glyph\":null,\"nonselection_glyph\":{\"id\":\"07d74f38-3d3f-4d86-8018-85689b36a80d\",\"type\":\"Line\"},\"selection_glyph\":null,\"view\":{\"id\":\"8b85bf0b-23a8-430a-9265-8b8b966d3952\",\"type\":\"CDSView\"}},\"id\":\"5118bf8b-edfc-4801-aa87-fbaa685f74ad\",\"type\":\"GlyphRenderer\"},{\"attributes\":{\"callback\":null,\"column_names\":[\"x\",\"y\"],\"data\":{\"x\":[0,1,2,3,4,5,6,7,8,9,10,11,12,13,14,15,16,17,18,19,20,21,22,23],\"y\":[80,50,48,36,18,27,30,56,91,154,115,114,165,128,130,165,148,143,154,164,159,149,124,126]}},\"id\":\"70a6fd71-341f-498d-9e87-656ee09bd866\",\"type\":\"ColumnDataSource\"},{\"attributes\":{\"bottom_units\":\"screen\",\"fill_alpha\":{\"value\":0.5},\"fill_color\":{\"value\":\"lightgrey\"},\"left_units\":\"screen\",\"level\":\"overlay\",\"line_alpha\":{\"value\":1.0},\"line_color\":{\"value\":\"black\"},\"line_dash\":[4,4],\"line_width\":{\"value\":2},\"plot\":null,\"render_mode\":\"css\",\"right_units\":\"screen\",\"top_units\":\"screen\"},\"id\":\"ad33b0bb-af55-4259-ad32-cc40045e154e\",\"type\":\"BoxAnnotation\"},{\"attributes\":{\"source\":{\"id\":\"ea69340f-ed98-48e6-8135-664fb635f0db\",\"type\":\"ColumnDataSource\"}},\"id\":\"4789ab8e-68d2-42d8-aa84-116e941cb1f3\",\"type\":\"CDSView\"},{\"attributes\":{},\"id\":\"f2f150d8-beb8-453a-83ed-bd0831a292c1\",\"type\":\"WheelZoomTool\"},{\"attributes\":{\"source\":{\"id\":\"d12f97ef-1fcb-4db7-8011-be9032fc0acf\",\"type\":\"ColumnDataSource\"}},\"id\":\"108c6520-1ffa-42eb-86d7-bb9af70e19c4\",\"type\":\"CDSView\"},{\"attributes\":{\"callback\":null,\"column_names\":[\"x\",\"y\"],\"data\":{\"x\":[0,1,2,3,4,5,6,7,8,9,10,11,12,13,14,15,16,17,18,19,20,21,22,23],\"y\":[90,39,33,33,22,30,48,71,85,111,122,114,134,139,95,132,134,109,117,145,109,102,96,59]}},\"id\":\"ccc8f6fa-550c-4060-941c-1569899a65ef\",\"type\":\"ColumnDataSource\"},{\"attributes\":{\"label\":{\"value\":\"Sunday\"},\"renderers\":[{\"id\":\"b6672b3a-248a-4ccc-b754-4b6e40de0a08\",\"type\":\"GlyphRenderer\"}]},\"id\":\"1b72436e-123d-4f22-822c-8ce02fb44682\",\"type\":\"LegendItem\"},{\"attributes\":{\"callback\":null,\"column_names\":[\"x\",\"y\"],\"data\":{\"x\":[0,1,2,3,4,5,6,7,8,9,10,11,12,13,14,15,16,17,18,19,20,21,22,23],\"y\":[122,82,108,67,41,35,39,52,58,81,110,102,112,102,108,137,109,109,135,154,146,127,153,123]}},\"id\":\"e34194f7-509a-409d-924d-b391d32b06c6\",\"type\":\"ColumnDataSource\"},{\"attributes\":{\"callback\":null,\"column_names\":[\"x\",\"y\"],\"data\":{\"x\":[0,1,2,3,4,5,6,7,8,9,10,11,12,13,14,15,16,17,18,19,20,21,22,23],\"y\":[150,106,98,82,55,50,32,33,60,114,80,101,121,83,102,101,101,98,105,115,138,111,99,72]}},\"id\":\"ea69340f-ed98-48e6-8135-664fb635f0db\",\"type\":\"ColumnDataSource\"},{\"attributes\":{\"data_source\":{\"id\":\"ea69340f-ed98-48e6-8135-664fb635f0db\",\"type\":\"ColumnDataSource\"},\"glyph\":{\"id\":\"bc6ac308-2863-4f4b-b3c2-44a90615a00a\",\"type\":\"Line\"},\"hover_glyph\":null,\"muted_glyph\":null,\"nonselection_glyph\":{\"id\":\"789f6107-b389-4a4e-b69c-253ebc199098\",\"type\":\"Line\"},\"selection_glyph\":null,\"view\":{\"id\":\"4789ab8e-68d2-42d8-aa84-116e941cb1f3\",\"type\":\"CDSView\"}},\"id\":\"b6672b3a-248a-4ccc-b754-4b6e40de0a08\",\"type\":\"GlyphRenderer\"},{\"attributes\":{\"line_alpha\":0.1,\"line_color\":\"#1f77b4\",\"line_width\":2,\"x\":{\"field\":\"x\"},\"y\":{\"field\":\"y\"}},\"id\":\"994cb547-70ba-4107-a95e-fb996c43ed91\",\"type\":\"Line\"},{\"attributes\":{\"formatter\":{\"id\":\"1312e983-48f3-4eaa-8add-cbb1805cac74\",\"type\":\"BasicTickFormatter\"},\"plot\":{\"id\":\"423064ff-02df-444f-ae6b-f0b163e3edd9\",\"subtype\":\"Figure\",\"type\":\"Plot\"},\"ticker\":{\"id\":\"f3a8db72-55ea-40a7-a8d5-d4d72ffbc341\",\"type\":\"BasicTicker\"}},\"id\":\"e0257e0a-8c1d-479a-8a5e-ebdfb6e67e11\",\"type\":\"LinearAxis\"},{\"attributes\":{\"line_alpha\":0.1,\"line_color\":\"#1f77b4\",\"line_width\":2,\"x\":{\"field\":\"x\"},\"y\":{\"field\":\"y\"}},\"id\":\"50f7e121-820e-4587-99ea-d6644e04abe0\",\"type\":\"Line\"},{\"attributes\":{\"source\":{\"id\":\"70a6fd71-341f-498d-9e87-656ee09bd866\",\"type\":\"ColumnDataSource\"}},\"id\":\"259a5086-3394-4882-9c45-8a1d470d46d9\",\"type\":\"CDSView\"},{\"attributes\":{},\"id\":\"9cd7bee6-8ab5-499c-90ed-ee68a3999412\",\"type\":\"HelpTool\"},{\"attributes\":{\"line_color\":\"#b2df8a\",\"line_width\":2,\"x\":{\"field\":\"x\"},\"y\":{\"field\":\"y\"}},\"id\":\"b7a34cf0-2a28-454c-b40a-ee84c5c13bb1\",\"type\":\"Line\"},{\"attributes\":{\"source\":{\"id\":\"a6048f81-d0b2-4041-82c6-d31a6b155d41\",\"type\":\"ColumnDataSource\"}},\"id\":\"8b85bf0b-23a8-430a-9265-8b8b966d3952\",\"type\":\"CDSView\"},{\"attributes\":{\"plot\":{\"id\":\"423064ff-02df-444f-ae6b-f0b163e3edd9\",\"subtype\":\"Figure\",\"type\":\"Plot\"},\"ticker\":{\"id\":\"f3a8db72-55ea-40a7-a8d5-d4d72ffbc341\",\"type\":\"BasicTicker\"}},\"id\":\"1d5b1c3b-154f-44b3-8bee-36134811b9b8\",\"type\":\"Grid\"},{\"attributes\":{\"source\":{\"id\":\"e34194f7-509a-409d-924d-b391d32b06c6\",\"type\":\"ColumnDataSource\"}},\"id\":\"3e1c4379-1dea-47b2-a1f9-eb86cd30501e\",\"type\":\"CDSView\"},{\"attributes\":{\"label\":{\"value\":\"Tuesday\"},\"renderers\":[{\"id\":\"5118bf8b-edfc-4801-aa87-fbaa685f74ad\",\"type\":\"GlyphRenderer\"}]},\"id\":\"74d6ce9b-ecff-4c2e-9677-285c68362857\",\"type\":\"LegendItem\"},{\"attributes\":{\"line_alpha\":0.1,\"line_color\":\"#1f77b4\",\"line_width\":2,\"x\":{\"field\":\"x\"},\"y\":{\"field\":\"y\"}},\"id\":\"6956c9ec-869e-4567-837c-74e2fdf3185d\",\"type\":\"Line\"},{\"attributes\":{\"callback\":null},\"id\":\"41ffd727-b625-4e07-998c-a5631a820836\",\"type\":\"DataRange1d\"},{\"attributes\":{},\"id\":\"504abd1b-4cbd-428d-817d-0c503bfffe95\",\"type\":\"BasicTicker\"},{\"attributes\":{\"line_color\":\"#e31a1c\",\"line_width\":2,\"x\":{\"field\":\"x\"},\"y\":{\"field\":\"y\"}},\"id\":\"6d9ba1b8-c9d3-4cdd-9cb8-6b2b7700a7ee\",\"type\":\"Line\"}],\"root_ids\":[\"423064ff-02df-444f-ae6b-f0b163e3edd9\"]},\"title\":\"Bokeh Application\",\"version\":\"0.12.13\"}};\n",
       "  var render_items = [{\"docid\":\"b6694d55-f808-4a96-a6b4-fa1694ecd4c7\",\"elementid\":\"67f9fcb7-a9f7-4dcf-be71-120da4ceba34\",\"modelid\":\"423064ff-02df-444f-ae6b-f0b163e3edd9\"}];\n",
       "  root.Bokeh.embed.embed_items_notebook(docs_json, render_items);\n",
       "\n",
       "  }\n",
       "  if (root.Bokeh !== undefined) {\n",
       "    embed_document(root);\n",
       "  } else {\n",
       "    var attempts = 0;\n",
       "    var timer = setInterval(function(root) {\n",
       "      if (root.Bokeh !== undefined) {\n",
       "        embed_document(root);\n",
       "        clearInterval(timer);\n",
       "      }\n",
       "      attempts++;\n",
       "      if (attempts > 100) {\n",
       "        console.log(\"Bokeh: ERROR: Unable to run BokehJS code because BokehJS library is missing\")\n",
       "        clearInterval(timer);\n",
       "      }\n",
       "    }, 10, root)\n",
       "  }\n",
       "})(window);"
      ],
      "application/vnd.bokehjs_exec.v0+json": ""
     },
     "metadata": {
      "application/vnd.bokehjs_exec.v0+json": {
       "id": "423064ff-02df-444f-ae6b-f0b163e3edd9"
      }
     },
     "output_type": "display_data"
    },
    {
     "data": {
      "text/html": [
       "\n",
       "<div class=\"bk-root\">\n",
       "    <div class=\"bk-plotdiv\" id=\"1ba57c1e-9f5e-4014-b506-7c382ea4b0e8\"></div>\n",
       "</div>"
      ]
     },
     "metadata": {},
     "output_type": "display_data"
    },
    {
     "data": {
      "application/javascript": [
       "(function(root) {\n",
       "  function embed_document(root) {\n",
       "    \n",
       "  var docs_json = {\"f3cff29d-b382-405d-9564-e9c1336e9b5a\":{\"roots\":{\"references\":[{\"attributes\":{\"callback\":null,\"column_names\":[\"x\",\"y\"],\"data\":{\"x\":[0,1,2,3,4,5,6,7,8,9,10,11,12,13,14,15,16,17,18,19,20,21,22,23],\"y\":[118,41,44,38,28,23,33,71,103,146,148,131,194,139,132,173,161,155,148,155,148,157,114,84]}},\"id\":\"88cb10da-0803-4d48-917a-9fa75b21a831\",\"type\":\"ColumnDataSource\"},{\"attributes\":{\"source\":{\"id\":\"1d5c5149-3b90-4c2e-9e69-e52d53c489c0\",\"type\":\"ColumnDataSource\"}},\"id\":\"8ce1de97-6cb0-4e47-a5ac-9f76309bcef5\",\"type\":\"CDSView\"},{\"attributes\":{},\"id\":\"f3b1836c-7723-47b1-993f-4cfbdd294f2b\",\"type\":\"PanTool\"},{\"attributes\":{\"below\":[{\"id\":\"d6a4e4a3-70c0-49a1-a63b-082f69599e8d\",\"type\":\"LinearAxis\"}],\"left\":[{\"id\":\"046462f1-452c-4b5f-8041-179419d5fc8a\",\"type\":\"LinearAxis\"}],\"plot_height\":400,\"plot_width\":800,\"renderers\":[{\"id\":\"d6a4e4a3-70c0-49a1-a63b-082f69599e8d\",\"type\":\"LinearAxis\"},{\"id\":\"06dd1294-8bd9-4c0d-a7ad-b0fa7f2cf20b\",\"type\":\"Grid\"},{\"id\":\"046462f1-452c-4b5f-8041-179419d5fc8a\",\"type\":\"LinearAxis\"},{\"id\":\"58f4d250-69b5-4c41-989a-11b8e1a96a2d\",\"type\":\"Grid\"},{\"id\":\"7b9635f3-8009-46e4-be3f-a58cd1085a9d\",\"type\":\"BoxAnnotation\"},{\"id\":\"d750d163-ce38-4d26-899f-162c133922fe\",\"type\":\"Legend\"},{\"id\":\"babfb1df-d6f9-476e-8212-529d0b3cc068\",\"type\":\"GlyphRenderer\"},{\"id\":\"454eae43-af4a-4769-b492-23180c5af5f2\",\"type\":\"GlyphRenderer\"},{\"id\":\"433c123c-28bd-45c0-b612-3b0534a2ec6d\",\"type\":\"GlyphRenderer\"},{\"id\":\"ea811410-79c7-4276-af78-b372c989d905\",\"type\":\"GlyphRenderer\"},{\"id\":\"35a738d5-2f34-4c27-9311-2c501a42174f\",\"type\":\"GlyphRenderer\"},{\"id\":\"cdcbde06-48db-4260-aeb2-dc5de689a3df\",\"type\":\"GlyphRenderer\"},{\"id\":\"6566577b-ccc2-4603-912c-5bffd4787a86\",\"type\":\"GlyphRenderer\"}],\"title\":{\"id\":\"880e201a-ec8f-40a3-81a2-bb4520362764\",\"type\":\"Title\"},\"toolbar\":{\"id\":\"c02624ba-08f8-4f67-9dfc-8a4356b52278\",\"type\":\"Toolbar\"},\"x_range\":{\"id\":\"9574200d-d69f-456b-ac0a-fa3967d7110e\",\"type\":\"DataRange1d\"},\"x_scale\":{\"id\":\"d1645889-7be1-4f14-81bc-39c36e7c7b85\",\"type\":\"LinearScale\"},\"y_range\":{\"id\":\"1b67c7be-1500-461b-b47a-99a2ac2a574b\",\"type\":\"DataRange1d\"},\"y_scale\":{\"id\":\"aaa8de4f-3bf5-4c57-9a83-d96e98fed255\",\"type\":\"LinearScale\"}},\"id\":\"22efa564-a3d7-4600-bab3-8faf48314a81\",\"subtype\":\"Figure\",\"type\":\"Plot\"},{\"attributes\":{\"line_alpha\":0.1,\"line_color\":\"#1f77b4\",\"line_width\":2,\"x\":{\"field\":\"x\"},\"y\":{\"field\":\"y\"}},\"id\":\"1f0e2671-f610-4415-b447-6af8cdacc439\",\"type\":\"Line\"},{\"attributes\":{\"callback\":null},\"id\":\"9574200d-d69f-456b-ac0a-fa3967d7110e\",\"type\":\"DataRange1d\"},{\"attributes\":{\"callback\":null,\"column_names\":[\"x\",\"y\"],\"data\":{\"x\":[0,1,2,3,4,5,6,7,8,9,10,11,12,13,14,15,16,17,18,19,20,21,22,23],\"y\":[132,90,61,64,39,34,55,88,126,201,162,163,225,164,158,227,191,174,228,187,204,192,157,123]}},\"id\":\"45fa0c02-749b-475c-a112-a80cc75b749c\",\"type\":\"ColumnDataSource\"},{\"attributes\":{\"line_alpha\":0.1,\"line_color\":\"#1f77b4\",\"line_width\":2,\"x\":{\"field\":\"x\"},\"y\":{\"field\":\"y\"}},\"id\":\"ebf3a869-7eca-4158-83c2-28b991e69834\",\"type\":\"Line\"},{\"attributes\":{\"data_source\":{\"id\":\"45fa0c02-749b-475c-a112-a80cc75b749c\",\"type\":\"ColumnDataSource\"},\"glyph\":{\"id\":\"602a5991-dce3-441c-bd52-82c279447d8d\",\"type\":\"Line\"},\"hover_glyph\":null,\"muted_glyph\":null,\"nonselection_glyph\":{\"id\":\"d096b633-d3b6-49ee-b49f-646d09f3ad8c\",\"type\":\"Line\"},\"selection_glyph\":null,\"view\":{\"id\":\"1903e44f-57b8-451d-90de-645353e1765e\",\"type\":\"CDSView\"}},\"id\":\"babfb1df-d6f9-476e-8212-529d0b3cc068\",\"type\":\"GlyphRenderer\"},{\"attributes\":{\"label\":{\"value\":\"Sunday\"},\"renderers\":[{\"id\":\"6566577b-ccc2-4603-912c-5bffd4787a86\",\"type\":\"GlyphRenderer\"}]},\"id\":\"2acb705b-8762-4954-9bc3-18df8852b9c5\",\"type\":\"LegendItem\"},{\"attributes\":{\"callback\":null,\"column_names\":[\"x\",\"y\"],\"data\":{\"x\":[0,1,2,3,4,5,6,7,8,9,10,11,12,13,14,15,16,17,18,19,20,21,22,23],\"y\":[142,87,97,85,65,53,47,54,61,99,110,120,163,153,137,140,127,141,160,155,146,155,145,127]}},\"id\":\"8c139ce3-dd7b-4d4d-999c-443928292261\",\"type\":\"ColumnDataSource\"},{\"attributes\":{},\"id\":\"8232e930-c89e-4c07-be0f-f429fe98377c\",\"type\":\"SaveTool\"},{\"attributes\":{\"source\":{\"id\":\"45fa0c02-749b-475c-a112-a80cc75b749c\",\"type\":\"ColumnDataSource\"}},\"id\":\"1903e44f-57b8-451d-90de-645353e1765e\",\"type\":\"CDSView\"},{\"attributes\":{\"line_color\":\"#e31a1c\",\"line_width\":2,\"x\":{\"field\":\"x\"},\"y\":{\"field\":\"y\"}},\"id\":\"a01a5f96-a4cd-4e7a-8629-1d863ae16d5c\",\"type\":\"Line\"},{\"attributes\":{\"callback\":null,\"column_names\":[\"x\",\"y\"],\"data\":{\"x\":[0,1,2,3,4,5,6,7,8,9,10,11,12,13,14,15,16,17,18,19,20,21,22,23],\"y\":[91,54,54,39,36,43,36,82,109,124,137,127,172,137,142,185,168,159,155,160,151,135,156,78]}},\"id\":\"9ebf49ca-2c70-413e-9687-01b527801b4c\",\"type\":\"ColumnDataSource\"},{\"attributes\":{},\"id\":\"4c581516-b7a5-4b14-ad03-6b539bccb2c2\",\"type\":\"ResetTool\"},{\"attributes\":{},\"id\":\"670804ad-013f-4cf2-af43-29b9b10062e2\",\"type\":\"BasicTicker\"},{\"attributes\":{\"line_alpha\":0.1,\"line_color\":\"#1f77b4\",\"line_width\":2,\"x\":{\"field\":\"x\"},\"y\":{\"field\":\"y\"}},\"id\":\"6ce23025-e74d-4886-ba01-66336e6861d7\",\"type\":\"Line\"},{\"attributes\":{\"source\":{\"id\":\"8c139ce3-dd7b-4d4d-999c-443928292261\",\"type\":\"ColumnDataSource\"}},\"id\":\"b8d50c24-275d-4651-a434-5e1a0e4e3bdd\",\"type\":\"CDSView\"},{\"attributes\":{\"line_alpha\":0.1,\"line_color\":\"#1f77b4\",\"line_width\":2,\"x\":{\"field\":\"x\"},\"y\":{\"field\":\"y\"}},\"id\":\"d096b633-d3b6-49ee-b49f-646d09f3ad8c\",\"type\":\"Line\"},{\"attributes\":{},\"id\":\"d1645889-7be1-4f14-81bc-39c36e7c7b85\",\"type\":\"LinearScale\"},{\"attributes\":{\"label\":{\"value\":\"Saturday\"},\"renderers\":[{\"id\":\"cdcbde06-48db-4260-aeb2-dc5de689a3df\",\"type\":\"GlyphRenderer\"}]},\"id\":\"32108beb-0b03-43ce-bb92-30f92922a6dc\",\"type\":\"LegendItem\"},{\"attributes\":{\"source\":{\"id\":\"167e7017-79a6-4e15-bf9f-0b75e0f12b87\",\"type\":\"ColumnDataSource\"}},\"id\":\"4ccfe74e-189f-4531-b9c5-8ecff1e9cb41\",\"type\":\"CDSView\"},{\"attributes\":{\"data_source\":{\"id\":\"1d5c5149-3b90-4c2e-9e69-e52d53c489c0\",\"type\":\"ColumnDataSource\"},\"glyph\":{\"id\":\"ffc14ca5-f024-4f37-8be6-0eb4dbd5ae3d\",\"type\":\"Line\"},\"hover_glyph\":null,\"muted_glyph\":null,\"nonselection_glyph\":{\"id\":\"ebf3a869-7eca-4158-83c2-28b991e69834\",\"type\":\"Line\"},\"selection_glyph\":null,\"view\":{\"id\":\"8ce1de97-6cb0-4e47-a5ac-9f76309bcef5\",\"type\":\"CDSView\"}},\"id\":\"35a738d5-2f34-4c27-9311-2c501a42174f\",\"type\":\"GlyphRenderer\"},{\"attributes\":{\"line_color\":\"#33a02c\",\"line_width\":2,\"x\":{\"field\":\"x\"},\"y\":{\"field\":\"y\"}},\"id\":\"3e069c07-063d-46a5-880b-df4b0703be2b\",\"type\":\"Line\"},{\"attributes\":{\"plot\":null,\"text\":\"\"},\"id\":\"880e201a-ec8f-40a3-81a2-bb4520362764\",\"type\":\"Title\"},{\"attributes\":{\"active_drag\":\"auto\",\"active_inspect\":\"auto\",\"active_scroll\":\"auto\",\"active_tap\":\"auto\",\"tools\":[{\"id\":\"f3b1836c-7723-47b1-993f-4cfbdd294f2b\",\"type\":\"PanTool\"},{\"id\":\"12927dce-5283-44a6-975d-cfc8970488dc\",\"type\":\"WheelZoomTool\"},{\"id\":\"2af93ea3-e8d9-4e12-afa9-4af4987279f9\",\"type\":\"BoxZoomTool\"},{\"id\":\"8232e930-c89e-4c07-be0f-f429fe98377c\",\"type\":\"SaveTool\"},{\"id\":\"4c581516-b7a5-4b14-ad03-6b539bccb2c2\",\"type\":\"ResetTool\"},{\"id\":\"8995fcee-25d0-4529-98be-4231de942638\",\"type\":\"HelpTool\"}]},\"id\":\"c02624ba-08f8-4f67-9dfc-8a4356b52278\",\"type\":\"Toolbar\"},{\"attributes\":{\"data_source\":{\"id\":\"d22c771c-2ddf-4b65-b2dc-9adc0a879d32\",\"type\":\"ColumnDataSource\"},\"glyph\":{\"id\":\"ebc127e1-e52b-4c21-8036-03014dd8ba69\",\"type\":\"Line\"},\"hover_glyph\":null,\"muted_glyph\":null,\"nonselection_glyph\":{\"id\":\"1f0e2671-f610-4415-b447-6af8cdacc439\",\"type\":\"Line\"},\"selection_glyph\":null,\"view\":{\"id\":\"6153c5c9-da39-4eac-994f-016361055042\",\"type\":\"CDSView\"}},\"id\":\"6566577b-ccc2-4603-912c-5bffd4787a86\",\"type\":\"GlyphRenderer\"},{\"attributes\":{\"data_source\":{\"id\":\"8c139ce3-dd7b-4d4d-999c-443928292261\",\"type\":\"ColumnDataSource\"},\"glyph\":{\"id\":\"a01a5f96-a4cd-4e7a-8629-1d863ae16d5c\",\"type\":\"Line\"},\"hover_glyph\":null,\"muted_glyph\":null,\"nonselection_glyph\":{\"id\":\"88dc22c8-b67c-446e-b689-fec9a846003d\",\"type\":\"Line\"},\"selection_glyph\":null,\"view\":{\"id\":\"b8d50c24-275d-4651-a434-5e1a0e4e3bdd\",\"type\":\"CDSView\"}},\"id\":\"cdcbde06-48db-4260-aeb2-dc5de689a3df\",\"type\":\"GlyphRenderer\"},{\"attributes\":{\"line_color\":\"#fdbf6f\",\"line_width\":2,\"x\":{\"field\":\"x\"},\"y\":{\"field\":\"y\"}},\"id\":\"ebc127e1-e52b-4c21-8036-03014dd8ba69\",\"type\":\"Line\"},{\"attributes\":{\"items\":[{\"id\":\"1261bc6c-f7d6-4744-8361-b7f6d5a1964b\",\"type\":\"LegendItem\"},{\"id\":\"1b91fc54-e30b-492e-ae7d-14d84c0db769\",\"type\":\"LegendItem\"},{\"id\":\"45473add-66e4-48ca-86b2-fb8074e5b2a4\",\"type\":\"LegendItem\"},{\"id\":\"13a9c9b2-6d47-4603-892a-32569ec4b4c4\",\"type\":\"LegendItem\"},{\"id\":\"0ca3eb48-e5e5-4e88-aa92-bb9e96bbefde\",\"type\":\"LegendItem\"},{\"id\":\"32108beb-0b03-43ce-bb92-30f92922a6dc\",\"type\":\"LegendItem\"},{\"id\":\"2acb705b-8762-4954-9bc3-18df8852b9c5\",\"type\":\"LegendItem\"}],\"plot\":{\"id\":\"22efa564-a3d7-4600-bab3-8faf48314a81\",\"subtype\":\"Figure\",\"type\":\"Plot\"}},\"id\":\"d750d163-ce38-4d26-899f-162c133922fe\",\"type\":\"Legend\"},{\"attributes\":{\"label\":{\"value\":\"Tuesday\"},\"renderers\":[{\"id\":\"454eae43-af4a-4769-b492-23180c5af5f2\",\"type\":\"GlyphRenderer\"}]},\"id\":\"1b91fc54-e30b-492e-ae7d-14d84c0db769\",\"type\":\"LegendItem\"},{\"attributes\":{\"source\":{\"id\":\"9ebf49ca-2c70-413e-9687-01b527801b4c\",\"type\":\"ColumnDataSource\"}},\"id\":\"0433e1f1-3a18-4fe8-a439-e8d93f60359f\",\"type\":\"CDSView\"},{\"attributes\":{\"callback\":null,\"column_names\":[\"x\",\"y\"],\"data\":{\"x\":[0,1,2,3,4,5,6,7,8,9,10,11,12,13,14,15,16,17,18,19,20,21,22,23],\"y\":[88,75,79,45,33,25,50,78,112,173,111,140,179,148,152,172,162,157,194,165,174,166,156,141]}},\"id\":\"1d5c5149-3b90-4c2e-9e69-e52d53c489c0\",\"type\":\"ColumnDataSource\"},{\"attributes\":{\"overlay\":{\"id\":\"7b9635f3-8009-46e4-be3f-a58cd1085a9d\",\"type\":\"BoxAnnotation\"}},\"id\":\"2af93ea3-e8d9-4e12-afa9-4af4987279f9\",\"type\":\"BoxZoomTool\"},{\"attributes\":{\"source\":{\"id\":\"88cb10da-0803-4d48-917a-9fa75b21a831\",\"type\":\"ColumnDataSource\"}},\"id\":\"9cf0cf87-97d8-4ade-9a25-2a879bfac7d4\",\"type\":\"CDSView\"},{\"attributes\":{\"data_source\":{\"id\":\"88cb10da-0803-4d48-917a-9fa75b21a831\",\"type\":\"ColumnDataSource\"},\"glyph\":{\"id\":\"bde75b69-10a6-4b8b-95b2-dc6b5e610475\",\"type\":\"Line\"},\"hover_glyph\":null,\"muted_glyph\":null,\"nonselection_glyph\":{\"id\":\"2d50e622-5394-4f99-a027-4c47fac2bfd6\",\"type\":\"Line\"},\"selection_glyph\":null,\"view\":{\"id\":\"9cf0cf87-97d8-4ade-9a25-2a879bfac7d4\",\"type\":\"CDSView\"}},\"id\":\"433c123c-28bd-45c0-b612-3b0534a2ec6d\",\"type\":\"GlyphRenderer\"},{\"attributes\":{\"formatter\":{\"id\":\"a9c596f3-133b-4bcf-b5a6-511f73148370\",\"type\":\"BasicTickFormatter\"},\"plot\":{\"id\":\"22efa564-a3d7-4600-bab3-8faf48314a81\",\"subtype\":\"Figure\",\"type\":\"Plot\"},\"ticker\":{\"id\":\"caa82fbf-af9c-4095-864b-ad7736e9d646\",\"type\":\"BasicTicker\"}},\"id\":\"d6a4e4a3-70c0-49a1-a63b-082f69599e8d\",\"type\":\"LinearAxis\"},{\"attributes\":{\"data_source\":{\"id\":\"9ebf49ca-2c70-413e-9687-01b527801b4c\",\"type\":\"ColumnDataSource\"},\"glyph\":{\"id\":\"3e069c07-063d-46a5-880b-df4b0703be2b\",\"type\":\"Line\"},\"hover_glyph\":null,\"muted_glyph\":null,\"nonselection_glyph\":{\"id\":\"c4c85a37-da77-4d00-a1ce-4176c116bf18\",\"type\":\"Line\"},\"selection_glyph\":null,\"view\":{\"id\":\"0433e1f1-3a18-4fe8-a439-e8d93f60359f\",\"type\":\"CDSView\"}},\"id\":\"ea811410-79c7-4276-af78-b372c989d905\",\"type\":\"GlyphRenderer\"},{\"attributes\":{\"dimension\":1,\"plot\":{\"id\":\"22efa564-a3d7-4600-bab3-8faf48314a81\",\"subtype\":\"Figure\",\"type\":\"Plot\"},\"ticker\":{\"id\":\"670804ad-013f-4cf2-af43-29b9b10062e2\",\"type\":\"BasicTicker\"}},\"id\":\"58f4d250-69b5-4c41-989a-11b8e1a96a2d\",\"type\":\"Grid\"},{\"attributes\":{\"callback\":null,\"column_names\":[\"x\",\"y\"],\"data\":{\"x\":[0,1,2,3,4,5,6,7,8,9,10,11,12,13,14,15,16,17,18,19,20,21,22,23],\"y\":[112,65,37,45,36,40,56,81,131,171,152,200,217,151,194,193,193,184,203,208,187,202,173,139]}},\"id\":\"167e7017-79a6-4e15-bf9f-0b75e0f12b87\",\"type\":\"ColumnDataSource\"},{\"attributes\":{\"line_color\":\"#a6cee3\",\"line_width\":2,\"x\":{\"field\":\"x\"},\"y\":{\"field\":\"y\"}},\"id\":\"602a5991-dce3-441c-bd52-82c279447d8d\",\"type\":\"Line\"},{\"attributes\":{\"data_source\":{\"id\":\"167e7017-79a6-4e15-bf9f-0b75e0f12b87\",\"type\":\"ColumnDataSource\"},\"glyph\":{\"id\":\"7f780e0e-4f4f-40df-9221-e8ae72ece229\",\"type\":\"Line\"},\"hover_glyph\":null,\"muted_glyph\":null,\"nonselection_glyph\":{\"id\":\"6ce23025-e74d-4886-ba01-66336e6861d7\",\"type\":\"Line\"},\"selection_glyph\":null,\"view\":{\"id\":\"4ccfe74e-189f-4531-b9c5-8ecff1e9cb41\",\"type\":\"CDSView\"}},\"id\":\"454eae43-af4a-4769-b492-23180c5af5f2\",\"type\":\"GlyphRenderer\"},{\"attributes\":{\"plot\":{\"id\":\"22efa564-a3d7-4600-bab3-8faf48314a81\",\"subtype\":\"Figure\",\"type\":\"Plot\"},\"ticker\":{\"id\":\"caa82fbf-af9c-4095-864b-ad7736e9d646\",\"type\":\"BasicTicker\"}},\"id\":\"06dd1294-8bd9-4c0d-a7ad-b0fa7f2cf20b\",\"type\":\"Grid\"},{\"attributes\":{\"formatter\":{\"id\":\"1a1d27b2-cd99-40fd-8dc7-27844d1ac98a\",\"type\":\"BasicTickFormatter\"},\"plot\":{\"id\":\"22efa564-a3d7-4600-bab3-8faf48314a81\",\"subtype\":\"Figure\",\"type\":\"Plot\"},\"ticker\":{\"id\":\"670804ad-013f-4cf2-af43-29b9b10062e2\",\"type\":\"BasicTicker\"}},\"id\":\"046462f1-452c-4b5f-8041-179419d5fc8a\",\"type\":\"LinearAxis\"},{\"attributes\":{\"bottom_units\":\"screen\",\"fill_alpha\":{\"value\":0.5},\"fill_color\":{\"value\":\"lightgrey\"},\"left_units\":\"screen\",\"level\":\"overlay\",\"line_alpha\":{\"value\":1.0},\"line_color\":{\"value\":\"black\"},\"line_dash\":[4,4],\"line_width\":{\"value\":2},\"plot\":null,\"render_mode\":\"css\",\"right_units\":\"screen\",\"top_units\":\"screen\"},\"id\":\"7b9635f3-8009-46e4-be3f-a58cd1085a9d\",\"type\":\"BoxAnnotation\"},{\"attributes\":{\"line_alpha\":0.1,\"line_color\":\"#1f77b4\",\"line_width\":2,\"x\":{\"field\":\"x\"},\"y\":{\"field\":\"y\"}},\"id\":\"c4c85a37-da77-4d00-a1ce-4176c116bf18\",\"type\":\"Line\"},{\"attributes\":{\"line_alpha\":0.1,\"line_color\":\"#1f77b4\",\"line_width\":2,\"x\":{\"field\":\"x\"},\"y\":{\"field\":\"y\"}},\"id\":\"88dc22c8-b67c-446e-b689-fec9a846003d\",\"type\":\"Line\"},{\"attributes\":{\"callback\":null},\"id\":\"1b67c7be-1500-461b-b47a-99a2ac2a574b\",\"type\":\"DataRange1d\"},{\"attributes\":{\"line_color\":\"#1f78b4\",\"line_width\":2,\"x\":{\"field\":\"x\"},\"y\":{\"field\":\"y\"}},\"id\":\"7f780e0e-4f4f-40df-9221-e8ae72ece229\",\"type\":\"Line\"},{\"attributes\":{\"line_color\":\"#b2df8a\",\"line_width\":2,\"x\":{\"field\":\"x\"},\"y\":{\"field\":\"y\"}},\"id\":\"bde75b69-10a6-4b8b-95b2-dc6b5e610475\",\"type\":\"Line\"},{\"attributes\":{\"line_color\":\"#fb9a99\",\"line_width\":2,\"x\":{\"field\":\"x\"},\"y\":{\"field\":\"y\"}},\"id\":\"ffc14ca5-f024-4f37-8be6-0eb4dbd5ae3d\",\"type\":\"Line\"},{\"attributes\":{\"label\":{\"value\":\"Wednesday\"},\"renderers\":[{\"id\":\"433c123c-28bd-45c0-b612-3b0534a2ec6d\",\"type\":\"GlyphRenderer\"}]},\"id\":\"45473add-66e4-48ca-86b2-fb8074e5b2a4\",\"type\":\"LegendItem\"},{\"attributes\":{},\"id\":\"1a1d27b2-cd99-40fd-8dc7-27844d1ac98a\",\"type\":\"BasicTickFormatter\"},{\"attributes\":{\"source\":{\"id\":\"d22c771c-2ddf-4b65-b2dc-9adc0a879d32\",\"type\":\"ColumnDataSource\"}},\"id\":\"6153c5c9-da39-4eac-994f-016361055042\",\"type\":\"CDSView\"},{\"attributes\":{},\"id\":\"12927dce-5283-44a6-975d-cfc8970488dc\",\"type\":\"WheelZoomTool\"},{\"attributes\":{},\"id\":\"8995fcee-25d0-4529-98be-4231de942638\",\"type\":\"HelpTool\"},{\"attributes\":{},\"id\":\"a9c596f3-133b-4bcf-b5a6-511f73148370\",\"type\":\"BasicTickFormatter\"},{\"attributes\":{},\"id\":\"caa82fbf-af9c-4095-864b-ad7736e9d646\",\"type\":\"BasicTicker\"},{\"attributes\":{\"line_alpha\":0.1,\"line_color\":\"#1f77b4\",\"line_width\":2,\"x\":{\"field\":\"x\"},\"y\":{\"field\":\"y\"}},\"id\":\"2d50e622-5394-4f99-a027-4c47fac2bfd6\",\"type\":\"Line\"},{\"attributes\":{\"label\":{\"value\":\"Friday\"},\"renderers\":[{\"id\":\"35a738d5-2f34-4c27-9311-2c501a42174f\",\"type\":\"GlyphRenderer\"}]},\"id\":\"0ca3eb48-e5e5-4e88-aa92-bb9e96bbefde\",\"type\":\"LegendItem\"},{\"attributes\":{\"label\":{\"value\":\"Monday\"},\"renderers\":[{\"id\":\"babfb1df-d6f9-476e-8212-529d0b3cc068\",\"type\":\"GlyphRenderer\"}]},\"id\":\"1261bc6c-f7d6-4744-8361-b7f6d5a1964b\",\"type\":\"LegendItem\"},{\"attributes\":{\"callback\":null,\"column_names\":[\"x\",\"y\"],\"data\":{\"x\":[0,1,2,3,4,5,6,7,8,9,10,11,12,13,14,15,16,17,18,19,20,21,22,23],\"y\":[202,119,131,109,88,60,48,54,71,135,119,123,201,141,129,176,135,176,203,216,204,173,172,112]}},\"id\":\"d22c771c-2ddf-4b65-b2dc-9adc0a879d32\",\"type\":\"ColumnDataSource\"},{\"attributes\":{\"label\":{\"value\":\"Thursday\"},\"renderers\":[{\"id\":\"ea811410-79c7-4276-af78-b372c989d905\",\"type\":\"GlyphRenderer\"}]},\"id\":\"13a9c9b2-6d47-4603-892a-32569ec4b4c4\",\"type\":\"LegendItem\"},{\"attributes\":{},\"id\":\"aaa8de4f-3bf5-4c57-9a83-d96e98fed255\",\"type\":\"LinearScale\"}],\"root_ids\":[\"22efa564-a3d7-4600-bab3-8faf48314a81\"]},\"title\":\"Bokeh Application\",\"version\":\"0.12.13\"}};\n",
       "  var render_items = [{\"docid\":\"f3cff29d-b382-405d-9564-e9c1336e9b5a\",\"elementid\":\"1ba57c1e-9f5e-4014-b506-7c382ea4b0e8\",\"modelid\":\"22efa564-a3d7-4600-bab3-8faf48314a81\"}];\n",
       "  root.Bokeh.embed.embed_items_notebook(docs_json, render_items);\n",
       "\n",
       "  }\n",
       "  if (root.Bokeh !== undefined) {\n",
       "    embed_document(root);\n",
       "  } else {\n",
       "    var attempts = 0;\n",
       "    var timer = setInterval(function(root) {\n",
       "      if (root.Bokeh !== undefined) {\n",
       "        embed_document(root);\n",
       "        clearInterval(timer);\n",
       "      }\n",
       "      attempts++;\n",
       "      if (attempts > 100) {\n",
       "        console.log(\"Bokeh: ERROR: Unable to run BokehJS code because BokehJS library is missing\")\n",
       "        clearInterval(timer);\n",
       "      }\n",
       "    }, 10, root)\n",
       "  }\n",
       "})(window);"
      ],
      "application/vnd.bokehjs_exec.v0+json": ""
     },
     "metadata": {
      "application/vnd.bokehjs_exec.v0+json": {
       "id": "22efa564-a3d7-4600-bab3-8faf48314a81"
      }
     },
     "output_type": "display_data"
    },
    {
     "data": {
      "text/html": [
       "\n",
       "<div class=\"bk-root\">\n",
       "    <div class=\"bk-plotdiv\" id=\"db0f7eb8-d021-4849-b660-81deb67930e1\"></div>\n",
       "</div>"
      ]
     },
     "metadata": {},
     "output_type": "display_data"
    },
    {
     "data": {
      "application/javascript": [
       "(function(root) {\n",
       "  function embed_document(root) {\n",
       "    \n",
       "  var docs_json = {\"da0dbdf3-d11d-4b94-897d-de93c7347ca3\":{\"roots\":{\"references\":[{\"attributes\":{\"source\":{\"id\":\"852d3d7a-ef7b-4b24-a776-b7fa99e97a94\",\"type\":\"ColumnDataSource\"}},\"id\":\"6508e38e-31d3-4ba0-b5be-e4d9d1cd1c5d\",\"type\":\"CDSView\"},{\"attributes\":{},\"id\":\"67a3e2c2-a12b-498f-872f-e2f850024b1f\",\"type\":\"HelpTool\"},{\"attributes\":{},\"id\":\"db591c21-4785-4132-ba42-52a11ef0c9ce\",\"type\":\"LinearScale\"},{\"attributes\":{},\"id\":\"100bd21e-765a-4a7f-957f-dc354155f0cc\",\"type\":\"BasicTicker\"},{\"attributes\":{\"line_color\":\"#1f78b4\",\"line_width\":2,\"x\":{\"field\":\"x\"},\"y\":{\"field\":\"y\"}},\"id\":\"6d910526-65c0-45da-b52c-20d5ef40e864\",\"type\":\"Line\"},{\"attributes\":{\"data_source\":{\"id\":\"e00828ac-579d-4091-88d0-e335d2289ee7\",\"type\":\"ColumnDataSource\"},\"glyph\":{\"id\":\"f823557a-9cb2-4363-a514-3daee1fe9e41\",\"type\":\"Line\"},\"hover_glyph\":null,\"muted_glyph\":null,\"nonselection_glyph\":{\"id\":\"9cbc29ce-b5ed-4e43-8b01-966b1ff96b4f\",\"type\":\"Line\"},\"selection_glyph\":null,\"view\":{\"id\":\"9f5deddd-657a-4886-8e15-ee1f36f7f987\",\"type\":\"CDSView\"}},\"id\":\"f812da3b-bf76-4983-a3dc-7212ae856bcf\",\"type\":\"GlyphRenderer\"},{\"attributes\":{\"formatter\":{\"id\":\"64a98cb5-2bba-4157-847c-4a00266b0923\",\"type\":\"BasicTickFormatter\"},\"plot\":{\"id\":\"4a2fcddb-67e5-47b3-b1ad-8d1f00021002\",\"subtype\":\"Figure\",\"type\":\"Plot\"},\"ticker\":{\"id\":\"100bd21e-765a-4a7f-957f-dc354155f0cc\",\"type\":\"BasicTicker\"}},\"id\":\"ee6895d7-b8fa-4703-abb2-aebc0f4c2ac9\",\"type\":\"LinearAxis\"},{\"attributes\":{\"items\":[{\"id\":\"7c5ffd34-e8c6-4ff8-91c9-3e80a1489894\",\"type\":\"LegendItem\"},{\"id\":\"c5983906-d93b-4f91-8232-ca7e0e0b5897\",\"type\":\"LegendItem\"},{\"id\":\"4620d842-7d2a-4a0d-ac73-5e12340a4f35\",\"type\":\"LegendItem\"},{\"id\":\"9d1134b0-607e-4314-a8a6-e4500ff4ae9f\",\"type\":\"LegendItem\"},{\"id\":\"ac1704bd-b81b-418f-b974-7be7221a167b\",\"type\":\"LegendItem\"},{\"id\":\"3999fc6a-6cb7-4027-a4a4-4f5210f3b260\",\"type\":\"LegendItem\"},{\"id\":\"0a25b2d3-e502-4b05-b5df-963ceb96268d\",\"type\":\"LegendItem\"}],\"plot\":{\"id\":\"4a2fcddb-67e5-47b3-b1ad-8d1f00021002\",\"subtype\":\"Figure\",\"type\":\"Plot\"}},\"id\":\"9dcb7b60-e373-42af-8ad4-445fa8b3c35e\",\"type\":\"Legend\"},{\"attributes\":{\"callback\":null,\"column_names\":[\"x\",\"y\"],\"data\":{\"x\":[0,1,2,3,4,5,6,7,8,9,10,11,12,13,14,15,16,17,18,19,20,21,22,23],\"y\":[112,65,64,50,29,32,36,85,98,135,123,154,185,158,141,187,153,148,194,175,157,133,139,104]}},\"id\":\"4bba41bc-54d8-4994-9b0f-ba9f72e2d6c3\",\"type\":\"ColumnDataSource\"},{\"attributes\":{\"below\":[{\"id\":\"ee6895d7-b8fa-4703-abb2-aebc0f4c2ac9\",\"type\":\"LinearAxis\"}],\"left\":[{\"id\":\"e68fbc9b-eb73-4b3a-8bab-5d9ab59d6b05\",\"type\":\"LinearAxis\"}],\"plot_height\":400,\"plot_width\":800,\"renderers\":[{\"id\":\"ee6895d7-b8fa-4703-abb2-aebc0f4c2ac9\",\"type\":\"LinearAxis\"},{\"id\":\"69efdd65-50d6-4eba-8d3c-4a9c7248568c\",\"type\":\"Grid\"},{\"id\":\"e68fbc9b-eb73-4b3a-8bab-5d9ab59d6b05\",\"type\":\"LinearAxis\"},{\"id\":\"405ec2b1-6da9-4c68-a239-8e71e9966018\",\"type\":\"Grid\"},{\"id\":\"fb140b65-f15a-41c5-bf2e-c187aefd2d90\",\"type\":\"BoxAnnotation\"},{\"id\":\"9dcb7b60-e373-42af-8ad4-445fa8b3c35e\",\"type\":\"Legend\"},{\"id\":\"2b800d8f-1a1f-4a71-adc9-64627d6e1f85\",\"type\":\"GlyphRenderer\"},{\"id\":\"d64c3772-ad8c-4074-bb51-014c6d43960a\",\"type\":\"GlyphRenderer\"},{\"id\":\"f812da3b-bf76-4983-a3dc-7212ae856bcf\",\"type\":\"GlyphRenderer\"},{\"id\":\"89fc2bc6-6721-4b94-aaab-170fe0a46eef\",\"type\":\"GlyphRenderer\"},{\"id\":\"0deb9d2f-6003-4ee9-b117-82a40a812db4\",\"type\":\"GlyphRenderer\"},{\"id\":\"9c1346b2-137c-4b31-bd15-2508edda0c11\",\"type\":\"GlyphRenderer\"},{\"id\":\"fc17dd8c-e7c3-413f-b680-b68ee4382aa6\",\"type\":\"GlyphRenderer\"}],\"title\":{\"id\":\"d77732c7-a263-4196-a521-9f480643ec16\",\"type\":\"Title\"},\"toolbar\":{\"id\":\"064942f1-bd00-4c88-9b5f-173e89d43f19\",\"type\":\"Toolbar\"},\"x_range\":{\"id\":\"77b20e94-bd6a-4046-8d99-23af8077d268\",\"type\":\"DataRange1d\"},\"x_scale\":{\"id\":\"db591c21-4785-4132-ba42-52a11ef0c9ce\",\"type\":\"LinearScale\"},\"y_range\":{\"id\":\"b0b67543-718a-452a-b857-925b08f8dbce\",\"type\":\"DataRange1d\"},\"y_scale\":{\"id\":\"2a017003-09eb-4573-b4cb-67bebdf8273e\",\"type\":\"LinearScale\"}},\"id\":\"4a2fcddb-67e5-47b3-b1ad-8d1f00021002\",\"subtype\":\"Figure\",\"type\":\"Plot\"},{\"attributes\":{\"formatter\":{\"id\":\"f3a9ab55-c83d-44aa-9900-9a1d9e188d3e\",\"type\":\"BasicTickFormatter\"},\"plot\":{\"id\":\"4a2fcddb-67e5-47b3-b1ad-8d1f00021002\",\"subtype\":\"Figure\",\"type\":\"Plot\"},\"ticker\":{\"id\":\"a8db1d99-3354-475c-8e23-f88ee5984e16\",\"type\":\"BasicTicker\"}},\"id\":\"e68fbc9b-eb73-4b3a-8bab-5d9ab59d6b05\",\"type\":\"LinearAxis\"},{\"attributes\":{\"callback\":null,\"column_names\":[\"x\",\"y\"],\"data\":{\"x\":[0,1,2,3,4,5,6,7,8,9,10,11,12,13,14,15,16,17,18,19,20,21,22,23],\"y\":[178,76,71,53,36,62,60,92,129,210,195,181,236,231,206,211,188,195,193,187,217,212,197,147]}},\"id\":\"e00828ac-579d-4091-88d0-e335d2289ee7\",\"type\":\"ColumnDataSource\"},{\"attributes\":{\"label\":{\"value\":\"Tuesday\"},\"renderers\":[{\"id\":\"d64c3772-ad8c-4074-bb51-014c6d43960a\",\"type\":\"GlyphRenderer\"}]},\"id\":\"c5983906-d93b-4f91-8232-ca7e0e0b5897\",\"type\":\"LegendItem\"},{\"attributes\":{\"line_alpha\":0.1,\"line_color\":\"#1f77b4\",\"line_width\":2,\"x\":{\"field\":\"x\"},\"y\":{\"field\":\"y\"}},\"id\":\"8887e810-f7b4-4639-bffa-848eef7f31d3\",\"type\":\"Line\"},{\"attributes\":{\"label\":{\"value\":\"Friday\"},\"renderers\":[{\"id\":\"0deb9d2f-6003-4ee9-b117-82a40a812db4\",\"type\":\"GlyphRenderer\"}]},\"id\":\"ac1704bd-b81b-418f-b974-7be7221a167b\",\"type\":\"LegendItem\"},{\"attributes\":{\"line_alpha\":0.1,\"line_color\":\"#1f77b4\",\"line_width\":2,\"x\":{\"field\":\"x\"},\"y\":{\"field\":\"y\"}},\"id\":\"16081a4b-fc99-4237-bb1c-d34ade5a05fd\",\"type\":\"Line\"},{\"attributes\":{\"callback\":null,\"column_names\":[\"x\",\"y\"],\"data\":{\"x\":[0,1,2,3,4,5,6,7,8,9,10,11,12,13,14,15,16,17,18,19,20,21,22,23],\"y\":[110,82,59,55,33,36,41,68,86,124,134,145,174,136,143,191,167,165,196,175,171,164,165,118]}},\"id\":\"852d3d7a-ef7b-4b24-a776-b7fa99e97a94\",\"type\":\"ColumnDataSource\"},{\"attributes\":{\"line_color\":\"#fdbf6f\",\"line_width\":2,\"x\":{\"field\":\"x\"},\"y\":{\"field\":\"y\"}},\"id\":\"5ccb4341-3527-479f-804e-a2a9d4c5d2a4\",\"type\":\"Line\"},{\"attributes\":{\"line_alpha\":0.1,\"line_color\":\"#1f77b4\",\"line_width\":2,\"x\":{\"field\":\"x\"},\"y\":{\"field\":\"y\"}},\"id\":\"9cbc29ce-b5ed-4e43-8b01-966b1ff96b4f\",\"type\":\"Line\"},{\"attributes\":{\"callback\":null,\"column_names\":[\"x\",\"y\"],\"data\":{\"x\":[0,1,2,3,4,5,6,7,8,9,10,11,12,13,14,15,16,17,18,19,20,21,22,23],\"y\":[153,134,108,91,86,52,58,57,76,88,123,118,143,114,111,127,134,153,147,178,172,137,152,122]}},\"id\":\"49603e7b-18a0-4dcf-ad9d-6da47721ab0b\",\"type\":\"ColumnDataSource\"},{\"attributes\":{\"data_source\":{\"id\":\"49603e7b-18a0-4dcf-ad9d-6da47721ab0b\",\"type\":\"ColumnDataSource\"},\"glyph\":{\"id\":\"5ccb4341-3527-479f-804e-a2a9d4c5d2a4\",\"type\":\"Line\"},\"hover_glyph\":null,\"muted_glyph\":null,\"nonselection_glyph\":{\"id\":\"8887e810-f7b4-4639-bffa-848eef7f31d3\",\"type\":\"Line\"},\"selection_glyph\":null,\"view\":{\"id\":\"d2400457-6985-4240-9bda-613024adc231\",\"type\":\"CDSView\"}},\"id\":\"fc17dd8c-e7c3-413f-b680-b68ee4382aa6\",\"type\":\"GlyphRenderer\"},{\"attributes\":{\"callback\":null},\"id\":\"b0b67543-718a-452a-b857-925b08f8dbce\",\"type\":\"DataRange1d\"},{\"attributes\":{\"bottom_units\":\"screen\",\"fill_alpha\":{\"value\":0.5},\"fill_color\":{\"value\":\"lightgrey\"},\"left_units\":\"screen\",\"level\":\"overlay\",\"line_alpha\":{\"value\":1.0},\"line_color\":{\"value\":\"black\"},\"line_dash\":[4,4],\"line_width\":{\"value\":2},\"plot\":null,\"render_mode\":\"css\",\"right_units\":\"screen\",\"top_units\":\"screen\"},\"id\":\"fb140b65-f15a-41c5-bf2e-c187aefd2d90\",\"type\":\"BoxAnnotation\"},{\"attributes\":{\"source\":{\"id\":\"4bba41bc-54d8-4994-9b0f-ba9f72e2d6c3\",\"type\":\"ColumnDataSource\"}},\"id\":\"10be30cf-9344-412a-b9ab-5f77b1d4ee3c\",\"type\":\"CDSView\"},{\"attributes\":{\"source\":{\"id\":\"91b40cb0-2b16-4cdf-9654-1235e2e208c9\",\"type\":\"ColumnDataSource\"}},\"id\":\"a222170a-71f1-4c7d-b6a1-12509ab4f364\",\"type\":\"CDSView\"},{\"attributes\":{\"dimension\":1,\"plot\":{\"id\":\"4a2fcddb-67e5-47b3-b1ad-8d1f00021002\",\"subtype\":\"Figure\",\"type\":\"Plot\"},\"ticker\":{\"id\":\"a8db1d99-3354-475c-8e23-f88ee5984e16\",\"type\":\"BasicTicker\"}},\"id\":\"405ec2b1-6da9-4c68-a239-8e71e9966018\",\"type\":\"Grid\"},{\"attributes\":{},\"id\":\"2a017003-09eb-4573-b4cb-67bebdf8273e\",\"type\":\"LinearScale\"},{\"attributes\":{\"line_color\":\"#33a02c\",\"line_width\":2,\"x\":{\"field\":\"x\"},\"y\":{\"field\":\"y\"}},\"id\":\"d5967d43-badc-41d6-b8f8-bc291ef336b7\",\"type\":\"Line\"},{\"attributes\":{\"source\":{\"id\":\"49603e7b-18a0-4dcf-ad9d-6da47721ab0b\",\"type\":\"ColumnDataSource\"}},\"id\":\"d2400457-6985-4240-9bda-613024adc231\",\"type\":\"CDSView\"},{\"attributes\":{},\"id\":\"f045f273-f3f1-44f2-9b33-ae99fea3fc41\",\"type\":\"WheelZoomTool\"},{\"attributes\":{\"line_alpha\":0.1,\"line_color\":\"#1f77b4\",\"line_width\":2,\"x\":{\"field\":\"x\"},\"y\":{\"field\":\"y\"}},\"id\":\"0d92bbee-c0ac-4c5c-8046-dd94bd2147a4\",\"type\":\"Line\"},{\"attributes\":{\"overlay\":{\"id\":\"fb140b65-f15a-41c5-bf2e-c187aefd2d90\",\"type\":\"BoxAnnotation\"}},\"id\":\"4ab47cd2-367a-42ff-83c9-7e9e01929c59\",\"type\":\"BoxZoomTool\"},{\"attributes\":{\"line_alpha\":0.1,\"line_color\":\"#1f77b4\",\"line_width\":2,\"x\":{\"field\":\"x\"},\"y\":{\"field\":\"y\"}},\"id\":\"1036efe1-09b3-46ae-89fe-f5b6706e55d4\",\"type\":\"Line\"},{\"attributes\":{\"source\":{\"id\":\"f9ec4f84-aa36-4688-828c-c0d32e9b3611\",\"type\":\"ColumnDataSource\"}},\"id\":\"e687d6ca-2637-4375-9d50-6b2864b811b2\",\"type\":\"CDSView\"},{\"attributes\":{\"callback\":null},\"id\":\"77b20e94-bd6a-4046-8d99-23af8077d268\",\"type\":\"DataRange1d\"},{\"attributes\":{},\"id\":\"a8db1d99-3354-475c-8e23-f88ee5984e16\",\"type\":\"BasicTicker\"},{\"attributes\":{\"line_alpha\":0.1,\"line_color\":\"#1f77b4\",\"line_width\":2,\"x\":{\"field\":\"x\"},\"y\":{\"field\":\"y\"}},\"id\":\"efae6b83-50f4-4e40-b4df-a8e1a4b45663\",\"type\":\"Line\"},{\"attributes\":{\"plot\":{\"id\":\"4a2fcddb-67e5-47b3-b1ad-8d1f00021002\",\"subtype\":\"Figure\",\"type\":\"Plot\"},\"ticker\":{\"id\":\"100bd21e-765a-4a7f-957f-dc354155f0cc\",\"type\":\"BasicTicker\"}},\"id\":\"69efdd65-50d6-4eba-8d3c-4a9c7248568c\",\"type\":\"Grid\"},{\"attributes\":{\"data_source\":{\"id\":\"4bba41bc-54d8-4994-9b0f-ba9f72e2d6c3\",\"type\":\"ColumnDataSource\"},\"glyph\":{\"id\":\"92c3c6dc-070a-429c-b2ad-aa5dcc198d12\",\"type\":\"Line\"},\"hover_glyph\":null,\"muted_glyph\":null,\"nonselection_glyph\":{\"id\":\"1036efe1-09b3-46ae-89fe-f5b6706e55d4\",\"type\":\"Line\"},\"selection_glyph\":null,\"view\":{\"id\":\"10be30cf-9344-412a-b9ab-5f77b1d4ee3c\",\"type\":\"CDSView\"}},\"id\":\"2b800d8f-1a1f-4a71-adc9-64627d6e1f85\",\"type\":\"GlyphRenderer\"},{\"attributes\":{\"label\":{\"value\":\"Sunday\"},\"renderers\":[{\"id\":\"fc17dd8c-e7c3-413f-b680-b68ee4382aa6\",\"type\":\"GlyphRenderer\"}]},\"id\":\"0a25b2d3-e502-4b05-b5df-963ceb96268d\",\"type\":\"LegendItem\"},{\"attributes\":{\"source\":{\"id\":\"3c601108-1384-4490-92fc-aa87e17ac49b\",\"type\":\"ColumnDataSource\"}},\"id\":\"bbc9dc44-95cf-454a-b6b0-1612a1646771\",\"type\":\"CDSView\"},{\"attributes\":{},\"id\":\"22724099-44ca-4253-b9b4-265e3eee5660\",\"type\":\"PanTool\"},{\"attributes\":{\"label\":{\"value\":\"Thursday\"},\"renderers\":[{\"id\":\"89fc2bc6-6721-4b94-aaab-170fe0a46eef\",\"type\":\"GlyphRenderer\"}]},\"id\":\"9d1134b0-607e-4314-a8a6-e4500ff4ae9f\",\"type\":\"LegendItem\"},{\"attributes\":{\"data_source\":{\"id\":\"852d3d7a-ef7b-4b24-a776-b7fa99e97a94\",\"type\":\"ColumnDataSource\"},\"glyph\":{\"id\":\"28f35709-d7f6-430d-8644-0f0eae3c9e24\",\"type\":\"Line\"},\"hover_glyph\":null,\"muted_glyph\":null,\"nonselection_glyph\":{\"id\":\"3b618b41-ad9d-43f2-b5c4-79077d1d74f2\",\"type\":\"Line\"},\"selection_glyph\":null,\"view\":{\"id\":\"6508e38e-31d3-4ba0-b5be-e4d9d1cd1c5d\",\"type\":\"CDSView\"}},\"id\":\"0deb9d2f-6003-4ee9-b117-82a40a812db4\",\"type\":\"GlyphRenderer\"},{\"attributes\":{\"data_source\":{\"id\":\"3c601108-1384-4490-92fc-aa87e17ac49b\",\"type\":\"ColumnDataSource\"},\"glyph\":{\"id\":\"03792887-6e7d-489e-99ac-0ae5d2cd1ad4\",\"type\":\"Line\"},\"hover_glyph\":null,\"muted_glyph\":null,\"nonselection_glyph\":{\"id\":\"0d92bbee-c0ac-4c5c-8046-dd94bd2147a4\",\"type\":\"Line\"},\"selection_glyph\":null,\"view\":{\"id\":\"bbc9dc44-95cf-454a-b6b0-1612a1646771\",\"type\":\"CDSView\"}},\"id\":\"9c1346b2-137c-4b31-bd15-2508edda0c11\",\"type\":\"GlyphRenderer\"},{\"attributes\":{\"active_drag\":\"auto\",\"active_inspect\":\"auto\",\"active_scroll\":\"auto\",\"active_tap\":\"auto\",\"tools\":[{\"id\":\"22724099-44ca-4253-b9b4-265e3eee5660\",\"type\":\"PanTool\"},{\"id\":\"f045f273-f3f1-44f2-9b33-ae99fea3fc41\",\"type\":\"WheelZoomTool\"},{\"id\":\"4ab47cd2-367a-42ff-83c9-7e9e01929c59\",\"type\":\"BoxZoomTool\"},{\"id\":\"33ce228f-f31d-48d6-b8df-2db4eb890b7b\",\"type\":\"SaveTool\"},{\"id\":\"d610f2b7-5c08-4175-afdc-43da2f6202bc\",\"type\":\"ResetTool\"},{\"id\":\"67a3e2c2-a12b-498f-872f-e2f850024b1f\",\"type\":\"HelpTool\"}]},\"id\":\"064942f1-bd00-4c88-9b5f-173e89d43f19\",\"type\":\"Toolbar\"},{\"attributes\":{\"line_alpha\":0.1,\"line_color\":\"#1f77b4\",\"line_width\":2,\"x\":{\"field\":\"x\"},\"y\":{\"field\":\"y\"}},\"id\":\"3b618b41-ad9d-43f2-b5c4-79077d1d74f2\",\"type\":\"Line\"},{\"attributes\":{\"callback\":null,\"column_names\":[\"x\",\"y\"],\"data\":{\"x\":[0,1,2,3,4,5,6,7,8,9,10,11,12,13,14,15,16,17,18,19,20,21,22,23],\"y\":[145,85,58,64,41,44,55,81,124,171,173,164,211,173,187,190,179,213,228,236,198,182,167,122]}},\"id\":\"91b40cb0-2b16-4cdf-9654-1235e2e208c9\",\"type\":\"ColumnDataSource\"},{\"attributes\":{\"line_color\":\"#fb9a99\",\"line_width\":2,\"x\":{\"field\":\"x\"},\"y\":{\"field\":\"y\"}},\"id\":\"28f35709-d7f6-430d-8644-0f0eae3c9e24\",\"type\":\"Line\"},{\"attributes\":{\"plot\":null,\"text\":\"\"},\"id\":\"d77732c7-a263-4196-a521-9f480643ec16\",\"type\":\"Title\"},{\"attributes\":{\"label\":{\"value\":\"Monday\"},\"renderers\":[{\"id\":\"2b800d8f-1a1f-4a71-adc9-64627d6e1f85\",\"type\":\"GlyphRenderer\"}]},\"id\":\"7c5ffd34-e8c6-4ff8-91c9-3e80a1489894\",\"type\":\"LegendItem\"},{\"attributes\":{\"label\":{\"value\":\"Wednesday\"},\"renderers\":[{\"id\":\"f812da3b-bf76-4983-a3dc-7212ae856bcf\",\"type\":\"GlyphRenderer\"}]},\"id\":\"4620d842-7d2a-4a0d-ac73-5e12340a4f35\",\"type\":\"LegendItem\"},{\"attributes\":{\"line_color\":\"#b2df8a\",\"line_width\":2,\"x\":{\"field\":\"x\"},\"y\":{\"field\":\"y\"}},\"id\":\"f823557a-9cb2-4363-a514-3daee1fe9e41\",\"type\":\"Line\"},{\"attributes\":{\"line_color\":\"#e31a1c\",\"line_width\":2,\"x\":{\"field\":\"x\"},\"y\":{\"field\":\"y\"}},\"id\":\"03792887-6e7d-489e-99ac-0ae5d2cd1ad4\",\"type\":\"Line\"},{\"attributes\":{\"label\":{\"value\":\"Saturday\"},\"renderers\":[{\"id\":\"9c1346b2-137c-4b31-bd15-2508edda0c11\",\"type\":\"GlyphRenderer\"}]},\"id\":\"3999fc6a-6cb7-4027-a4a4-4f5210f3b260\",\"type\":\"LegendItem\"},{\"attributes\":{\"data_source\":{\"id\":\"f9ec4f84-aa36-4688-828c-c0d32e9b3611\",\"type\":\"ColumnDataSource\"},\"glyph\":{\"id\":\"6d910526-65c0-45da-b52c-20d5ef40e864\",\"type\":\"Line\"},\"hover_glyph\":null,\"muted_glyph\":null,\"nonselection_glyph\":{\"id\":\"efae6b83-50f4-4e40-b4df-a8e1a4b45663\",\"type\":\"Line\"},\"selection_glyph\":null,\"view\":{\"id\":\"e687d6ca-2637-4375-9d50-6b2864b811b2\",\"type\":\"CDSView\"}},\"id\":\"d64c3772-ad8c-4074-bb51-014c6d43960a\",\"type\":\"GlyphRenderer\"},{\"attributes\":{\"data_source\":{\"id\":\"91b40cb0-2b16-4cdf-9654-1235e2e208c9\",\"type\":\"ColumnDataSource\"},\"glyph\":{\"id\":\"d5967d43-badc-41d6-b8f8-bc291ef336b7\",\"type\":\"Line\"},\"hover_glyph\":null,\"muted_glyph\":null,\"nonselection_glyph\":{\"id\":\"16081a4b-fc99-4237-bb1c-d34ade5a05fd\",\"type\":\"Line\"},\"selection_glyph\":null,\"view\":{\"id\":\"a222170a-71f1-4c7d-b6a1-12509ab4f364\",\"type\":\"CDSView\"}},\"id\":\"89fc2bc6-6721-4b94-aaab-170fe0a46eef\",\"type\":\"GlyphRenderer\"},{\"attributes\":{},\"id\":\"64a98cb5-2bba-4157-847c-4a00266b0923\",\"type\":\"BasicTickFormatter\"},{\"attributes\":{},\"id\":\"f3a9ab55-c83d-44aa-9900-9a1d9e188d3e\",\"type\":\"BasicTickFormatter\"},{\"attributes\":{\"source\":{\"id\":\"e00828ac-579d-4091-88d0-e335d2289ee7\",\"type\":\"ColumnDataSource\"}},\"id\":\"9f5deddd-657a-4886-8e15-ee1f36f7f987\",\"type\":\"CDSView\"},{\"attributes\":{},\"id\":\"33ce228f-f31d-48d6-b8df-2db4eb890b7b\",\"type\":\"SaveTool\"},{\"attributes\":{\"line_color\":\"#a6cee3\",\"line_width\":2,\"x\":{\"field\":\"x\"},\"y\":{\"field\":\"y\"}},\"id\":\"92c3c6dc-070a-429c-b2ad-aa5dcc198d12\",\"type\":\"Line\"},{\"attributes\":{\"callback\":null,\"column_names\":[\"x\",\"y\"],\"data\":{\"x\":[0,1,2,3,4,5,6,7,8,9,10,11,12,13,14,15,16,17,18,19,20,21,22,23],\"y\":[116,65,33,39,35,36,36,72,93,162,116,121,142,142,133,141,159,163,177,179,149,164,151,108]}},\"id\":\"f9ec4f84-aa36-4688-828c-c0d32e9b3611\",\"type\":\"ColumnDataSource\"},{\"attributes\":{\"callback\":null,\"column_names\":[\"x\",\"y\"],\"data\":{\"x\":[0,1,2,3,4,5,6,7,8,9,10,11,12,13,14,15,16,17,18,19,20,21,22,23],\"y\":[127,109,89,88,56,43,41,55,83,113,134,131,164,121,123,130,135,136,187,170,146,157,170,140]}},\"id\":\"3c601108-1384-4490-92fc-aa87e17ac49b\",\"type\":\"ColumnDataSource\"},{\"attributes\":{},\"id\":\"d610f2b7-5c08-4175-afdc-43da2f6202bc\",\"type\":\"ResetTool\"}],\"root_ids\":[\"4a2fcddb-67e5-47b3-b1ad-8d1f00021002\"]},\"title\":\"Bokeh Application\",\"version\":\"0.12.13\"}};\n",
       "  var render_items = [{\"docid\":\"da0dbdf3-d11d-4b94-897d-de93c7347ca3\",\"elementid\":\"db0f7eb8-d021-4849-b660-81deb67930e1\",\"modelid\":\"4a2fcddb-67e5-47b3-b1ad-8d1f00021002\"}];\n",
       "  root.Bokeh.embed.embed_items_notebook(docs_json, render_items);\n",
       "\n",
       "  }\n",
       "  if (root.Bokeh !== undefined) {\n",
       "    embed_document(root);\n",
       "  } else {\n",
       "    var attempts = 0;\n",
       "    var timer = setInterval(function(root) {\n",
       "      if (root.Bokeh !== undefined) {\n",
       "        embed_document(root);\n",
       "        clearInterval(timer);\n",
       "      }\n",
       "      attempts++;\n",
       "      if (attempts > 100) {\n",
       "        console.log(\"Bokeh: ERROR: Unable to run BokehJS code because BokehJS library is missing\")\n",
       "        clearInterval(timer);\n",
       "      }\n",
       "    }, 10, root)\n",
       "  }\n",
       "})(window);"
      ],
      "application/vnd.bokehjs_exec.v0+json": ""
     },
     "metadata": {
      "application/vnd.bokehjs_exec.v0+json": {
       "id": "4a2fcddb-67e5-47b3-b1ad-8d1f00021002"
      }
     },
     "output_type": "display_data"
    },
    {
     "data": {
      "text/html": [
       "\n",
       "<div class=\"bk-root\">\n",
       "    <div class=\"bk-plotdiv\" id=\"2ed119ad-1d1f-42cf-856a-b18c12a00294\"></div>\n",
       "</div>"
      ]
     },
     "metadata": {},
     "output_type": "display_data"
    },
    {
     "data": {
      "application/javascript": [
       "(function(root) {\n",
       "  function embed_document(root) {\n",
       "    \n",
       "  var docs_json = {\"a39432c6-6387-4150-b930-05b51b0bb58c\":{\"roots\":{\"references\":[{\"attributes\":{\"active_drag\":\"auto\",\"active_inspect\":\"auto\",\"active_scroll\":\"auto\",\"active_tap\":\"auto\",\"tools\":[{\"id\":\"bd49c849-8b5f-4aa5-b6e4-6dbdf831d726\",\"type\":\"PanTool\"},{\"id\":\"1cd6202c-2261-44fc-85b5-9798181cf06f\",\"type\":\"WheelZoomTool\"},{\"id\":\"c76809b1-b86f-4f96-9a8c-bb9325a5f12f\",\"type\":\"BoxZoomTool\"},{\"id\":\"4f50b505-24f1-4d6c-931d-600c93b59312\",\"type\":\"SaveTool\"},{\"id\":\"d66a6297-3e21-4b27-bf56-173b25a3a35c\",\"type\":\"ResetTool\"},{\"id\":\"1f0dcc94-4ba4-4c51-9f08-b4b5f010a1e2\",\"type\":\"HelpTool\"}]},\"id\":\"d2384a42-9732-4893-b654-58bfd9273988\",\"type\":\"Toolbar\"},{\"attributes\":{\"line_alpha\":0.1,\"line_color\":\"#1f77b4\",\"line_width\":2,\"x\":{\"field\":\"x\"},\"y\":{\"field\":\"y\"}},\"id\":\"6fb76a0e-b4b0-4bd5-86ce-5e1824a1203a\",\"type\":\"Line\"},{\"attributes\":{\"line_alpha\":0.1,\"line_color\":\"#1f77b4\",\"line_width\":2,\"x\":{\"field\":\"x\"},\"y\":{\"field\":\"y\"}},\"id\":\"d048dba9-3a82-401d-917c-6c16a498ec4e\",\"type\":\"Line\"},{\"attributes\":{\"data_source\":{\"id\":\"2b551707-89c9-4cca-9232-6759318a5d18\",\"type\":\"ColumnDataSource\"},\"glyph\":{\"id\":\"8b3684c5-7471-4e79-ae44-713478b981ce\",\"type\":\"Line\"},\"hover_glyph\":null,\"muted_glyph\":null,\"nonselection_glyph\":{\"id\":\"49b5079d-a347-49ad-8402-09473b96f4dd\",\"type\":\"Line\"},\"selection_glyph\":null,\"view\":{\"id\":\"59c37acc-1ede-45cf-8892-b45deb9509f1\",\"type\":\"CDSView\"}},\"id\":\"42e2ec9f-4d7c-456b-a2e6-305e8f73d10c\",\"type\":\"GlyphRenderer\"},{\"attributes\":{\"line_color\":\"#a6cee3\",\"line_width\":2,\"x\":{\"field\":\"x\"},\"y\":{\"field\":\"y\"}},\"id\":\"387f1329-55e0-4817-9287-d79c0ee9a0ca\",\"type\":\"Line\"},{\"attributes\":{\"below\":[{\"id\":\"1d1d97fd-fcff-42fc-8272-723c09ee1773\",\"type\":\"LinearAxis\"}],\"left\":[{\"id\":\"0d2c82d3-5856-4fa7-9dcf-73aefe0430b6\",\"type\":\"LinearAxis\"}],\"plot_height\":400,\"plot_width\":800,\"renderers\":[{\"id\":\"1d1d97fd-fcff-42fc-8272-723c09ee1773\",\"type\":\"LinearAxis\"},{\"id\":\"5c7bda7b-ce4d-426c-9c1c-148490430bcb\",\"type\":\"Grid\"},{\"id\":\"0d2c82d3-5856-4fa7-9dcf-73aefe0430b6\",\"type\":\"LinearAxis\"},{\"id\":\"94144aba-e70c-4d3e-bd07-0b3cc3cc2773\",\"type\":\"Grid\"},{\"id\":\"518faf49-a75e-48f0-bea8-7977d81bc0b5\",\"type\":\"BoxAnnotation\"},{\"id\":\"1e88795b-3f32-493d-a590-166f6c81edfb\",\"type\":\"Legend\"},{\"id\":\"5fc29a7e-899c-4410-a680-1ac4c065cf6c\",\"type\":\"GlyphRenderer\"},{\"id\":\"bba366b1-30a0-47ca-bdfc-124966cc6fe3\",\"type\":\"GlyphRenderer\"},{\"id\":\"805a732d-c1b4-4ac9-81f8-e2e2eb4de625\",\"type\":\"GlyphRenderer\"},{\"id\":\"5a7ccf90-b1d2-4369-bf5a-9fc8c513230f\",\"type\":\"GlyphRenderer\"},{\"id\":\"42e2ec9f-4d7c-456b-a2e6-305e8f73d10c\",\"type\":\"GlyphRenderer\"},{\"id\":\"730f333a-ee2c-4697-acc9-df7151e22672\",\"type\":\"GlyphRenderer\"},{\"id\":\"89334685-3e73-4319-a497-bfa1e6d5da7a\",\"type\":\"GlyphRenderer\"}],\"title\":{\"id\":\"ff8696e4-1c63-4032-b689-e69923e695cc\",\"type\":\"Title\"},\"toolbar\":{\"id\":\"d2384a42-9732-4893-b654-58bfd9273988\",\"type\":\"Toolbar\"},\"x_range\":{\"id\":\"77f4d085-7833-491d-a514-6c9459ad1560\",\"type\":\"DataRange1d\"},\"x_scale\":{\"id\":\"2e765308-9692-4dbf-90ce-1c2940c252f7\",\"type\":\"LinearScale\"},\"y_range\":{\"id\":\"d4e918e3-d93e-4c60-905b-d89c97d08f9b\",\"type\":\"DataRange1d\"},\"y_scale\":{\"id\":\"8fac81a3-352c-4ee3-8de7-0e266e2badb2\",\"type\":\"LinearScale\"}},\"id\":\"d7a88ce6-82a7-45d4-bed5-f4c3b0dc3a32\",\"subtype\":\"Figure\",\"type\":\"Plot\"},{\"attributes\":{\"dimension\":1,\"plot\":{\"id\":\"d7a88ce6-82a7-45d4-bed5-f4c3b0dc3a32\",\"subtype\":\"Figure\",\"type\":\"Plot\"},\"ticker\":{\"id\":\"d6b5e6c1-d346-42fa-8056-044e7713947b\",\"type\":\"BasicTicker\"}},\"id\":\"94144aba-e70c-4d3e-bd07-0b3cc3cc2773\",\"type\":\"Grid\"},{\"attributes\":{\"items\":[{\"id\":\"e58b0476-85a8-4dca-a193-033392857c0b\",\"type\":\"LegendItem\"},{\"id\":\"d6a64b85-69b4-4349-91d9-911c46fc03e4\",\"type\":\"LegendItem\"},{\"id\":\"21bf7a40-da9d-4ad9-8ede-f2561710d9f1\",\"type\":\"LegendItem\"},{\"id\":\"6a4416fe-0f53-49bc-a2f6-edba841c428e\",\"type\":\"LegendItem\"},{\"id\":\"cf87746a-0ffa-41c8-a839-7a5dc599acdf\",\"type\":\"LegendItem\"},{\"id\":\"2f472550-6e1e-4766-8318-cc468be5a5b7\",\"type\":\"LegendItem\"},{\"id\":\"2d11ce4f-0e15-4df0-b56f-2483eb3e6b22\",\"type\":\"LegendItem\"}],\"plot\":{\"id\":\"d7a88ce6-82a7-45d4-bed5-f4c3b0dc3a32\",\"subtype\":\"Figure\",\"type\":\"Plot\"}},\"id\":\"1e88795b-3f32-493d-a590-166f6c81edfb\",\"type\":\"Legend\"},{\"attributes\":{\"data_source\":{\"id\":\"e4f4804f-e4bd-4d4d-b882-15d28265c5cc\",\"type\":\"ColumnDataSource\"},\"glyph\":{\"id\":\"01b81fcc-b649-43a1-a3b3-c235827b3a7e\",\"type\":\"Line\"},\"hover_glyph\":null,\"muted_glyph\":null,\"nonselection_glyph\":{\"id\":\"505972e5-2d71-4935-989e-fc45f01f6eda\",\"type\":\"Line\"},\"selection_glyph\":null,\"view\":{\"id\":\"5ec865b2-a1f1-4e2e-b6c2-901bae998ea9\",\"type\":\"CDSView\"}},\"id\":\"805a732d-c1b4-4ac9-81f8-e2e2eb4de625\",\"type\":\"GlyphRenderer\"},{\"attributes\":{\"data_source\":{\"id\":\"c8d469f0-4f8b-40a4-a29a-99d54df76b79\",\"type\":\"ColumnDataSource\"},\"glyph\":{\"id\":\"426306e4-a62e-4cb7-99a3-a46f1ede3c8e\",\"type\":\"Line\"},\"hover_glyph\":null,\"muted_glyph\":null,\"nonselection_glyph\":{\"id\":\"6fb76a0e-b4b0-4bd5-86ce-5e1824a1203a\",\"type\":\"Line\"},\"selection_glyph\":null,\"view\":{\"id\":\"678317c0-8afb-4a9d-85f5-408293cf3f10\",\"type\":\"CDSView\"}},\"id\":\"730f333a-ee2c-4697-acc9-df7151e22672\",\"type\":\"GlyphRenderer\"},{\"attributes\":{\"line_alpha\":0.1,\"line_color\":\"#1f77b4\",\"line_width\":2,\"x\":{\"field\":\"x\"},\"y\":{\"field\":\"y\"}},\"id\":\"f5bdd132-f465-413c-ac84-2f3d2bae0e2c\",\"type\":\"Line\"},{\"attributes\":{\"line_color\":\"#b2df8a\",\"line_width\":2,\"x\":{\"field\":\"x\"},\"y\":{\"field\":\"y\"}},\"id\":\"01b81fcc-b649-43a1-a3b3-c235827b3a7e\",\"type\":\"Line\"},{\"attributes\":{\"callback\":null,\"column_names\":[\"x\",\"y\"],\"data\":{\"x\":[0,1,2,3,4,5,6,7,8,9,10,11,12,13,14,15,16,17,18,19,20,21,22,23],\"y\":[192,93,83,65,47,47,63,83,154,212,206,194,258,189,224,229,214,217,210,247,230,234,224,211]}},\"id\":\"2b551707-89c9-4cca-9232-6759318a5d18\",\"type\":\"ColumnDataSource\"},{\"attributes\":{\"plot\":null,\"text\":\"\"},\"id\":\"ff8696e4-1c63-4032-b689-e69923e695cc\",\"type\":\"Title\"},{\"attributes\":{\"label\":{\"value\":\"Saturday\"},\"renderers\":[{\"id\":\"730f333a-ee2c-4697-acc9-df7151e22672\",\"type\":\"GlyphRenderer\"}]},\"id\":\"2f472550-6e1e-4766-8318-cc468be5a5b7\",\"type\":\"LegendItem\"},{\"attributes\":{},\"id\":\"d6b5e6c1-d346-42fa-8056-044e7713947b\",\"type\":\"BasicTicker\"},{\"attributes\":{\"source\":{\"id\":\"1a0802a9-540e-49ae-99bb-4fd554bb8765\",\"type\":\"ColumnDataSource\"}},\"id\":\"634927f8-364c-442d-8b41-73665b690a34\",\"type\":\"CDSView\"},{\"attributes\":{},\"id\":\"08c6b842-9993-47c8-a9d8-773e89fe5d0f\",\"type\":\"BasicTickFormatter\"},{\"attributes\":{},\"id\":\"4f50b505-24f1-4d6c-931d-600c93b59312\",\"type\":\"SaveTool\"},{\"attributes\":{\"callback\":null,\"column_names\":[\"x\",\"y\"],\"data\":{\"x\":[0,1,2,3,4,5,6,7,8,9,10,11,12,13,14,15,16,17,18,19,20,21,22,23],\"y\":[164,156,132,128,101,78,65,59,86,141,174,149,218,171,169,204,175,165,196,207,195,195,205,180]}},\"id\":\"c8d469f0-4f8b-40a4-a29a-99d54df76b79\",\"type\":\"ColumnDataSource\"},{\"attributes\":{\"source\":{\"id\":\"e4f4804f-e4bd-4d4d-b882-15d28265c5cc\",\"type\":\"ColumnDataSource\"}},\"id\":\"5ec865b2-a1f1-4e2e-b6c2-901bae998ea9\",\"type\":\"CDSView\"},{\"attributes\":{\"line_color\":\"#1f78b4\",\"line_width\":2,\"x\":{\"field\":\"x\"},\"y\":{\"field\":\"y\"}},\"id\":\"cd5cca66-8675-44e7-954e-ab51b676e169\",\"type\":\"Line\"},{\"attributes\":{\"formatter\":{\"id\":\"0b6069d3-e11a-4267-96fd-6e7931ded04d\",\"type\":\"BasicTickFormatter\"},\"plot\":{\"id\":\"d7a88ce6-82a7-45d4-bed5-f4c3b0dc3a32\",\"subtype\":\"Figure\",\"type\":\"Plot\"},\"ticker\":{\"id\":\"694aa655-ce46-40d8-aed5-6f1246975e99\",\"type\":\"BasicTicker\"}},\"id\":\"1d1d97fd-fcff-42fc-8272-723c09ee1773\",\"type\":\"LinearAxis\"},{\"attributes\":{\"callback\":null},\"id\":\"77f4d085-7833-491d-a514-6c9459ad1560\",\"type\":\"DataRange1d\"},{\"attributes\":{\"data_source\":{\"id\":\"f23bb059-8982-4381-b428-977f73dfd114\",\"type\":\"ColumnDataSource\"},\"glyph\":{\"id\":\"387f1329-55e0-4817-9287-d79c0ee9a0ca\",\"type\":\"Line\"},\"hover_glyph\":null,\"muted_glyph\":null,\"nonselection_glyph\":{\"id\":\"f5bdd132-f465-413c-ac84-2f3d2bae0e2c\",\"type\":\"Line\"},\"selection_glyph\":null,\"view\":{\"id\":\"fd7a6fe4-f001-4bea-a99a-2e85988ef5e4\",\"type\":\"CDSView\"}},\"id\":\"5fc29a7e-899c-4410-a680-1ac4c065cf6c\",\"type\":\"GlyphRenderer\"},{\"attributes\":{\"source\":{\"id\":\"900f1c9e-a29f-4e0b-ac90-2ae12c2b87ad\",\"type\":\"ColumnDataSource\"}},\"id\":\"f704cfe4-f24a-43fa-b57d-7c18abd6378b\",\"type\":\"CDSView\"},{\"attributes\":{},\"id\":\"2e765308-9692-4dbf-90ce-1c2940c252f7\",\"type\":\"LinearScale\"},{\"attributes\":{\"label\":{\"value\":\"Tuesday\"},\"renderers\":[{\"id\":\"bba366b1-30a0-47ca-bdfc-124966cc6fe3\",\"type\":\"GlyphRenderer\"}]},\"id\":\"d6a64b85-69b4-4349-91d9-911c46fc03e4\",\"type\":\"LegendItem\"},{\"attributes\":{\"overlay\":{\"id\":\"518faf49-a75e-48f0-bea8-7977d81bc0b5\",\"type\":\"BoxAnnotation\"}},\"id\":\"c76809b1-b86f-4f96-9a8c-bb9325a5f12f\",\"type\":\"BoxZoomTool\"},{\"attributes\":{\"line_alpha\":0.1,\"line_color\":\"#1f77b4\",\"line_width\":2,\"x\":{\"field\":\"x\"},\"y\":{\"field\":\"y\"}},\"id\":\"49b5079d-a347-49ad-8402-09473b96f4dd\",\"type\":\"Line\"},{\"attributes\":{},\"id\":\"1f0dcc94-4ba4-4c51-9f08-b4b5f010a1e2\",\"type\":\"HelpTool\"},{\"attributes\":{},\"id\":\"bd49c849-8b5f-4aa5-b6e4-6dbdf831d726\",\"type\":\"PanTool\"},{\"attributes\":{\"line_alpha\":0.1,\"line_color\":\"#1f77b4\",\"line_width\":2,\"x\":{\"field\":\"x\"},\"y\":{\"field\":\"y\"}},\"id\":\"505972e5-2d71-4935-989e-fc45f01f6eda\",\"type\":\"Line\"},{\"attributes\":{\"line_color\":\"#e31a1c\",\"line_width\":2,\"x\":{\"field\":\"x\"},\"y\":{\"field\":\"y\"}},\"id\":\"426306e4-a62e-4cb7-99a3-a46f1ede3c8e\",\"type\":\"Line\"},{\"attributes\":{\"line_color\":\"#fb9a99\",\"line_width\":2,\"x\":{\"field\":\"x\"},\"y\":{\"field\":\"y\"}},\"id\":\"8b3684c5-7471-4e79-ae44-713478b981ce\",\"type\":\"Line\"},{\"attributes\":{\"plot\":{\"id\":\"d7a88ce6-82a7-45d4-bed5-f4c3b0dc3a32\",\"subtype\":\"Figure\",\"type\":\"Plot\"},\"ticker\":{\"id\":\"694aa655-ce46-40d8-aed5-6f1246975e99\",\"type\":\"BasicTicker\"}},\"id\":\"5c7bda7b-ce4d-426c-9c1c-148490430bcb\",\"type\":\"Grid\"},{\"attributes\":{\"source\":{\"id\":\"c8d469f0-4f8b-40a4-a29a-99d54df76b79\",\"type\":\"ColumnDataSource\"}},\"id\":\"678317c0-8afb-4a9d-85f5-408293cf3f10\",\"type\":\"CDSView\"},{\"attributes\":{},\"id\":\"1cd6202c-2261-44fc-85b5-9798181cf06f\",\"type\":\"WheelZoomTool\"},{\"attributes\":{\"data_source\":{\"id\":\"900f1c9e-a29f-4e0b-ac90-2ae12c2b87ad\",\"type\":\"ColumnDataSource\"},\"glyph\":{\"id\":\"b322a64b-5c7d-42a4-924a-b6a44fbb8eb7\",\"type\":\"Line\"},\"hover_glyph\":null,\"muted_glyph\":null,\"nonselection_glyph\":{\"id\":\"9ef722d3-0746-4b5e-a56d-10b667526c4b\",\"type\":\"Line\"},\"selection_glyph\":null,\"view\":{\"id\":\"f704cfe4-f24a-43fa-b57d-7c18abd6378b\",\"type\":\"CDSView\"}},\"id\":\"89334685-3e73-4319-a497-bfa1e6d5da7a\",\"type\":\"GlyphRenderer\"},{\"attributes\":{},\"id\":\"d66a6297-3e21-4b27-bf56-173b25a3a35c\",\"type\":\"ResetTool\"},{\"attributes\":{},\"id\":\"694aa655-ce46-40d8-aed5-6f1246975e99\",\"type\":\"BasicTicker\"},{\"attributes\":{\"formatter\":{\"id\":\"08c6b842-9993-47c8-a9d8-773e89fe5d0f\",\"type\":\"BasicTickFormatter\"},\"plot\":{\"id\":\"d7a88ce6-82a7-45d4-bed5-f4c3b0dc3a32\",\"subtype\":\"Figure\",\"type\":\"Plot\"},\"ticker\":{\"id\":\"d6b5e6c1-d346-42fa-8056-044e7713947b\",\"type\":\"BasicTicker\"}},\"id\":\"0d2c82d3-5856-4fa7-9dcf-73aefe0430b6\",\"type\":\"LinearAxis\"},{\"attributes\":{\"source\":{\"id\":\"dd66aa7b-4c00-4f8c-b34f-8b828718abde\",\"type\":\"ColumnDataSource\"}},\"id\":\"d5668e2f-9595-4e83-a024-c70d079aa3f1\",\"type\":\"CDSView\"},{\"attributes\":{\"data_source\":{\"id\":\"dd66aa7b-4c00-4f8c-b34f-8b828718abde\",\"type\":\"ColumnDataSource\"},\"glyph\":{\"id\":\"b52e0696-12e5-42b5-a377-c624ba9d6935\",\"type\":\"Line\"},\"hover_glyph\":null,\"muted_glyph\":null,\"nonselection_glyph\":{\"id\":\"92b5a71d-7931-41f5-8b10-2539a39edb00\",\"type\":\"Line\"},\"selection_glyph\":null,\"view\":{\"id\":\"d5668e2f-9595-4e83-a024-c70d079aa3f1\",\"type\":\"CDSView\"}},\"id\":\"5a7ccf90-b1d2-4369-bf5a-9fc8c513230f\",\"type\":\"GlyphRenderer\"},{\"attributes\":{},\"id\":\"0b6069d3-e11a-4267-96fd-6e7931ded04d\",\"type\":\"BasicTickFormatter\"},{\"attributes\":{\"source\":{\"id\":\"f23bb059-8982-4381-b428-977f73dfd114\",\"type\":\"ColumnDataSource\"}},\"id\":\"fd7a6fe4-f001-4bea-a99a-2e85988ef5e4\",\"type\":\"CDSView\"},{\"attributes\":{\"callback\":null,\"column_names\":[\"x\",\"y\"],\"data\":{\"x\":[0,1,2,3,4,5,6,7,8,9,10,11,12,13,14,15,16,17,18,19,20,21,22,23],\"y\":[137,77,78,72,43,48,61,68,113,121,124,126,159,127,144,184,147,150,170,190,170,166,162,120]}},\"id\":\"f23bb059-8982-4381-b428-977f73dfd114\",\"type\":\"ColumnDataSource\"},{\"attributes\":{\"bottom_units\":\"screen\",\"fill_alpha\":{\"value\":0.5},\"fill_color\":{\"value\":\"lightgrey\"},\"left_units\":\"screen\",\"level\":\"overlay\",\"line_alpha\":{\"value\":1.0},\"line_color\":{\"value\":\"black\"},\"line_dash\":[4,4],\"line_width\":{\"value\":2},\"plot\":null,\"render_mode\":\"css\",\"right_units\":\"screen\",\"top_units\":\"screen\"},\"id\":\"518faf49-a75e-48f0-bea8-7977d81bc0b5\",\"type\":\"BoxAnnotation\"},{\"attributes\":{\"line_alpha\":0.1,\"line_color\":\"#1f77b4\",\"line_width\":2,\"x\":{\"field\":\"x\"},\"y\":{\"field\":\"y\"}},\"id\":\"9ef722d3-0746-4b5e-a56d-10b667526c4b\",\"type\":\"Line\"},{\"attributes\":{\"source\":{\"id\":\"2b551707-89c9-4cca-9232-6759318a5d18\",\"type\":\"ColumnDataSource\"}},\"id\":\"59c37acc-1ede-45cf-8892-b45deb9509f1\",\"type\":\"CDSView\"},{\"attributes\":{\"label\":{\"value\":\"Monday\"},\"renderers\":[{\"id\":\"5fc29a7e-899c-4410-a680-1ac4c065cf6c\",\"type\":\"GlyphRenderer\"}]},\"id\":\"e58b0476-85a8-4dca-a193-033392857c0b\",\"type\":\"LegendItem\"},{\"attributes\":{},\"id\":\"8fac81a3-352c-4ee3-8de7-0e266e2badb2\",\"type\":\"LinearScale\"},{\"attributes\":{\"callback\":null,\"column_names\":[\"x\",\"y\"],\"data\":{\"x\":[0,1,2,3,4,5,6,7,8,9,10,11,12,13,14,15,16,17,18,19,20,21,22,23],\"y\":[125,73,43,40,34,39,51,86,129,136,166,165,179,129,140,148,151,160,182,174,151,139,139,123]}},\"id\":\"1a0802a9-540e-49ae-99bb-4fd554bb8765\",\"type\":\"ColumnDataSource\"},{\"attributes\":{\"label\":{\"value\":\"Friday\"},\"renderers\":[{\"id\":\"42e2ec9f-4d7c-456b-a2e6-305e8f73d10c\",\"type\":\"GlyphRenderer\"}]},\"id\":\"cf87746a-0ffa-41c8-a839-7a5dc599acdf\",\"type\":\"LegendItem\"},{\"attributes\":{\"callback\":null,\"column_names\":[\"x\",\"y\"],\"data\":{\"x\":[0,1,2,3,4,5,6,7,8,9,10,11,12,13,14,15,16,17,18,19,20,21,22,23],\"y\":[192,158,174,128,100,89,52,58,77,128,124,145,180,124,170,174,178,198,221,211,209,205,173,165]}},\"id\":\"900f1c9e-a29f-4e0b-ac90-2ae12c2b87ad\",\"type\":\"ColumnDataSource\"},{\"attributes\":{\"callback\":null,\"column_names\":[\"x\",\"y\"],\"data\":{\"x\":[0,1,2,3,4,5,6,7,8,9,10,11,12,13,14,15,16,17,18,19,20,21,22,23],\"y\":[114,56,49,51,46,34,54,87,125,131,136,160,157,156,176,167,156,171,201,177,142,137,139,117]}},\"id\":\"e4f4804f-e4bd-4d4d-b882-15d28265c5cc\",\"type\":\"ColumnDataSource\"},{\"attributes\":{\"label\":{\"value\":\"Thursday\"},\"renderers\":[{\"id\":\"5a7ccf90-b1d2-4369-bf5a-9fc8c513230f\",\"type\":\"GlyphRenderer\"}]},\"id\":\"6a4416fe-0f53-49bc-a2f6-edba841c428e\",\"type\":\"LegendItem\"},{\"attributes\":{\"callback\":null},\"id\":\"d4e918e3-d93e-4c60-905b-d89c97d08f9b\",\"type\":\"DataRange1d\"},{\"attributes\":{\"data_source\":{\"id\":\"1a0802a9-540e-49ae-99bb-4fd554bb8765\",\"type\":\"ColumnDataSource\"},\"glyph\":{\"id\":\"cd5cca66-8675-44e7-954e-ab51b676e169\",\"type\":\"Line\"},\"hover_glyph\":null,\"muted_glyph\":null,\"nonselection_glyph\":{\"id\":\"d048dba9-3a82-401d-917c-6c16a498ec4e\",\"type\":\"Line\"},\"selection_glyph\":null,\"view\":{\"id\":\"634927f8-364c-442d-8b41-73665b690a34\",\"type\":\"CDSView\"}},\"id\":\"bba366b1-30a0-47ca-bdfc-124966cc6fe3\",\"type\":\"GlyphRenderer\"},{\"attributes\":{\"label\":{\"value\":\"Sunday\"},\"renderers\":[{\"id\":\"89334685-3e73-4319-a497-bfa1e6d5da7a\",\"type\":\"GlyphRenderer\"}]},\"id\":\"2d11ce4f-0e15-4df0-b56f-2483eb3e6b22\",\"type\":\"LegendItem\"},{\"attributes\":{\"line_color\":\"#33a02c\",\"line_width\":2,\"x\":{\"field\":\"x\"},\"y\":{\"field\":\"y\"}},\"id\":\"b52e0696-12e5-42b5-a377-c624ba9d6935\",\"type\":\"Line\"},{\"attributes\":{\"callback\":null,\"column_names\":[\"x\",\"y\"],\"data\":{\"x\":[0,1,2,3,4,5,6,7,8,9,10,11,12,13,14,15,16,17,18,19,20,21,22,23],\"y\":[115,81,58,43,26,29,56,74,122,128,136,138,180,153,168,175,195,177,175,203,160,191,171,127]}},\"id\":\"dd66aa7b-4c00-4f8c-b34f-8b828718abde\",\"type\":\"ColumnDataSource\"},{\"attributes\":{\"line_color\":\"#fdbf6f\",\"line_width\":2,\"x\":{\"field\":\"x\"},\"y\":{\"field\":\"y\"}},\"id\":\"b322a64b-5c7d-42a4-924a-b6a44fbb8eb7\",\"type\":\"Line\"},{\"attributes\":{\"line_alpha\":0.1,\"line_color\":\"#1f77b4\",\"line_width\":2,\"x\":{\"field\":\"x\"},\"y\":{\"field\":\"y\"}},\"id\":\"92b5a71d-7931-41f5-8b10-2539a39edb00\",\"type\":\"Line\"},{\"attributes\":{\"label\":{\"value\":\"Wednesday\"},\"renderers\":[{\"id\":\"805a732d-c1b4-4ac9-81f8-e2e2eb4de625\",\"type\":\"GlyphRenderer\"}]},\"id\":\"21bf7a40-da9d-4ad9-8ede-f2561710d9f1\",\"type\":\"LegendItem\"}],\"root_ids\":[\"d7a88ce6-82a7-45d4-bed5-f4c3b0dc3a32\"]},\"title\":\"Bokeh Application\",\"version\":\"0.12.13\"}};\n",
       "  var render_items = [{\"docid\":\"a39432c6-6387-4150-b930-05b51b0bb58c\",\"elementid\":\"2ed119ad-1d1f-42cf-856a-b18c12a00294\",\"modelid\":\"d7a88ce6-82a7-45d4-bed5-f4c3b0dc3a32\"}];\n",
       "  root.Bokeh.embed.embed_items_notebook(docs_json, render_items);\n",
       "\n",
       "  }\n",
       "  if (root.Bokeh !== undefined) {\n",
       "    embed_document(root);\n",
       "  } else {\n",
       "    var attempts = 0;\n",
       "    var timer = setInterval(function(root) {\n",
       "      if (root.Bokeh !== undefined) {\n",
       "        embed_document(root);\n",
       "        clearInterval(timer);\n",
       "      }\n",
       "      attempts++;\n",
       "      if (attempts > 100) {\n",
       "        console.log(\"Bokeh: ERROR: Unable to run BokehJS code because BokehJS library is missing\")\n",
       "        clearInterval(timer);\n",
       "      }\n",
       "    }, 10, root)\n",
       "  }\n",
       "})(window);"
      ],
      "application/vnd.bokehjs_exec.v0+json": ""
     },
     "metadata": {
      "application/vnd.bokehjs_exec.v0+json": {
       "id": "d7a88ce6-82a7-45d4-bed5-f4c3b0dc3a32"
      }
     },
     "output_type": "display_data"
    },
    {
     "data": {
      "text/html": [
       "\n",
       "<div class=\"bk-root\">\n",
       "    <div class=\"bk-plotdiv\" id=\"fa0eaa3d-043c-4f82-a2f1-786c32da63cd\"></div>\n",
       "</div>"
      ]
     },
     "metadata": {},
     "output_type": "display_data"
    },
    {
     "data": {
      "application/javascript": [
       "(function(root) {\n",
       "  function embed_document(root) {\n",
       "    \n",
       "  var docs_json = {\"ab97fd51-7e94-43f3-9b07-d4456934598b\":{\"roots\":{\"references\":[{\"attributes\":{\"source\":{\"id\":\"4419005e-557b-4623-a833-1a5a50059e0c\",\"type\":\"ColumnDataSource\"}},\"id\":\"cc93d5c8-19ff-42dd-86a2-e2d60862eb9e\",\"type\":\"CDSView\"},{\"attributes\":{\"label\":{\"value\":\"Wednesday\"},\"renderers\":[{\"id\":\"3613a289-3dec-453b-b03e-8b0f6d9ede2c\",\"type\":\"GlyphRenderer\"}]},\"id\":\"0c194443-609d-46b9-bd4b-51c5c3ef38d1\",\"type\":\"LegendItem\"},{\"attributes\":{\"data_source\":{\"id\":\"53fe037c-92ef-4311-949d-9c9726c0c56e\",\"type\":\"ColumnDataSource\"},\"glyph\":{\"id\":\"d88fa049-c3c9-4c91-a501-34659d109473\",\"type\":\"Line\"},\"hover_glyph\":null,\"muted_glyph\":null,\"nonselection_glyph\":{\"id\":\"93ce0547-a015-469e-8165-216f923290db\",\"type\":\"Line\"},\"selection_glyph\":null,\"view\":{\"id\":\"6a58866d-c014-40d7-a44c-e048d8f3759d\",\"type\":\"CDSView\"}},\"id\":\"43dc6fec-8d60-428a-b8c2-0dc79d206cae\",\"type\":\"GlyphRenderer\"},{\"attributes\":{\"dimension\":1,\"plot\":{\"id\":\"968f4321-e163-4f5a-8359-eab991e220dc\",\"subtype\":\"Figure\",\"type\":\"Plot\"},\"ticker\":{\"id\":\"010b3da7-300a-4276-ac15-7469f9b67e6f\",\"type\":\"BasicTicker\"}},\"id\":\"d3da25a6-3765-4ef2-b81b-be1f89ef3302\",\"type\":\"Grid\"},{\"attributes\":{\"bottom_units\":\"screen\",\"fill_alpha\":{\"value\":0.5},\"fill_color\":{\"value\":\"lightgrey\"},\"left_units\":\"screen\",\"level\":\"overlay\",\"line_alpha\":{\"value\":1.0},\"line_color\":{\"value\":\"black\"},\"line_dash\":[4,4],\"line_width\":{\"value\":2},\"plot\":null,\"render_mode\":\"css\",\"right_units\":\"screen\",\"top_units\":\"screen\"},\"id\":\"f3b9043d-9c0d-4f8f-9844-54efb63d5a14\",\"type\":\"BoxAnnotation\"},{\"attributes\":{\"data_source\":{\"id\":\"4419005e-557b-4623-a833-1a5a50059e0c\",\"type\":\"ColumnDataSource\"},\"glyph\":{\"id\":\"26ae261d-e61f-4242-a217-127412adf622\",\"type\":\"Line\"},\"hover_glyph\":null,\"muted_glyph\":null,\"nonselection_glyph\":{\"id\":\"1a7789cc-605a-43d2-b95f-6a25d2260bc8\",\"type\":\"Line\"},\"selection_glyph\":null,\"view\":{\"id\":\"cc93d5c8-19ff-42dd-86a2-e2d60862eb9e\",\"type\":\"CDSView\"}},\"id\":\"fbb53a1c-af8a-4efd-a27b-6ca5b8df948e\",\"type\":\"GlyphRenderer\"},{\"attributes\":{\"line_color\":\"#fdbf6f\",\"line_width\":2,\"x\":{\"field\":\"x\"},\"y\":{\"field\":\"y\"}},\"id\":\"68a9c662-0e86-45c8-a4ec-d3f202598c8a\",\"type\":\"Line\"},{\"attributes\":{\"line_color\":\"#a6cee3\",\"line_width\":2,\"x\":{\"field\":\"x\"},\"y\":{\"field\":\"y\"}},\"id\":\"127cff2d-0c54-4e61-a7e1-bf3eb92b7bd1\",\"type\":\"Line\"},{\"attributes\":{\"line_alpha\":0.1,\"line_color\":\"#1f77b4\",\"line_width\":2,\"x\":{\"field\":\"x\"},\"y\":{\"field\":\"y\"}},\"id\":\"93ce0547-a015-469e-8165-216f923290db\",\"type\":\"Line\"},{\"attributes\":{\"label\":{\"value\":\"Saturday\"},\"renderers\":[{\"id\":\"43dc6fec-8d60-428a-b8c2-0dc79d206cae\",\"type\":\"GlyphRenderer\"}]},\"id\":\"c05605a4-820d-4719-93b1-a124b6cf4fe0\",\"type\":\"LegendItem\"},{\"attributes\":{},\"id\":\"f5948daa-e07b-4263-8b34-65736caf8e2f\",\"type\":\"SaveTool\"},{\"attributes\":{\"label\":{\"value\":\"Sunday\"},\"renderers\":[{\"id\":\"19ae73da-8ec2-435f-928b-e75ed300b8a5\",\"type\":\"GlyphRenderer\"}]},\"id\":\"de592d14-5976-4be4-95e5-9de1e5659161\",\"type\":\"LegendItem\"},{\"attributes\":{\"formatter\":{\"id\":\"8d83ba1d-0f8c-4c7d-8cd0-8b2452007914\",\"type\":\"BasicTickFormatter\"},\"plot\":{\"id\":\"968f4321-e163-4f5a-8359-eab991e220dc\",\"subtype\":\"Figure\",\"type\":\"Plot\"},\"ticker\":{\"id\":\"18c64069-4220-40a2-b33c-94f9710577db\",\"type\":\"BasicTicker\"}},\"id\":\"9cfddaa1-0bed-44eb-a005-61bc6b36c648\",\"type\":\"LinearAxis\"},{\"attributes\":{},\"id\":\"8d83ba1d-0f8c-4c7d-8cd0-8b2452007914\",\"type\":\"BasicTickFormatter\"},{\"attributes\":{\"line_alpha\":0.1,\"line_color\":\"#1f77b4\",\"line_width\":2,\"x\":{\"field\":\"x\"},\"y\":{\"field\":\"y\"}},\"id\":\"e7132332-46ae-48a1-9a95-126816b8792a\",\"type\":\"Line\"},{\"attributes\":{\"callback\":null,\"column_names\":[\"x\",\"y\"],\"data\":{\"x\":[0,1,2,3,4,5,6,7,8,9,10,11,12,13,14,15,16,17,18,19,20,21,22,23],\"y\":[151,149,137,115,86,64,54,54,65,117,107,120,130,139,134,132,146,148,177,135,194,197,185,159]}},\"id\":\"95328168-0114-4675-b12b-9ee51a2e5114\",\"type\":\"ColumnDataSource\"},{\"attributes\":{},\"id\":\"2e500359-0f42-4c4e-a923-374a95084142\",\"type\":\"LinearScale\"},{\"attributes\":{},\"id\":\"010b3da7-300a-4276-ac15-7469f9b67e6f\",\"type\":\"BasicTicker\"},{\"attributes\":{\"line_color\":\"#fb9a99\",\"line_width\":2,\"x\":{\"field\":\"x\"},\"y\":{\"field\":\"y\"}},\"id\":\"ef072be0-e4f2-465d-aa5f-48407bb37ffb\",\"type\":\"Line\"},{\"attributes\":{},\"id\":\"220dca6f-37e2-4534-99e3-f3648fdf8c3b\",\"type\":\"WheelZoomTool\"},{\"attributes\":{\"data_source\":{\"id\":\"8ef129ff-69f6-4ad9-85b2-8979fee92b61\",\"type\":\"ColumnDataSource\"},\"glyph\":{\"id\":\"2e714ef8-582b-4f34-945d-ba3fa29f9bb3\",\"type\":\"Line\"},\"hover_glyph\":null,\"muted_glyph\":null,\"nonselection_glyph\":{\"id\":\"189b3027-1c7f-4cfd-9a2a-40d43756a9c0\",\"type\":\"Line\"},\"selection_glyph\":null,\"view\":{\"id\":\"ad0b1aac-cfd4-400f-967a-0adc580c021c\",\"type\":\"CDSView\"}},\"id\":\"3613a289-3dec-453b-b03e-8b0f6d9ede2c\",\"type\":\"GlyphRenderer\"},{\"attributes\":{\"line_color\":\"#33a02c\",\"line_width\":2,\"x\":{\"field\":\"x\"},\"y\":{\"field\":\"y\"}},\"id\":\"26ae261d-e61f-4242-a217-127412adf622\",\"type\":\"Line\"},{\"attributes\":{},\"id\":\"aed9d014-fa8b-4900-8548-ad5ffede5eae\",\"type\":\"ResetTool\"},{\"attributes\":{\"callback\":null,\"column_names\":[\"x\",\"y\"],\"data\":{\"x\":[0,1,2,3,4,5,6,7,8,9,10,11,12,13,14,15,16,17,18,19,20,21,22,23],\"y\":[226,105,83,76,46,58,64,88,156,193,161,159,220,162,198,225,198,191,239,206,199,185,208,161]}},\"id\":\"4d333777-ebe5-4dbf-94a9-9e46c2c69957\",\"type\":\"ColumnDataSource\"},{\"attributes\":{},\"id\":\"d3ce0483-1312-4f64-8a05-d84a07cda786\",\"type\":\"HelpTool\"},{\"attributes\":{\"data_source\":{\"id\":\"930cb3d8-1c52-4e14-ad0c-e2f857d96922\",\"type\":\"ColumnDataSource\"},\"glyph\":{\"id\":\"ef072be0-e4f2-465d-aa5f-48407bb37ffb\",\"type\":\"Line\"},\"hover_glyph\":null,\"muted_glyph\":null,\"nonselection_glyph\":{\"id\":\"e7132332-46ae-48a1-9a95-126816b8792a\",\"type\":\"Line\"},\"selection_glyph\":null,\"view\":{\"id\":\"c5bfcb05-0e1b-4ac1-ae88-fca4166ce99d\",\"type\":\"CDSView\"}},\"id\":\"d92605c5-e8f5-4e02-8325-8b588443230d\",\"type\":\"GlyphRenderer\"},{\"attributes\":{},\"id\":\"18c64069-4220-40a2-b33c-94f9710577db\",\"type\":\"BasicTicker\"},{\"attributes\":{\"callback\":null},\"id\":\"07ba7243-a866-4ae2-8559-ec645d69ea58\",\"type\":\"DataRange1d\"},{\"attributes\":{},\"id\":\"6079f7fc-4781-4ba8-af9d-5c8ed650f8c2\",\"type\":\"LinearScale\"},{\"attributes\":{\"label\":{\"value\":\"Thursday\"},\"renderers\":[{\"id\":\"fbb53a1c-af8a-4efd-a27b-6ca5b8df948e\",\"type\":\"GlyphRenderer\"}]},\"id\":\"60c83bbf-4c9c-4a21-9bc8-913559c0d37c\",\"type\":\"LegendItem\"},{\"attributes\":{\"source\":{\"id\":\"8ef129ff-69f6-4ad9-85b2-8979fee92b61\",\"type\":\"ColumnDataSource\"}},\"id\":\"ad0b1aac-cfd4-400f-967a-0adc580c021c\",\"type\":\"CDSView\"},{\"attributes\":{\"source\":{\"id\":\"930cb3d8-1c52-4e14-ad0c-e2f857d96922\",\"type\":\"ColumnDataSource\"}},\"id\":\"c5bfcb05-0e1b-4ac1-ae88-fca4166ce99d\",\"type\":\"CDSView\"},{\"attributes\":{\"callback\":null,\"column_names\":[\"x\",\"y\"],\"data\":{\"x\":[0,1,2,3,4,5,6,7,8,9,10,11,12,13,14,15,16,17,18,19,20,21,22,23],\"y\":[134,89,68,61,45,52,56,81,119,155,141,143,160,146,164,158,141,166,171,183,172,164,139,137]}},\"id\":\"4419005e-557b-4623-a833-1a5a50059e0c\",\"type\":\"ColumnDataSource\"},{\"attributes\":{\"line_color\":\"#b2df8a\",\"line_width\":2,\"x\":{\"field\":\"x\"},\"y\":{\"field\":\"y\"}},\"id\":\"2e714ef8-582b-4f34-945d-ba3fa29f9bb3\",\"type\":\"Line\"},{\"attributes\":{\"line_alpha\":0.1,\"line_color\":\"#1f77b4\",\"line_width\":2,\"x\":{\"field\":\"x\"},\"y\":{\"field\":\"y\"}},\"id\":\"1a7789cc-605a-43d2-b95f-6a25d2260bc8\",\"type\":\"Line\"},{\"attributes\":{\"data_source\":{\"id\":\"3b648fcc-a5d6-46c9-b256-6b9f35a04beb\",\"type\":\"ColumnDataSource\"},\"glyph\":{\"id\":\"15b30a73-871c-4c48-9f79-1a932cefa33e\",\"type\":\"Line\"},\"hover_glyph\":null,\"muted_glyph\":null,\"nonselection_glyph\":{\"id\":\"14f5c2c5-d631-49d9-a7ef-63ad866d0986\",\"type\":\"Line\"},\"selection_glyph\":null,\"view\":{\"id\":\"488c1990-ed66-47af-825f-5956a148afee\",\"type\":\"CDSView\"}},\"id\":\"765f21eb-9366-45a7-b85c-429f489dc8fd\",\"type\":\"GlyphRenderer\"},{\"attributes\":{\"callback\":null,\"column_names\":[\"x\",\"y\"],\"data\":{\"x\":[0,1,2,3,4,5,6,7,8,9,10,11,12,13,14,15,16,17,18,19,20,21,22,23],\"y\":[184,118,85,55,40,54,60,79,156,178,192,170,217,179,197,211,164,205,203,221,230,222,197,181]}},\"id\":\"3b648fcc-a5d6-46c9-b256-6b9f35a04beb\",\"type\":\"ColumnDataSource\"},{\"attributes\":{\"line_alpha\":0.1,\"line_color\":\"#1f77b4\",\"line_width\":2,\"x\":{\"field\":\"x\"},\"y\":{\"field\":\"y\"}},\"id\":\"9cc3611c-5328-420a-b970-c395a48b4c0a\",\"type\":\"Line\"},{\"attributes\":{\"source\":{\"id\":\"3b648fcc-a5d6-46c9-b256-6b9f35a04beb\",\"type\":\"ColumnDataSource\"}},\"id\":\"488c1990-ed66-47af-825f-5956a148afee\",\"type\":\"CDSView\"},{\"attributes\":{\"line_color\":\"#e31a1c\",\"line_width\":2,\"x\":{\"field\":\"x\"},\"y\":{\"field\":\"y\"}},\"id\":\"d88fa049-c3c9-4c91-a501-34659d109473\",\"type\":\"Line\"},{\"attributes\":{\"overlay\":{\"id\":\"f3b9043d-9c0d-4f8f-9844-54efb63d5a14\",\"type\":\"BoxAnnotation\"}},\"id\":\"5875b5ec-9d51-4e9d-b7cf-0cd8bcfc086c\",\"type\":\"BoxZoomTool\"},{\"attributes\":{\"line_color\":\"#1f78b4\",\"line_width\":2,\"x\":{\"field\":\"x\"},\"y\":{\"field\":\"y\"}},\"id\":\"15b30a73-871c-4c48-9f79-1a932cefa33e\",\"type\":\"Line\"},{\"attributes\":{\"line_alpha\":0.1,\"line_color\":\"#1f77b4\",\"line_width\":2,\"x\":{\"field\":\"x\"},\"y\":{\"field\":\"y\"}},\"id\":\"189b3027-1c7f-4cfd-9a2a-40d43756a9c0\",\"type\":\"Line\"},{\"attributes\":{\"line_alpha\":0.1,\"line_color\":\"#1f77b4\",\"line_width\":2,\"x\":{\"field\":\"x\"},\"y\":{\"field\":\"y\"}},\"id\":\"14f5c2c5-d631-49d9-a7ef-63ad866d0986\",\"type\":\"Line\"},{\"attributes\":{\"label\":{\"value\":\"Monday\"},\"renderers\":[{\"id\":\"c985fd0e-1191-4c9e-8629-91e6bb00bcb6\",\"type\":\"GlyphRenderer\"}]},\"id\":\"4a6ad7d3-c8c0-407b-92fc-267e3dbaf0c8\",\"type\":\"LegendItem\"},{\"attributes\":{\"callback\":null,\"column_names\":[\"x\",\"y\"],\"data\":{\"x\":[0,1,2,3,4,5,6,7,8,9,10,11,12,13,14,15,16,17,18,19,20,21,22,23],\"y\":[146,92,56,65,46,40,45,62,111,138,125,134,182,176,143,185,179,168,169,170,181,192,194,146]}},\"id\":\"930cb3d8-1c52-4e14-ad0c-e2f857d96922\",\"type\":\"ColumnDataSource\"},{\"attributes\":{\"source\":{\"id\":\"53fe037c-92ef-4311-949d-9c9726c0c56e\",\"type\":\"ColumnDataSource\"}},\"id\":\"6a58866d-c014-40d7-a44c-e048d8f3759d\",\"type\":\"CDSView\"},{\"attributes\":{\"active_drag\":\"auto\",\"active_inspect\":\"auto\",\"active_scroll\":\"auto\",\"active_tap\":\"auto\",\"tools\":[{\"id\":\"0b80bcfc-7946-4a44-8ae8-442877acab5c\",\"type\":\"PanTool\"},{\"id\":\"220dca6f-37e2-4534-99e3-f3648fdf8c3b\",\"type\":\"WheelZoomTool\"},{\"id\":\"5875b5ec-9d51-4e9d-b7cf-0cd8bcfc086c\",\"type\":\"BoxZoomTool\"},{\"id\":\"f5948daa-e07b-4263-8b34-65736caf8e2f\",\"type\":\"SaveTool\"},{\"id\":\"aed9d014-fa8b-4900-8548-ad5ffede5eae\",\"type\":\"ResetTool\"},{\"id\":\"d3ce0483-1312-4f64-8a05-d84a07cda786\",\"type\":\"HelpTool\"}]},\"id\":\"9933a5cd-a5aa-465b-94ea-67e75b6c0111\",\"type\":\"Toolbar\"},{\"attributes\":{\"items\":[{\"id\":\"4a6ad7d3-c8c0-407b-92fc-267e3dbaf0c8\",\"type\":\"LegendItem\"},{\"id\":\"3fd340b1-da16-417f-a4f2-a7103df4c6c1\",\"type\":\"LegendItem\"},{\"id\":\"0c194443-609d-46b9-bd4b-51c5c3ef38d1\",\"type\":\"LegendItem\"},{\"id\":\"60c83bbf-4c9c-4a21-9bc8-913559c0d37c\",\"type\":\"LegendItem\"},{\"id\":\"b940c615-c94a-43f5-a88b-a4704e820fa9\",\"type\":\"LegendItem\"},{\"id\":\"c05605a4-820d-4719-93b1-a124b6cf4fe0\",\"type\":\"LegendItem\"},{\"id\":\"de592d14-5976-4be4-95e5-9de1e5659161\",\"type\":\"LegendItem\"}],\"plot\":{\"id\":\"968f4321-e163-4f5a-8359-eab991e220dc\",\"subtype\":\"Figure\",\"type\":\"Plot\"}},\"id\":\"f5f79a63-3d80-41c6-8d3c-e13ababb4a97\",\"type\":\"Legend\"},{\"attributes\":{\"label\":{\"value\":\"Tuesday\"},\"renderers\":[{\"id\":\"765f21eb-9366-45a7-b85c-429f489dc8fd\",\"type\":\"GlyphRenderer\"}]},\"id\":\"3fd340b1-da16-417f-a4f2-a7103df4c6c1\",\"type\":\"LegendItem\"},{\"attributes\":{\"source\":{\"id\":\"95328168-0114-4675-b12b-9ee51a2e5114\",\"type\":\"ColumnDataSource\"}},\"id\":\"41288378-b391-4b53-bfca-22a48f87fb6c\",\"type\":\"CDSView\"},{\"attributes\":{\"formatter\":{\"id\":\"7a32ca95-4e64-4bcb-983f-d1b5e763f102\",\"type\":\"BasicTickFormatter\"},\"plot\":{\"id\":\"968f4321-e163-4f5a-8359-eab991e220dc\",\"subtype\":\"Figure\",\"type\":\"Plot\"},\"ticker\":{\"id\":\"010b3da7-300a-4276-ac15-7469f9b67e6f\",\"type\":\"BasicTicker\"}},\"id\":\"dbc5ab8b-fd86-4fe9-a550-4acde7fc1ac2\",\"type\":\"LinearAxis\"},{\"attributes\":{\"plot\":null,\"text\":\"\"},\"id\":\"28567e15-89bd-4f06-a671-d050afc8f98e\",\"type\":\"Title\"},{\"attributes\":{\"callback\":null,\"column_names\":[\"x\",\"y\"],\"data\":{\"x\":[0,1,2,3,4,5,6,7,8,9,10,11,12,13,14,15,16,17,18,19,20,21,22,23],\"y\":[125,95,78,63,39,35,52,70,110,144,135,127,181,142,158,156,144,154,182,179,186,149,171,121]}},\"id\":\"8ef129ff-69f6-4ad9-85b2-8979fee92b61\",\"type\":\"ColumnDataSource\"},{\"attributes\":{\"source\":{\"id\":\"4d333777-ebe5-4dbf-94a9-9e46c2c69957\",\"type\":\"ColumnDataSource\"}},\"id\":\"463da818-fd45-45cf-9f0e-ef2975820d02\",\"type\":\"CDSView\"},{\"attributes\":{\"data_source\":{\"id\":\"95328168-0114-4675-b12b-9ee51a2e5114\",\"type\":\"ColumnDataSource\"},\"glyph\":{\"id\":\"68a9c662-0e86-45c8-a4ec-d3f202598c8a\",\"type\":\"Line\"},\"hover_glyph\":null,\"muted_glyph\":null,\"nonselection_glyph\":{\"id\":\"5d11c22f-cb28-402f-89f5-c140c3467116\",\"type\":\"Line\"},\"selection_glyph\":null,\"view\":{\"id\":\"41288378-b391-4b53-bfca-22a48f87fb6c\",\"type\":\"CDSView\"}},\"id\":\"19ae73da-8ec2-435f-928b-e75ed300b8a5\",\"type\":\"GlyphRenderer\"},{\"attributes\":{\"plot\":{\"id\":\"968f4321-e163-4f5a-8359-eab991e220dc\",\"subtype\":\"Figure\",\"type\":\"Plot\"},\"ticker\":{\"id\":\"18c64069-4220-40a2-b33c-94f9710577db\",\"type\":\"BasicTicker\"}},\"id\":\"d7d95b6f-11ce-4f06-986a-ee1c3f408499\",\"type\":\"Grid\"},{\"attributes\":{\"data_source\":{\"id\":\"4d333777-ebe5-4dbf-94a9-9e46c2c69957\",\"type\":\"ColumnDataSource\"},\"glyph\":{\"id\":\"127cff2d-0c54-4e61-a7e1-bf3eb92b7bd1\",\"type\":\"Line\"},\"hover_glyph\":null,\"muted_glyph\":null,\"nonselection_glyph\":{\"id\":\"9cc3611c-5328-420a-b970-c395a48b4c0a\",\"type\":\"Line\"},\"selection_glyph\":null,\"view\":{\"id\":\"463da818-fd45-45cf-9f0e-ef2975820d02\",\"type\":\"CDSView\"}},\"id\":\"c985fd0e-1191-4c9e-8629-91e6bb00bcb6\",\"type\":\"GlyphRenderer\"},{\"attributes\":{\"below\":[{\"id\":\"9cfddaa1-0bed-44eb-a005-61bc6b36c648\",\"type\":\"LinearAxis\"}],\"left\":[{\"id\":\"dbc5ab8b-fd86-4fe9-a550-4acde7fc1ac2\",\"type\":\"LinearAxis\"}],\"plot_height\":400,\"plot_width\":800,\"renderers\":[{\"id\":\"9cfddaa1-0bed-44eb-a005-61bc6b36c648\",\"type\":\"LinearAxis\"},{\"id\":\"d7d95b6f-11ce-4f06-986a-ee1c3f408499\",\"type\":\"Grid\"},{\"id\":\"dbc5ab8b-fd86-4fe9-a550-4acde7fc1ac2\",\"type\":\"LinearAxis\"},{\"id\":\"d3da25a6-3765-4ef2-b81b-be1f89ef3302\",\"type\":\"Grid\"},{\"id\":\"f3b9043d-9c0d-4f8f-9844-54efb63d5a14\",\"type\":\"BoxAnnotation\"},{\"id\":\"f5f79a63-3d80-41c6-8d3c-e13ababb4a97\",\"type\":\"Legend\"},{\"id\":\"c985fd0e-1191-4c9e-8629-91e6bb00bcb6\",\"type\":\"GlyphRenderer\"},{\"id\":\"765f21eb-9366-45a7-b85c-429f489dc8fd\",\"type\":\"GlyphRenderer\"},{\"id\":\"3613a289-3dec-453b-b03e-8b0f6d9ede2c\",\"type\":\"GlyphRenderer\"},{\"id\":\"fbb53a1c-af8a-4efd-a27b-6ca5b8df948e\",\"type\":\"GlyphRenderer\"},{\"id\":\"d92605c5-e8f5-4e02-8325-8b588443230d\",\"type\":\"GlyphRenderer\"},{\"id\":\"43dc6fec-8d60-428a-b8c2-0dc79d206cae\",\"type\":\"GlyphRenderer\"},{\"id\":\"19ae73da-8ec2-435f-928b-e75ed300b8a5\",\"type\":\"GlyphRenderer\"}],\"title\":{\"id\":\"28567e15-89bd-4f06-a671-d050afc8f98e\",\"type\":\"Title\"},\"toolbar\":{\"id\":\"9933a5cd-a5aa-465b-94ea-67e75b6c0111\",\"type\":\"Toolbar\"},\"x_range\":{\"id\":\"07ba7243-a866-4ae2-8559-ec645d69ea58\",\"type\":\"DataRange1d\"},\"x_scale\":{\"id\":\"6079f7fc-4781-4ba8-af9d-5c8ed650f8c2\",\"type\":\"LinearScale\"},\"y_range\":{\"id\":\"aa20afe6-f2c0-4502-8408-10d8805fe84a\",\"type\":\"DataRange1d\"},\"y_scale\":{\"id\":\"2e500359-0f42-4c4e-a923-374a95084142\",\"type\":\"LinearScale\"}},\"id\":\"968f4321-e163-4f5a-8359-eab991e220dc\",\"subtype\":\"Figure\",\"type\":\"Plot\"},{\"attributes\":{\"line_alpha\":0.1,\"line_color\":\"#1f77b4\",\"line_width\":2,\"x\":{\"field\":\"x\"},\"y\":{\"field\":\"y\"}},\"id\":\"5d11c22f-cb28-402f-89f5-c140c3467116\",\"type\":\"Line\"},{\"attributes\":{\"label\":{\"value\":\"Friday\"},\"renderers\":[{\"id\":\"d92605c5-e8f5-4e02-8325-8b588443230d\",\"type\":\"GlyphRenderer\"}]},\"id\":\"b940c615-c94a-43f5-a88b-a4704e820fa9\",\"type\":\"LegendItem\"},{\"attributes\":{},\"id\":\"0b80bcfc-7946-4a44-8ae8-442877acab5c\",\"type\":\"PanTool\"},{\"attributes\":{\"callback\":null,\"column_names\":[\"x\",\"y\"],\"data\":{\"x\":[0,1,2,3,4,5,6,7,8,9,10,11,12,13,14,15,16,17,18,19,20,21,22,23],\"y\":[154,115,109,107,78,46,48,53,83,99,127,123,169,134,157,157,133,136,166,171,171,165,179,162]}},\"id\":\"53fe037c-92ef-4311-949d-9c9726c0c56e\",\"type\":\"ColumnDataSource\"},{\"attributes\":{\"callback\":null},\"id\":\"aa20afe6-f2c0-4502-8408-10d8805fe84a\",\"type\":\"DataRange1d\"},{\"attributes\":{},\"id\":\"7a32ca95-4e64-4bcb-983f-d1b5e763f102\",\"type\":\"BasicTickFormatter\"}],\"root_ids\":[\"968f4321-e163-4f5a-8359-eab991e220dc\"]},\"title\":\"Bokeh Application\",\"version\":\"0.12.13\"}};\n",
       "  var render_items = [{\"docid\":\"ab97fd51-7e94-43f3-9b07-d4456934598b\",\"elementid\":\"fa0eaa3d-043c-4f82-a2f1-786c32da63cd\",\"modelid\":\"968f4321-e163-4f5a-8359-eab991e220dc\"}];\n",
       "  root.Bokeh.embed.embed_items_notebook(docs_json, render_items);\n",
       "\n",
       "  }\n",
       "  if (root.Bokeh !== undefined) {\n",
       "    embed_document(root);\n",
       "  } else {\n",
       "    var attempts = 0;\n",
       "    var timer = setInterval(function(root) {\n",
       "      if (root.Bokeh !== undefined) {\n",
       "        embed_document(root);\n",
       "        clearInterval(timer);\n",
       "      }\n",
       "      attempts++;\n",
       "      if (attempts > 100) {\n",
       "        console.log(\"Bokeh: ERROR: Unable to run BokehJS code because BokehJS library is missing\")\n",
       "        clearInterval(timer);\n",
       "      }\n",
       "    }, 10, root)\n",
       "  }\n",
       "})(window);"
      ],
      "application/vnd.bokehjs_exec.v0+json": ""
     },
     "metadata": {
      "application/vnd.bokehjs_exec.v0+json": {
       "id": "968f4321-e163-4f5a-8359-eab991e220dc"
      }
     },
     "output_type": "display_data"
    },
    {
     "data": {
      "text/html": [
       "\n",
       "<div class=\"bk-root\">\n",
       "    <div class=\"bk-plotdiv\" id=\"57e5b595-60d8-4e43-b250-faba92de6880\"></div>\n",
       "</div>"
      ]
     },
     "metadata": {},
     "output_type": "display_data"
    },
    {
     "data": {
      "application/javascript": [
       "(function(root) {\n",
       "  function embed_document(root) {\n",
       "    \n",
       "  var docs_json = {\"854a5feb-72c7-431b-8352-b5b7ee84bd74\":{\"roots\":{\"references\":[{\"attributes\":{\"data_source\":{\"id\":\"48e50e0a-ec09-4e78-8f3e-45bdc7bc3335\",\"type\":\"ColumnDataSource\"},\"glyph\":{\"id\":\"cfd0d614-a5b3-43b4-a5cd-4b0bfa360c12\",\"type\":\"Line\"},\"hover_glyph\":null,\"muted_glyph\":null,\"nonselection_glyph\":{\"id\":\"330829c2-dc45-4d48-9c1a-856280f9e0e1\",\"type\":\"Line\"},\"selection_glyph\":null,\"view\":{\"id\":\"0efc3955-0926-4256-ae2c-54ceb91258c8\",\"type\":\"CDSView\"}},\"id\":\"087c90bb-d1ce-4b84-8002-8f85f6dd307e\",\"type\":\"GlyphRenderer\"},{\"attributes\":{\"callback\":null,\"column_names\":[\"x\",\"y\"],\"data\":{\"x\":[0,1,2,3,4,5,6,7,8,9,10,11,12,13,14,15,16,17,18,19,20,21,22,23],\"y\":[216,181,174,127,104,74,57,48,70,85,124,104,139,131,146,157,164,146,163,152,154,165,205,159]}},\"id\":\"3a3b8b22-407a-4215-b350-1b8ef6361193\",\"type\":\"ColumnDataSource\"},{\"attributes\":{\"line_color\":\"#33a02c\",\"line_width\":2,\"x\":{\"field\":\"x\"},\"y\":{\"field\":\"y\"}},\"id\":\"cb2ef0cd-caa8-4743-849e-6b90e45af1c1\",\"type\":\"Line\"},{\"attributes\":{\"callback\":null,\"column_names\":[\"x\",\"y\"],\"data\":{\"x\":[0,1,2,3,4,5,6,7,8,9,10,11,12,13,14,15,16,17,18,19,20,21,22,23],\"y\":[148,93,72,74,60,38,56,64,93,143,141,114,178,142,157,156,157,179,193,202,174,172,171,150]}},\"id\":\"b743c255-5a13-4c99-8323-f4f6362ec712\",\"type\":\"ColumnDataSource\"},{\"attributes\":{\"callback\":null,\"column_names\":[\"x\",\"y\"],\"data\":{\"x\":[0,1,2,3,4,5,6,7,8,9,10,11,12,13,14,15,16,17,18,19,20,21,22,23],\"y\":[149,109,84,67,64,43,63,92,109,152,178,164,183,171,207,197,200,186,191,223,194,215,207,185]}},\"id\":\"382881e9-6ffd-4cde-98ed-638c537cd0bd\",\"type\":\"ColumnDataSource\"},{\"attributes\":{},\"id\":\"0af6d39e-3d5f-4a8e-b0f7-ee7b4f17ea2f\",\"type\":\"HelpTool\"},{\"attributes\":{\"data_source\":{\"id\":\"3a3b8b22-407a-4215-b350-1b8ef6361193\",\"type\":\"ColumnDataSource\"},\"glyph\":{\"id\":\"d28dfff8-d400-4b28-a9fc-1253a1eed0bd\",\"type\":\"Line\"},\"hover_glyph\":null,\"muted_glyph\":null,\"nonselection_glyph\":{\"id\":\"9fad90f0-72ff-4856-b219-e2ce6ff95136\",\"type\":\"Line\"},\"selection_glyph\":null,\"view\":{\"id\":\"2d6f79cd-ef8e-4b57-b48e-d37c1224c43e\",\"type\":\"CDSView\"}},\"id\":\"35e9da25-d005-4b75-a563-126c29024ce1\",\"type\":\"GlyphRenderer\"},{\"attributes\":{\"line_alpha\":0.1,\"line_color\":\"#1f77b4\",\"line_width\":2,\"x\":{\"field\":\"x\"},\"y\":{\"field\":\"y\"}},\"id\":\"330829c2-dc45-4d48-9c1a-856280f9e0e1\",\"type\":\"Line\"},{\"attributes\":{},\"id\":\"830b33b2-1289-4624-a7a6-6219910d8ad2\",\"type\":\"BasicTickFormatter\"},{\"attributes\":{\"line_color\":\"#b2df8a\",\"line_width\":2,\"x\":{\"field\":\"x\"},\"y\":{\"field\":\"y\"}},\"id\":\"cfd0d614-a5b3-43b4-a5cd-4b0bfa360c12\",\"type\":\"Line\"},{\"attributes\":{\"source\":{\"id\":\"b743c255-5a13-4c99-8323-f4f6362ec712\",\"type\":\"ColumnDataSource\"}},\"id\":\"af46229f-ea34-42e2-a188-40325a7ee3e0\",\"type\":\"CDSView\"},{\"attributes\":{\"data_source\":{\"id\":\"b743c255-5a13-4c99-8323-f4f6362ec712\",\"type\":\"ColumnDataSource\"},\"glyph\":{\"id\":\"de304617-37ac-47ef-98df-100c3c48aab4\",\"type\":\"Line\"},\"hover_glyph\":null,\"muted_glyph\":null,\"nonselection_glyph\":{\"id\":\"fc0a3218-b158-4f06-bda5-3062e1ca5ef4\",\"type\":\"Line\"},\"selection_glyph\":null,\"view\":{\"id\":\"af46229f-ea34-42e2-a188-40325a7ee3e0\",\"type\":\"CDSView\"}},\"id\":\"3a6d3e26-e919-4cb3-a825-50a1490def84\",\"type\":\"GlyphRenderer\"},{\"attributes\":{\"source\":{\"id\":\"5da58e77-aee7-4690-976d-38cb12ac0c12\",\"type\":\"ColumnDataSource\"}},\"id\":\"93bf0d28-b5c9-4145-b9af-737342e14601\",\"type\":\"CDSView\"},{\"attributes\":{\"line_alpha\":0.1,\"line_color\":\"#1f77b4\",\"line_width\":2,\"x\":{\"field\":\"x\"},\"y\":{\"field\":\"y\"}},\"id\":\"ecb0dfc7-d7bb-445f-bbd4-ab8f62b675bf\",\"type\":\"Line\"},{\"attributes\":{\"plot\":null,\"text\":\"\"},\"id\":\"2a5e6d88-cd44-417c-a201-02fbc9b017c2\",\"type\":\"Title\"},{\"attributes\":{\"below\":[{\"id\":\"6590a353-1f1a-494b-8054-139b2ce4fa47\",\"type\":\"LinearAxis\"}],\"left\":[{\"id\":\"f68a4ca4-d75b-4662-9b4b-aa7855b0f789\",\"type\":\"LinearAxis\"}],\"plot_height\":400,\"plot_width\":800,\"renderers\":[{\"id\":\"6590a353-1f1a-494b-8054-139b2ce4fa47\",\"type\":\"LinearAxis\"},{\"id\":\"a1eb8046-e206-440f-8f00-9829d50d3a32\",\"type\":\"Grid\"},{\"id\":\"f68a4ca4-d75b-4662-9b4b-aa7855b0f789\",\"type\":\"LinearAxis\"},{\"id\":\"a7316483-18c6-4c18-80d8-aac47e672230\",\"type\":\"Grid\"},{\"id\":\"c3cd7e40-b0c7-4dab-a70d-0fe15f2318af\",\"type\":\"BoxAnnotation\"},{\"id\":\"3d7e226d-c5cd-4f5e-a328-145eb3365a76\",\"type\":\"Legend\"},{\"id\":\"3a6d3e26-e919-4cb3-a825-50a1490def84\",\"type\":\"GlyphRenderer\"},{\"id\":\"407f535f-b3b6-4ef1-9a37-c29239842db4\",\"type\":\"GlyphRenderer\"},{\"id\":\"087c90bb-d1ce-4b84-8002-8f85f6dd307e\",\"type\":\"GlyphRenderer\"},{\"id\":\"c98822bf-aefe-43fd-943a-340c300c5ff3\",\"type\":\"GlyphRenderer\"},{\"id\":\"041daf6a-882c-4f49-892e-6a1b751a054f\",\"type\":\"GlyphRenderer\"},{\"id\":\"32f55336-5f91-4353-bbee-8440ef6deea3\",\"type\":\"GlyphRenderer\"},{\"id\":\"35e9da25-d005-4b75-a563-126c29024ce1\",\"type\":\"GlyphRenderer\"}],\"title\":{\"id\":\"2a5e6d88-cd44-417c-a201-02fbc9b017c2\",\"type\":\"Title\"},\"toolbar\":{\"id\":\"5b1a15dc-97f2-447b-ab96-1e5c3500ff20\",\"type\":\"Toolbar\"},\"x_range\":{\"id\":\"31c0600f-0b82-42a0-a29c-5ad66b837718\",\"type\":\"DataRange1d\"},\"x_scale\":{\"id\":\"1bd6c8a1-700a-42f6-8314-9cb252d6b18f\",\"type\":\"LinearScale\"},\"y_range\":{\"id\":\"7fa8fc10-f98c-409a-aa11-ccc2562ea9ea\",\"type\":\"DataRange1d\"},\"y_scale\":{\"id\":\"19ef2a95-b097-4871-aa7d-c499c56b59f5\",\"type\":\"LinearScale\"}},\"id\":\"5d0abdf2-066b-4e69-b979-b7501d1f3180\",\"subtype\":\"Figure\",\"type\":\"Plot\"},{\"attributes\":{\"callback\":null,\"column_names\":[\"x\",\"y\"],\"data\":{\"x\":[0,1,2,3,4,5,6,7,8,9,10,11,12,13,14,15,16,17,18,19,20,21,22,23],\"y\":[195,161,135,95,70,70,46,41,86,102,124,150,183,121,164,149,151,140,164,161,140,162,204,207]}},\"id\":\"43d7c29e-304e-4fa2-83c8-244cabe73b43\",\"type\":\"ColumnDataSource\"},{\"attributes\":{\"callback\":null,\"column_names\":[\"x\",\"y\"],\"data\":{\"x\":[0,1,2,3,4,5,6,7,8,9,10,11,12,13,14,15,16,17,18,19,20,21,22,23],\"y\":[128,86,66,43,48,35,61,73,93,132,122,151,163,141,171,155,134,152,178,159,166,177,158,133]}},\"id\":\"5ca50c3e-86d0-41f5-9573-480c66d8b84a\",\"type\":\"ColumnDataSource\"},{\"attributes\":{\"source\":{\"id\":\"382881e9-6ffd-4cde-98ed-638c537cd0bd\",\"type\":\"ColumnDataSource\"}},\"id\":\"e4b32582-d9ce-4288-a8a5-b9048fc21780\",\"type\":\"CDSView\"},{\"attributes\":{\"data_source\":{\"id\":\"382881e9-6ffd-4cde-98ed-638c537cd0bd\",\"type\":\"ColumnDataSource\"},\"glyph\":{\"id\":\"cb2ef0cd-caa8-4743-849e-6b90e45af1c1\",\"type\":\"Line\"},\"hover_glyph\":null,\"muted_glyph\":null,\"nonselection_glyph\":{\"id\":\"b7c8f926-b162-438d-a1b5-3008ba8e9fb8\",\"type\":\"Line\"},\"selection_glyph\":null,\"view\":{\"id\":\"e4b32582-d9ce-4288-a8a5-b9048fc21780\",\"type\":\"CDSView\"}},\"id\":\"c98822bf-aefe-43fd-943a-340c300c5ff3\",\"type\":\"GlyphRenderer\"},{\"attributes\":{\"line_alpha\":0.1,\"line_color\":\"#1f77b4\",\"line_width\":2,\"x\":{\"field\":\"x\"},\"y\":{\"field\":\"y\"}},\"id\":\"b7c8f926-b162-438d-a1b5-3008ba8e9fb8\",\"type\":\"Line\"},{\"attributes\":{},\"id\":\"19ef2a95-b097-4871-aa7d-c499c56b59f5\",\"type\":\"LinearScale\"},{\"attributes\":{\"label\":{\"value\":\"Wednesday\"},\"renderers\":[{\"id\":\"087c90bb-d1ce-4b84-8002-8f85f6dd307e\",\"type\":\"GlyphRenderer\"}]},\"id\":\"051a7557-b064-474e-87c1-a2f681e1aa49\",\"type\":\"LegendItem\"},{\"attributes\":{\"line_color\":\"#1f78b4\",\"line_width\":2,\"x\":{\"field\":\"x\"},\"y\":{\"field\":\"y\"}},\"id\":\"924a0b2e-77a7-4f5a-a819-55ab21b68ac3\",\"type\":\"Line\"},{\"attributes\":{\"items\":[{\"id\":\"2fb5c840-00fd-453f-8d2a-f1c16ca9bca1\",\"type\":\"LegendItem\"},{\"id\":\"586fd240-7b41-4bdd-904a-dc4e38c835d6\",\"type\":\"LegendItem\"},{\"id\":\"051a7557-b064-474e-87c1-a2f681e1aa49\",\"type\":\"LegendItem\"},{\"id\":\"ab2fe3d1-0113-40f2-af8d-50fa73bd4c37\",\"type\":\"LegendItem\"},{\"id\":\"0942a23e-409a-46dc-bebe-0a50a36ae7ae\",\"type\":\"LegendItem\"},{\"id\":\"cf1c5d3e-f840-44d4-acfe-5bf46298ee3e\",\"type\":\"LegendItem\"},{\"id\":\"7d8feeb3-ba8b-4722-9a1e-1e872c17edf4\",\"type\":\"LegendItem\"}],\"plot\":{\"id\":\"5d0abdf2-066b-4e69-b979-b7501d1f3180\",\"subtype\":\"Figure\",\"type\":\"Plot\"}},\"id\":\"3d7e226d-c5cd-4f5e-a328-145eb3365a76\",\"type\":\"Legend\"},{\"attributes\":{\"label\":{\"value\":\"Tuesday\"},\"renderers\":[{\"id\":\"407f535f-b3b6-4ef1-9a37-c29239842db4\",\"type\":\"GlyphRenderer\"}]},\"id\":\"586fd240-7b41-4bdd-904a-dc4e38c835d6\",\"type\":\"LegendItem\"},{\"attributes\":{\"label\":{\"value\":\"Monday\"},\"renderers\":[{\"id\":\"3a6d3e26-e919-4cb3-a825-50a1490def84\",\"type\":\"GlyphRenderer\"}]},\"id\":\"2fb5c840-00fd-453f-8d2a-f1c16ca9bca1\",\"type\":\"LegendItem\"},{\"attributes\":{\"label\":{\"value\":\"Thursday\"},\"renderers\":[{\"id\":\"c98822bf-aefe-43fd-943a-340c300c5ff3\",\"type\":\"GlyphRenderer\"}]},\"id\":\"ab2fe3d1-0113-40f2-af8d-50fa73bd4c37\",\"type\":\"LegendItem\"},{\"attributes\":{\"data_source\":{\"id\":\"5da58e77-aee7-4690-976d-38cb12ac0c12\",\"type\":\"ColumnDataSource\"},\"glyph\":{\"id\":\"02d150f9-ca7c-4774-bb71-1c35cd5873dc\",\"type\":\"Line\"},\"hover_glyph\":null,\"muted_glyph\":null,\"nonselection_glyph\":{\"id\":\"ecb0dfc7-d7bb-445f-bbd4-ab8f62b675bf\",\"type\":\"Line\"},\"selection_glyph\":null,\"view\":{\"id\":\"93bf0d28-b5c9-4145-b9af-737342e14601\",\"type\":\"CDSView\"}},\"id\":\"041daf6a-882c-4f49-892e-6a1b751a054f\",\"type\":\"GlyphRenderer\"},{\"attributes\":{\"source\":{\"id\":\"5ca50c3e-86d0-41f5-9573-480c66d8b84a\",\"type\":\"ColumnDataSource\"}},\"id\":\"27a97bc7-0812-470b-bf96-a5b185c886bb\",\"type\":\"CDSView\"},{\"attributes\":{},\"id\":\"ce7f793d-0954-4a9e-a724-dfd2ed40dfc8\",\"type\":\"BasicTickFormatter\"},{\"attributes\":{\"callback\":null},\"id\":\"31c0600f-0b82-42a0-a29c-5ad66b837718\",\"type\":\"DataRange1d\"},{\"attributes\":{\"data_source\":{\"id\":\"43d7c29e-304e-4fa2-83c8-244cabe73b43\",\"type\":\"ColumnDataSource\"},\"glyph\":{\"id\":\"3c6290ec-cf70-4e5c-93d0-4d9c2723bade\",\"type\":\"Line\"},\"hover_glyph\":null,\"muted_glyph\":null,\"nonselection_glyph\":{\"id\":\"80632a43-2568-4e04-a65d-9fa71cd1a28b\",\"type\":\"Line\"},\"selection_glyph\":null,\"view\":{\"id\":\"a1c2b027-cd6c-4c96-bb1f-78d67fc6346b\",\"type\":\"CDSView\"}},\"id\":\"32f55336-5f91-4353-bbee-8440ef6deea3\",\"type\":\"GlyphRenderer\"},{\"attributes\":{\"formatter\":{\"id\":\"ce7f793d-0954-4a9e-a724-dfd2ed40dfc8\",\"type\":\"BasicTickFormatter\"},\"plot\":{\"id\":\"5d0abdf2-066b-4e69-b979-b7501d1f3180\",\"subtype\":\"Figure\",\"type\":\"Plot\"},\"ticker\":{\"id\":\"fd02c9ec-dee0-4e9f-95b2-927c64b73597\",\"type\":\"BasicTicker\"}},\"id\":\"6590a353-1f1a-494b-8054-139b2ce4fa47\",\"type\":\"LinearAxis\"},{\"attributes\":{\"line_alpha\":0.1,\"line_color\":\"#1f77b4\",\"line_width\":2,\"x\":{\"field\":\"x\"},\"y\":{\"field\":\"y\"}},\"id\":\"80632a43-2568-4e04-a65d-9fa71cd1a28b\",\"type\":\"Line\"},{\"attributes\":{\"label\":{\"value\":\"Friday\"},\"renderers\":[{\"id\":\"041daf6a-882c-4f49-892e-6a1b751a054f\",\"type\":\"GlyphRenderer\"}]},\"id\":\"0942a23e-409a-46dc-bebe-0a50a36ae7ae\",\"type\":\"LegendItem\"},{\"attributes\":{\"source\":{\"id\":\"43d7c29e-304e-4fa2-83c8-244cabe73b43\",\"type\":\"ColumnDataSource\"}},\"id\":\"a1c2b027-cd6c-4c96-bb1f-78d67fc6346b\",\"type\":\"CDSView\"},{\"attributes\":{\"label\":{\"value\":\"Sunday\"},\"renderers\":[{\"id\":\"35e9da25-d005-4b75-a563-126c29024ce1\",\"type\":\"GlyphRenderer\"}]},\"id\":\"7d8feeb3-ba8b-4722-9a1e-1e872c17edf4\",\"type\":\"LegendItem\"},{\"attributes\":{\"line_color\":\"#fb9a99\",\"line_width\":2,\"x\":{\"field\":\"x\"},\"y\":{\"field\":\"y\"}},\"id\":\"02d150f9-ca7c-4774-bb71-1c35cd5873dc\",\"type\":\"Line\"},{\"attributes\":{\"label\":{\"value\":\"Saturday\"},\"renderers\":[{\"id\":\"32f55336-5f91-4353-bbee-8440ef6deea3\",\"type\":\"GlyphRenderer\"}]},\"id\":\"cf1c5d3e-f840-44d4-acfe-5bf46298ee3e\",\"type\":\"LegendItem\"},{\"attributes\":{\"plot\":{\"id\":\"5d0abdf2-066b-4e69-b979-b7501d1f3180\",\"subtype\":\"Figure\",\"type\":\"Plot\"},\"ticker\":{\"id\":\"fd02c9ec-dee0-4e9f-95b2-927c64b73597\",\"type\":\"BasicTicker\"}},\"id\":\"a1eb8046-e206-440f-8f00-9829d50d3a32\",\"type\":\"Grid\"},{\"attributes\":{\"callback\":null,\"column_names\":[\"x\",\"y\"],\"data\":{\"x\":[0,1,2,3,4,5,6,7,8,9,10,11,12,13,14,15,16,17,18,19,20,21,22,23],\"y\":[198,122,99,69,50,51,68,70,107,154,170,175,213,200,195,218,203,212,233,250,220,188,242,234]}},\"id\":\"5da58e77-aee7-4690-976d-38cb12ac0c12\",\"type\":\"ColumnDataSource\"},{\"attributes\":{},\"id\":\"6a897502-31cd-42fa-ac9b-2dc1109def2c\",\"type\":\"SaveTool\"},{\"attributes\":{\"line_color\":\"#e31a1c\",\"line_width\":2,\"x\":{\"field\":\"x\"},\"y\":{\"field\":\"y\"}},\"id\":\"3c6290ec-cf70-4e5c-93d0-4d9c2723bade\",\"type\":\"Line\"},{\"attributes\":{\"overlay\":{\"id\":\"c3cd7e40-b0c7-4dab-a70d-0fe15f2318af\",\"type\":\"BoxAnnotation\"}},\"id\":\"14b96f15-fdde-47b0-b204-64f923bef27d\",\"type\":\"BoxZoomTool\"},{\"attributes\":{\"source\":{\"id\":\"48e50e0a-ec09-4e78-8f3e-45bdc7bc3335\",\"type\":\"ColumnDataSource\"}},\"id\":\"0efc3955-0926-4256-ae2c-54ceb91258c8\",\"type\":\"CDSView\"},{\"attributes\":{},\"id\":\"df09f144-bf21-4d14-9da4-fa8b4a2ecdbb\",\"type\":\"ResetTool\"},{\"attributes\":{},\"id\":\"1bd6c8a1-700a-42f6-8314-9cb252d6b18f\",\"type\":\"LinearScale\"},{\"attributes\":{\"dimension\":1,\"plot\":{\"id\":\"5d0abdf2-066b-4e69-b979-b7501d1f3180\",\"subtype\":\"Figure\",\"type\":\"Plot\"},\"ticker\":{\"id\":\"c1a6ed5c-0eda-400b-b48b-baa75cd217de\",\"type\":\"BasicTicker\"}},\"id\":\"a7316483-18c6-4c18-80d8-aac47e672230\",\"type\":\"Grid\"},{\"attributes\":{},\"id\":\"41a80024-1d97-4907-be94-39077ece53ad\",\"type\":\"PanTool\"},{\"attributes\":{},\"id\":\"fd02c9ec-dee0-4e9f-95b2-927c64b73597\",\"type\":\"BasicTicker\"},{\"attributes\":{\"data_source\":{\"id\":\"5ca50c3e-86d0-41f5-9573-480c66d8b84a\",\"type\":\"ColumnDataSource\"},\"glyph\":{\"id\":\"924a0b2e-77a7-4f5a-a819-55ab21b68ac3\",\"type\":\"Line\"},\"hover_glyph\":null,\"muted_glyph\":null,\"nonselection_glyph\":{\"id\":\"fba133e6-f63c-440b-8c04-96e09b756a46\",\"type\":\"Line\"},\"selection_glyph\":null,\"view\":{\"id\":\"27a97bc7-0812-470b-bf96-a5b185c886bb\",\"type\":\"CDSView\"}},\"id\":\"407f535f-b3b6-4ef1-9a37-c29239842db4\",\"type\":\"GlyphRenderer\"},{\"attributes\":{},\"id\":\"c1a6ed5c-0eda-400b-b48b-baa75cd217de\",\"type\":\"BasicTicker\"},{\"attributes\":{\"callback\":null},\"id\":\"7fa8fc10-f98c-409a-aa11-ccc2562ea9ea\",\"type\":\"DataRange1d\"},{\"attributes\":{\"bottom_units\":\"screen\",\"fill_alpha\":{\"value\":0.5},\"fill_color\":{\"value\":\"lightgrey\"},\"left_units\":\"screen\",\"level\":\"overlay\",\"line_alpha\":{\"value\":1.0},\"line_color\":{\"value\":\"black\"},\"line_dash\":[4,4],\"line_width\":{\"value\":2},\"plot\":null,\"render_mode\":\"css\",\"right_units\":\"screen\",\"top_units\":\"screen\"},\"id\":\"c3cd7e40-b0c7-4dab-a70d-0fe15f2318af\",\"type\":\"BoxAnnotation\"},{\"attributes\":{\"formatter\":{\"id\":\"830b33b2-1289-4624-a7a6-6219910d8ad2\",\"type\":\"BasicTickFormatter\"},\"plot\":{\"id\":\"5d0abdf2-066b-4e69-b979-b7501d1f3180\",\"subtype\":\"Figure\",\"type\":\"Plot\"},\"ticker\":{\"id\":\"c1a6ed5c-0eda-400b-b48b-baa75cd217de\",\"type\":\"BasicTicker\"}},\"id\":\"f68a4ca4-d75b-4662-9b4b-aa7855b0f789\",\"type\":\"LinearAxis\"},{\"attributes\":{\"callback\":null,\"column_names\":[\"x\",\"y\"],\"data\":{\"x\":[0,1,2,3,4,5,6,7,8,9,10,11,12,13,14,15,16,17,18,19,20,21,22,23],\"y\":[183,100,62,69,57,53,49,87,136,172,177,187,228,184,220,216,205,196,248,221,196,191,200,184]}},\"id\":\"48e50e0a-ec09-4e78-8f3e-45bdc7bc3335\",\"type\":\"ColumnDataSource\"},{\"attributes\":{\"line_color\":\"#a6cee3\",\"line_width\":2,\"x\":{\"field\":\"x\"},\"y\":{\"field\":\"y\"}},\"id\":\"de304617-37ac-47ef-98df-100c3c48aab4\",\"type\":\"Line\"},{\"attributes\":{\"active_drag\":\"auto\",\"active_inspect\":\"auto\",\"active_scroll\":\"auto\",\"active_tap\":\"auto\",\"tools\":[{\"id\":\"41a80024-1d97-4907-be94-39077ece53ad\",\"type\":\"PanTool\"},{\"id\":\"344c3e72-b214-4197-b7c9-f5029b7ce188\",\"type\":\"WheelZoomTool\"},{\"id\":\"14b96f15-fdde-47b0-b204-64f923bef27d\",\"type\":\"BoxZoomTool\"},{\"id\":\"6a897502-31cd-42fa-ac9b-2dc1109def2c\",\"type\":\"SaveTool\"},{\"id\":\"df09f144-bf21-4d14-9da4-fa8b4a2ecdbb\",\"type\":\"ResetTool\"},{\"id\":\"0af6d39e-3d5f-4a8e-b0f7-ee7b4f17ea2f\",\"type\":\"HelpTool\"}]},\"id\":\"5b1a15dc-97f2-447b-ab96-1e5c3500ff20\",\"type\":\"Toolbar\"},{\"attributes\":{\"line_alpha\":0.1,\"line_color\":\"#1f77b4\",\"line_width\":2,\"x\":{\"field\":\"x\"},\"y\":{\"field\":\"y\"}},\"id\":\"fba133e6-f63c-440b-8c04-96e09b756a46\",\"type\":\"Line\"},{\"attributes\":{\"line_alpha\":0.1,\"line_color\":\"#1f77b4\",\"line_width\":2,\"x\":{\"field\":\"x\"},\"y\":{\"field\":\"y\"}},\"id\":\"9fad90f0-72ff-4856-b219-e2ce6ff95136\",\"type\":\"Line\"},{\"attributes\":{\"line_color\":\"#fdbf6f\",\"line_width\":2,\"x\":{\"field\":\"x\"},\"y\":{\"field\":\"y\"}},\"id\":\"d28dfff8-d400-4b28-a9fc-1253a1eed0bd\",\"type\":\"Line\"},{\"attributes\":{\"source\":{\"id\":\"3a3b8b22-407a-4215-b350-1b8ef6361193\",\"type\":\"ColumnDataSource\"}},\"id\":\"2d6f79cd-ef8e-4b57-b48e-d37c1224c43e\",\"type\":\"CDSView\"},{\"attributes\":{\"line_alpha\":0.1,\"line_color\":\"#1f77b4\",\"line_width\":2,\"x\":{\"field\":\"x\"},\"y\":{\"field\":\"y\"}},\"id\":\"fc0a3218-b158-4f06-bda5-3062e1ca5ef4\",\"type\":\"Line\"},{\"attributes\":{},\"id\":\"344c3e72-b214-4197-b7c9-f5029b7ce188\",\"type\":\"WheelZoomTool\"}],\"root_ids\":[\"5d0abdf2-066b-4e69-b979-b7501d1f3180\"]},\"title\":\"Bokeh Application\",\"version\":\"0.12.13\"}};\n",
       "  var render_items = [{\"docid\":\"854a5feb-72c7-431b-8352-b5b7ee84bd74\",\"elementid\":\"57e5b595-60d8-4e43-b250-faba92de6880\",\"modelid\":\"5d0abdf2-066b-4e69-b979-b7501d1f3180\"}];\n",
       "  root.Bokeh.embed.embed_items_notebook(docs_json, render_items);\n",
       "\n",
       "  }\n",
       "  if (root.Bokeh !== undefined) {\n",
       "    embed_document(root);\n",
       "  } else {\n",
       "    var attempts = 0;\n",
       "    var timer = setInterval(function(root) {\n",
       "      if (root.Bokeh !== undefined) {\n",
       "        embed_document(root);\n",
       "        clearInterval(timer);\n",
       "      }\n",
       "      attempts++;\n",
       "      if (attempts > 100) {\n",
       "        console.log(\"Bokeh: ERROR: Unable to run BokehJS code because BokehJS library is missing\")\n",
       "        clearInterval(timer);\n",
       "      }\n",
       "    }, 10, root)\n",
       "  }\n",
       "})(window);"
      ],
      "application/vnd.bokehjs_exec.v0+json": ""
     },
     "metadata": {
      "application/vnd.bokehjs_exec.v0+json": {
       "id": "5d0abdf2-066b-4e69-b979-b7501d1f3180"
      }
     },
     "output_type": "display_data"
    },
    {
     "data": {
      "text/html": [
       "\n",
       "<div class=\"bk-root\">\n",
       "    <div class=\"bk-plotdiv\" id=\"c2bb5517-2647-42c1-abe4-eb0c4bce0e31\"></div>\n",
       "</div>"
      ]
     },
     "metadata": {},
     "output_type": "display_data"
    },
    {
     "data": {
      "application/javascript": [
       "(function(root) {\n",
       "  function embed_document(root) {\n",
       "    \n",
       "  var docs_json = {\"d3b657b2-20a3-44b6-8d22-1f4aaa07a5ad\":{\"roots\":{\"references\":[{\"attributes\":{},\"id\":\"b056bae5-3d42-484c-a024-9bd552eab5ca\",\"type\":\"ResetTool\"},{\"attributes\":{\"callback\":null,\"column_names\":[\"x\",\"y\"],\"data\":{\"x\":[0,1,2,3,4,5,6,7,8,9,10,11,12,13,14,15,16,17,18,19,20,21,22,23],\"y\":[233,162,173,182,121,74,62,71,104,162,163,187,238,177,204,210,192,200,194,210,227,239,237,199]}},\"id\":\"337f92a9-b2f2-464e-a5a5-d4bf31e99c45\",\"type\":\"ColumnDataSource\"},{\"attributes\":{\"callback\":null,\"column_names\":[\"x\",\"y\"],\"data\":{\"x\":[0,1,2,3,4,5,6,7,8,9,10,11,12,13,14,15,16,17,18,19,20,21,22,23],\"y\":[193,128,88,67,57,48,66,83,124,173,169,171,213,164,195,174,171,191,250,197,234,217,200,144]}},\"id\":\"b25aed83-78a6-439d-938c-332e4c7ad950\",\"type\":\"ColumnDataSource\"},{\"attributes\":{\"line_alpha\":0.1,\"line_color\":\"#1f77b4\",\"line_width\":2,\"x\":{\"field\":\"x\"},\"y\":{\"field\":\"y\"}},\"id\":\"b1222f8f-914f-43e4-8dd8-f5773b9ed360\",\"type\":\"Line\"},{\"attributes\":{\"line_alpha\":0.1,\"line_color\":\"#1f77b4\",\"line_width\":2,\"x\":{\"field\":\"x\"},\"y\":{\"field\":\"y\"}},\"id\":\"9d79fb86-e740-4792-8093-41d0fcc8f10c\",\"type\":\"Line\"},{\"attributes\":{},\"id\":\"9bc6a9db-cc8f-4ade-a6fd-021032f46678\",\"type\":\"SaveTool\"},{\"attributes\":{\"source\":{\"id\":\"4a82f358-26ed-42ff-9d0e-00371a5162ba\",\"type\":\"ColumnDataSource\"}},\"id\":\"edfa1a8f-f7c1-4248-9e33-8f76bc9fc9ec\",\"type\":\"CDSView\"},{\"attributes\":{\"source\":{\"id\":\"5b5f782d-37f1-48ad-a81c-422079bc64b2\",\"type\":\"ColumnDataSource\"}},\"id\":\"faad8c27-d241-49d3-a91f-d21939145848\",\"type\":\"CDSView\"},{\"attributes\":{\"label\":{\"value\":\"Tuesday\"},\"renderers\":[{\"id\":\"eeca4383-3461-42de-97bd-b7686a20c1a3\",\"type\":\"GlyphRenderer\"}]},\"id\":\"4698a688-f428-4176-a222-852b00ba5664\",\"type\":\"LegendItem\"},{\"attributes\":{\"line_color\":\"#b2df8a\",\"line_width\":2,\"x\":{\"field\":\"x\"},\"y\":{\"field\":\"y\"}},\"id\":\"a0a0bd5c-09bb-4203-9414-b522be9260f7\",\"type\":\"Line\"},{\"attributes\":{\"data_source\":{\"id\":\"337f92a9-b2f2-464e-a5a5-d4bf31e99c45\",\"type\":\"ColumnDataSource\"},\"glyph\":{\"id\":\"d1d7464a-b884-48d8-b8b3-856f8bfb654d\",\"type\":\"Line\"},\"hover_glyph\":null,\"muted_glyph\":null,\"nonselection_glyph\":{\"id\":\"b1222f8f-914f-43e4-8dd8-f5773b9ed360\",\"type\":\"Line\"},\"selection_glyph\":null,\"view\":{\"id\":\"fb8e55f9-4a1d-4b0d-af20-e7f179f57c28\",\"type\":\"CDSView\"}},\"id\":\"321b9645-92c7-4fb5-b656-f7a9fb9b8fbc\",\"type\":\"GlyphRenderer\"},{\"attributes\":{\"label\":{\"value\":\"Thursday\"},\"renderers\":[{\"id\":\"00166539-1023-4234-861c-f59407a5b989\",\"type\":\"GlyphRenderer\"}]},\"id\":\"ad9dffc5-4ec0-4ddf-82e9-7edecb9956d2\",\"type\":\"LegendItem\"},{\"attributes\":{\"label\":{\"value\":\"Friday\"},\"renderers\":[{\"id\":\"3e2d6dde-7389-4ed1-a133-f3619ed04b18\",\"type\":\"GlyphRenderer\"}]},\"id\":\"d6e22018-dc47-421a-873d-e72836ecc155\",\"type\":\"LegendItem\"},{\"attributes\":{\"callback\":null,\"column_names\":[\"x\",\"y\"],\"data\":{\"x\":[0,1,2,3,4,5,6,7,8,9,10,11,12,13,14,15,16,17,18,19,20,21,22,23],\"y\":[135,99,78,59,38,41,48,83,106,142,123,145,182,157,153,168,168,178,182,182,167,183,172,148]}},\"id\":\"4a82f358-26ed-42ff-9d0e-00371a5162ba\",\"type\":\"ColumnDataSource\"},{\"attributes\":{\"label\":{\"value\":\"Wednesday\"},\"renderers\":[{\"id\":\"bbc95354-0946-4a4c-be91-98765f2317e9\",\"type\":\"GlyphRenderer\"}]},\"id\":\"2f9010b7-b6f0-4dcd-bdc8-9064e06122d1\",\"type\":\"LegendItem\"},{\"attributes\":{\"callback\":null,\"column_names\":[\"x\",\"y\"],\"data\":{\"x\":[0,1,2,3,4,5,6,7,8,9,10,11,12,13,14,15,16,17,18,19,20,21,22,23],\"y\":[109,73,55,44,34,39,56,62,107,127,135,158,193,140,148,146,181,175,193,215,182,187,174,143]}},\"id\":\"5b5f782d-37f1-48ad-a81c-422079bc64b2\",\"type\":\"ColumnDataSource\"},{\"attributes\":{\"data_source\":{\"id\":\"5b5f782d-37f1-48ad-a81c-422079bc64b2\",\"type\":\"ColumnDataSource\"},\"glyph\":{\"id\":\"a0a0bd5c-09bb-4203-9414-b522be9260f7\",\"type\":\"Line\"},\"hover_glyph\":null,\"muted_glyph\":null,\"nonselection_glyph\":{\"id\":\"31d2ae45-fd60-4dfb-9dae-0e70fbf0e89b\",\"type\":\"Line\"},\"selection_glyph\":null,\"view\":{\"id\":\"faad8c27-d241-49d3-a91f-d21939145848\",\"type\":\"CDSView\"}},\"id\":\"bbc95354-0946-4a4c-be91-98765f2317e9\",\"type\":\"GlyphRenderer\"},{\"attributes\":{\"plot\":{\"id\":\"bc482baf-4b3a-407d-9e19-899cb065ec29\",\"subtype\":\"Figure\",\"type\":\"Plot\"},\"ticker\":{\"id\":\"6122f70d-aa3e-4e26-a02c-4056b54e03b9\",\"type\":\"BasicTicker\"}},\"id\":\"11d6807c-b511-4593-a075-2c1117862d7c\",\"type\":\"Grid\"},{\"attributes\":{\"data_source\":{\"id\":\"dfea00cc-2aaf-452b-8117-9999a320800d\",\"type\":\"ColumnDataSource\"},\"glyph\":{\"id\":\"6109dea6-740a-4db3-a5b6-ef164b00f5ca\",\"type\":\"Line\"},\"hover_glyph\":null,\"muted_glyph\":null,\"nonselection_glyph\":{\"id\":\"9d79fb86-e740-4792-8093-41d0fcc8f10c\",\"type\":\"Line\"},\"selection_glyph\":null,\"view\":{\"id\":\"e8a04b79-1b1b-4478-91a9-377d455b3298\",\"type\":\"CDSView\"}},\"id\":\"eeca4383-3461-42de-97bd-b7686a20c1a3\",\"type\":\"GlyphRenderer\"},{\"attributes\":{\"label\":{\"value\":\"Sunday\"},\"renderers\":[{\"id\":\"1f47f1df-7f66-4d46-83de-b24db4cc2c0b\",\"type\":\"GlyphRenderer\"}]},\"id\":\"8c6e6289-b8bb-48fd-af16-7485e989fe33\",\"type\":\"LegendItem\"},{\"attributes\":{},\"id\":\"e3166501-d268-41a5-9d84-6f055081b3e2\",\"type\":\"BasicTickFormatter\"},{\"attributes\":{\"callback\":null,\"column_names\":[\"x\",\"y\"],\"data\":{\"x\":[0,1,2,3,4,5,6,7,8,9,10,11,12,13,14,15,16,17,18,19,20,21,22,23],\"y\":[157,93,75,70,51,62,59,83,114,135,123,153,184,151,149,145,183,175,197,188,192,179,191,147]}},\"id\":\"ef4d2fec-8155-4c80-bcd8-4df304e42066\",\"type\":\"ColumnDataSource\"},{\"attributes\":{\"callback\":null,\"column_names\":[\"x\",\"y\"],\"data\":{\"x\":[0,1,2,3,4,5,6,7,8,9,10,11,12,13,14,15,16,17,18,19,20,21,22,23],\"y\":[247,196,192,186,135,94,64,60,76,125,124,162,161,159,155,188,199,201,188,212,246,244,235,164]}},\"id\":\"7fc99f05-c3d4-4386-95de-52c45b5db40a\",\"type\":\"ColumnDataSource\"},{\"attributes\":{\"plot\":null,\"text\":\"\"},\"id\":\"4ae9d361-3e7d-4e7b-a696-3476d378cb13\",\"type\":\"Title\"},{\"attributes\":{\"line_alpha\":0.1,\"line_color\":\"#1f77b4\",\"line_width\":2,\"x\":{\"field\":\"x\"},\"y\":{\"field\":\"y\"}},\"id\":\"66846e4d-1492-41d0-b05d-96d2036502ce\",\"type\":\"Line\"},{\"attributes\":{\"label\":{\"value\":\"Monday\"},\"renderers\":[{\"id\":\"49acad82-192a-4eeb-afd6-661a81443f12\",\"type\":\"GlyphRenderer\"}]},\"id\":\"869f1fc7-4141-46e7-a2ee-ea2e9e0e8751\",\"type\":\"LegendItem\"},{\"attributes\":{},\"id\":\"af066809-4e03-4a86-8c4a-bfcebd4139e4\",\"type\":\"HelpTool\"},{\"attributes\":{\"line_alpha\":0.1,\"line_color\":\"#1f77b4\",\"line_width\":2,\"x\":{\"field\":\"x\"},\"y\":{\"field\":\"y\"}},\"id\":\"5e11cd35-3c5f-4491-80a8-bae39cb54720\",\"type\":\"Line\"},{\"attributes\":{\"source\":{\"id\":\"b25aed83-78a6-439d-938c-332e4c7ad950\",\"type\":\"ColumnDataSource\"}},\"id\":\"67f43a6c-e4ec-46d0-a32e-eba69a750c80\",\"type\":\"CDSView\"},{\"attributes\":{},\"id\":\"414fa055-8d47-404e-b63a-11f9224c8f32\",\"type\":\"BasicTickFormatter\"},{\"attributes\":{\"label\":{\"value\":\"Saturday\"},\"renderers\":[{\"id\":\"321b9645-92c7-4fb5-b656-f7a9fb9b8fbc\",\"type\":\"GlyphRenderer\"}]},\"id\":\"10a08afc-3768-44a3-ab9d-3fad4244180a\",\"type\":\"LegendItem\"},{\"attributes\":{\"line_color\":\"#fdbf6f\",\"line_width\":2,\"x\":{\"field\":\"x\"},\"y\":{\"field\":\"y\"}},\"id\":\"00692b03-c188-4bd8-8629-efd581f287be\",\"type\":\"Line\"},{\"attributes\":{\"data_source\":{\"id\":\"ef4d2fec-8155-4c80-bcd8-4df304e42066\",\"type\":\"ColumnDataSource\"},\"glyph\":{\"id\":\"b531b6cd-4f73-42e6-9d03-9df7b2a613d8\",\"type\":\"Line\"},\"hover_glyph\":null,\"muted_glyph\":null,\"nonselection_glyph\":{\"id\":\"5e11cd35-3c5f-4491-80a8-bae39cb54720\",\"type\":\"Line\"},\"selection_glyph\":null,\"view\":{\"id\":\"4fe9c172-ed4d-40cf-a43b-2ff84b6dcb4c\",\"type\":\"CDSView\"}},\"id\":\"3e2d6dde-7389-4ed1-a133-f3619ed04b18\",\"type\":\"GlyphRenderer\"},{\"attributes\":{\"line_color\":\"#fb9a99\",\"line_width\":2,\"x\":{\"field\":\"x\"},\"y\":{\"field\":\"y\"}},\"id\":\"b531b6cd-4f73-42e6-9d03-9df7b2a613d8\",\"type\":\"Line\"},{\"attributes\":{\"data_source\":{\"id\":\"7fc99f05-c3d4-4386-95de-52c45b5db40a\",\"type\":\"ColumnDataSource\"},\"glyph\":{\"id\":\"00692b03-c188-4bd8-8629-efd581f287be\",\"type\":\"Line\"},\"hover_glyph\":null,\"muted_glyph\":null,\"nonselection_glyph\":{\"id\":\"66846e4d-1492-41d0-b05d-96d2036502ce\",\"type\":\"Line\"},\"selection_glyph\":null,\"view\":{\"id\":\"254c90f8-2dd9-4c76-b5bd-a89b151261a0\",\"type\":\"CDSView\"}},\"id\":\"1f47f1df-7f66-4d46-83de-b24db4cc2c0b\",\"type\":\"GlyphRenderer\"},{\"attributes\":{\"data_source\":{\"id\":\"4a82f358-26ed-42ff-9d0e-00371a5162ba\",\"type\":\"ColumnDataSource\"},\"glyph\":{\"id\":\"adeec5b9-bd03-4794-a9a8-61a14e99875a\",\"type\":\"Line\"},\"hover_glyph\":null,\"muted_glyph\":null,\"nonselection_glyph\":{\"id\":\"302a47cb-68c1-468b-bc6a-d1133e3cd161\",\"type\":\"Line\"},\"selection_glyph\":null,\"view\":{\"id\":\"edfa1a8f-f7c1-4248-9e33-8f76bc9fc9ec\",\"type\":\"CDSView\"}},\"id\":\"00166539-1023-4234-861c-f59407a5b989\",\"type\":\"GlyphRenderer\"},{\"attributes\":{\"items\":[{\"id\":\"869f1fc7-4141-46e7-a2ee-ea2e9e0e8751\",\"type\":\"LegendItem\"},{\"id\":\"4698a688-f428-4176-a222-852b00ba5664\",\"type\":\"LegendItem\"},{\"id\":\"2f9010b7-b6f0-4dcd-bdc8-9064e06122d1\",\"type\":\"LegendItem\"},{\"id\":\"ad9dffc5-4ec0-4ddf-82e9-7edecb9956d2\",\"type\":\"LegendItem\"},{\"id\":\"d6e22018-dc47-421a-873d-e72836ecc155\",\"type\":\"LegendItem\"},{\"id\":\"10a08afc-3768-44a3-ab9d-3fad4244180a\",\"type\":\"LegendItem\"},{\"id\":\"8c6e6289-b8bb-48fd-af16-7485e989fe33\",\"type\":\"LegendItem\"}],\"plot\":{\"id\":\"bc482baf-4b3a-407d-9e19-899cb065ec29\",\"subtype\":\"Figure\",\"type\":\"Plot\"}},\"id\":\"a9e1b188-66df-4635-a485-09b68dcc14bb\",\"type\":\"Legend\"},{\"attributes\":{\"line_alpha\":0.1,\"line_color\":\"#1f77b4\",\"line_width\":2,\"x\":{\"field\":\"x\"},\"y\":{\"field\":\"y\"}},\"id\":\"31d2ae45-fd60-4dfb-9dae-0e70fbf0e89b\",\"type\":\"Line\"},{\"attributes\":{\"line_color\":\"#1f78b4\",\"line_width\":2,\"x\":{\"field\":\"x\"},\"y\":{\"field\":\"y\"}},\"id\":\"6109dea6-740a-4db3-a5b6-ef164b00f5ca\",\"type\":\"Line\"},{\"attributes\":{\"line_color\":\"#33a02c\",\"line_width\":2,\"x\":{\"field\":\"x\"},\"y\":{\"field\":\"y\"}},\"id\":\"adeec5b9-bd03-4794-a9a8-61a14e99875a\",\"type\":\"Line\"},{\"attributes\":{\"source\":{\"id\":\"ef4d2fec-8155-4c80-bcd8-4df304e42066\",\"type\":\"ColumnDataSource\"}},\"id\":\"4fe9c172-ed4d-40cf-a43b-2ff84b6dcb4c\",\"type\":\"CDSView\"},{\"attributes\":{\"bottom_units\":\"screen\",\"fill_alpha\":{\"value\":0.5},\"fill_color\":{\"value\":\"lightgrey\"},\"left_units\":\"screen\",\"level\":\"overlay\",\"line_alpha\":{\"value\":1.0},\"line_color\":{\"value\":\"black\"},\"line_dash\":[4,4],\"line_width\":{\"value\":2},\"plot\":null,\"render_mode\":\"css\",\"right_units\":\"screen\",\"top_units\":\"screen\"},\"id\":\"a27ae2e7-64f6-44e5-98a2-639d110a20ed\",\"type\":\"BoxAnnotation\"},{\"attributes\":{\"below\":[{\"id\":\"1ef31e50-102f-4b08-ac1f-9ede5c9570df\",\"type\":\"LinearAxis\"}],\"left\":[{\"id\":\"54d52773-90dc-4ccc-80dc-9dff953882a6\",\"type\":\"LinearAxis\"}],\"plot_height\":400,\"plot_width\":800,\"renderers\":[{\"id\":\"1ef31e50-102f-4b08-ac1f-9ede5c9570df\",\"type\":\"LinearAxis\"},{\"id\":\"11d6807c-b511-4593-a075-2c1117862d7c\",\"type\":\"Grid\"},{\"id\":\"54d52773-90dc-4ccc-80dc-9dff953882a6\",\"type\":\"LinearAxis\"},{\"id\":\"10367cd7-bca9-418f-9ea9-6b6d2a7f447f\",\"type\":\"Grid\"},{\"id\":\"a27ae2e7-64f6-44e5-98a2-639d110a20ed\",\"type\":\"BoxAnnotation\"},{\"id\":\"a9e1b188-66df-4635-a485-09b68dcc14bb\",\"type\":\"Legend\"},{\"id\":\"49acad82-192a-4eeb-afd6-661a81443f12\",\"type\":\"GlyphRenderer\"},{\"id\":\"eeca4383-3461-42de-97bd-b7686a20c1a3\",\"type\":\"GlyphRenderer\"},{\"id\":\"bbc95354-0946-4a4c-be91-98765f2317e9\",\"type\":\"GlyphRenderer\"},{\"id\":\"00166539-1023-4234-861c-f59407a5b989\",\"type\":\"GlyphRenderer\"},{\"id\":\"3e2d6dde-7389-4ed1-a133-f3619ed04b18\",\"type\":\"GlyphRenderer\"},{\"id\":\"321b9645-92c7-4fb5-b656-f7a9fb9b8fbc\",\"type\":\"GlyphRenderer\"},{\"id\":\"1f47f1df-7f66-4d46-83de-b24db4cc2c0b\",\"type\":\"GlyphRenderer\"}],\"title\":{\"id\":\"4ae9d361-3e7d-4e7b-a696-3476d378cb13\",\"type\":\"Title\"},\"toolbar\":{\"id\":\"7aa36fd2-4a4f-4497-87cd-fe60bf5b2cdf\",\"type\":\"Toolbar\"},\"x_range\":{\"id\":\"fbcbe6c3-99b4-4ca1-93c6-64245f870875\",\"type\":\"DataRange1d\"},\"x_scale\":{\"id\":\"77068e9e-09e8-457b-8cf5-ad71745a3bda\",\"type\":\"LinearScale\"},\"y_range\":{\"id\":\"d30ca85b-1dc3-4d4e-a3e6-1969d7debcc5\",\"type\":\"DataRange1d\"},\"y_scale\":{\"id\":\"4356e16c-8782-455f-bef3-fc9fe96e2a29\",\"type\":\"LinearScale\"}},\"id\":\"bc482baf-4b3a-407d-9e19-899cb065ec29\",\"subtype\":\"Figure\",\"type\":\"Plot\"},{\"attributes\":{},\"id\":\"80c2d161-e630-4b41-8757-45e28a71e39a\",\"type\":\"PanTool\"},{\"attributes\":{},\"id\":\"6c381fed-613c-4376-bce1-c83b1266b715\",\"type\":\"WheelZoomTool\"},{\"attributes\":{\"formatter\":{\"id\":\"e3166501-d268-41a5-9d84-6f055081b3e2\",\"type\":\"BasicTickFormatter\"},\"plot\":{\"id\":\"bc482baf-4b3a-407d-9e19-899cb065ec29\",\"subtype\":\"Figure\",\"type\":\"Plot\"},\"ticker\":{\"id\":\"6122f70d-aa3e-4e26-a02c-4056b54e03b9\",\"type\":\"BasicTicker\"}},\"id\":\"1ef31e50-102f-4b08-ac1f-9ede5c9570df\",\"type\":\"LinearAxis\"},{\"attributes\":{\"source\":{\"id\":\"337f92a9-b2f2-464e-a5a5-d4bf31e99c45\",\"type\":\"ColumnDataSource\"}},\"id\":\"fb8e55f9-4a1d-4b0d-af20-e7f179f57c28\",\"type\":\"CDSView\"},{\"attributes\":{\"overlay\":{\"id\":\"a27ae2e7-64f6-44e5-98a2-639d110a20ed\",\"type\":\"BoxAnnotation\"}},\"id\":\"873bb628-26b5-45f0-a12a-45baf7fb90e9\",\"type\":\"BoxZoomTool\"},{\"attributes\":{\"formatter\":{\"id\":\"414fa055-8d47-404e-b63a-11f9224c8f32\",\"type\":\"BasicTickFormatter\"},\"plot\":{\"id\":\"bc482baf-4b3a-407d-9e19-899cb065ec29\",\"subtype\":\"Figure\",\"type\":\"Plot\"},\"ticker\":{\"id\":\"3e7e9dec-5b25-4682-8e2a-a20244407f2c\",\"type\":\"BasicTicker\"}},\"id\":\"54d52773-90dc-4ccc-80dc-9dff953882a6\",\"type\":\"LinearAxis\"},{\"attributes\":{},\"id\":\"6122f70d-aa3e-4e26-a02c-4056b54e03b9\",\"type\":\"BasicTicker\"},{\"attributes\":{\"dimension\":1,\"plot\":{\"id\":\"bc482baf-4b3a-407d-9e19-899cb065ec29\",\"subtype\":\"Figure\",\"type\":\"Plot\"},\"ticker\":{\"id\":\"3e7e9dec-5b25-4682-8e2a-a20244407f2c\",\"type\":\"BasicTicker\"}},\"id\":\"10367cd7-bca9-418f-9ea9-6b6d2a7f447f\",\"type\":\"Grid\"},{\"attributes\":{},\"id\":\"3e7e9dec-5b25-4682-8e2a-a20244407f2c\",\"type\":\"BasicTicker\"},{\"attributes\":{\"callback\":null},\"id\":\"fbcbe6c3-99b4-4ca1-93c6-64245f870875\",\"type\":\"DataRange1d\"},{\"attributes\":{\"data_source\":{\"id\":\"b25aed83-78a6-439d-938c-332e4c7ad950\",\"type\":\"ColumnDataSource\"},\"glyph\":{\"id\":\"82e11098-e303-4b77-88ef-415e18ee53e5\",\"type\":\"Line\"},\"hover_glyph\":null,\"muted_glyph\":null,\"nonselection_glyph\":{\"id\":\"44743334-6ed0-4aa5-87cf-d016c01fa295\",\"type\":\"Line\"},\"selection_glyph\":null,\"view\":{\"id\":\"67f43a6c-e4ec-46d0-a32e-eba69a750c80\",\"type\":\"CDSView\"}},\"id\":\"49acad82-192a-4eeb-afd6-661a81443f12\",\"type\":\"GlyphRenderer\"},{\"attributes\":{\"line_color\":\"#a6cee3\",\"line_width\":2,\"x\":{\"field\":\"x\"},\"y\":{\"field\":\"y\"}},\"id\":\"82e11098-e303-4b77-88ef-415e18ee53e5\",\"type\":\"Line\"},{\"attributes\":{\"line_color\":\"#e31a1c\",\"line_width\":2,\"x\":{\"field\":\"x\"},\"y\":{\"field\":\"y\"}},\"id\":\"d1d7464a-b884-48d8-b8b3-856f8bfb654d\",\"type\":\"Line\"},{\"attributes\":{\"source\":{\"id\":\"7fc99f05-c3d4-4386-95de-52c45b5db40a\",\"type\":\"ColumnDataSource\"}},\"id\":\"254c90f8-2dd9-4c76-b5bd-a89b151261a0\",\"type\":\"CDSView\"},{\"attributes\":{\"line_alpha\":0.1,\"line_color\":\"#1f77b4\",\"line_width\":2,\"x\":{\"field\":\"x\"},\"y\":{\"field\":\"y\"}},\"id\":\"44743334-6ed0-4aa5-87cf-d016c01fa295\",\"type\":\"Line\"},{\"attributes\":{\"callback\":null},\"id\":\"d30ca85b-1dc3-4d4e-a3e6-1969d7debcc5\",\"type\":\"DataRange1d\"},{\"attributes\":{\"callback\":null,\"column_names\":[\"x\",\"y\"],\"data\":{\"x\":[0,1,2,3,4,5,6,7,8,9,10,11,12,13,14,15,16,17,18,19,20,21,22,23],\"y\":[134,90,72,55,38,30,47,68,84,127,123,129,185,146,134,187,154,161,208,170,182,190,180,152]}},\"id\":\"dfea00cc-2aaf-452b-8117-9999a320800d\",\"type\":\"ColumnDataSource\"},{\"attributes\":{\"active_drag\":\"auto\",\"active_inspect\":\"auto\",\"active_scroll\":\"auto\",\"active_tap\":\"auto\",\"tools\":[{\"id\":\"80c2d161-e630-4b41-8757-45e28a71e39a\",\"type\":\"PanTool\"},{\"id\":\"6c381fed-613c-4376-bce1-c83b1266b715\",\"type\":\"WheelZoomTool\"},{\"id\":\"873bb628-26b5-45f0-a12a-45baf7fb90e9\",\"type\":\"BoxZoomTool\"},{\"id\":\"9bc6a9db-cc8f-4ade-a6fd-021032f46678\",\"type\":\"SaveTool\"},{\"id\":\"b056bae5-3d42-484c-a024-9bd552eab5ca\",\"type\":\"ResetTool\"},{\"id\":\"af066809-4e03-4a86-8c4a-bfcebd4139e4\",\"type\":\"HelpTool\"}]},\"id\":\"7aa36fd2-4a4f-4497-87cd-fe60bf5b2cdf\",\"type\":\"Toolbar\"},{\"attributes\":{\"source\":{\"id\":\"dfea00cc-2aaf-452b-8117-9999a320800d\",\"type\":\"ColumnDataSource\"}},\"id\":\"e8a04b79-1b1b-4478-91a9-377d455b3298\",\"type\":\"CDSView\"},{\"attributes\":{\"line_alpha\":0.1,\"line_color\":\"#1f77b4\",\"line_width\":2,\"x\":{\"field\":\"x\"},\"y\":{\"field\":\"y\"}},\"id\":\"302a47cb-68c1-468b-bc6a-d1133e3cd161\",\"type\":\"Line\"},{\"attributes\":{},\"id\":\"4356e16c-8782-455f-bef3-fc9fe96e2a29\",\"type\":\"LinearScale\"},{\"attributes\":{},\"id\":\"77068e9e-09e8-457b-8cf5-ad71745a3bda\",\"type\":\"LinearScale\"}],\"root_ids\":[\"bc482baf-4b3a-407d-9e19-899cb065ec29\"]},\"title\":\"Bokeh Application\",\"version\":\"0.12.13\"}};\n",
       "  var render_items = [{\"docid\":\"d3b657b2-20a3-44b6-8d22-1f4aaa07a5ad\",\"elementid\":\"c2bb5517-2647-42c1-abe4-eb0c4bce0e31\",\"modelid\":\"bc482baf-4b3a-407d-9e19-899cb065ec29\"}];\n",
       "  root.Bokeh.embed.embed_items_notebook(docs_json, render_items);\n",
       "\n",
       "  }\n",
       "  if (root.Bokeh !== undefined) {\n",
       "    embed_document(root);\n",
       "  } else {\n",
       "    var attempts = 0;\n",
       "    var timer = setInterval(function(root) {\n",
       "      if (root.Bokeh !== undefined) {\n",
       "        embed_document(root);\n",
       "        clearInterval(timer);\n",
       "      }\n",
       "      attempts++;\n",
       "      if (attempts > 100) {\n",
       "        console.log(\"Bokeh: ERROR: Unable to run BokehJS code because BokehJS library is missing\")\n",
       "        clearInterval(timer);\n",
       "      }\n",
       "    }, 10, root)\n",
       "  }\n",
       "})(window);"
      ],
      "application/vnd.bokehjs_exec.v0+json": ""
     },
     "metadata": {
      "application/vnd.bokehjs_exec.v0+json": {
       "id": "bc482baf-4b3a-407d-9e19-899cb065ec29"
      }
     },
     "output_type": "display_data"
    },
    {
     "data": {
      "text/html": [
       "\n",
       "<div class=\"bk-root\">\n",
       "    <div class=\"bk-plotdiv\" id=\"cf16439a-383b-4a1d-83a5-2f38f7c022e3\"></div>\n",
       "</div>"
      ]
     },
     "metadata": {},
     "output_type": "display_data"
    },
    {
     "data": {
      "application/javascript": [
       "(function(root) {\n",
       "  function embed_document(root) {\n",
       "    \n",
       "  var docs_json = {\"8053927a-b36b-4cce-8c0e-032f135fa62a\":{\"roots\":{\"references\":[{\"attributes\":{},\"id\":\"3fd60c36-c2fd-4ba8-94cf-915911881888\",\"type\":\"BasicTickFormatter\"},{\"attributes\":{\"label\":{\"value\":\"Monday\"},\"renderers\":[{\"id\":\"6a58b5ec-49b1-42fc-973a-be422a12803c\",\"type\":\"GlyphRenderer\"}]},\"id\":\"15e8a720-bd2e-4bdd-9a38-bfc52ac2b961\",\"type\":\"LegendItem\"},{\"attributes\":{\"items\":[{\"id\":\"15e8a720-bd2e-4bdd-9a38-bfc52ac2b961\",\"type\":\"LegendItem\"},{\"id\":\"79e87d94-d335-4a27-838f-0b90f238c52f\",\"type\":\"LegendItem\"},{\"id\":\"45b5eb51-93c0-4b01-918c-567282b27908\",\"type\":\"LegendItem\"},{\"id\":\"4de397d4-7ff8-4e12-bae6-25b83c4bb580\",\"type\":\"LegendItem\"},{\"id\":\"50122220-2f36-4914-9c80-5d4d1aa4b479\",\"type\":\"LegendItem\"},{\"id\":\"899ea8a6-e8f7-4a21-bbfc-c294691f7b6a\",\"type\":\"LegendItem\"},{\"id\":\"4dd0b9cb-fbad-44f2-979c-918c2d5a4812\",\"type\":\"LegendItem\"}],\"plot\":{\"id\":\"a82f9b2d-4ba8-4e1f-9527-f1483f601810\",\"subtype\":\"Figure\",\"type\":\"Plot\"}},\"id\":\"4bd8e5ac-d84c-45a3-9df6-c2b0433cad28\",\"type\":\"Legend\"},{\"attributes\":{\"callback\":null,\"column_names\":[\"x\",\"y\"],\"data\":{\"x\":[0,1,2,3,4,5,6,7,8,9,10,11,12,13,14,15,16,17,18,19,20,21,22,23],\"y\":[138,75,67,41,44,36,58,108,107,133,129,136,155,121,132,179,153,180,180,144,147,157,173,131]}},\"id\":\"50dbddf9-a537-42a2-9001-4e317ccc818d\",\"type\":\"ColumnDataSource\"},{\"attributes\":{\"callback\":null,\"column_names\":[\"x\",\"y\"],\"data\":{\"x\":[0,1,2,3,4,5,6,7,8,9,10,11,12,13,14,15,16,17,18,19,20,21,22,23],\"y\":[168,109,78,52,47,46,77,115,133,185,159,182,216,180,192,183,202,201,231,212,214,198,184,165]}},\"id\":\"9ed10857-b872-47c5-8226-6ff2fae7c654\",\"type\":\"ColumnDataSource\"},{\"attributes\":{\"data_source\":{\"id\":\"45928359-2573-41f6-9397-3db64da44754\",\"type\":\"ColumnDataSource\"},\"glyph\":{\"id\":\"5e69d4be-775b-47ff-9aa1-fa7daff406b6\",\"type\":\"Line\"},\"hover_glyph\":null,\"muted_glyph\":null,\"nonselection_glyph\":{\"id\":\"ea90b59d-73b1-4db3-946d-2be184326387\",\"type\":\"Line\"},\"selection_glyph\":null,\"view\":{\"id\":\"fd1c2c0b-eb11-4929-84d4-6e95be5b194a\",\"type\":\"CDSView\"}},\"id\":\"0007b449-001d-46ae-8235-11b3686d4cf7\",\"type\":\"GlyphRenderer\"},{\"attributes\":{\"line_alpha\":0.1,\"line_color\":\"#1f77b4\",\"line_width\":2,\"x\":{\"field\":\"x\"},\"y\":{\"field\":\"y\"}},\"id\":\"5d81f649-642e-4a68-87da-4c287c5041a6\",\"type\":\"Line\"},{\"attributes\":{\"line_alpha\":0.1,\"line_color\":\"#1f77b4\",\"line_width\":2,\"x\":{\"field\":\"x\"},\"y\":{\"field\":\"y\"}},\"id\":\"ea90b59d-73b1-4db3-946d-2be184326387\",\"type\":\"Line\"},{\"attributes\":{\"callback\":null,\"column_names\":[\"x\",\"y\"],\"data\":{\"x\":[0,1,2,3,4,5,6,7,8,9,10,11,12,13,14,15,16,17,18,19,20,21,22,23],\"y\":[154,88,50,48,30,37,48,77,110,134,116,146,171,155,138,182,150,163,162,180,167,180,209,150]}},\"id\":\"4280decc-dc78-49ae-b62c-22a9aae9e317\",\"type\":\"ColumnDataSource\"},{\"attributes\":{\"label\":{\"value\":\"Tuesday\"},\"renderers\":[{\"id\":\"0007b449-001d-46ae-8235-11b3686d4cf7\",\"type\":\"GlyphRenderer\"}]},\"id\":\"79e87d94-d335-4a27-838f-0b90f238c52f\",\"type\":\"LegendItem\"},{\"attributes\":{\"source\":{\"id\":\"45928359-2573-41f6-9397-3db64da44754\",\"type\":\"ColumnDataSource\"}},\"id\":\"fd1c2c0b-eb11-4929-84d4-6e95be5b194a\",\"type\":\"CDSView\"},{\"attributes\":{\"line_color\":\"#b2df8a\",\"line_width\":2,\"x\":{\"field\":\"x\"},\"y\":{\"field\":\"y\"}},\"id\":\"260f6782-919c-4648-9fe9-8d19a75d8581\",\"type\":\"Line\"},{\"attributes\":{},\"id\":\"cbab6a2c-2c1d-4762-b70c-f5382c61546c\",\"type\":\"BasicTickFormatter\"},{\"attributes\":{\"source\":{\"id\":\"9ed10857-b872-47c5-8226-6ff2fae7c654\",\"type\":\"ColumnDataSource\"}},\"id\":\"2a7a6409-1429-41e3-a036-b342f38061f0\",\"type\":\"CDSView\"},{\"attributes\":{\"below\":[{\"id\":\"78703879-19eb-44a6-98f7-c181f9bd2e0a\",\"type\":\"LinearAxis\"}],\"left\":[{\"id\":\"4ec937f0-996e-493e-a989-45db0d7d85ee\",\"type\":\"LinearAxis\"}],\"plot_height\":400,\"plot_width\":800,\"renderers\":[{\"id\":\"78703879-19eb-44a6-98f7-c181f9bd2e0a\",\"type\":\"LinearAxis\"},{\"id\":\"8b8f569c-7544-4d91-bb57-a69c3758beee\",\"type\":\"Grid\"},{\"id\":\"4ec937f0-996e-493e-a989-45db0d7d85ee\",\"type\":\"LinearAxis\"},{\"id\":\"8912ff58-fd82-435a-8263-31d76c721c53\",\"type\":\"Grid\"},{\"id\":\"a7951995-5638-4893-a8a7-68351b7b2cd9\",\"type\":\"BoxAnnotation\"},{\"id\":\"4bd8e5ac-d84c-45a3-9df6-c2b0433cad28\",\"type\":\"Legend\"},{\"id\":\"6a58b5ec-49b1-42fc-973a-be422a12803c\",\"type\":\"GlyphRenderer\"},{\"id\":\"0007b449-001d-46ae-8235-11b3686d4cf7\",\"type\":\"GlyphRenderer\"},{\"id\":\"c09e59bf-da3c-4169-8fa3-95f7446f6a9b\",\"type\":\"GlyphRenderer\"},{\"id\":\"22f6f8ad-14eb-49cd-bc00-0c37b1bcbc6b\",\"type\":\"GlyphRenderer\"},{\"id\":\"7e76968e-4be2-405f-b317-0c46296de72a\",\"type\":\"GlyphRenderer\"},{\"id\":\"a4f73f02-2368-48ab-8666-91b375e05279\",\"type\":\"GlyphRenderer\"},{\"id\":\"a58849f2-0b24-4fd9-9853-9cc96d5de357\",\"type\":\"GlyphRenderer\"}],\"title\":{\"id\":\"30b168cf-65d2-499c-94e5-affce91d13bc\",\"type\":\"Title\"},\"toolbar\":{\"id\":\"1ddfd2b1-829f-4324-a450-c23d95691d95\",\"type\":\"Toolbar\"},\"x_range\":{\"id\":\"faea3eb0-73e0-440f-a265-d5461be2ae0f\",\"type\":\"DataRange1d\"},\"x_scale\":{\"id\":\"f63a88d1-a039-4fea-8cc7-2e034b9d3a1f\",\"type\":\"LinearScale\"},\"y_range\":{\"id\":\"9af21013-283f-430a-a357-387095ddb803\",\"type\":\"DataRange1d\"},\"y_scale\":{\"id\":\"78c27cb5-5467-4a50-b7fd-9f7388698c79\",\"type\":\"LinearScale\"}},\"id\":\"a82f9b2d-4ba8-4e1f-9527-f1483f601810\",\"subtype\":\"Figure\",\"type\":\"Plot\"},{\"attributes\":{\"data_source\":{\"id\":\"9ed10857-b872-47c5-8226-6ff2fae7c654\",\"type\":\"ColumnDataSource\"},\"glyph\":{\"id\":\"260f6782-919c-4648-9fe9-8d19a75d8581\",\"type\":\"Line\"},\"hover_glyph\":null,\"muted_glyph\":null,\"nonselection_glyph\":{\"id\":\"5d81f649-642e-4a68-87da-4c287c5041a6\",\"type\":\"Line\"},\"selection_glyph\":null,\"view\":{\"id\":\"2a7a6409-1429-41e3-a036-b342f38061f0\",\"type\":\"CDSView\"}},\"id\":\"c09e59bf-da3c-4169-8fa3-95f7446f6a9b\",\"type\":\"GlyphRenderer\"},{\"attributes\":{\"callback\":null,\"column_names\":[\"x\",\"y\"],\"data\":{\"x\":[0,1,2,3,4,5,6,7,8,9,10,11,12,13,14,15,16,17,18,19,20,21,22,23],\"y\":[177,101,62,66,59,50,64,101,153,206,169,172,238,162,185,212,195,186,233,222,189,218,210,165]}},\"id\":\"45928359-2573-41f6-9397-3db64da44754\",\"type\":\"ColumnDataSource\"},{\"attributes\":{\"line_color\":\"#1f78b4\",\"line_width\":2,\"x\":{\"field\":\"x\"},\"y\":{\"field\":\"y\"}},\"id\":\"5e69d4be-775b-47ff-9aa1-fa7daff406b6\",\"type\":\"Line\"},{\"attributes\":{\"callback\":null,\"column_names\":[\"x\",\"y\"],\"data\":{\"x\":[0,1,2,3,4,5,6,7,8,9,10,11,12,13,14,15,16,17,18,19,20,21,22,23],\"y\":[194,126,109,96,81,49,48,50,63,123,114,95,158,135,118,160,137,139,188,148,184,182,179,159]}},\"id\":\"6d9b27e5-374f-4c48-80bf-f69c15c3a131\",\"type\":\"ColumnDataSource\"},{\"attributes\":{\"label\":{\"value\":\"Wednesday\"},\"renderers\":[{\"id\":\"c09e59bf-da3c-4169-8fa3-95f7446f6a9b\",\"type\":\"GlyphRenderer\"}]},\"id\":\"45b5eb51-93c0-4b01-918c-567282b27908\",\"type\":\"LegendItem\"},{\"attributes\":{\"line_alpha\":0.1,\"line_color\":\"#1f77b4\",\"line_width\":2,\"x\":{\"field\":\"x\"},\"y\":{\"field\":\"y\"}},\"id\":\"323ee159-bd9b-41f9-bc11-6a6bc90465ab\",\"type\":\"Line\"},{\"attributes\":{\"bottom_units\":\"screen\",\"fill_alpha\":{\"value\":0.5},\"fill_color\":{\"value\":\"lightgrey\"},\"left_units\":\"screen\",\"level\":\"overlay\",\"line_alpha\":{\"value\":1.0},\"line_color\":{\"value\":\"black\"},\"line_dash\":[4,4],\"line_width\":{\"value\":2},\"plot\":null,\"render_mode\":\"css\",\"right_units\":\"screen\",\"top_units\":\"screen\"},\"id\":\"a7951995-5638-4893-a8a7-68351b7b2cd9\",\"type\":\"BoxAnnotation\"},{\"attributes\":{\"callback\":null,\"column_names\":[\"x\",\"y\"],\"data\":{\"x\":[0,1,2,3,4,5,6,7,8,9,10,11,12,13,14,15,16,17,18,19,20,21,22,23],\"y\":[141,83,70,68,47,45,59,66,112,123,141,123,185,159,142,168,176,158,161,163,181,198,152,134]}},\"id\":\"fe0a3cf7-4ae9-4522-bb12-8186a174f384\",\"type\":\"ColumnDataSource\"},{\"attributes\":{\"line_color\":\"#33a02c\",\"line_width\":2,\"x\":{\"field\":\"x\"},\"y\":{\"field\":\"y\"}},\"id\":\"af350cc6-775d-4cc2-81d2-20f580259532\",\"type\":\"Line\"},{\"attributes\":{\"source\":{\"id\":\"50dbddf9-a537-42a2-9001-4e317ccc818d\",\"type\":\"ColumnDataSource\"}},\"id\":\"ce74eb49-7bfe-4779-8e31-4e22f84f845a\",\"type\":\"CDSView\"},{\"attributes\":{\"data_source\":{\"id\":\"50dbddf9-a537-42a2-9001-4e317ccc818d\",\"type\":\"ColumnDataSource\"},\"glyph\":{\"id\":\"af350cc6-775d-4cc2-81d2-20f580259532\",\"type\":\"Line\"},\"hover_glyph\":null,\"muted_glyph\":null,\"nonselection_glyph\":{\"id\":\"323ee159-bd9b-41f9-bc11-6a6bc90465ab\",\"type\":\"Line\"},\"selection_glyph\":null,\"view\":{\"id\":\"ce74eb49-7bfe-4779-8e31-4e22f84f845a\",\"type\":\"CDSView\"}},\"id\":\"22f6f8ad-14eb-49cd-bc00-0c37b1bcbc6b\",\"type\":\"GlyphRenderer\"},{\"attributes\":{},\"id\":\"5188ee37-4d76-4f18-b36c-7d14be75ed79\",\"type\":\"SaveTool\"},{\"attributes\":{\"line_color\":\"#e31a1c\",\"line_width\":2,\"x\":{\"field\":\"x\"},\"y\":{\"field\":\"y\"}},\"id\":\"259d2d0d-f672-4999-960b-2e4e8c9265ff\",\"type\":\"Line\"},{\"attributes\":{\"label\":{\"value\":\"Thursday\"},\"renderers\":[{\"id\":\"22f6f8ad-14eb-49cd-bc00-0c37b1bcbc6b\",\"type\":\"GlyphRenderer\"}]},\"id\":\"4de397d4-7ff8-4e12-bae6-25b83c4bb580\",\"type\":\"LegendItem\"},{\"attributes\":{\"line_alpha\":0.1,\"line_color\":\"#1f77b4\",\"line_width\":2,\"x\":{\"field\":\"x\"},\"y\":{\"field\":\"y\"}},\"id\":\"f8a31ddd-70ed-47a2-ae95-cfe66ce47eca\",\"type\":\"Line\"},{\"attributes\":{\"line_color\":\"#fb9a99\",\"line_width\":2,\"x\":{\"field\":\"x\"},\"y\":{\"field\":\"y\"}},\"id\":\"54776934-998d-42f3-80b5-34d53380894c\",\"type\":\"Line\"},{\"attributes\":{\"source\":{\"id\":\"4280decc-dc78-49ae-b62c-22a9aae9e317\",\"type\":\"ColumnDataSource\"}},\"id\":\"a9212e68-7e5e-4221-b91e-d7b93e512401\",\"type\":\"CDSView\"},{\"attributes\":{\"data_source\":{\"id\":\"4280decc-dc78-49ae-b62c-22a9aae9e317\",\"type\":\"ColumnDataSource\"},\"glyph\":{\"id\":\"54776934-998d-42f3-80b5-34d53380894c\",\"type\":\"Line\"},\"hover_glyph\":null,\"muted_glyph\":null,\"nonselection_glyph\":{\"id\":\"f8a31ddd-70ed-47a2-ae95-cfe66ce47eca\",\"type\":\"Line\"},\"selection_glyph\":null,\"view\":{\"id\":\"a9212e68-7e5e-4221-b91e-d7b93e512401\",\"type\":\"CDSView\"}},\"id\":\"7e76968e-4be2-405f-b317-0c46296de72a\",\"type\":\"GlyphRenderer\"},{\"attributes\":{\"formatter\":{\"id\":\"3fd60c36-c2fd-4ba8-94cf-915911881888\",\"type\":\"BasicTickFormatter\"},\"plot\":{\"id\":\"a82f9b2d-4ba8-4e1f-9527-f1483f601810\",\"subtype\":\"Figure\",\"type\":\"Plot\"},\"ticker\":{\"id\":\"2d0bbbcf-3d02-49a4-87da-a6b48ad6549b\",\"type\":\"BasicTicker\"}},\"id\":\"78703879-19eb-44a6-98f7-c181f9bd2e0a\",\"type\":\"LinearAxis\"},{\"attributes\":{\"label\":{\"value\":\"Friday\"},\"renderers\":[{\"id\":\"7e76968e-4be2-405f-b317-0c46296de72a\",\"type\":\"GlyphRenderer\"}]},\"id\":\"50122220-2f36-4914-9c80-5d4d1aa4b479\",\"type\":\"LegendItem\"},{\"attributes\":{},\"id\":\"761e27ce-6458-499a-9dc5-7f29c8d4776f\",\"type\":\"PanTool\"},{\"attributes\":{\"source\":{\"id\":\"fe0a3cf7-4ae9-4522-bb12-8186a174f384\",\"type\":\"ColumnDataSource\"}},\"id\":\"b3ddd107-826f-484c-9448-bd0e6169bb59\",\"type\":\"CDSView\"},{\"attributes\":{\"line_alpha\":0.1,\"line_color\":\"#1f77b4\",\"line_width\":2,\"x\":{\"field\":\"x\"},\"y\":{\"field\":\"y\"}},\"id\":\"50c69aa2-d773-420e-8440-11a37ae6dd21\",\"type\":\"Line\"},{\"attributes\":{\"callback\":null,\"column_names\":[\"x\",\"y\"],\"data\":{\"x\":[0,1,2,3,4,5,6,7,8,9,10,11,12,13,14,15,16,17,18,19,20,21,22,23],\"y\":[159,145,162,128,92,58,49,40,64,93,105,135,145,123,150,153,162,162,156,170,193,163,183,141]}},\"id\":\"82d13867-82c6-4f65-baab-f7c1e9f69453\",\"type\":\"ColumnDataSource\"},{\"attributes\":{\"active_drag\":\"auto\",\"active_inspect\":\"auto\",\"active_scroll\":\"auto\",\"active_tap\":\"auto\",\"tools\":[{\"id\":\"761e27ce-6458-499a-9dc5-7f29c8d4776f\",\"type\":\"PanTool\"},{\"id\":\"623e887a-4caa-4560-b46a-e6631418020e\",\"type\":\"WheelZoomTool\"},{\"id\":\"4438e841-a826-437a-baea-cadc91cd3248\",\"type\":\"BoxZoomTool\"},{\"id\":\"5188ee37-4d76-4f18-b36c-7d14be75ed79\",\"type\":\"SaveTool\"},{\"id\":\"e35655cd-4a0f-4c8b-afb1-c2da95386e98\",\"type\":\"ResetTool\"},{\"id\":\"cbfe79b0-dbf8-4b3d-91a8-fa85a7eace1b\",\"type\":\"HelpTool\"}]},\"id\":\"1ddfd2b1-829f-4324-a450-c23d95691d95\",\"type\":\"Toolbar\"},{\"attributes\":{\"source\":{\"id\":\"6d9b27e5-374f-4c48-80bf-f69c15c3a131\",\"type\":\"ColumnDataSource\"}},\"id\":\"82453515-1f7e-44c4-8654-963083634474\",\"type\":\"CDSView\"},{\"attributes\":{\"plot\":null,\"text\":\"\"},\"id\":\"30b168cf-65d2-499c-94e5-affce91d13bc\",\"type\":\"Title\"},{\"attributes\":{\"data_source\":{\"id\":\"6d9b27e5-374f-4c48-80bf-f69c15c3a131\",\"type\":\"ColumnDataSource\"},\"glyph\":{\"id\":\"259d2d0d-f672-4999-960b-2e4e8c9265ff\",\"type\":\"Line\"},\"hover_glyph\":null,\"muted_glyph\":null,\"nonselection_glyph\":{\"id\":\"50c69aa2-d773-420e-8440-11a37ae6dd21\",\"type\":\"Line\"},\"selection_glyph\":null,\"view\":{\"id\":\"82453515-1f7e-44c4-8654-963083634474\",\"type\":\"CDSView\"}},\"id\":\"a4f73f02-2368-48ab-8666-91b375e05279\",\"type\":\"GlyphRenderer\"},{\"attributes\":{},\"id\":\"e35655cd-4a0f-4c8b-afb1-c2da95386e98\",\"type\":\"ResetTool\"},{\"attributes\":{\"label\":{\"value\":\"Saturday\"},\"renderers\":[{\"id\":\"a4f73f02-2368-48ab-8666-91b375e05279\",\"type\":\"GlyphRenderer\"}]},\"id\":\"899ea8a6-e8f7-4a21-bbfc-c294691f7b6a\",\"type\":\"LegendItem\"},{\"attributes\":{\"line_alpha\":0.1,\"line_color\":\"#1f77b4\",\"line_width\":2,\"x\":{\"field\":\"x\"},\"y\":{\"field\":\"y\"}},\"id\":\"69dfd5c2-d4d4-42b3-b0a4-be6ec41c45ed\",\"type\":\"Line\"},{\"attributes\":{\"line_color\":\"#fdbf6f\",\"line_width\":2,\"x\":{\"field\":\"x\"},\"y\":{\"field\":\"y\"}},\"id\":\"51d9a351-facf-4f68-98d1-7ee4c84c1001\",\"type\":\"Line\"},{\"attributes\":{},\"id\":\"f63a88d1-a039-4fea-8cc7-2e034b9d3a1f\",\"type\":\"LinearScale\"},{\"attributes\":{\"source\":{\"id\":\"82d13867-82c6-4f65-baab-f7c1e9f69453\",\"type\":\"ColumnDataSource\"}},\"id\":\"ab2bc741-cb7b-4eb6-ab9e-6aa663b18781\",\"type\":\"CDSView\"},{\"attributes\":{\"data_source\":{\"id\":\"82d13867-82c6-4f65-baab-f7c1e9f69453\",\"type\":\"ColumnDataSource\"},\"glyph\":{\"id\":\"51d9a351-facf-4f68-98d1-7ee4c84c1001\",\"type\":\"Line\"},\"hover_glyph\":null,\"muted_glyph\":null,\"nonselection_glyph\":{\"id\":\"69dfd5c2-d4d4-42b3-b0a4-be6ec41c45ed\",\"type\":\"Line\"},\"selection_glyph\":null,\"view\":{\"id\":\"ab2bc741-cb7b-4eb6-ab9e-6aa663b18781\",\"type\":\"CDSView\"}},\"id\":\"a58849f2-0b24-4fd9-9853-9cc96d5de357\",\"type\":\"GlyphRenderer\"},{\"attributes\":{\"label\":{\"value\":\"Sunday\"},\"renderers\":[{\"id\":\"a58849f2-0b24-4fd9-9853-9cc96d5de357\",\"type\":\"GlyphRenderer\"}]},\"id\":\"4dd0b9cb-fbad-44f2-979c-918c2d5a4812\",\"type\":\"LegendItem\"},{\"attributes\":{},\"id\":\"2d0bbbcf-3d02-49a4-87da-a6b48ad6549b\",\"type\":\"BasicTicker\"},{\"attributes\":{},\"id\":\"78c27cb5-5467-4a50-b7fd-9f7388698c79\",\"type\":\"LinearScale\"},{\"attributes\":{\"formatter\":{\"id\":\"cbab6a2c-2c1d-4762-b70c-f5382c61546c\",\"type\":\"BasicTickFormatter\"},\"plot\":{\"id\":\"a82f9b2d-4ba8-4e1f-9527-f1483f601810\",\"subtype\":\"Figure\",\"type\":\"Plot\"},\"ticker\":{\"id\":\"07b1613c-7d2f-4567-b62f-e32e8bfa1874\",\"type\":\"BasicTicker\"}},\"id\":\"4ec937f0-996e-493e-a989-45db0d7d85ee\",\"type\":\"LinearAxis\"},{\"attributes\":{\"line_color\":\"#a6cee3\",\"line_width\":2,\"x\":{\"field\":\"x\"},\"y\":{\"field\":\"y\"}},\"id\":\"5a1fd4d2-2b20-4b92-a2d3-91f64593ab21\",\"type\":\"Line\"},{\"attributes\":{},\"id\":\"07b1613c-7d2f-4567-b62f-e32e8bfa1874\",\"type\":\"BasicTicker\"},{\"attributes\":{},\"id\":\"cbfe79b0-dbf8-4b3d-91a8-fa85a7eace1b\",\"type\":\"HelpTool\"},{\"attributes\":{},\"id\":\"623e887a-4caa-4560-b46a-e6631418020e\",\"type\":\"WheelZoomTool\"},{\"attributes\":{\"overlay\":{\"id\":\"a7951995-5638-4893-a8a7-68351b7b2cd9\",\"type\":\"BoxAnnotation\"}},\"id\":\"4438e841-a826-437a-baea-cadc91cd3248\",\"type\":\"BoxZoomTool\"},{\"attributes\":{\"callback\":null},\"id\":\"9af21013-283f-430a-a357-387095ddb803\",\"type\":\"DataRange1d\"},{\"attributes\":{\"callback\":null},\"id\":\"faea3eb0-73e0-440f-a265-d5461be2ae0f\",\"type\":\"DataRange1d\"},{\"attributes\":{\"data_source\":{\"id\":\"fe0a3cf7-4ae9-4522-bb12-8186a174f384\",\"type\":\"ColumnDataSource\"},\"glyph\":{\"id\":\"5a1fd4d2-2b20-4b92-a2d3-91f64593ab21\",\"type\":\"Line\"},\"hover_glyph\":null,\"muted_glyph\":null,\"nonselection_glyph\":{\"id\":\"89a596d3-0d58-495b-847f-e347108820c3\",\"type\":\"Line\"},\"selection_glyph\":null,\"view\":{\"id\":\"b3ddd107-826f-484c-9448-bd0e6169bb59\",\"type\":\"CDSView\"}},\"id\":\"6a58b5ec-49b1-42fc-973a-be422a12803c\",\"type\":\"GlyphRenderer\"},{\"attributes\":{\"plot\":{\"id\":\"a82f9b2d-4ba8-4e1f-9527-f1483f601810\",\"subtype\":\"Figure\",\"type\":\"Plot\"},\"ticker\":{\"id\":\"2d0bbbcf-3d02-49a4-87da-a6b48ad6549b\",\"type\":\"BasicTicker\"}},\"id\":\"8b8f569c-7544-4d91-bb57-a69c3758beee\",\"type\":\"Grid\"},{\"attributes\":{\"dimension\":1,\"plot\":{\"id\":\"a82f9b2d-4ba8-4e1f-9527-f1483f601810\",\"subtype\":\"Figure\",\"type\":\"Plot\"},\"ticker\":{\"id\":\"07b1613c-7d2f-4567-b62f-e32e8bfa1874\",\"type\":\"BasicTicker\"}},\"id\":\"8912ff58-fd82-435a-8263-31d76c721c53\",\"type\":\"Grid\"},{\"attributes\":{\"line_alpha\":0.1,\"line_color\":\"#1f77b4\",\"line_width\":2,\"x\":{\"field\":\"x\"},\"y\":{\"field\":\"y\"}},\"id\":\"89a596d3-0d58-495b-847f-e347108820c3\",\"type\":\"Line\"}],\"root_ids\":[\"a82f9b2d-4ba8-4e1f-9527-f1483f601810\"]},\"title\":\"Bokeh Application\",\"version\":\"0.12.13\"}};\n",
       "  var render_items = [{\"docid\":\"8053927a-b36b-4cce-8c0e-032f135fa62a\",\"elementid\":\"cf16439a-383b-4a1d-83a5-2f38f7c022e3\",\"modelid\":\"a82f9b2d-4ba8-4e1f-9527-f1483f601810\"}];\n",
       "  root.Bokeh.embed.embed_items_notebook(docs_json, render_items);\n",
       "\n",
       "  }\n",
       "  if (root.Bokeh !== undefined) {\n",
       "    embed_document(root);\n",
       "  } else {\n",
       "    var attempts = 0;\n",
       "    var timer = setInterval(function(root) {\n",
       "      if (root.Bokeh !== undefined) {\n",
       "        embed_document(root);\n",
       "        clearInterval(timer);\n",
       "      }\n",
       "      attempts++;\n",
       "      if (attempts > 100) {\n",
       "        console.log(\"Bokeh: ERROR: Unable to run BokehJS code because BokehJS library is missing\")\n",
       "        clearInterval(timer);\n",
       "      }\n",
       "    }, 10, root)\n",
       "  }\n",
       "})(window);"
      ],
      "application/vnd.bokehjs_exec.v0+json": ""
     },
     "metadata": {
      "application/vnd.bokehjs_exec.v0+json": {
       "id": "a82f9b2d-4ba8-4e1f-9527-f1483f601810"
      }
     },
     "output_type": "display_data"
    },
    {
     "data": {
      "text/html": [
       "\n",
       "<div class=\"bk-root\">\n",
       "    <div class=\"bk-plotdiv\" id=\"8b2ac8bb-6b76-4242-9f67-a3f072366217\"></div>\n",
       "</div>"
      ]
     },
     "metadata": {},
     "output_type": "display_data"
    },
    {
     "data": {
      "application/javascript": [
       "(function(root) {\n",
       "  function embed_document(root) {\n",
       "    \n",
       "  var docs_json = {\"9148e6fc-ae7e-4bc1-92c0-42459bdfe48a\":{\"roots\":{\"references\":[{\"attributes\":{\"callback\":null,\"column_names\":[\"x\",\"y\"],\"data\":{\"x\":[0,1,2,3,4,5,6,7,8,9,10,11,12,13,14,15,16,17,18,19,20,21,22,23],\"y\":[190,80,55,51,36,49,64,93,168,191,176,149,237,204,181,220,208,170,211,214,224,212,183,138]}},\"id\":\"de8b12bb-2b63-4f35-8535-5109c6113e4b\",\"type\":\"ColumnDataSource\"},{\"attributes\":{\"callback\":null,\"column_names\":[\"x\",\"y\"],\"data\":{\"x\":[0,1,2,3,4,5,6,7,8,9,10,11,12,13,14,15,16,17,18,19,20,21,22,23],\"y\":[149,106,66,61,45,37,51,141,184,178,164,168,218,180,199,210,231,185,220,240,192,194,207,158]}},\"id\":\"dd727015-2f2c-4e96-bfbc-21d55394add3\",\"type\":\"ColumnDataSource\"},{\"attributes\":{\"line_alpha\":0.1,\"line_color\":\"#1f77b4\",\"line_width\":2,\"x\":{\"field\":\"x\"},\"y\":{\"field\":\"y\"}},\"id\":\"a31f8b24-1973-45f9-a54f-004907880265\",\"type\":\"Line\"},{\"attributes\":{\"data_source\":{\"id\":\"39c3e3e6-3d35-4a88-b3b2-83f20f40e5b6\",\"type\":\"ColumnDataSource\"},\"glyph\":{\"id\":\"7775bdbf-d670-45c7-8076-4ee1d5332c84\",\"type\":\"Line\"},\"hover_glyph\":null,\"muted_glyph\":null,\"nonselection_glyph\":{\"id\":\"a31f8b24-1973-45f9-a54f-004907880265\",\"type\":\"Line\"},\"selection_glyph\":null,\"view\":{\"id\":\"34df4aff-ab32-413b-95d6-0c7e2fa5c1e7\",\"type\":\"CDSView\"}},\"id\":\"d8df3d0d-ea5b-4261-be0d-b63d9de2f94c\",\"type\":\"GlyphRenderer\"},{\"attributes\":{\"label\":{\"value\":\"Tuesday\"},\"renderers\":[{\"id\":\"d8df3d0d-ea5b-4261-be0d-b63d9de2f94c\",\"type\":\"GlyphRenderer\"}]},\"id\":\"900d136f-445b-46d1-86ca-a09316c8819d\",\"type\":\"LegendItem\"},{\"attributes\":{\"line_alpha\":0.1,\"line_color\":\"#1f77b4\",\"line_width\":2,\"x\":{\"field\":\"x\"},\"y\":{\"field\":\"y\"}},\"id\":\"03234a3c-506f-423f-bc98-4ebba44f5f61\",\"type\":\"Line\"},{\"attributes\":{\"active_drag\":\"auto\",\"active_inspect\":\"auto\",\"active_scroll\":\"auto\",\"active_tap\":\"auto\",\"tools\":[{\"id\":\"4581c3de-7962-4971-b9d6-3005f62165fc\",\"type\":\"PanTool\"},{\"id\":\"85d8229d-17ff-4aaa-8951-2d196090d6f4\",\"type\":\"WheelZoomTool\"},{\"id\":\"5d4f39e1-3b4c-4b32-985b-066eba9061f3\",\"type\":\"BoxZoomTool\"},{\"id\":\"1d1c0ddf-a4c3-4b31-9869-dfdf629dff06\",\"type\":\"SaveTool\"},{\"id\":\"297fa418-c754-4a78-b891-4592c7438ad6\",\"type\":\"ResetTool\"},{\"id\":\"5aa62a62-7498-462b-9f36-dff6bc738a59\",\"type\":\"HelpTool\"}]},\"id\":\"77a7097c-6369-4e97-9fe4-f569ef1ca7b1\",\"type\":\"Toolbar\"},{\"attributes\":{\"source\":{\"id\":\"39c3e3e6-3d35-4a88-b3b2-83f20f40e5b6\",\"type\":\"ColumnDataSource\"}},\"id\":\"34df4aff-ab32-413b-95d6-0c7e2fa5c1e7\",\"type\":\"CDSView\"},{\"attributes\":{\"callback\":null},\"id\":\"ee3abb77-02a3-4499-b957-8e50b605f5e9\",\"type\":\"DataRange1d\"},{\"attributes\":{\"line_color\":\"#b2df8a\",\"line_width\":2,\"x\":{\"field\":\"x\"},\"y\":{\"field\":\"y\"}},\"id\":\"4428ffb7-9f38-4026-9797-53fd23908f38\",\"type\":\"Line\"},{\"attributes\":{},\"id\":\"d0acafa0-706c-4821-b9f2-496ad557f066\",\"type\":\"LinearScale\"},{\"attributes\":{\"source\":{\"id\":\"07eb896e-e7d1-482c-a05b-5ba0d770879f\",\"type\":\"ColumnDataSource\"}},\"id\":\"7092f524-730a-42ab-b844-431f14a21b7f\",\"type\":\"CDSView\"},{\"attributes\":{\"callback\":null,\"column_names\":[\"x\",\"y\"],\"data\":{\"x\":[0,1,2,3,4,5,6,7,8,9,10,11,12,13,14,15,16,17,18,19,20,21,22,23],\"y\":[126,63,57,44,45,37,66,65,117,141,139,131,176,139,152,135,167,173,191,159,171,154,138,123]}},\"id\":\"07eb896e-e7d1-482c-a05b-5ba0d770879f\",\"type\":\"ColumnDataSource\"},{\"attributes\":{\"data_source\":{\"id\":\"07eb896e-e7d1-482c-a05b-5ba0d770879f\",\"type\":\"ColumnDataSource\"},\"glyph\":{\"id\":\"4428ffb7-9f38-4026-9797-53fd23908f38\",\"type\":\"Line\"},\"hover_glyph\":null,\"muted_glyph\":null,\"nonselection_glyph\":{\"id\":\"03234a3c-506f-423f-bc98-4ebba44f5f61\",\"type\":\"Line\"},\"selection_glyph\":null,\"view\":{\"id\":\"7092f524-730a-42ab-b844-431f14a21b7f\",\"type\":\"CDSView\"}},\"id\":\"7faa5e2d-b3a7-4a03-9ce8-e77c98f175ca\",\"type\":\"GlyphRenderer\"},{\"attributes\":{},\"id\":\"8ec8a760-3e6d-4e49-a756-3d5e654ff3f5\",\"type\":\"LinearScale\"},{\"attributes\":{\"callback\":null,\"column_names\":[\"x\",\"y\"],\"data\":{\"x\":[0,1,2,3,4,5,6,7,8,9,10,11,12,13,14,15,16,17,18,19,20,21,22,23],\"y\":[166,129,134,118,64,68,54,52,101,124,142,152,197,133,182,187,189,177,193,208,203,211,203,194]}},\"id\":\"17328b68-0496-4602-9243-77e16623913b\",\"type\":\"ColumnDataSource\"},{\"attributes\":{\"label\":{\"value\":\"Wednesday\"},\"renderers\":[{\"id\":\"7faa5e2d-b3a7-4a03-9ce8-e77c98f175ca\",\"type\":\"GlyphRenderer\"}]},\"id\":\"efe139d7-85a9-437b-8b96-7b7e78217290\",\"type\":\"LegendItem\"},{\"attributes\":{\"line_alpha\":0.1,\"line_color\":\"#1f77b4\",\"line_width\":2,\"x\":{\"field\":\"x\"},\"y\":{\"field\":\"y\"}},\"id\":\"5f13743d-f4c6-46b0-aa9a-0e671c3bd330\",\"type\":\"Line\"},{\"attributes\":{\"line_color\":\"#33a02c\",\"line_width\":2,\"x\":{\"field\":\"x\"},\"y\":{\"field\":\"y\"}},\"id\":\"8d12ac2e-99b9-40df-a815-50d2c9815c6b\",\"type\":\"Line\"},{\"attributes\":{\"source\":{\"id\":\"de8b12bb-2b63-4f35-8535-5109c6113e4b\",\"type\":\"ColumnDataSource\"}},\"id\":\"f80cf119-b249-49fa-816e-b1b3b63723c0\",\"type\":\"CDSView\"},{\"attributes\":{\"data_source\":{\"id\":\"de8b12bb-2b63-4f35-8535-5109c6113e4b\",\"type\":\"ColumnDataSource\"},\"glyph\":{\"id\":\"8d12ac2e-99b9-40df-a815-50d2c9815c6b\",\"type\":\"Line\"},\"hover_glyph\":null,\"muted_glyph\":null,\"nonselection_glyph\":{\"id\":\"5f13743d-f4c6-46b0-aa9a-0e671c3bd330\",\"type\":\"Line\"},\"selection_glyph\":null,\"view\":{\"id\":\"f80cf119-b249-49fa-816e-b1b3b63723c0\",\"type\":\"CDSView\"}},\"id\":\"40ab8041-cf06-4d46-b7c4-bb44c179af28\",\"type\":\"GlyphRenderer\"},{\"attributes\":{\"line_color\":\"#e31a1c\",\"line_width\":2,\"x\":{\"field\":\"x\"},\"y\":{\"field\":\"y\"}},\"id\":\"bd50449b-ed15-40e5-ae16-11ffe3f9bf04\",\"type\":\"Line\"},{\"attributes\":{\"label\":{\"value\":\"Thursday\"},\"renderers\":[{\"id\":\"40ab8041-cf06-4d46-b7c4-bb44c179af28\",\"type\":\"GlyphRenderer\"}]},\"id\":\"fbad8437-d981-47de-b9f1-df0f1ebf7c2a\",\"type\":\"LegendItem\"},{\"attributes\":{\"line_alpha\":0.1,\"line_color\":\"#1f77b4\",\"line_width\":2,\"x\":{\"field\":\"x\"},\"y\":{\"field\":\"y\"}},\"id\":\"90b18d00-3087-4eee-9394-82e68223c502\",\"type\":\"Line\"},{\"attributes\":{\"line_color\":\"#fb9a99\",\"line_width\":2,\"x\":{\"field\":\"x\"},\"y\":{\"field\":\"y\"}},\"id\":\"d33d6df3-dac5-41e2-914e-dc7723218b25\",\"type\":\"Line\"},{\"attributes\":{\"source\":{\"id\":\"dd727015-2f2c-4e96-bfbc-21d55394add3\",\"type\":\"ColumnDataSource\"}},\"id\":\"30675d94-81ba-4da7-86de-c92f2896c8a4\",\"type\":\"CDSView\"},{\"attributes\":{\"below\":[{\"id\":\"33bda1a8-07a3-4b68-9f5e-3134f16a4524\",\"type\":\"LinearAxis\"}],\"left\":[{\"id\":\"b4fc5851-969b-4fcf-a02c-48efb245feb9\",\"type\":\"LinearAxis\"}],\"plot_height\":400,\"plot_width\":800,\"renderers\":[{\"id\":\"33bda1a8-07a3-4b68-9f5e-3134f16a4524\",\"type\":\"LinearAxis\"},{\"id\":\"d1593599-b47f-44e2-b95c-5432a0e71764\",\"type\":\"Grid\"},{\"id\":\"b4fc5851-969b-4fcf-a02c-48efb245feb9\",\"type\":\"LinearAxis\"},{\"id\":\"69aaab1b-78df-4e04-bf4a-4138baa520dc\",\"type\":\"Grid\"},{\"id\":\"2d1236bb-71d9-4269-beed-225da4e5364a\",\"type\":\"BoxAnnotation\"},{\"id\":\"0df46bf9-f388-4a18-ac41-b66c557d484d\",\"type\":\"Legend\"},{\"id\":\"cbad13a2-eef5-4cb8-82cb-5cc762761463\",\"type\":\"GlyphRenderer\"},{\"id\":\"d8df3d0d-ea5b-4261-be0d-b63d9de2f94c\",\"type\":\"GlyphRenderer\"},{\"id\":\"7faa5e2d-b3a7-4a03-9ce8-e77c98f175ca\",\"type\":\"GlyphRenderer\"},{\"id\":\"40ab8041-cf06-4d46-b7c4-bb44c179af28\",\"type\":\"GlyphRenderer\"},{\"id\":\"f88b0008-6042-44be-a019-49ce89d3120f\",\"type\":\"GlyphRenderer\"},{\"id\":\"51101287-74f8-4e2c-b522-6346f4c2b2e3\",\"type\":\"GlyphRenderer\"},{\"id\":\"62abc9b3-3a0b-4fdb-9f12-90469ede0f51\",\"type\":\"GlyphRenderer\"}],\"title\":{\"id\":\"54e83c6b-544d-4f46-9360-24a46a3801ca\",\"type\":\"Title\"},\"toolbar\":{\"id\":\"77a7097c-6369-4e97-9fe4-f569ef1ca7b1\",\"type\":\"Toolbar\"},\"x_range\":{\"id\":\"ee3abb77-02a3-4499-b957-8e50b605f5e9\",\"type\":\"DataRange1d\"},\"x_scale\":{\"id\":\"8ec8a760-3e6d-4e49-a756-3d5e654ff3f5\",\"type\":\"LinearScale\"},\"y_range\":{\"id\":\"39e8850e-bf4f-4e81-b22d-ffafff35b764\",\"type\":\"DataRange1d\"},\"y_scale\":{\"id\":\"d0acafa0-706c-4821-b9f2-496ad557f066\",\"type\":\"LinearScale\"}},\"id\":\"021a8263-29fd-4a69-8089-f1e0aa1f03d7\",\"subtype\":\"Figure\",\"type\":\"Plot\"},{\"attributes\":{\"data_source\":{\"id\":\"dd727015-2f2c-4e96-bfbc-21d55394add3\",\"type\":\"ColumnDataSource\"},\"glyph\":{\"id\":\"d33d6df3-dac5-41e2-914e-dc7723218b25\",\"type\":\"Line\"},\"hover_glyph\":null,\"muted_glyph\":null,\"nonselection_glyph\":{\"id\":\"90b18d00-3087-4eee-9394-82e68223c502\",\"type\":\"Line\"},\"selection_glyph\":null,\"view\":{\"id\":\"30675d94-81ba-4da7-86de-c92f2896c8a4\",\"type\":\"CDSView\"}},\"id\":\"f88b0008-6042-44be-a019-49ce89d3120f\",\"type\":\"GlyphRenderer\"},{\"attributes\":{\"label\":{\"value\":\"Friday\"},\"renderers\":[{\"id\":\"f88b0008-6042-44be-a019-49ce89d3120f\",\"type\":\"GlyphRenderer\"}]},\"id\":\"fc19857c-d1a2-445a-abd3-16e500704cde\",\"type\":\"LegendItem\"},{\"attributes\":{\"line_alpha\":0.1,\"line_color\":\"#1f77b4\",\"line_width\":2,\"x\":{\"field\":\"x\"},\"y\":{\"field\":\"y\"}},\"id\":\"98e15253-3412-41cb-bea4-d672dec07a2b\",\"type\":\"Line\"},{\"attributes\":{\"callback\":null,\"column_names\":[\"x\",\"y\"],\"data\":{\"x\":[0,1,2,3,4,5,6,7,8,9,10,11,12,13,14,15,16,17,18,19,20,21,22,23],\"y\":[138,135,110,105,84,49,53,42,70,95,103,114,131,99,114,127,120,136,157,199,178,138,143,124]}},\"id\":\"23d2bae7-d8a8-40a7-86ec-3f8efec2a9b8\",\"type\":\"ColumnDataSource\"},{\"attributes\":{\"callback\":null,\"column_names\":[\"x\",\"y\"],\"data\":{\"x\":[0,1,2,3,4,5,6,7,8,9,10,11,12,13,14,15,16,17,18,19,20,21,22,23],\"y\":[139,62,59,59,38,35,53,85,108,157,150,119,169,132,162,200,165,165,179,197,173,158,140,116]}},\"id\":\"339391cc-7488-4ba7-8d10-d5388aa2fb1e\",\"type\":\"ColumnDataSource\"},{\"attributes\":{\"source\":{\"id\":\"17328b68-0496-4602-9243-77e16623913b\",\"type\":\"ColumnDataSource\"}},\"id\":\"08b51625-c673-476b-9333-cd1470619118\",\"type\":\"CDSView\"},{\"attributes\":{\"data_source\":{\"id\":\"17328b68-0496-4602-9243-77e16623913b\",\"type\":\"ColumnDataSource\"},\"glyph\":{\"id\":\"bd50449b-ed15-40e5-ae16-11ffe3f9bf04\",\"type\":\"Line\"},\"hover_glyph\":null,\"muted_glyph\":null,\"nonselection_glyph\":{\"id\":\"98e15253-3412-41cb-bea4-d672dec07a2b\",\"type\":\"Line\"},\"selection_glyph\":null,\"view\":{\"id\":\"08b51625-c673-476b-9333-cd1470619118\",\"type\":\"CDSView\"}},\"id\":\"51101287-74f8-4e2c-b522-6346f4c2b2e3\",\"type\":\"GlyphRenderer\"},{\"attributes\":{\"label\":{\"value\":\"Saturday\"},\"renderers\":[{\"id\":\"51101287-74f8-4e2c-b522-6346f4c2b2e3\",\"type\":\"GlyphRenderer\"}]},\"id\":\"cc04103b-7600-42df-b2df-67c6f195a8cb\",\"type\":\"LegendItem\"},{\"attributes\":{\"line_alpha\":0.1,\"line_color\":\"#1f77b4\",\"line_width\":2,\"x\":{\"field\":\"x\"},\"y\":{\"field\":\"y\"}},\"id\":\"5eaf8b53-bb1d-48f6-88e6-53a793236b79\",\"type\":\"Line\"},{\"attributes\":{\"line_color\":\"#fdbf6f\",\"line_width\":2,\"x\":{\"field\":\"x\"},\"y\":{\"field\":\"y\"}},\"id\":\"909a032a-1a54-4877-b9dd-dec9f6690c63\",\"type\":\"Line\"},{\"attributes\":{\"plot\":{\"id\":\"021a8263-29fd-4a69-8089-f1e0aa1f03d7\",\"subtype\":\"Figure\",\"type\":\"Plot\"},\"ticker\":{\"id\":\"bb9bf3aa-e7a6-46df-844d-6ed8e4ba8509\",\"type\":\"BasicTicker\"}},\"id\":\"d1593599-b47f-44e2-b95c-5432a0e71764\",\"type\":\"Grid\"},{\"attributes\":{\"source\":{\"id\":\"23d2bae7-d8a8-40a7-86ec-3f8efec2a9b8\",\"type\":\"ColumnDataSource\"}},\"id\":\"0e4442da-f0b9-46b5-b91d-867e55a8bde2\",\"type\":\"CDSView\"},{\"attributes\":{\"data_source\":{\"id\":\"23d2bae7-d8a8-40a7-86ec-3f8efec2a9b8\",\"type\":\"ColumnDataSource\"},\"glyph\":{\"id\":\"909a032a-1a54-4877-b9dd-dec9f6690c63\",\"type\":\"Line\"},\"hover_glyph\":null,\"muted_glyph\":null,\"nonselection_glyph\":{\"id\":\"5eaf8b53-bb1d-48f6-88e6-53a793236b79\",\"type\":\"Line\"},\"selection_glyph\":null,\"view\":{\"id\":\"0e4442da-f0b9-46b5-b91d-867e55a8bde2\",\"type\":\"CDSView\"}},\"id\":\"62abc9b3-3a0b-4fdb-9f12-90469ede0f51\",\"type\":\"GlyphRenderer\"},{\"attributes\":{\"label\":{\"value\":\"Sunday\"},\"renderers\":[{\"id\":\"62abc9b3-3a0b-4fdb-9f12-90469ede0f51\",\"type\":\"GlyphRenderer\"}]},\"id\":\"56467191-f62d-4c8f-b22c-f51a63bb54c3\",\"type\":\"LegendItem\"},{\"attributes\":{\"items\":[{\"id\":\"9e605423-c89b-4942-871c-721ed06e54b7\",\"type\":\"LegendItem\"},{\"id\":\"900d136f-445b-46d1-86ca-a09316c8819d\",\"type\":\"LegendItem\"},{\"id\":\"efe139d7-85a9-437b-8b96-7b7e78217290\",\"type\":\"LegendItem\"},{\"id\":\"fbad8437-d981-47de-b9f1-df0f1ebf7c2a\",\"type\":\"LegendItem\"},{\"id\":\"fc19857c-d1a2-445a-abd3-16e500704cde\",\"type\":\"LegendItem\"},{\"id\":\"cc04103b-7600-42df-b2df-67c6f195a8cb\",\"type\":\"LegendItem\"},{\"id\":\"56467191-f62d-4c8f-b22c-f51a63bb54c3\",\"type\":\"LegendItem\"}],\"plot\":{\"id\":\"021a8263-29fd-4a69-8089-f1e0aa1f03d7\",\"subtype\":\"Figure\",\"type\":\"Plot\"}},\"id\":\"0df46bf9-f388-4a18-ac41-b66c557d484d\",\"type\":\"Legend\"},{\"attributes\":{\"formatter\":{\"id\":\"acd18cfd-7ef0-44ae-82c7-3fd8a811aa5c\",\"type\":\"BasicTickFormatter\"},\"plot\":{\"id\":\"021a8263-29fd-4a69-8089-f1e0aa1f03d7\",\"subtype\":\"Figure\",\"type\":\"Plot\"},\"ticker\":{\"id\":\"3f727716-ec35-4d93-974e-08fe827b2590\",\"type\":\"BasicTicker\"}},\"id\":\"b4fc5851-969b-4fcf-a02c-48efb245feb9\",\"type\":\"LinearAxis\"},{\"attributes\":{},\"id\":\"bb9bf3aa-e7a6-46df-844d-6ed8e4ba8509\",\"type\":\"BasicTicker\"},{\"attributes\":{\"callback\":null},\"id\":\"39e8850e-bf4f-4e81-b22d-ffafff35b764\",\"type\":\"DataRange1d\"},{\"attributes\":{\"dimension\":1,\"plot\":{\"id\":\"021a8263-29fd-4a69-8089-f1e0aa1f03d7\",\"subtype\":\"Figure\",\"type\":\"Plot\"},\"ticker\":{\"id\":\"3f727716-ec35-4d93-974e-08fe827b2590\",\"type\":\"BasicTicker\"}},\"id\":\"69aaab1b-78df-4e04-bf4a-4138baa520dc\",\"type\":\"Grid\"},{\"attributes\":{},\"id\":\"3f727716-ec35-4d93-974e-08fe827b2590\",\"type\":\"BasicTicker\"},{\"attributes\":{\"bottom_units\":\"screen\",\"fill_alpha\":{\"value\":0.5},\"fill_color\":{\"value\":\"lightgrey\"},\"left_units\":\"screen\",\"level\":\"overlay\",\"line_alpha\":{\"value\":1.0},\"line_color\":{\"value\":\"black\"},\"line_dash\":[4,4],\"line_width\":{\"value\":2},\"plot\":null,\"render_mode\":\"css\",\"right_units\":\"screen\",\"top_units\":\"screen\"},\"id\":\"2d1236bb-71d9-4269-beed-225da4e5364a\",\"type\":\"BoxAnnotation\"},{\"attributes\":{},\"id\":\"4581c3de-7962-4971-b9d6-3005f62165fc\",\"type\":\"PanTool\"},{\"attributes\":{},\"id\":\"85d8229d-17ff-4aaa-8951-2d196090d6f4\",\"type\":\"WheelZoomTool\"},{\"attributes\":{\"overlay\":{\"id\":\"2d1236bb-71d9-4269-beed-225da4e5364a\",\"type\":\"BoxAnnotation\"}},\"id\":\"5d4f39e1-3b4c-4b32-985b-066eba9061f3\",\"type\":\"BoxZoomTool\"},{\"attributes\":{},\"id\":\"1d1c0ddf-a4c3-4b31-9869-dfdf629dff06\",\"type\":\"SaveTool\"},{\"attributes\":{},\"id\":\"297fa418-c754-4a78-b891-4592c7438ad6\",\"type\":\"ResetTool\"},{\"attributes\":{},\"id\":\"5aa62a62-7498-462b-9f36-dff6bc738a59\",\"type\":\"HelpTool\"},{\"attributes\":{\"line_alpha\":0.1,\"line_color\":\"#1f77b4\",\"line_width\":2,\"x\":{\"field\":\"x\"},\"y\":{\"field\":\"y\"}},\"id\":\"3cf47a52-f33d-401c-b14a-d3915321b028\",\"type\":\"Line\"},{\"attributes\":{\"callback\":null,\"column_names\":[\"x\",\"y\"],\"data\":{\"x\":[0,1,2,3,4,5,6,7,8,9,10,11,12,13,14,15,16,17,18,19,20,21,22,23],\"y\":[124,61,53,35,30,22,64,92,117,151,140,147,171,142,148,136,158,160,173,179,183,147,137,102]}},\"id\":\"39c3e3e6-3d35-4a88-b3b2-83f20f40e5b6\",\"type\":\"ColumnDataSource\"},{\"attributes\":{\"line_color\":\"#a6cee3\",\"line_width\":2,\"x\":{\"field\":\"x\"},\"y\":{\"field\":\"y\"}},\"id\":\"49e982ce-504c-4886-bda4-de07d22c013c\",\"type\":\"Line\"},{\"attributes\":{\"line_color\":\"#1f78b4\",\"line_width\":2,\"x\":{\"field\":\"x\"},\"y\":{\"field\":\"y\"}},\"id\":\"7775bdbf-d670-45c7-8076-4ee1d5332c84\",\"type\":\"Line\"},{\"attributes\":{\"data_source\":{\"id\":\"339391cc-7488-4ba7-8d10-d5388aa2fb1e\",\"type\":\"ColumnDataSource\"},\"glyph\":{\"id\":\"49e982ce-504c-4886-bda4-de07d22c013c\",\"type\":\"Line\"},\"hover_glyph\":null,\"muted_glyph\":null,\"nonselection_glyph\":{\"id\":\"3cf47a52-f33d-401c-b14a-d3915321b028\",\"type\":\"Line\"},\"selection_glyph\":null,\"view\":{\"id\":\"3718f61b-9493-4961-9767-2740f206326c\",\"type\":\"CDSView\"}},\"id\":\"cbad13a2-eef5-4cb8-82cb-5cc762761463\",\"type\":\"GlyphRenderer\"},{\"attributes\":{\"formatter\":{\"id\":\"5242eb3b-f325-4df0-9afd-861dc26ef96a\",\"type\":\"BasicTickFormatter\"},\"plot\":{\"id\":\"021a8263-29fd-4a69-8089-f1e0aa1f03d7\",\"subtype\":\"Figure\",\"type\":\"Plot\"},\"ticker\":{\"id\":\"bb9bf3aa-e7a6-46df-844d-6ed8e4ba8509\",\"type\":\"BasicTicker\"}},\"id\":\"33bda1a8-07a3-4b68-9f5e-3134f16a4524\",\"type\":\"LinearAxis\"},{\"attributes\":{\"source\":{\"id\":\"339391cc-7488-4ba7-8d10-d5388aa2fb1e\",\"type\":\"ColumnDataSource\"}},\"id\":\"3718f61b-9493-4961-9767-2740f206326c\",\"type\":\"CDSView\"},{\"attributes\":{},\"id\":\"acd18cfd-7ef0-44ae-82c7-3fd8a811aa5c\",\"type\":\"BasicTickFormatter\"},{\"attributes\":{\"plot\":null,\"text\":\"\"},\"id\":\"54e83c6b-544d-4f46-9360-24a46a3801ca\",\"type\":\"Title\"},{\"attributes\":{},\"id\":\"5242eb3b-f325-4df0-9afd-861dc26ef96a\",\"type\":\"BasicTickFormatter\"},{\"attributes\":{\"label\":{\"value\":\"Monday\"},\"renderers\":[{\"id\":\"cbad13a2-eef5-4cb8-82cb-5cc762761463\",\"type\":\"GlyphRenderer\"}]},\"id\":\"9e605423-c89b-4942-871c-721ed06e54b7\",\"type\":\"LegendItem\"}],\"root_ids\":[\"021a8263-29fd-4a69-8089-f1e0aa1f03d7\"]},\"title\":\"Bokeh Application\",\"version\":\"0.12.13\"}};\n",
       "  var render_items = [{\"docid\":\"9148e6fc-ae7e-4bc1-92c0-42459bdfe48a\",\"elementid\":\"8b2ac8bb-6b76-4242-9f67-a3f072366217\",\"modelid\":\"021a8263-29fd-4a69-8089-f1e0aa1f03d7\"}];\n",
       "  root.Bokeh.embed.embed_items_notebook(docs_json, render_items);\n",
       "\n",
       "  }\n",
       "  if (root.Bokeh !== undefined) {\n",
       "    embed_document(root);\n",
       "  } else {\n",
       "    var attempts = 0;\n",
       "    var timer = setInterval(function(root) {\n",
       "      if (root.Bokeh !== undefined) {\n",
       "        embed_document(root);\n",
       "        clearInterval(timer);\n",
       "      }\n",
       "      attempts++;\n",
       "      if (attempts > 100) {\n",
       "        console.log(\"Bokeh: ERROR: Unable to run BokehJS code because BokehJS library is missing\")\n",
       "        clearInterval(timer);\n",
       "      }\n",
       "    }, 10, root)\n",
       "  }\n",
       "})(window);"
      ],
      "application/vnd.bokehjs_exec.v0+json": ""
     },
     "metadata": {
      "application/vnd.bokehjs_exec.v0+json": {
       "id": "021a8263-29fd-4a69-8089-f1e0aa1f03d7"
      }
     },
     "output_type": "display_data"
    },
    {
     "data": {
      "text/html": [
       "\n",
       "<div class=\"bk-root\">\n",
       "    <div class=\"bk-plotdiv\" id=\"f1cd934a-f2f2-44b2-8dd8-3bd4f9b39cdf\"></div>\n",
       "</div>"
      ]
     },
     "metadata": {},
     "output_type": "display_data"
    },
    {
     "data": {
      "application/javascript": [
       "(function(root) {\n",
       "  function embed_document(root) {\n",
       "    \n",
       "  var docs_json = {\"13ecfd76-c782-460b-bc16-0abee732b6da\":{\"roots\":{\"references\":[{\"attributes\":{\"label\":{\"value\":\"Tuesday\"},\"renderers\":[{\"id\":\"2db5c59e-e397-4154-9dda-70f138af05d9\",\"type\":\"GlyphRenderer\"}]},\"id\":\"68be868e-5ded-4310-8bd8-15c7eb6e8c98\",\"type\":\"LegendItem\"},{\"attributes\":{\"callback\":null,\"column_names\":[\"x\",\"y\"],\"data\":{\"x\":[0,1,2,3,4,5,6,7,8,9,10,11,12,13,14,15,16,17,18,19,20,21,22,23],\"y\":[115,61,49,52,24,28,52,56,111,114,115,113,156,108,132,155,173,155,190,175,134,159,137,123]}},\"id\":\"a53a15b4-8527-47fb-b3cd-4185349b9d8e\",\"type\":\"ColumnDataSource\"},{\"attributes\":{\"callback\":null,\"column_names\":[\"x\",\"y\"],\"data\":{\"x\":[0,1,2,3,4,5,6,7,8,9,10,11,12,13,14,15,16,17,18,19,20,21,22,23],\"y\":[126,63,57,53,38,39,42,86,154,146,124,120,163,130,124,128,128,144,155,140,142,149,129,93]}},\"id\":\"773e2141-e817-43ca-a870-8059c0b14c04\",\"type\":\"ColumnDataSource\"},{\"attributes\":{\"callback\":null,\"column_names\":[\"x\",\"y\"],\"data\":{\"x\":[0,1,2,3,4,5,6,7,8,9,10,11,12,13,14,15,16,17,18,19,20,21,22,23],\"y\":[113,109,74,96,42,40,24,41,75,107,108,129,132,134,113,129,134,144,143,139,130,137,128,119]}},\"id\":\"b989675f-6efa-47b2-8e4d-b2d310f3ba8b\",\"type\":\"ColumnDataSource\"},{\"attributes\":{\"line_alpha\":0.1,\"line_color\":\"#1f77b4\",\"line_width\":2,\"x\":{\"field\":\"x\"},\"y\":{\"field\":\"y\"}},\"id\":\"66c1a7ca-9605-411e-a8f4-670ba67591d4\",\"type\":\"Line\"},{\"attributes\":{\"source\":{\"id\":\"2a10e28f-d1b0-4d38-a075-b5f9cde4661e\",\"type\":\"ColumnDataSource\"}},\"id\":\"35a43536-3d5c-4aa7-bd78-fc16a71bafd1\",\"type\":\"CDSView\"},{\"attributes\":{\"data_source\":{\"id\":\"2a10e28f-d1b0-4d38-a075-b5f9cde4661e\",\"type\":\"ColumnDataSource\"},\"glyph\":{\"id\":\"4956daa1-571d-4343-8479-caadc09b3aa3\",\"type\":\"Line\"},\"hover_glyph\":null,\"muted_glyph\":null,\"nonselection_glyph\":{\"id\":\"66c1a7ca-9605-411e-a8f4-670ba67591d4\",\"type\":\"Line\"},\"selection_glyph\":null,\"view\":{\"id\":\"35a43536-3d5c-4aa7-bd78-fc16a71bafd1\",\"type\":\"CDSView\"}},\"id\":\"85c761ce-2eb6-4516-acb2-e4d46f35282b\",\"type\":\"GlyphRenderer\"},{\"attributes\":{\"label\":{\"value\":\"Wednesday\"},\"renderers\":[{\"id\":\"85c761ce-2eb6-4516-acb2-e4d46f35282b\",\"type\":\"GlyphRenderer\"}]},\"id\":\"6dd97402-8f58-47e2-aca1-1d08991f36c4\",\"type\":\"LegendItem\"},{\"attributes\":{\"below\":[{\"id\":\"088fdd8e-2136-4d00-8f4d-54c712e14486\",\"type\":\"LinearAxis\"}],\"left\":[{\"id\":\"51960d03-fb95-413a-8cb6-ed7a39dce11b\",\"type\":\"LinearAxis\"}],\"plot_height\":400,\"plot_width\":800,\"renderers\":[{\"id\":\"088fdd8e-2136-4d00-8f4d-54c712e14486\",\"type\":\"LinearAxis\"},{\"id\":\"252ef14e-307a-42e6-a551-de923b7f53ad\",\"type\":\"Grid\"},{\"id\":\"51960d03-fb95-413a-8cb6-ed7a39dce11b\",\"type\":\"LinearAxis\"},{\"id\":\"dc34e8da-bbbd-45e9-9412-5230c2882ef9\",\"type\":\"Grid\"},{\"id\":\"2c25e7c2-1307-45b8-a2eb-4c70f2d5a5e0\",\"type\":\"BoxAnnotation\"},{\"id\":\"964448a3-c084-45b5-b588-97156a6b8985\",\"type\":\"Legend\"},{\"id\":\"225dd2a8-a479-4854-ab4c-0191a24bec86\",\"type\":\"GlyphRenderer\"},{\"id\":\"2db5c59e-e397-4154-9dda-70f138af05d9\",\"type\":\"GlyphRenderer\"},{\"id\":\"85c761ce-2eb6-4516-acb2-e4d46f35282b\",\"type\":\"GlyphRenderer\"},{\"id\":\"2649dd35-6a6b-4bea-9c0b-cf1ba741ab58\",\"type\":\"GlyphRenderer\"},{\"id\":\"bb268501-1ed9-4893-b72b-adbed47c7e99\",\"type\":\"GlyphRenderer\"},{\"id\":\"3a8d4f44-8662-4693-8805-07a21d70b4ab\",\"type\":\"GlyphRenderer\"},{\"id\":\"18e070af-0322-4867-92a9-fefcf3166a3e\",\"type\":\"GlyphRenderer\"}],\"title\":{\"id\":\"450340d4-9218-444c-aa48-847a5246b9c3\",\"type\":\"Title\"},\"toolbar\":{\"id\":\"4ef2836f-61cb-456a-ae2b-1b89dbde306b\",\"type\":\"Toolbar\"},\"x_range\":{\"id\":\"0e594fe1-1ea8-438d-af26-8394e726b1ed\",\"type\":\"DataRange1d\"},\"x_scale\":{\"id\":\"f7d96fda-b91b-49b5-83ad-fb25eca37b33\",\"type\":\"LinearScale\"},\"y_range\":{\"id\":\"9490a20e-3302-40aa-ad3b-3fb83a7a2994\",\"type\":\"DataRange1d\"},\"y_scale\":{\"id\":\"7eb25a59-752b-4a0c-847b-5913052aa8a8\",\"type\":\"LinearScale\"}},\"id\":\"b77caed8-9d06-4427-9167-25795925ea2b\",\"subtype\":\"Figure\",\"type\":\"Plot\"},{\"attributes\":{\"line_alpha\":0.1,\"line_color\":\"#1f77b4\",\"line_width\":2,\"x\":{\"field\":\"x\"},\"y\":{\"field\":\"y\"}},\"id\":\"c9d3a870-ba0a-4e66-a0db-190f12915451\",\"type\":\"Line\"},{\"attributes\":{\"line_color\":\"#33a02c\",\"line_width\":2,\"x\":{\"field\":\"x\"},\"y\":{\"field\":\"y\"}},\"id\":\"697d161a-b93b-4cb3-bdf3-0cbbd554222b\",\"type\":\"Line\"},{\"attributes\":{\"source\":{\"id\":\"773e2141-e817-43ca-a870-8059c0b14c04\",\"type\":\"ColumnDataSource\"}},\"id\":\"8438b113-81dd-4f39-8516-4382a5530096\",\"type\":\"CDSView\"},{\"attributes\":{\"data_source\":{\"id\":\"773e2141-e817-43ca-a870-8059c0b14c04\",\"type\":\"ColumnDataSource\"},\"glyph\":{\"id\":\"697d161a-b93b-4cb3-bdf3-0cbbd554222b\",\"type\":\"Line\"},\"hover_glyph\":null,\"muted_glyph\":null,\"nonselection_glyph\":{\"id\":\"c9d3a870-ba0a-4e66-a0db-190f12915451\",\"type\":\"Line\"},\"selection_glyph\":null,\"view\":{\"id\":\"8438b113-81dd-4f39-8516-4382a5530096\",\"type\":\"CDSView\"}},\"id\":\"2649dd35-6a6b-4bea-9c0b-cf1ba741ab58\",\"type\":\"GlyphRenderer\"},{\"attributes\":{\"line_color\":\"#e31a1c\",\"line_width\":2,\"x\":{\"field\":\"x\"},\"y\":{\"field\":\"y\"}},\"id\":\"42ef3c99-66c4-445f-8f56-d7f01ebaad64\",\"type\":\"Line\"},{\"attributes\":{\"label\":{\"value\":\"Thursday\"},\"renderers\":[{\"id\":\"2649dd35-6a6b-4bea-9c0b-cf1ba741ab58\",\"type\":\"GlyphRenderer\"}]},\"id\":\"646b41c6-3540-4ee5-aaa2-334c9c5bccfe\",\"type\":\"LegendItem\"},{\"attributes\":{\"line_alpha\":0.1,\"line_color\":\"#1f77b4\",\"line_width\":2,\"x\":{\"field\":\"x\"},\"y\":{\"field\":\"y\"}},\"id\":\"fd779caa-b62c-44f6-96f7-f91990d5c450\",\"type\":\"Line\"},{\"attributes\":{\"line_color\":\"#fb9a99\",\"line_width\":2,\"x\":{\"field\":\"x\"},\"y\":{\"field\":\"y\"}},\"id\":\"6264a11b-ab04-4f99-9a70-7c138eef1f6e\",\"type\":\"Line\"},{\"attributes\":{\"source\":{\"id\":\"a53a15b4-8527-47fb-b3cd-4185349b9d8e\",\"type\":\"ColumnDataSource\"}},\"id\":\"f6e60403-20e1-4ff8-996e-1b9b6b25ec12\",\"type\":\"CDSView\"},{\"attributes\":{\"data_source\":{\"id\":\"a53a15b4-8527-47fb-b3cd-4185349b9d8e\",\"type\":\"ColumnDataSource\"},\"glyph\":{\"id\":\"6264a11b-ab04-4f99-9a70-7c138eef1f6e\",\"type\":\"Line\"},\"hover_glyph\":null,\"muted_glyph\":null,\"nonselection_glyph\":{\"id\":\"fd779caa-b62c-44f6-96f7-f91990d5c450\",\"type\":\"Line\"},\"selection_glyph\":null,\"view\":{\"id\":\"f6e60403-20e1-4ff8-996e-1b9b6b25ec12\",\"type\":\"CDSView\"}},\"id\":\"bb268501-1ed9-4893-b72b-adbed47c7e99\",\"type\":\"GlyphRenderer\"},{\"attributes\":{\"label\":{\"value\":\"Friday\"},\"renderers\":[{\"id\":\"bb268501-1ed9-4893-b72b-adbed47c7e99\",\"type\":\"GlyphRenderer\"}]},\"id\":\"074b0ec9-f4a3-46cd-b791-aee60df69b58\",\"type\":\"LegendItem\"},{\"attributes\":{\"line_alpha\":0.1,\"line_color\":\"#1f77b4\",\"line_width\":2,\"x\":{\"field\":\"x\"},\"y\":{\"field\":\"y\"}},\"id\":\"e71d60aa-0c98-4986-9ef8-bf4217d65ecb\",\"type\":\"Line\"},{\"attributes\":{\"callback\":null,\"column_names\":[\"x\",\"y\"],\"data\":{\"x\":[0,1,2,3,4,5,6,7,8,9,10,11,12,13,14,15,16,17,18,19,20,21,22,23],\"y\":[195,154,169,101,80,81,49,63,102,135,139,134,184,172,165,184,161,175,168,176,199,178,164,113]}},\"id\":\"bb32c13e-0b3b-44b6-ae97-a109f96ab561\",\"type\":\"ColumnDataSource\"},{\"attributes\":{\"callback\":null,\"column_names\":[\"x\",\"y\"],\"data\":{\"x\":[0,1,2,3,4,5,6,7,8,9,10,11,12,13,14,15,16,17,18,19,20,21,22,23],\"y\":[155,72,61,49,48,36,50,103,148,210,152,177,207,180,183,197,166,195,220,215,191,170,162,128]}},\"id\":\"4c29c6fe-e3ea-4325-b5e8-35f3c9d28f31\",\"type\":\"ColumnDataSource\"},{\"attributes\":{\"source\":{\"id\":\"b989675f-6efa-47b2-8e4d-b2d310f3ba8b\",\"type\":\"ColumnDataSource\"}},\"id\":\"94157b2b-ab6c-46d0-a22b-8fed18cce91a\",\"type\":\"CDSView\"},{\"attributes\":{\"data_source\":{\"id\":\"b989675f-6efa-47b2-8e4d-b2d310f3ba8b\",\"type\":\"ColumnDataSource\"},\"glyph\":{\"id\":\"42ef3c99-66c4-445f-8f56-d7f01ebaad64\",\"type\":\"Line\"},\"hover_glyph\":null,\"muted_glyph\":null,\"nonselection_glyph\":{\"id\":\"e71d60aa-0c98-4986-9ef8-bf4217d65ecb\",\"type\":\"Line\"},\"selection_glyph\":null,\"view\":{\"id\":\"94157b2b-ab6c-46d0-a22b-8fed18cce91a\",\"type\":\"CDSView\"}},\"id\":\"3a8d4f44-8662-4693-8805-07a21d70b4ab\",\"type\":\"GlyphRenderer\"},{\"attributes\":{\"label\":{\"value\":\"Saturday\"},\"renderers\":[{\"id\":\"3a8d4f44-8662-4693-8805-07a21d70b4ab\",\"type\":\"GlyphRenderer\"}]},\"id\":\"0f6dd28f-5609-4d8b-a812-a99730088ddf\",\"type\":\"LegendItem\"},{\"attributes\":{\"line_alpha\":0.1,\"line_color\":\"#1f77b4\",\"line_width\":2,\"x\":{\"field\":\"x\"},\"y\":{\"field\":\"y\"}},\"id\":\"c67d6921-88d3-487f-8bca-9db38cad54e6\",\"type\":\"Line\"},{\"attributes\":{\"line_color\":\"#fdbf6f\",\"line_width\":2,\"x\":{\"field\":\"x\"},\"y\":{\"field\":\"y\"}},\"id\":\"20f15e64-5566-4b8f-81fd-78a3f6e0a7ce\",\"type\":\"Line\"},{\"attributes\":{\"plot\":{\"id\":\"b77caed8-9d06-4427-9167-25795925ea2b\",\"subtype\":\"Figure\",\"type\":\"Plot\"},\"ticker\":{\"id\":\"531f08f7-ee9a-4354-a9ad-106bbc7e790d\",\"type\":\"BasicTicker\"}},\"id\":\"252ef14e-307a-42e6-a551-de923b7f53ad\",\"type\":\"Grid\"},{\"attributes\":{\"source\":{\"id\":\"bb32c13e-0b3b-44b6-ae97-a109f96ab561\",\"type\":\"ColumnDataSource\"}},\"id\":\"ad959faf-26de-40ab-9672-f6c28c20a520\",\"type\":\"CDSView\"},{\"attributes\":{\"data_source\":{\"id\":\"bb32c13e-0b3b-44b6-ae97-a109f96ab561\",\"type\":\"ColumnDataSource\"},\"glyph\":{\"id\":\"20f15e64-5566-4b8f-81fd-78a3f6e0a7ce\",\"type\":\"Line\"},\"hover_glyph\":null,\"muted_glyph\":null,\"nonselection_glyph\":{\"id\":\"c67d6921-88d3-487f-8bca-9db38cad54e6\",\"type\":\"Line\"},\"selection_glyph\":null,\"view\":{\"id\":\"ad959faf-26de-40ab-9672-f6c28c20a520\",\"type\":\"CDSView\"}},\"id\":\"18e070af-0322-4867-92a9-fefcf3166a3e\",\"type\":\"GlyphRenderer\"},{\"attributes\":{\"label\":{\"value\":\"Sunday\"},\"renderers\":[{\"id\":\"18e070af-0322-4867-92a9-fefcf3166a3e\",\"type\":\"GlyphRenderer\"}]},\"id\":\"fd97aafa-15b2-494e-8fac-cea998895cc7\",\"type\":\"LegendItem\"},{\"attributes\":{\"items\":[{\"id\":\"a2eb3a28-64ec-47f4-8e81-d2e3bfb2ced4\",\"type\":\"LegendItem\"},{\"id\":\"68be868e-5ded-4310-8bd8-15c7eb6e8c98\",\"type\":\"LegendItem\"},{\"id\":\"6dd97402-8f58-47e2-aca1-1d08991f36c4\",\"type\":\"LegendItem\"},{\"id\":\"646b41c6-3540-4ee5-aaa2-334c9c5bccfe\",\"type\":\"LegendItem\"},{\"id\":\"074b0ec9-f4a3-46cd-b791-aee60df69b58\",\"type\":\"LegendItem\"},{\"id\":\"0f6dd28f-5609-4d8b-a812-a99730088ddf\",\"type\":\"LegendItem\"},{\"id\":\"fd97aafa-15b2-494e-8fac-cea998895cc7\",\"type\":\"LegendItem\"}],\"plot\":{\"id\":\"b77caed8-9d06-4427-9167-25795925ea2b\",\"subtype\":\"Figure\",\"type\":\"Plot\"}},\"id\":\"964448a3-c084-45b5-b588-97156a6b8985\",\"type\":\"Legend\"},{\"attributes\":{\"formatter\":{\"id\":\"2671cb0a-5f17-483b-bd8a-7c3ba2f7ab07\",\"type\":\"BasicTickFormatter\"},\"plot\":{\"id\":\"b77caed8-9d06-4427-9167-25795925ea2b\",\"subtype\":\"Figure\",\"type\":\"Plot\"},\"ticker\":{\"id\":\"2953400e-ad00-42a8-b3d9-a10a4882f9fe\",\"type\":\"BasicTicker\"}},\"id\":\"51960d03-fb95-413a-8cb6-ed7a39dce11b\",\"type\":\"LinearAxis\"},{\"attributes\":{},\"id\":\"531f08f7-ee9a-4354-a9ad-106bbc7e790d\",\"type\":\"BasicTicker\"},{\"attributes\":{\"dimension\":1,\"plot\":{\"id\":\"b77caed8-9d06-4427-9167-25795925ea2b\",\"subtype\":\"Figure\",\"type\":\"Plot\"},\"ticker\":{\"id\":\"2953400e-ad00-42a8-b3d9-a10a4882f9fe\",\"type\":\"BasicTicker\"}},\"id\":\"dc34e8da-bbbd-45e9-9412-5230c2882ef9\",\"type\":\"Grid\"},{\"attributes\":{},\"id\":\"2953400e-ad00-42a8-b3d9-a10a4882f9fe\",\"type\":\"BasicTicker\"},{\"attributes\":{\"active_drag\":\"auto\",\"active_inspect\":\"auto\",\"active_scroll\":\"auto\",\"active_tap\":\"auto\",\"tools\":[{\"id\":\"b8ab8b8a-93c5-484e-a523-ba0995dc9908\",\"type\":\"PanTool\"},{\"id\":\"e998c0bb-504e-4022-a376-438da9d99bff\",\"type\":\"WheelZoomTool\"},{\"id\":\"1028510d-6695-40f4-a458-7745dbb29b36\",\"type\":\"BoxZoomTool\"},{\"id\":\"0bcf27cc-a2c7-41b3-9742-a42814e01297\",\"type\":\"SaveTool\"},{\"id\":\"cd9a6832-7706-438c-8b03-fc8d2816e9ea\",\"type\":\"ResetTool\"},{\"id\":\"43b6936d-b84f-44d9-ba3d-9afdcfc8993c\",\"type\":\"HelpTool\"}]},\"id\":\"4ef2836f-61cb-456a-ae2b-1b89dbde306b\",\"type\":\"Toolbar\"},{\"attributes\":{\"bottom_units\":\"screen\",\"fill_alpha\":{\"value\":0.5},\"fill_color\":{\"value\":\"lightgrey\"},\"left_units\":\"screen\",\"level\":\"overlay\",\"line_alpha\":{\"value\":1.0},\"line_color\":{\"value\":\"black\"},\"line_dash\":[4,4],\"line_width\":{\"value\":2},\"plot\":null,\"render_mode\":\"css\",\"right_units\":\"screen\",\"top_units\":\"screen\"},\"id\":\"2c25e7c2-1307-45b8-a2eb-4c70f2d5a5e0\",\"type\":\"BoxAnnotation\"},{\"attributes\":{},\"id\":\"b8ab8b8a-93c5-484e-a523-ba0995dc9908\",\"type\":\"PanTool\"},{\"attributes\":{\"callback\":null},\"id\":\"0e594fe1-1ea8-438d-af26-8394e726b1ed\",\"type\":\"DataRange1d\"},{\"attributes\":{\"formatter\":{\"id\":\"8c2d4be6-caa8-4fd3-9623-ca0cbdd10d10\",\"type\":\"BasicTickFormatter\"},\"plot\":{\"id\":\"b77caed8-9d06-4427-9167-25795925ea2b\",\"subtype\":\"Figure\",\"type\":\"Plot\"},\"ticker\":{\"id\":\"531f08f7-ee9a-4354-a9ad-106bbc7e790d\",\"type\":\"BasicTicker\"}},\"id\":\"088fdd8e-2136-4d00-8f4d-54c712e14486\",\"type\":\"LinearAxis\"},{\"attributes\":{},\"id\":\"e998c0bb-504e-4022-a376-438da9d99bff\",\"type\":\"WheelZoomTool\"},{\"attributes\":{\"overlay\":{\"id\":\"2c25e7c2-1307-45b8-a2eb-4c70f2d5a5e0\",\"type\":\"BoxAnnotation\"}},\"id\":\"1028510d-6695-40f4-a458-7745dbb29b36\",\"type\":\"BoxZoomTool\"},{\"attributes\":{},\"id\":\"0bcf27cc-a2c7-41b3-9742-a42814e01297\",\"type\":\"SaveTool\"},{\"attributes\":{\"callback\":null},\"id\":\"9490a20e-3302-40aa-ad3b-3fb83a7a2994\",\"type\":\"DataRange1d\"},{\"attributes\":{},\"id\":\"cd9a6832-7706-438c-8b03-fc8d2816e9ea\",\"type\":\"ResetTool\"},{\"attributes\":{},\"id\":\"43b6936d-b84f-44d9-ba3d-9afdcfc8993c\",\"type\":\"HelpTool\"},{\"attributes\":{},\"id\":\"f7d96fda-b91b-49b5-83ad-fb25eca37b33\",\"type\":\"LinearScale\"},{\"attributes\":{\"line_alpha\":0.1,\"line_color\":\"#1f77b4\",\"line_width\":2,\"x\":{\"field\":\"x\"},\"y\":{\"field\":\"y\"}},\"id\":\"d8c39923-3f3b-4848-ba9c-173c750a9954\",\"type\":\"Line\"},{\"attributes\":{\"callback\":null,\"column_names\":[\"x\",\"y\"],\"data\":{\"x\":[0,1,2,3,4,5,6,7,8,9,10,11,12,13,14,15,16,17,18,19,20,21,22,23],\"y\":[93,56,38,45,19,27,57,67,112,114,117,140,153,134,122,147,152,156,161,186,140,160,125,94]}},\"id\":\"4261379e-5a03-48e7-b15e-7b4b659d360f\",\"type\":\"ColumnDataSource\"},{\"attributes\":{},\"id\":\"7eb25a59-752b-4a0c-847b-5913052aa8a8\",\"type\":\"LinearScale\"},{\"attributes\":{\"line_color\":\"#a6cee3\",\"line_width\":2,\"x\":{\"field\":\"x\"},\"y\":{\"field\":\"y\"}},\"id\":\"a0a1b813-ed19-4b6f-bc97-ef289b2f1236\",\"type\":\"Line\"},{\"attributes\":{\"source\":{\"id\":\"4261379e-5a03-48e7-b15e-7b4b659d360f\",\"type\":\"ColumnDataSource\"}},\"id\":\"caca4ba7-69a1-4d45-abcf-d8f515d33142\",\"type\":\"CDSView\"},{\"attributes\":{\"data_source\":{\"id\":\"4c29c6fe-e3ea-4325-b5e8-35f3c9d28f31\",\"type\":\"ColumnDataSource\"},\"glyph\":{\"id\":\"a0a1b813-ed19-4b6f-bc97-ef289b2f1236\",\"type\":\"Line\"},\"hover_glyph\":null,\"muted_glyph\":null,\"nonselection_glyph\":{\"id\":\"d8c39923-3f3b-4848-ba9c-173c750a9954\",\"type\":\"Line\"},\"selection_glyph\":null,\"view\":{\"id\":\"62297584-ca7a-4ad2-966d-d68253d6cadd\",\"type\":\"CDSView\"}},\"id\":\"225dd2a8-a479-4854-ab4c-0191a24bec86\",\"type\":\"GlyphRenderer\"},{\"attributes\":{\"source\":{\"id\":\"4c29c6fe-e3ea-4325-b5e8-35f3c9d28f31\",\"type\":\"ColumnDataSource\"}},\"id\":\"62297584-ca7a-4ad2-966d-d68253d6cadd\",\"type\":\"CDSView\"},{\"attributes\":{},\"id\":\"2671cb0a-5f17-483b-bd8a-7c3ba2f7ab07\",\"type\":\"BasicTickFormatter\"},{\"attributes\":{\"plot\":null,\"text\":\"\"},\"id\":\"450340d4-9218-444c-aa48-847a5246b9c3\",\"type\":\"Title\"},{\"attributes\":{\"label\":{\"value\":\"Monday\"},\"renderers\":[{\"id\":\"225dd2a8-a479-4854-ab4c-0191a24bec86\",\"type\":\"GlyphRenderer\"}]},\"id\":\"a2eb3a28-64ec-47f4-8e81-d2e3bfb2ced4\",\"type\":\"LegendItem\"},{\"attributes\":{\"data_source\":{\"id\":\"4261379e-5a03-48e7-b15e-7b4b659d360f\",\"type\":\"ColumnDataSource\"},\"glyph\":{\"id\":\"f3581065-1a86-4e44-a6ba-39c13dfef17e\",\"type\":\"Line\"},\"hover_glyph\":null,\"muted_glyph\":null,\"nonselection_glyph\":{\"id\":\"e21591df-14f9-4a06-b012-acad31d325e0\",\"type\":\"Line\"},\"selection_glyph\":null,\"view\":{\"id\":\"caca4ba7-69a1-4d45-abcf-d8f515d33142\",\"type\":\"CDSView\"}},\"id\":\"2db5c59e-e397-4154-9dda-70f138af05d9\",\"type\":\"GlyphRenderer\"},{\"attributes\":{},\"id\":\"8c2d4be6-caa8-4fd3-9623-ca0cbdd10d10\",\"type\":\"BasicTickFormatter\"},{\"attributes\":{\"callback\":null,\"column_names\":[\"x\",\"y\"],\"data\":{\"x\":[0,1,2,3,4,5,6,7,8,9,10,11,12,13,14,15,16,17,18,19,20,21,22,23],\"y\":[87,41,47,40,28,36,42,84,101,118,115,146,187,147,148,155,150,181,194,158,149,135,128,103]}},\"id\":\"2a10e28f-d1b0-4d38-a075-b5f9cde4661e\",\"type\":\"ColumnDataSource\"},{\"attributes\":{\"line_color\":\"#b2df8a\",\"line_width\":2,\"x\":{\"field\":\"x\"},\"y\":{\"field\":\"y\"}},\"id\":\"4956daa1-571d-4343-8479-caadc09b3aa3\",\"type\":\"Line\"},{\"attributes\":{\"line_color\":\"#1f78b4\",\"line_width\":2,\"x\":{\"field\":\"x\"},\"y\":{\"field\":\"y\"}},\"id\":\"f3581065-1a86-4e44-a6ba-39c13dfef17e\",\"type\":\"Line\"},{\"attributes\":{\"line_alpha\":0.1,\"line_color\":\"#1f77b4\",\"line_width\":2,\"x\":{\"field\":\"x\"},\"y\":{\"field\":\"y\"}},\"id\":\"e21591df-14f9-4a06-b012-acad31d325e0\",\"type\":\"Line\"}],\"root_ids\":[\"b77caed8-9d06-4427-9167-25795925ea2b\"]},\"title\":\"Bokeh Application\",\"version\":\"0.12.13\"}};\n",
       "  var render_items = [{\"docid\":\"13ecfd76-c782-460b-bc16-0abee732b6da\",\"elementid\":\"f1cd934a-f2f2-44b2-8dd8-3bd4f9b39cdf\",\"modelid\":\"b77caed8-9d06-4427-9167-25795925ea2b\"}];\n",
       "  root.Bokeh.embed.embed_items_notebook(docs_json, render_items);\n",
       "\n",
       "  }\n",
       "  if (root.Bokeh !== undefined) {\n",
       "    embed_document(root);\n",
       "  } else {\n",
       "    var attempts = 0;\n",
       "    var timer = setInterval(function(root) {\n",
       "      if (root.Bokeh !== undefined) {\n",
       "        embed_document(root);\n",
       "        clearInterval(timer);\n",
       "      }\n",
       "      attempts++;\n",
       "      if (attempts > 100) {\n",
       "        console.log(\"Bokeh: ERROR: Unable to run BokehJS code because BokehJS library is missing\")\n",
       "        clearInterval(timer);\n",
       "      }\n",
       "    }, 10, root)\n",
       "  }\n",
       "})(window);"
      ],
      "application/vnd.bokehjs_exec.v0+json": ""
     },
     "metadata": {
      "application/vnd.bokehjs_exec.v0+json": {
       "id": "b77caed8-9d06-4427-9167-25795925ea2b"
      }
     },
     "output_type": "display_data"
    },
    {
     "data": {
      "text/html": [
       "\n",
       "<div class=\"bk-root\">\n",
       "    <div class=\"bk-plotdiv\" id=\"51a6c8e7-0472-4595-9e97-1eb8aad76b99\"></div>\n",
       "</div>"
      ]
     },
     "metadata": {},
     "output_type": "display_data"
    },
    {
     "data": {
      "application/javascript": [
       "(function(root) {\n",
       "  function embed_document(root) {\n",
       "    \n",
       "  var docs_json = {\"7aef8079-c0fa-461d-a3d8-f30954d703b2\":{\"roots\":{\"references\":[{\"attributes\":{\"callback\":null,\"column_names\":[\"x\",\"y\"],\"data\":{\"x\":[0,1,2,3,4,5,6,7,8,9,10,11,12,13,14,15,16,17,18,19,20,21,22,23],\"y\":[132,56,79,56,34,36,53,54,80,109,112,107,150,107,123,133,142,159,176,132,144,126,108,100]}},\"id\":\"98faa9ee-ab6a-4f2c-9af2-a0a10b1b39b1\",\"type\":\"ColumnDataSource\"},{\"attributes\":{\"data_source\":{\"id\":\"701ad502-2135-4381-9b26-cb1b79d3cde2\",\"type\":\"ColumnDataSource\"},\"glyph\":{\"id\":\"1edf20f9-7fa6-45a7-93de-0726d30d0146\",\"type\":\"Line\"},\"hover_glyph\":null,\"muted_glyph\":null,\"nonselection_glyph\":{\"id\":\"611df9aa-f718-4d66-ba1e-89edd3999b6f\",\"type\":\"Line\"},\"selection_glyph\":null,\"view\":{\"id\":\"89af0c09-1061-4b90-a033-df4333696f76\",\"type\":\"CDSView\"}},\"id\":\"2af8b9d5-c56f-465a-a613-acdf29999d76\",\"type\":\"GlyphRenderer\"},{\"attributes\":{\"source\":{\"id\":\"701ad502-2135-4381-9b26-cb1b79d3cde2\",\"type\":\"ColumnDataSource\"}},\"id\":\"89af0c09-1061-4b90-a033-df4333696f76\",\"type\":\"CDSView\"},{\"attributes\":{\"callback\":null,\"column_names\":[\"x\",\"y\"],\"data\":{\"x\":[0,1,2,3,4,5,6,7,8,9,10,11,12,13,14,15,16,17,18,19,20,21,22,23],\"y\":[107,103,101,89,76,59,50,44,75,97,90,134,131,112,124,133,142,132,171,148,159,157,129,117]}},\"id\":\"cda9ecc7-bbd3-49c1-aaea-756318bddc0a\",\"type\":\"ColumnDataSource\"},{\"attributes\":{\"label\":{\"value\":\"Wednesday\"},\"renderers\":[{\"id\":\"2af8b9d5-c56f-465a-a613-acdf29999d76\",\"type\":\"GlyphRenderer\"}]},\"id\":\"2ac363f3-6eac-4472-b8aa-5436a546dee1\",\"type\":\"LegendItem\"},{\"attributes\":{\"line_alpha\":0.1,\"line_color\":\"#1f77b4\",\"line_width\":2,\"x\":{\"field\":\"x\"},\"y\":{\"field\":\"y\"}},\"id\":\"2f18cf3d-5a9e-4aee-8f97-2fd3cb2c0120\",\"type\":\"Line\"},{\"attributes\":{\"source\":{\"id\":\"b7b694cc-cefc-45a9-9311-b5fe8d7dacb0\",\"type\":\"ColumnDataSource\"}},\"id\":\"d25aba6e-9112-42f1-88c6-1b02a2f49797\",\"type\":\"CDSView\"},{\"attributes\":{\"data_source\":{\"id\":\"b7b694cc-cefc-45a9-9311-b5fe8d7dacb0\",\"type\":\"ColumnDataSource\"},\"glyph\":{\"id\":\"4a20ba67-6dd3-49a8-8d5d-b41e8b5cdb29\",\"type\":\"Line\"},\"hover_glyph\":null,\"muted_glyph\":null,\"nonselection_glyph\":{\"id\":\"2f18cf3d-5a9e-4aee-8f97-2fd3cb2c0120\",\"type\":\"Line\"},\"selection_glyph\":null,\"view\":{\"id\":\"d25aba6e-9112-42f1-88c6-1b02a2f49797\",\"type\":\"CDSView\"}},\"id\":\"76de347e-1473-4f76-b255-bc22cfc12b79\",\"type\":\"GlyphRenderer\"},{\"attributes\":{\"line_color\":\"#e31a1c\",\"line_width\":2,\"x\":{\"field\":\"x\"},\"y\":{\"field\":\"y\"}},\"id\":\"9cccca64-c7df-44d6-a5b5-1f0ef3896912\",\"type\":\"Line\"},{\"attributes\":{\"label\":{\"value\":\"Thursday\"},\"renderers\":[{\"id\":\"76de347e-1473-4f76-b255-bc22cfc12b79\",\"type\":\"GlyphRenderer\"}]},\"id\":\"bc5c9e19-5748-491f-8ff2-86220e33fd7a\",\"type\":\"LegendItem\"},{\"attributes\":{\"line_alpha\":0.1,\"line_color\":\"#1f77b4\",\"line_width\":2,\"x\":{\"field\":\"x\"},\"y\":{\"field\":\"y\"}},\"id\":\"2aceb0b9-7377-468e-a2ef-5506f140c176\",\"type\":\"Line\"},{\"attributes\":{\"line_color\":\"#fb9a99\",\"line_width\":2,\"x\":{\"field\":\"x\"},\"y\":{\"field\":\"y\"}},\"id\":\"d37ff86f-7955-4b10-aadb-f4c3e2c4cb18\",\"type\":\"Line\"},{\"attributes\":{\"source\":{\"id\":\"98faa9ee-ab6a-4f2c-9af2-a0a10b1b39b1\",\"type\":\"ColumnDataSource\"}},\"id\":\"c4cfe21a-caf8-48c0-b444-e532e44b33d8\",\"type\":\"CDSView\"},{\"attributes\":{\"data_source\":{\"id\":\"98faa9ee-ab6a-4f2c-9af2-a0a10b1b39b1\",\"type\":\"ColumnDataSource\"},\"glyph\":{\"id\":\"d37ff86f-7955-4b10-aadb-f4c3e2c4cb18\",\"type\":\"Line\"},\"hover_glyph\":null,\"muted_glyph\":null,\"nonselection_glyph\":{\"id\":\"2aceb0b9-7377-468e-a2ef-5506f140c176\",\"type\":\"Line\"},\"selection_glyph\":null,\"view\":{\"id\":\"c4cfe21a-caf8-48c0-b444-e532e44b33d8\",\"type\":\"CDSView\"}},\"id\":\"e9c54dd9-6dd5-45e5-8e92-54d3b5ccd7bd\",\"type\":\"GlyphRenderer\"},{\"attributes\":{\"label\":{\"value\":\"Friday\"},\"renderers\":[{\"id\":\"e9c54dd9-6dd5-45e5-8e92-54d3b5ccd7bd\",\"type\":\"GlyphRenderer\"}]},\"id\":\"8ca0a829-8234-41d7-a028-2052340b1037\",\"type\":\"LegendItem\"},{\"attributes\":{\"line_alpha\":0.1,\"line_color\":\"#1f77b4\",\"line_width\":2,\"x\":{\"field\":\"x\"},\"y\":{\"field\":\"y\"}},\"id\":\"74909fb5-66cd-4c58-b781-4364e487d5c4\",\"type\":\"Line\"},{\"attributes\":{\"callback\":null,\"column_names\":[\"x\",\"y\"],\"data\":{\"x\":[0,1,2,3,4,5,6,7,8,9,10,11,12,13,14,15,16,17,18,19,20,21,22,23],\"y\":[127,114,119,86,70,64,37,50,47,86,106,111,115,118,115,141,150,146,157,146,144,117,124,95]}},\"id\":\"321938a3-c0a1-4c06-adfd-08e48f752ce3\",\"type\":\"ColumnDataSource\"},{\"attributes\":{\"callback\":null,\"column_names\":[\"x\",\"y\"],\"data\":{\"x\":[0,1,2,3,4,5,6,7,8,9,10,11,12,13,14,15,16,17,18,19,20,21,22,23],\"y\":[109,59,53,39,36,24,64,74,105,128,134,122,155,123,128,145,137,136,152,156,133,134,104,102]}},\"id\":\"a2223324-e7d8-4805-9d33-7d6ece64938c\",\"type\":\"ColumnDataSource\"},{\"attributes\":{\"source\":{\"id\":\"cda9ecc7-bbd3-49c1-aaea-756318bddc0a\",\"type\":\"ColumnDataSource\"}},\"id\":\"d74ef82e-c012-414f-8148-77f3ad69609d\",\"type\":\"CDSView\"},{\"attributes\":{\"data_source\":{\"id\":\"cda9ecc7-bbd3-49c1-aaea-756318bddc0a\",\"type\":\"ColumnDataSource\"},\"glyph\":{\"id\":\"9cccca64-c7df-44d6-a5b5-1f0ef3896912\",\"type\":\"Line\"},\"hover_glyph\":null,\"muted_glyph\":null,\"nonselection_glyph\":{\"id\":\"74909fb5-66cd-4c58-b781-4364e487d5c4\",\"type\":\"Line\"},\"selection_glyph\":null,\"view\":{\"id\":\"d74ef82e-c012-414f-8148-77f3ad69609d\",\"type\":\"CDSView\"}},\"id\":\"4100334f-e90d-4095-bd6d-924ae2a660fe\",\"type\":\"GlyphRenderer\"},{\"attributes\":{\"label\":{\"value\":\"Saturday\"},\"renderers\":[{\"id\":\"4100334f-e90d-4095-bd6d-924ae2a660fe\",\"type\":\"GlyphRenderer\"}]},\"id\":\"71829e10-4c23-436f-8788-86a0ac29821c\",\"type\":\"LegendItem\"},{\"attributes\":{\"line_alpha\":0.1,\"line_color\":\"#1f77b4\",\"line_width\":2,\"x\":{\"field\":\"x\"},\"y\":{\"field\":\"y\"}},\"id\":\"ce436164-be98-463f-a72d-d2b659a7e03e\",\"type\":\"Line\"},{\"attributes\":{\"line_color\":\"#fdbf6f\",\"line_width\":2,\"x\":{\"field\":\"x\"},\"y\":{\"field\":\"y\"}},\"id\":\"d90409fe-45c9-4947-8a29-d33a949d9ffc\",\"type\":\"Line\"},{\"attributes\":{\"plot\":{\"id\":\"8750d335-ad87-413c-8875-c3bbd0f060ff\",\"subtype\":\"Figure\",\"type\":\"Plot\"},\"ticker\":{\"id\":\"73b63062-acba-4931-aa9c-3481594c71c5\",\"type\":\"BasicTicker\"}},\"id\":\"2b32bdd4-761e-44a3-9e78-28f56ada167a\",\"type\":\"Grid\"},{\"attributes\":{\"source\":{\"id\":\"321938a3-c0a1-4c06-adfd-08e48f752ce3\",\"type\":\"ColumnDataSource\"}},\"id\":\"86ecef25-45b8-4fc3-bc41-d8113620e8db\",\"type\":\"CDSView\"},{\"attributes\":{\"data_source\":{\"id\":\"321938a3-c0a1-4c06-adfd-08e48f752ce3\",\"type\":\"ColumnDataSource\"},\"glyph\":{\"id\":\"d90409fe-45c9-4947-8a29-d33a949d9ffc\",\"type\":\"Line\"},\"hover_glyph\":null,\"muted_glyph\":null,\"nonselection_glyph\":{\"id\":\"ce436164-be98-463f-a72d-d2b659a7e03e\",\"type\":\"Line\"},\"selection_glyph\":null,\"view\":{\"id\":\"86ecef25-45b8-4fc3-bc41-d8113620e8db\",\"type\":\"CDSView\"}},\"id\":\"ade8a242-1737-4717-948a-3561657afd33\",\"type\":\"GlyphRenderer\"},{\"attributes\":{\"label\":{\"value\":\"Sunday\"},\"renderers\":[{\"id\":\"ade8a242-1737-4717-948a-3561657afd33\",\"type\":\"GlyphRenderer\"}]},\"id\":\"067096d7-274b-4f43-96ee-7f4365f9bba2\",\"type\":\"LegendItem\"},{\"attributes\":{\"items\":[{\"id\":\"73238457-289a-4a12-9ea0-5d3400e1cd2b\",\"type\":\"LegendItem\"},{\"id\":\"f22e84e5-e101-4d49-b11c-b1b2639ed865\",\"type\":\"LegendItem\"},{\"id\":\"2ac363f3-6eac-4472-b8aa-5436a546dee1\",\"type\":\"LegendItem\"},{\"id\":\"bc5c9e19-5748-491f-8ff2-86220e33fd7a\",\"type\":\"LegendItem\"},{\"id\":\"8ca0a829-8234-41d7-a028-2052340b1037\",\"type\":\"LegendItem\"},{\"id\":\"71829e10-4c23-436f-8788-86a0ac29821c\",\"type\":\"LegendItem\"},{\"id\":\"067096d7-274b-4f43-96ee-7f4365f9bba2\",\"type\":\"LegendItem\"}],\"plot\":{\"id\":\"8750d335-ad87-413c-8875-c3bbd0f060ff\",\"subtype\":\"Figure\",\"type\":\"Plot\"}},\"id\":\"fee02185-721e-49af-940f-86fe947c13f7\",\"type\":\"Legend\"},{\"attributes\":{\"formatter\":{\"id\":\"6cf635ee-e67e-4bba-8fc0-53c091ae148e\",\"type\":\"BasicTickFormatter\"},\"plot\":{\"id\":\"8750d335-ad87-413c-8875-c3bbd0f060ff\",\"subtype\":\"Figure\",\"type\":\"Plot\"},\"ticker\":{\"id\":\"cfc7ccea-8cca-4340-b56f-2223743314d3\",\"type\":\"BasicTicker\"}},\"id\":\"68532868-fcc1-4aec-b970-989545710704\",\"type\":\"LinearAxis\"},{\"attributes\":{},\"id\":\"73b63062-acba-4931-aa9c-3481594c71c5\",\"type\":\"BasicTicker\"},{\"attributes\":{\"dimension\":1,\"plot\":{\"id\":\"8750d335-ad87-413c-8875-c3bbd0f060ff\",\"subtype\":\"Figure\",\"type\":\"Plot\"},\"ticker\":{\"id\":\"cfc7ccea-8cca-4340-b56f-2223743314d3\",\"type\":\"BasicTicker\"}},\"id\":\"17c0885c-ea3e-4493-8e8e-86b0a2262209\",\"type\":\"Grid\"},{\"attributes\":{\"below\":[{\"id\":\"bb65046f-e6fe-4864-89dd-fe562f070003\",\"type\":\"LinearAxis\"}],\"left\":[{\"id\":\"68532868-fcc1-4aec-b970-989545710704\",\"type\":\"LinearAxis\"}],\"plot_height\":400,\"plot_width\":800,\"renderers\":[{\"id\":\"bb65046f-e6fe-4864-89dd-fe562f070003\",\"type\":\"LinearAxis\"},{\"id\":\"2b32bdd4-761e-44a3-9e78-28f56ada167a\",\"type\":\"Grid\"},{\"id\":\"68532868-fcc1-4aec-b970-989545710704\",\"type\":\"LinearAxis\"},{\"id\":\"17c0885c-ea3e-4493-8e8e-86b0a2262209\",\"type\":\"Grid\"},{\"id\":\"26738213-a8d3-460e-9ed6-39b37218a9b2\",\"type\":\"BoxAnnotation\"},{\"id\":\"fee02185-721e-49af-940f-86fe947c13f7\",\"type\":\"Legend\"},{\"id\":\"503685f8-0e8b-4a7c-aeab-5b0aff6507fb\",\"type\":\"GlyphRenderer\"},{\"id\":\"7e963bc3-7c4a-40bd-ac70-19c5a56eeb45\",\"type\":\"GlyphRenderer\"},{\"id\":\"2af8b9d5-c56f-465a-a613-acdf29999d76\",\"type\":\"GlyphRenderer\"},{\"id\":\"76de347e-1473-4f76-b255-bc22cfc12b79\",\"type\":\"GlyphRenderer\"},{\"id\":\"e9c54dd9-6dd5-45e5-8e92-54d3b5ccd7bd\",\"type\":\"GlyphRenderer\"},{\"id\":\"4100334f-e90d-4095-bd6d-924ae2a660fe\",\"type\":\"GlyphRenderer\"},{\"id\":\"ade8a242-1737-4717-948a-3561657afd33\",\"type\":\"GlyphRenderer\"}],\"title\":{\"id\":\"f89f0b9a-f47e-4a95-9c0b-00aebfe497f5\",\"type\":\"Title\"},\"toolbar\":{\"id\":\"50ea4156-e1c2-4102-a33f-3f78be766cff\",\"type\":\"Toolbar\"},\"x_range\":{\"id\":\"86e32829-236f-4bf7-9ff7-ea618a6b2bdf\",\"type\":\"DataRange1d\"},\"x_scale\":{\"id\":\"56570516-e8ac-48c6-a3a2-d9d2d932ee21\",\"type\":\"LinearScale\"},\"y_range\":{\"id\":\"8f4c6ef6-9913-497a-92ef-d1aea47b81c2\",\"type\":\"DataRange1d\"},\"y_scale\":{\"id\":\"4646bd3e-a57d-4069-85a8-b1c21a013b46\",\"type\":\"LinearScale\"}},\"id\":\"8750d335-ad87-413c-8875-c3bbd0f060ff\",\"subtype\":\"Figure\",\"type\":\"Plot\"},{\"attributes\":{},\"id\":\"cfc7ccea-8cca-4340-b56f-2223743314d3\",\"type\":\"BasicTicker\"},{\"attributes\":{\"bottom_units\":\"screen\",\"fill_alpha\":{\"value\":0.5},\"fill_color\":{\"value\":\"lightgrey\"},\"left_units\":\"screen\",\"level\":\"overlay\",\"line_alpha\":{\"value\":1.0},\"line_color\":{\"value\":\"black\"},\"line_dash\":[4,4],\"line_width\":{\"value\":2},\"plot\":null,\"render_mode\":\"css\",\"right_units\":\"screen\",\"top_units\":\"screen\"},\"id\":\"26738213-a8d3-460e-9ed6-39b37218a9b2\",\"type\":\"BoxAnnotation\"},{\"attributes\":{\"active_drag\":\"auto\",\"active_inspect\":\"auto\",\"active_scroll\":\"auto\",\"active_tap\":\"auto\",\"tools\":[{\"id\":\"491e3d81-a881-43fd-847e-7ea297f6609d\",\"type\":\"PanTool\"},{\"id\":\"34101731-31cc-402f-a13d-cdac626b89c1\",\"type\":\"WheelZoomTool\"},{\"id\":\"384b538e-3dfc-41fb-a0ba-6000401fb0f8\",\"type\":\"BoxZoomTool\"},{\"id\":\"7b4a892b-30bf-426d-900c-af698ff10d9c\",\"type\":\"SaveTool\"},{\"id\":\"fcaa5c91-257d-485c-8ce5-65bb0fc8eb6b\",\"type\":\"ResetTool\"},{\"id\":\"f54f915c-f420-4e51-9ed1-7ce375ae275d\",\"type\":\"HelpTool\"}]},\"id\":\"50ea4156-e1c2-4102-a33f-3f78be766cff\",\"type\":\"Toolbar\"},{\"attributes\":{},\"id\":\"491e3d81-a881-43fd-847e-7ea297f6609d\",\"type\":\"PanTool\"},{\"attributes\":{\"callback\":null},\"id\":\"86e32829-236f-4bf7-9ff7-ea618a6b2bdf\",\"type\":\"DataRange1d\"},{\"attributes\":{\"formatter\":{\"id\":\"7f22f78c-767c-49bb-8b72-fc9bdf88c8c6\",\"type\":\"BasicTickFormatter\"},\"plot\":{\"id\":\"8750d335-ad87-413c-8875-c3bbd0f060ff\",\"subtype\":\"Figure\",\"type\":\"Plot\"},\"ticker\":{\"id\":\"73b63062-acba-4931-aa9c-3481594c71c5\",\"type\":\"BasicTicker\"}},\"id\":\"bb65046f-e6fe-4864-89dd-fe562f070003\",\"type\":\"LinearAxis\"},{\"attributes\":{},\"id\":\"34101731-31cc-402f-a13d-cdac626b89c1\",\"type\":\"WheelZoomTool\"},{\"attributes\":{\"overlay\":{\"id\":\"26738213-a8d3-460e-9ed6-39b37218a9b2\",\"type\":\"BoxAnnotation\"}},\"id\":\"384b538e-3dfc-41fb-a0ba-6000401fb0f8\",\"type\":\"BoxZoomTool\"},{\"attributes\":{},\"id\":\"7b4a892b-30bf-426d-900c-af698ff10d9c\",\"type\":\"SaveTool\"},{\"attributes\":{\"callback\":null},\"id\":\"8f4c6ef6-9913-497a-92ef-d1aea47b81c2\",\"type\":\"DataRange1d\"},{\"attributes\":{},\"id\":\"fcaa5c91-257d-485c-8ce5-65bb0fc8eb6b\",\"type\":\"ResetTool\"},{\"attributes\":{},\"id\":\"f54f915c-f420-4e51-9ed1-7ce375ae275d\",\"type\":\"HelpTool\"},{\"attributes\":{},\"id\":\"56570516-e8ac-48c6-a3a2-d9d2d932ee21\",\"type\":\"LinearScale\"},{\"attributes\":{\"line_alpha\":0.1,\"line_color\":\"#1f77b4\",\"line_width\":2,\"x\":{\"field\":\"x\"},\"y\":{\"field\":\"y\"}},\"id\":\"0dcaf648-66d8-4706-9d71-0cb88d478276\",\"type\":\"Line\"},{\"attributes\":{\"callback\":null,\"column_names\":[\"x\",\"y\"],\"data\":{\"x\":[0,1,2,3,4,5,6,7,8,9,10,11,12,13,14,15,16,17,18,19,20,21,22,23],\"y\":[140,80,65,70,34,38,59,92,120,174,157,174,217,195,176,195,187,213,222,202,184,175,157,125]}},\"id\":\"20b1fa35-f027-43e2-b75e-5c065499c163\",\"type\":\"ColumnDataSource\"},{\"attributes\":{},\"id\":\"4646bd3e-a57d-4069-85a8-b1c21a013b46\",\"type\":\"LinearScale\"},{\"attributes\":{\"line_color\":\"#a6cee3\",\"line_width\":2,\"x\":{\"field\":\"x\"},\"y\":{\"field\":\"y\"}},\"id\":\"69ac1fd5-f10f-46f7-98a3-95babb1daafc\",\"type\":\"Line\"},{\"attributes\":{\"callback\":null,\"column_names\":[\"x\",\"y\"],\"data\":{\"x\":[0,1,2,3,4,5,6,7,8,9,10,11,12,13,14,15,16,17,18,19,20,21,22,23],\"y\":[156,85,84,46,38,54,57,86,121,164,144,148,207,176,174,175,184,199,208,191,165,136,155,163]}},\"id\":\"b7b694cc-cefc-45a9-9311-b5fe8d7dacb0\",\"type\":\"ColumnDataSource\"},{\"attributes\":{\"data_source\":{\"id\":\"a2223324-e7d8-4805-9d33-7d6ece64938c\",\"type\":\"ColumnDataSource\"},\"glyph\":{\"id\":\"69ac1fd5-f10f-46f7-98a3-95babb1daafc\",\"type\":\"Line\"},\"hover_glyph\":null,\"muted_glyph\":null,\"nonselection_glyph\":{\"id\":\"0dcaf648-66d8-4706-9d71-0cb88d478276\",\"type\":\"Line\"},\"selection_glyph\":null,\"view\":{\"id\":\"6e4b3d69-88ef-42af-b21b-29615d4b7a41\",\"type\":\"CDSView\"}},\"id\":\"503685f8-0e8b-4a7c-aeab-5b0aff6507fb\",\"type\":\"GlyphRenderer\"},{\"attributes\":{\"source\":{\"id\":\"a2223324-e7d8-4805-9d33-7d6ece64938c\",\"type\":\"ColumnDataSource\"}},\"id\":\"6e4b3d69-88ef-42af-b21b-29615d4b7a41\",\"type\":\"CDSView\"},{\"attributes\":{},\"id\":\"6cf635ee-e67e-4bba-8fc0-53c091ae148e\",\"type\":\"BasicTickFormatter\"},{\"attributes\":{\"plot\":null,\"text\":\"\"},\"id\":\"f89f0b9a-f47e-4a95-9c0b-00aebfe497f5\",\"type\":\"Title\"},{\"attributes\":{\"label\":{\"value\":\"Monday\"},\"renderers\":[{\"id\":\"503685f8-0e8b-4a7c-aeab-5b0aff6507fb\",\"type\":\"GlyphRenderer\"}]},\"id\":\"73238457-289a-4a12-9ea0-5d3400e1cd2b\",\"type\":\"LegendItem\"},{\"attributes\":{\"data_source\":{\"id\":\"20b1fa35-f027-43e2-b75e-5c065499c163\",\"type\":\"ColumnDataSource\"},\"glyph\":{\"id\":\"ebbb18eb-5f13-4a43-8392-685684ca16cb\",\"type\":\"Line\"},\"hover_glyph\":null,\"muted_glyph\":null,\"nonselection_glyph\":{\"id\":\"1a803819-d525-43cc-8b19-65c69d7851b5\",\"type\":\"Line\"},\"selection_glyph\":null,\"view\":{\"id\":\"7bc8f4ba-7545-4e52-8170-a5c10625cee6\",\"type\":\"CDSView\"}},\"id\":\"7e963bc3-7c4a-40bd-ac70-19c5a56eeb45\",\"type\":\"GlyphRenderer\"},{\"attributes\":{},\"id\":\"7f22f78c-767c-49bb-8b72-fc9bdf88c8c6\",\"type\":\"BasicTickFormatter\"},{\"attributes\":{\"callback\":null,\"column_names\":[\"x\",\"y\"],\"data\":{\"x\":[0,1,2,3,4,5,6,7,8,9,10,11,12,13,14,15,16,17,18,19,20,21,22,23],\"y\":[152,57,63,78,39,40,59,79,130,167,126,179,197,196,199,215,220,230,196,182,180,154,155,103]}},\"id\":\"701ad502-2135-4381-9b26-cb1b79d3cde2\",\"type\":\"ColumnDataSource\"},{\"attributes\":{\"line_color\":\"#33a02c\",\"line_width\":2,\"x\":{\"field\":\"x\"},\"y\":{\"field\":\"y\"}},\"id\":\"4a20ba67-6dd3-49a8-8d5d-b41e8b5cdb29\",\"type\":\"Line\"},{\"attributes\":{\"line_color\":\"#1f78b4\",\"line_width\":2,\"x\":{\"field\":\"x\"},\"y\":{\"field\":\"y\"}},\"id\":\"ebbb18eb-5f13-4a43-8392-685684ca16cb\",\"type\":\"Line\"},{\"attributes\":{\"line_alpha\":0.1,\"line_color\":\"#1f77b4\",\"line_width\":2,\"x\":{\"field\":\"x\"},\"y\":{\"field\":\"y\"}},\"id\":\"1a803819-d525-43cc-8b19-65c69d7851b5\",\"type\":\"Line\"},{\"attributes\":{\"line_alpha\":0.1,\"line_color\":\"#1f77b4\",\"line_width\":2,\"x\":{\"field\":\"x\"},\"y\":{\"field\":\"y\"}},\"id\":\"611df9aa-f718-4d66-ba1e-89edd3999b6f\",\"type\":\"Line\"},{\"attributes\":{\"label\":{\"value\":\"Tuesday\"},\"renderers\":[{\"id\":\"7e963bc3-7c4a-40bd-ac70-19c5a56eeb45\",\"type\":\"GlyphRenderer\"}]},\"id\":\"f22e84e5-e101-4d49-b11c-b1b2639ed865\",\"type\":\"LegendItem\"},{\"attributes\":{\"source\":{\"id\":\"20b1fa35-f027-43e2-b75e-5c065499c163\",\"type\":\"ColumnDataSource\"}},\"id\":\"7bc8f4ba-7545-4e52-8170-a5c10625cee6\",\"type\":\"CDSView\"},{\"attributes\":{\"line_color\":\"#b2df8a\",\"line_width\":2,\"x\":{\"field\":\"x\"},\"y\":{\"field\":\"y\"}},\"id\":\"1edf20f9-7fa6-45a7-93de-0726d30d0146\",\"type\":\"Line\"}],\"root_ids\":[\"8750d335-ad87-413c-8875-c3bbd0f060ff\"]},\"title\":\"Bokeh Application\",\"version\":\"0.12.13\"}};\n",
       "  var render_items = [{\"docid\":\"7aef8079-c0fa-461d-a3d8-f30954d703b2\",\"elementid\":\"51a6c8e7-0472-4595-9e97-1eb8aad76b99\",\"modelid\":\"8750d335-ad87-413c-8875-c3bbd0f060ff\"}];\n",
       "  root.Bokeh.embed.embed_items_notebook(docs_json, render_items);\n",
       "\n",
       "  }\n",
       "  if (root.Bokeh !== undefined) {\n",
       "    embed_document(root);\n",
       "  } else {\n",
       "    var attempts = 0;\n",
       "    var timer = setInterval(function(root) {\n",
       "      if (root.Bokeh !== undefined) {\n",
       "        embed_document(root);\n",
       "        clearInterval(timer);\n",
       "      }\n",
       "      attempts++;\n",
       "      if (attempts > 100) {\n",
       "        console.log(\"Bokeh: ERROR: Unable to run BokehJS code because BokehJS library is missing\")\n",
       "        clearInterval(timer);\n",
       "      }\n",
       "    }, 10, root)\n",
       "  }\n",
       "})(window);"
      ],
      "application/vnd.bokehjs_exec.v0+json": ""
     },
     "metadata": {
      "application/vnd.bokehjs_exec.v0+json": {
       "id": "8750d335-ad87-413c-8875-c3bbd0f060ff"
      }
     },
     "output_type": "display_data"
    }
   ],
   "source": [
    "for cur_p in p_list:\n",
    "    show(cur_p)"
   ]
  },
  {
   "cell_type": "code",
   "execution_count": null,
   "metadata": {
    "collapsed": true
   },
   "outputs": [],
   "source": []
  },
  {
   "cell_type": "code",
   "execution_count": 57,
   "metadata": {},
   "outputs": [
    {
     "data": {
      "text/html": [
       "\n",
       "<div class=\"bk-root\">\n",
       "    <div class=\"bk-plotdiv\" id=\"3313108d-b8f6-44d9-b6e9-bbee10f3ed6c\"></div>\n",
       "</div>"
      ]
     },
     "metadata": {},
     "output_type": "display_data"
    },
    {
     "data": {
      "application/javascript": [
       "(function(root) {\n",
       "  function embed_document(root) {\n",
       "    \n",
       "  var docs_json = {\"40e23fca-1ffc-43a8-9b99-ea369b922ba3\":{\"roots\":{\"references\":[{\"attributes\":{},\"id\":\"793ce45c-ef59-40fb-8e31-3f0e7735ff28\",\"type\":\"BasicTicker\"},{\"attributes\":{\"callback\":null,\"column_names\":[\"x\",\"y\"],\"data\":{\"x\":[0,1,2,3,4,5,6,7,8,9,10,11,12,13,14,15,16,17,18,19,20,21,22,23],\"y\":[157,129,129,89,53,65,47,48,84,131,144,136,188,156,150,177,173,153,204,222,187,195,192,129]}},\"id\":\"faa45331-9942-48b9-8e66-58a452de0ca6\",\"type\":\"ColumnDataSource\"},{\"attributes\":{\"active_drag\":\"auto\",\"active_inspect\":\"auto\",\"active_scroll\":\"auto\",\"active_tap\":\"auto\",\"tools\":[{\"id\":\"0f1f32d9-24b6-456d-908c-4e6113df3d14\",\"type\":\"PanTool\"},{\"id\":\"bdfc54a7-02ec-4637-ba34-8c45a3c069d1\",\"type\":\"WheelZoomTool\"},{\"id\":\"a1ece761-ee37-4e68-953e-a3255982ef8a\",\"type\":\"BoxZoomTool\"},{\"id\":\"e6a5ecea-8e39-4b8a-9a2f-832cf6725a2d\",\"type\":\"SaveTool\"},{\"id\":\"ad40ceee-1fac-4e21-b991-4c65ce8833f5\",\"type\":\"ResetTool\"},{\"id\":\"e0b1b8d9-1e25-40e4-9446-99d513264114\",\"type\":\"HelpTool\"}]},\"id\":\"f1ce424b-5de5-4450-a5d2-3517e0c4c402\",\"type\":\"Toolbar\"},{\"attributes\":{\"source\":{\"id\":\"55de87cc-e9ca-42d2-8c16-a165bc861de6\",\"type\":\"ColumnDataSource\"}},\"id\":\"263d69af-b4a7-49e2-93dd-047627911384\",\"type\":\"CDSView\"},{\"attributes\":{},\"id\":\"0f1f32d9-24b6-456d-908c-4e6113df3d14\",\"type\":\"PanTool\"},{\"attributes\":{},\"id\":\"6c4d8a20-4b4c-4902-89c7-a5b234ae169f\",\"type\":\"BasicTickFormatter\"},{\"attributes\":{\"bottom_units\":\"screen\",\"fill_alpha\":{\"value\":0.5},\"fill_color\":{\"value\":\"lightgrey\"},\"left_units\":\"screen\",\"level\":\"overlay\",\"line_alpha\":{\"value\":1.0},\"line_color\":{\"value\":\"black\"},\"line_dash\":[4,4],\"line_width\":{\"value\":2},\"plot\":null,\"render_mode\":\"css\",\"right_units\":\"screen\",\"top_units\":\"screen\"},\"id\":\"7795aedb-23ce-4110-8c65-174899cedad6\",\"type\":\"BoxAnnotation\"},{\"attributes\":{\"formatter\":{\"id\":\"45bcd871-36d6-40f1-8307-7d2a355748a5\",\"type\":\"BasicTickFormatter\"},\"plot\":{\"id\":\"510bc52c-2f74-4814-9e12-de69d0f28b51\",\"subtype\":\"Figure\",\"type\":\"Plot\"},\"ticker\":{\"id\":\"793ce45c-ef59-40fb-8e31-3f0e7735ff28\",\"type\":\"BasicTicker\"}},\"id\":\"3068fce3-09ee-4a80-84d0-52837d413dff\",\"type\":\"LinearAxis\"},{\"attributes\":{\"items\":[{\"id\":\"256d7716-6c2f-412d-b2de-4bae46809b76\",\"type\":\"LegendItem\"},{\"id\":\"10dcb08f-d2a5-417b-bbbb-79949248b753\",\"type\":\"LegendItem\"},{\"id\":\"b7e5233f-df84-4761-abe6-5521ad9aa873\",\"type\":\"LegendItem\"},{\"id\":\"bc48666c-d06e-4a45-aef2-55a271c5551f\",\"type\":\"LegendItem\"},{\"id\":\"45e469a3-e3fa-433d-b9e3-2f9a5364ca7b\",\"type\":\"LegendItem\"},{\"id\":\"bca308e6-c343-49aa-9029-d66c2ad96567\",\"type\":\"LegendItem\"},{\"id\":\"9a77a9be-380d-40d6-9d51-6f1eb3b76dd9\",\"type\":\"LegendItem\"}],\"plot\":{\"id\":\"510bc52c-2f74-4814-9e12-de69d0f28b51\",\"subtype\":\"Figure\",\"type\":\"Plot\"}},\"id\":\"914b9e2a-1924-4170-b98e-92489cfaff28\",\"type\":\"Legend\"},{\"attributes\":{\"data_source\":{\"id\":\"33c33118-0304-4a2a-b217-acc2e001b1a9\",\"type\":\"ColumnDataSource\"},\"glyph\":{\"id\":\"06555532-7573-449f-b220-9477a1fa381f\",\"type\":\"Line\"},\"hover_glyph\":null,\"muted_glyph\":null,\"nonselection_glyph\":{\"id\":\"8c9b86c1-4459-4bac-b2fe-fd5d6bb09ea7\",\"type\":\"Line\"},\"selection_glyph\":null,\"view\":{\"id\":\"d4b51ced-6780-4223-a8d8-229f5f5e8ad7\",\"type\":\"CDSView\"}},\"id\":\"e3acdd58-30b6-4153-9690-5cde769ed06b\",\"type\":\"GlyphRenderer\"},{\"attributes\":{},\"id\":\"45bcd871-36d6-40f1-8307-7d2a355748a5\",\"type\":\"BasicTickFormatter\"},{\"attributes\":{\"plot\":{\"id\":\"510bc52c-2f74-4814-9e12-de69d0f28b51\",\"subtype\":\"Figure\",\"type\":\"Plot\"},\"ticker\":{\"id\":\"c183c97d-3d72-4122-a224-370843f04e33\",\"type\":\"BasicTicker\"}},\"id\":\"5ce80095-7834-4f2d-9b10-9a4ccab14f81\",\"type\":\"Grid\"},{\"attributes\":{\"line_color\":\"#e31a1c\",\"line_width\":2,\"x\":{\"field\":\"x\"},\"y\":{\"field\":\"y\"}},\"id\":\"de5fad29-e4a6-40ed-bbd3-608f67fae5cb\",\"type\":\"Line\"},{\"attributes\":{},\"id\":\"bdfc54a7-02ec-4637-ba34-8c45a3c069d1\",\"type\":\"WheelZoomTool\"},{\"attributes\":{},\"id\":\"1fbd699f-8a6d-456c-88c4-f3a0a99335f3\",\"type\":\"LinearScale\"},{\"attributes\":{\"below\":[{\"id\":\"9a8b2268-cd69-4f6f-97e5-d5bc05a75c7a\",\"type\":\"LinearAxis\"}],\"left\":[{\"id\":\"3068fce3-09ee-4a80-84d0-52837d413dff\",\"type\":\"LinearAxis\"}],\"plot_height\":400,\"plot_width\":800,\"renderers\":[{\"id\":\"9a8b2268-cd69-4f6f-97e5-d5bc05a75c7a\",\"type\":\"LinearAxis\"},{\"id\":\"5ce80095-7834-4f2d-9b10-9a4ccab14f81\",\"type\":\"Grid\"},{\"id\":\"3068fce3-09ee-4a80-84d0-52837d413dff\",\"type\":\"LinearAxis\"},{\"id\":\"de3218e7-a762-4e65-a5d3-5cb15e2c84e1\",\"type\":\"Grid\"},{\"id\":\"7795aedb-23ce-4110-8c65-174899cedad6\",\"type\":\"BoxAnnotation\"},{\"id\":\"914b9e2a-1924-4170-b98e-92489cfaff28\",\"type\":\"Legend\"},{\"id\":\"f9020f9c-381a-4d55-ad6a-111939d31ae2\",\"type\":\"GlyphRenderer\"},{\"id\":\"160711dd-6d42-489f-bb8e-4035248f7268\",\"type\":\"GlyphRenderer\"},{\"id\":\"60c414ce-14ba-41cd-9c42-993064b9dff4\",\"type\":\"GlyphRenderer\"},{\"id\":\"f600fbbd-e08a-4e0a-a6f8-ad8308b52196\",\"type\":\"GlyphRenderer\"},{\"id\":\"e3acdd58-30b6-4153-9690-5cde769ed06b\",\"type\":\"GlyphRenderer\"},{\"id\":\"e2a7d768-0a97-47fe-9c4b-41c35254f545\",\"type\":\"GlyphRenderer\"},{\"id\":\"37287415-a0ec-41f7-bd0d-e924380a82da\",\"type\":\"GlyphRenderer\"}],\"title\":{\"id\":\"4fd2ede1-8fea-43f9-8176-aaa2c8293674\",\"type\":\"Title\"},\"toolbar\":{\"id\":\"f1ce424b-5de5-4450-a5d2-3517e0c4c402\",\"type\":\"Toolbar\"},\"x_range\":{\"id\":\"b219be4b-71bd-4d85-88f2-ebc8018af312\",\"type\":\"DataRange1d\"},\"x_scale\":{\"id\":\"a986823e-484b-40e9-a47e-2525f2215450\",\"type\":\"LinearScale\"},\"y_range\":{\"id\":\"bf1705c3-bdc9-4abe-b94f-1dc549342069\",\"type\":\"DataRange1d\"},\"y_scale\":{\"id\":\"1fbd699f-8a6d-456c-88c4-f3a0a99335f3\",\"type\":\"LinearScale\"}},\"id\":\"510bc52c-2f74-4814-9e12-de69d0f28b51\",\"subtype\":\"Figure\",\"type\":\"Plot\"},{\"attributes\":{\"line_color\":\"#fb9a99\",\"line_width\":2,\"x\":{\"field\":\"x\"},\"y\":{\"field\":\"y\"}},\"id\":\"06555532-7573-449f-b220-9477a1fa381f\",\"type\":\"Line\"},{\"attributes\":{\"label\":{\"value\":\"Wednesday\"},\"renderers\":[{\"id\":\"60c414ce-14ba-41cd-9c42-993064b9dff4\",\"type\":\"GlyphRenderer\"}]},\"id\":\"b7e5233f-df84-4761-abe6-5521ad9aa873\",\"type\":\"LegendItem\"},{\"attributes\":{\"label\":{\"value\":\"Thursday\"},\"renderers\":[{\"id\":\"f600fbbd-e08a-4e0a-a6f8-ad8308b52196\",\"type\":\"GlyphRenderer\"}]},\"id\":\"bc48666c-d06e-4a45-aef2-55a271c5551f\",\"type\":\"LegendItem\"},{\"attributes\":{\"line_alpha\":0.1,\"line_color\":\"#1f77b4\",\"line_width\":2,\"x\":{\"field\":\"x\"},\"y\":{\"field\":\"y\"}},\"id\":\"aae08e92-084f-460e-824b-8d6ecaa9749b\",\"type\":\"Line\"},{\"attributes\":{\"data_source\":{\"id\":\"faa45331-9942-48b9-8e66-58a452de0ca6\",\"type\":\"ColumnDataSource\"},\"glyph\":{\"id\":\"de5fad29-e4a6-40ed-bbd3-608f67fae5cb\",\"type\":\"Line\"},\"hover_glyph\":null,\"muted_glyph\":null,\"nonselection_glyph\":{\"id\":\"632ad339-0cf6-439d-90c1-ae4b71239bec\",\"type\":\"Line\"},\"selection_glyph\":null,\"view\":{\"id\":\"f3f1ed4c-b046-42e2-86c4-ac2880b11859\",\"type\":\"CDSView\"}},\"id\":\"e2a7d768-0a97-47fe-9c4b-41c35254f545\",\"type\":\"GlyphRenderer\"},{\"attributes\":{\"source\":{\"id\":\"fd111c49-1cb4-47c8-ae0c-bd65833d80e9\",\"type\":\"ColumnDataSource\"}},\"id\":\"c8ccd964-f8ea-42f3-ab19-281a377a5ecb\",\"type\":\"CDSView\"},{\"attributes\":{\"line_alpha\":0.1,\"line_color\":\"#1f77b4\",\"line_width\":2,\"x\":{\"field\":\"x\"},\"y\":{\"field\":\"y\"}},\"id\":\"8c9b86c1-4459-4bac-b2fe-fd5d6bb09ea7\",\"type\":\"Line\"},{\"attributes\":{},\"id\":\"ad40ceee-1fac-4e21-b991-4c65ce8833f5\",\"type\":\"ResetTool\"},{\"attributes\":{\"overlay\":{\"id\":\"7795aedb-23ce-4110-8c65-174899cedad6\",\"type\":\"BoxAnnotation\"}},\"id\":\"a1ece761-ee37-4e68-953e-a3255982ef8a\",\"type\":\"BoxZoomTool\"},{\"attributes\":{\"line_alpha\":0.1,\"line_color\":\"#1f77b4\",\"line_width\":2,\"x\":{\"field\":\"x\"},\"y\":{\"field\":\"y\"}},\"id\":\"737d5878-c849-44f2-a8a9-0b607c2eb651\",\"type\":\"Line\"},{\"attributes\":{\"source\":{\"id\":\"8544c9ca-f3b9-488c-a85f-5bd454026253\",\"type\":\"ColumnDataSource\"}},\"id\":\"bcdc60e2-552d-41f5-aab4-cf4141327558\",\"type\":\"CDSView\"},{\"attributes\":{\"data_source\":{\"id\":\"8544c9ca-f3b9-488c-a85f-5bd454026253\",\"type\":\"ColumnDataSource\"},\"glyph\":{\"id\":\"9e296386-da3d-4d14-87e1-1ba0fb4c7e7c\",\"type\":\"Line\"},\"hover_glyph\":null,\"muted_glyph\":null,\"nonselection_glyph\":{\"id\":\"4c098df4-3fca-47a1-b4ec-609a84ee7592\",\"type\":\"Line\"},\"selection_glyph\":null,\"view\":{\"id\":\"bcdc60e2-552d-41f5-aab4-cf4141327558\",\"type\":\"CDSView\"}},\"id\":\"f9020f9c-381a-4d55-ad6a-111939d31ae2\",\"type\":\"GlyphRenderer\"},{\"attributes\":{\"callback\":null,\"column_names\":[\"x\",\"y\"],\"data\":{\"x\":[0,1,2,3,4,5,6,7,8,9,10,11,12,13,14,15,16,17,18,19,20,21,22,23],\"y\":[303,99,74,76,76,44,56,90,166,218,167,169,193,158,185,192,199,187,162,196,174,162,145,98]}},\"id\":\"55de87cc-e9ca-42d2-8c16-a165bc861de6\",\"type\":\"ColumnDataSource\"},{\"attributes\":{\"callback\":null,\"column_names\":[\"x\",\"y\"],\"data\":{\"x\":[0,1,2,3,4,5,6,7,8,9,10,11,12,13,14,15,16,17,18,19,20,21,22,23],\"y\":[126,127,92,82,61,47,34,42,60,71,97,118,130,105,97,139,112,136,146,130,141,117,119,102]}},\"id\":\"76da5358-d030-47a0-bbc2-1a5991db6d3d\",\"type\":\"ColumnDataSource\"},{\"attributes\":{},\"id\":\"e6a5ecea-8e39-4b8a-9a2f-832cf6725a2d\",\"type\":\"SaveTool\"},{\"attributes\":{\"source\":{\"id\":\"76da5358-d030-47a0-bbc2-1a5991db6d3d\",\"type\":\"ColumnDataSource\"}},\"id\":\"68fe0bce-aabf-4bfc-a0c3-daf39f91c310\",\"type\":\"CDSView\"},{\"attributes\":{\"callback\":null,\"column_names\":[\"x\",\"y\"],\"data\":{\"x\":[0,1,2,3,4,5,6,7,8,9,10,11,12,13,14,15,16,17,18,19,20,21,22,23],\"y\":[131,67,59,53,37,26,55,97,111,178,153,152,181,166,201,206,172,174,209,247,180,180,207,179]}},\"id\":\"33c33118-0304-4a2a-b217-acc2e001b1a9\",\"type\":\"ColumnDataSource\"},{\"attributes\":{\"label\":{\"value\":\"Sunday\"},\"renderers\":[{\"id\":\"37287415-a0ec-41f7-bd0d-e924380a82da\",\"type\":\"GlyphRenderer\"}]},\"id\":\"9a77a9be-380d-40d6-9d51-6f1eb3b76dd9\",\"type\":\"LegendItem\"},{\"attributes\":{\"plot\":null,\"text\":\"\"},\"id\":\"4fd2ede1-8fea-43f9-8176-aaa2c8293674\",\"type\":\"Title\"},{\"attributes\":{\"data_source\":{\"id\":\"fd111c49-1cb4-47c8-ae0c-bd65833d80e9\",\"type\":\"ColumnDataSource\"},\"glyph\":{\"id\":\"85be40d5-2128-47fe-8bae-2000e4d35195\",\"type\":\"Line\"},\"hover_glyph\":null,\"muted_glyph\":null,\"nonselection_glyph\":{\"id\":\"aae08e92-084f-460e-824b-8d6ecaa9749b\",\"type\":\"Line\"},\"selection_glyph\":null,\"view\":{\"id\":\"c8ccd964-f8ea-42f3-ab19-281a377a5ecb\",\"type\":\"CDSView\"}},\"id\":\"60c414ce-14ba-41cd-9c42-993064b9dff4\",\"type\":\"GlyphRenderer\"},{\"attributes\":{\"label\":{\"value\":\"Monday\"},\"renderers\":[{\"id\":\"f9020f9c-381a-4d55-ad6a-111939d31ae2\",\"type\":\"GlyphRenderer\"}]},\"id\":\"256d7716-6c2f-412d-b2de-4bae46809b76\",\"type\":\"LegendItem\"},{\"attributes\":{\"line_color\":\"#1f78b4\",\"line_width\":2,\"x\":{\"field\":\"x\"},\"y\":{\"field\":\"y\"}},\"id\":\"de9508a7-6a16-43b5-b92e-b416a7e142d6\",\"type\":\"Line\"},{\"attributes\":{\"callback\":null},\"id\":\"b219be4b-71bd-4d85-88f2-ebc8018af312\",\"type\":\"DataRange1d\"},{\"attributes\":{\"callback\":null,\"column_names\":[\"x\",\"y\"],\"data\":{\"x\":[0,1,2,3,4,5,6,7,8,9,10,11,12,13,14,15,16,17,18,19,20,21,22,23],\"y\":[108,39,45,30,17,34,46,64,89,145,117,111,146,137,138,165,136,140,144,164,144,140,120,89]}},\"id\":\"fd111c49-1cb4-47c8-ae0c-bd65833d80e9\",\"type\":\"ColumnDataSource\"},{\"attributes\":{\"line_color\":\"#a6cee3\",\"line_width\":2,\"x\":{\"field\":\"x\"},\"y\":{\"field\":\"y\"}},\"id\":\"9e296386-da3d-4d14-87e1-1ba0fb4c7e7c\",\"type\":\"Line\"},{\"attributes\":{\"data_source\":{\"id\":\"55de87cc-e9ca-42d2-8c16-a165bc861de6\",\"type\":\"ColumnDataSource\"},\"glyph\":{\"id\":\"ec467523-51b9-4410-8f1a-bb0bdbeba821\",\"type\":\"Line\"},\"hover_glyph\":null,\"muted_glyph\":null,\"nonselection_glyph\":{\"id\":\"22481ef6-772c-4972-a537-2c690b0da509\",\"type\":\"Line\"},\"selection_glyph\":null,\"view\":{\"id\":\"263d69af-b4a7-49e2-93dd-047627911384\",\"type\":\"CDSView\"}},\"id\":\"f600fbbd-e08a-4e0a-a6f8-ad8308b52196\",\"type\":\"GlyphRenderer\"},{\"attributes\":{\"data_source\":{\"id\":\"76da5358-d030-47a0-bbc2-1a5991db6d3d\",\"type\":\"ColumnDataSource\"},\"glyph\":{\"id\":\"dd6c66f8-dc98-44ad-b65b-2762837cbe42\",\"type\":\"Line\"},\"hover_glyph\":null,\"muted_glyph\":null,\"nonselection_glyph\":{\"id\":\"737d5878-c849-44f2-a8a9-0b607c2eb651\",\"type\":\"Line\"},\"selection_glyph\":null,\"view\":{\"id\":\"68fe0bce-aabf-4bfc-a0c3-daf39f91c310\",\"type\":\"CDSView\"}},\"id\":\"37287415-a0ec-41f7-bd0d-e924380a82da\",\"type\":\"GlyphRenderer\"},{\"attributes\":{\"line_color\":\"#33a02c\",\"line_width\":2,\"x\":{\"field\":\"x\"},\"y\":{\"field\":\"y\"}},\"id\":\"ec467523-51b9-4410-8f1a-bb0bdbeba821\",\"type\":\"Line\"},{\"attributes\":{\"line_alpha\":0.1,\"line_color\":\"#1f77b4\",\"line_width\":2,\"x\":{\"field\":\"x\"},\"y\":{\"field\":\"y\"}},\"id\":\"4c098df4-3fca-47a1-b4ec-609a84ee7592\",\"type\":\"Line\"},{\"attributes\":{},\"id\":\"e0b1b8d9-1e25-40e4-9446-99d513264114\",\"type\":\"HelpTool\"},{\"attributes\":{},\"id\":\"c183c97d-3d72-4122-a224-370843f04e33\",\"type\":\"BasicTicker\"},{\"attributes\":{\"line_color\":\"#fdbf6f\",\"line_width\":2,\"x\":{\"field\":\"x\"},\"y\":{\"field\":\"y\"}},\"id\":\"dd6c66f8-dc98-44ad-b65b-2762837cbe42\",\"type\":\"Line\"},{\"attributes\":{\"source\":{\"id\":\"33c33118-0304-4a2a-b217-acc2e001b1a9\",\"type\":\"ColumnDataSource\"}},\"id\":\"d4b51ced-6780-4223-a8d8-229f5f5e8ad7\",\"type\":\"CDSView\"},{\"attributes\":{\"label\":{\"value\":\"Friday\"},\"renderers\":[{\"id\":\"e3acdd58-30b6-4153-9690-5cde769ed06b\",\"type\":\"GlyphRenderer\"}]},\"id\":\"45e469a3-e3fa-433d-b9e3-2f9a5364ca7b\",\"type\":\"LegendItem\"},{\"attributes\":{\"source\":{\"id\":\"17714de2-ebc1-4d9c-a521-a6a88ffa73d8\",\"type\":\"ColumnDataSource\"}},\"id\":\"e135c36f-ce8a-42fd-a514-4da9b1de1e1a\",\"type\":\"CDSView\"},{\"attributes\":{\"line_alpha\":0.1,\"line_color\":\"#1f77b4\",\"line_width\":2,\"x\":{\"field\":\"x\"},\"y\":{\"field\":\"y\"}},\"id\":\"22481ef6-772c-4972-a537-2c690b0da509\",\"type\":\"Line\"},{\"attributes\":{\"callback\":null,\"column_names\":[\"x\",\"y\"],\"data\":{\"x\":[0,1,2,3,4,5,6,7,8,9,10,11,12,13,14,15,16,17,18,19,20,21,22,23],\"y\":[97,46,36,57,26,18,39,61,89,125,112,145,179,132,143,167,159,131,159,159,145,146,113,70]}},\"id\":\"17714de2-ebc1-4d9c-a521-a6a88ffa73d8\",\"type\":\"ColumnDataSource\"},{\"attributes\":{\"source\":{\"id\":\"faa45331-9942-48b9-8e66-58a452de0ca6\",\"type\":\"ColumnDataSource\"}},\"id\":\"f3f1ed4c-b046-42e2-86c4-ac2880b11859\",\"type\":\"CDSView\"},{\"attributes\":{\"callback\":null},\"id\":\"bf1705c3-bdc9-4abe-b94f-1dc549342069\",\"type\":\"DataRange1d\"},{\"attributes\":{\"line_color\":\"#b2df8a\",\"line_width\":2,\"x\":{\"field\":\"x\"},\"y\":{\"field\":\"y\"}},\"id\":\"85be40d5-2128-47fe-8bae-2000e4d35195\",\"type\":\"Line\"},{\"attributes\":{\"dimension\":1,\"plot\":{\"id\":\"510bc52c-2f74-4814-9e12-de69d0f28b51\",\"subtype\":\"Figure\",\"type\":\"Plot\"},\"ticker\":{\"id\":\"793ce45c-ef59-40fb-8e31-3f0e7735ff28\",\"type\":\"BasicTicker\"}},\"id\":\"de3218e7-a762-4e65-a5d3-5cb15e2c84e1\",\"type\":\"Grid\"},{\"attributes\":{\"label\":{\"value\":\"Saturday\"},\"renderers\":[{\"id\":\"e2a7d768-0a97-47fe-9c4b-41c35254f545\",\"type\":\"GlyphRenderer\"}]},\"id\":\"bca308e6-c343-49aa-9029-d66c2ad96567\",\"type\":\"LegendItem\"},{\"attributes\":{\"label\":{\"value\":\"Tuesday\"},\"renderers\":[{\"id\":\"160711dd-6d42-489f-bb8e-4035248f7268\",\"type\":\"GlyphRenderer\"}]},\"id\":\"10dcb08f-d2a5-417b-bbbb-79949248b753\",\"type\":\"LegendItem\"},{\"attributes\":{\"callback\":null,\"column_names\":[\"x\",\"y\"],\"data\":{\"x\":[0,1,2,3,4,5,6,7,8,9,10,11,12,13,14,15,16,17,18,19,20,21,22,23],\"y\":[94,67,39,39,31,31,35,62,82,114,123,127,157,126,129,144,153,130,150,147,154,121,113,100]}},\"id\":\"8544c9ca-f3b9-488c-a85f-5bd454026253\",\"type\":\"ColumnDataSource\"},{\"attributes\":{},\"id\":\"a986823e-484b-40e9-a47e-2525f2215450\",\"type\":\"LinearScale\"},{\"attributes\":{\"line_alpha\":0.1,\"line_color\":\"#1f77b4\",\"line_width\":2,\"x\":{\"field\":\"x\"},\"y\":{\"field\":\"y\"}},\"id\":\"632ad339-0cf6-439d-90c1-ae4b71239bec\",\"type\":\"Line\"},{\"attributes\":{\"formatter\":{\"id\":\"6c4d8a20-4b4c-4902-89c7-a5b234ae169f\",\"type\":\"BasicTickFormatter\"},\"plot\":{\"id\":\"510bc52c-2f74-4814-9e12-de69d0f28b51\",\"subtype\":\"Figure\",\"type\":\"Plot\"},\"ticker\":{\"id\":\"c183c97d-3d72-4122-a224-370843f04e33\",\"type\":\"BasicTicker\"}},\"id\":\"9a8b2268-cd69-4f6f-97e5-d5bc05a75c7a\",\"type\":\"LinearAxis\"},{\"attributes\":{\"line_alpha\":0.1,\"line_color\":\"#1f77b4\",\"line_width\":2,\"x\":{\"field\":\"x\"},\"y\":{\"field\":\"y\"}},\"id\":\"6b009e86-48c8-432b-b24f-f88bfe56d730\",\"type\":\"Line\"},{\"attributes\":{\"data_source\":{\"id\":\"17714de2-ebc1-4d9c-a521-a6a88ffa73d8\",\"type\":\"ColumnDataSource\"},\"glyph\":{\"id\":\"de9508a7-6a16-43b5-b92e-b416a7e142d6\",\"type\":\"Line\"},\"hover_glyph\":null,\"muted_glyph\":null,\"nonselection_glyph\":{\"id\":\"6b009e86-48c8-432b-b24f-f88bfe56d730\",\"type\":\"Line\"},\"selection_glyph\":null,\"view\":{\"id\":\"e135c36f-ce8a-42fd-a514-4da9b1de1e1a\",\"type\":\"CDSView\"}},\"id\":\"160711dd-6d42-489f-bb8e-4035248f7268\",\"type\":\"GlyphRenderer\"}],\"root_ids\":[\"510bc52c-2f74-4814-9e12-de69d0f28b51\"]},\"title\":\"Bokeh Application\",\"version\":\"0.12.13\"}};\n",
       "  var render_items = [{\"docid\":\"40e23fca-1ffc-43a8-9b99-ea369b922ba3\",\"elementid\":\"3313108d-b8f6-44d9-b6e9-bbee10f3ed6c\",\"modelid\":\"510bc52c-2f74-4814-9e12-de69d0f28b51\"}];\n",
       "  root.Bokeh.embed.embed_items_notebook(docs_json, render_items);\n",
       "\n",
       "  }\n",
       "  if (root.Bokeh !== undefined) {\n",
       "    embed_document(root);\n",
       "  } else {\n",
       "    var attempts = 0;\n",
       "    var timer = setInterval(function(root) {\n",
       "      if (root.Bokeh !== undefined) {\n",
       "        embed_document(root);\n",
       "        clearInterval(timer);\n",
       "      }\n",
       "      attempts++;\n",
       "      if (attempts > 100) {\n",
       "        console.log(\"Bokeh: ERROR: Unable to run BokehJS code because BokehJS library is missing\")\n",
       "        clearInterval(timer);\n",
       "      }\n",
       "    }, 10, root)\n",
       "  }\n",
       "})(window);"
      ],
      "application/vnd.bokehjs_exec.v0+json": ""
     },
     "metadata": {
      "application/vnd.bokehjs_exec.v0+json": {
       "id": "510bc52c-2f74-4814-9e12-de69d0f28b51"
      }
     },
     "output_type": "display_data"
    }
   ],
   "source": [
    "show(p_list[0])"
   ]
  },
  {
   "cell_type": "code",
   "execution_count": 58,
   "metadata": {},
   "outputs": [
    {
     "data": {
      "text/html": [
       "\n",
       "<div class=\"bk-root\">\n",
       "    <div class=\"bk-plotdiv\" id=\"ad2237fa-9bab-40a7-b18a-4dbf83c97cb4\"></div>\n",
       "</div>"
      ]
     },
     "metadata": {},
     "output_type": "display_data"
    },
    {
     "data": {
      "application/javascript": [
       "(function(root) {\n",
       "  function embed_document(root) {\n",
       "    \n",
       "  var docs_json = {\"1b5c7c54-6735-4d17-9b1e-c84269bf0165\":{\"roots\":{\"references\":[{\"attributes\":{\"data_source\":{\"id\":\"48e50e0a-ec09-4e78-8f3e-45bdc7bc3335\",\"type\":\"ColumnDataSource\"},\"glyph\":{\"id\":\"cfd0d614-a5b3-43b4-a5cd-4b0bfa360c12\",\"type\":\"Line\"},\"hover_glyph\":null,\"muted_glyph\":null,\"nonselection_glyph\":{\"id\":\"330829c2-dc45-4d48-9c1a-856280f9e0e1\",\"type\":\"Line\"},\"selection_glyph\":null,\"view\":{\"id\":\"0efc3955-0926-4256-ae2c-54ceb91258c8\",\"type\":\"CDSView\"}},\"id\":\"087c90bb-d1ce-4b84-8002-8f85f6dd307e\",\"type\":\"GlyphRenderer\"},{\"attributes\":{\"callback\":null,\"column_names\":[\"x\",\"y\"],\"data\":{\"x\":[0,1,2,3,4,5,6,7,8,9,10,11,12,13,14,15,16,17,18,19,20,21,22,23],\"y\":[216,181,174,127,104,74,57,48,70,85,124,104,139,131,146,157,164,146,163,152,154,165,205,159]}},\"id\":\"3a3b8b22-407a-4215-b350-1b8ef6361193\",\"type\":\"ColumnDataSource\"},{\"attributes\":{\"line_color\":\"#33a02c\",\"line_width\":2,\"x\":{\"field\":\"x\"},\"y\":{\"field\":\"y\"}},\"id\":\"cb2ef0cd-caa8-4743-849e-6b90e45af1c1\",\"type\":\"Line\"},{\"attributes\":{\"callback\":null,\"column_names\":[\"x\",\"y\"],\"data\":{\"x\":[0,1,2,3,4,5,6,7,8,9,10,11,12,13,14,15,16,17,18,19,20,21,22,23],\"y\":[148,93,72,74,60,38,56,64,93,143,141,114,178,142,157,156,157,179,193,202,174,172,171,150]}},\"id\":\"b743c255-5a13-4c99-8323-f4f6362ec712\",\"type\":\"ColumnDataSource\"},{\"attributes\":{\"callback\":null,\"column_names\":[\"x\",\"y\"],\"data\":{\"x\":[0,1,2,3,4,5,6,7,8,9,10,11,12,13,14,15,16,17,18,19,20,21,22,23],\"y\":[149,109,84,67,64,43,63,92,109,152,178,164,183,171,207,197,200,186,191,223,194,215,207,185]}},\"id\":\"382881e9-6ffd-4cde-98ed-638c537cd0bd\",\"type\":\"ColumnDataSource\"},{\"attributes\":{},\"id\":\"0af6d39e-3d5f-4a8e-b0f7-ee7b4f17ea2f\",\"type\":\"HelpTool\"},{\"attributes\":{\"data_source\":{\"id\":\"3a3b8b22-407a-4215-b350-1b8ef6361193\",\"type\":\"ColumnDataSource\"},\"glyph\":{\"id\":\"d28dfff8-d400-4b28-a9fc-1253a1eed0bd\",\"type\":\"Line\"},\"hover_glyph\":null,\"muted_glyph\":null,\"nonselection_glyph\":{\"id\":\"9fad90f0-72ff-4856-b219-e2ce6ff95136\",\"type\":\"Line\"},\"selection_glyph\":null,\"view\":{\"id\":\"2d6f79cd-ef8e-4b57-b48e-d37c1224c43e\",\"type\":\"CDSView\"}},\"id\":\"35e9da25-d005-4b75-a563-126c29024ce1\",\"type\":\"GlyphRenderer\"},{\"attributes\":{\"line_alpha\":0.1,\"line_color\":\"#1f77b4\",\"line_width\":2,\"x\":{\"field\":\"x\"},\"y\":{\"field\":\"y\"}},\"id\":\"330829c2-dc45-4d48-9c1a-856280f9e0e1\",\"type\":\"Line\"},{\"attributes\":{},\"id\":\"830b33b2-1289-4624-a7a6-6219910d8ad2\",\"type\":\"BasicTickFormatter\"},{\"attributes\":{\"line_color\":\"#b2df8a\",\"line_width\":2,\"x\":{\"field\":\"x\"},\"y\":{\"field\":\"y\"}},\"id\":\"cfd0d614-a5b3-43b4-a5cd-4b0bfa360c12\",\"type\":\"Line\"},{\"attributes\":{\"source\":{\"id\":\"b743c255-5a13-4c99-8323-f4f6362ec712\",\"type\":\"ColumnDataSource\"}},\"id\":\"af46229f-ea34-42e2-a188-40325a7ee3e0\",\"type\":\"CDSView\"},{\"attributes\":{\"data_source\":{\"id\":\"b743c255-5a13-4c99-8323-f4f6362ec712\",\"type\":\"ColumnDataSource\"},\"glyph\":{\"id\":\"de304617-37ac-47ef-98df-100c3c48aab4\",\"type\":\"Line\"},\"hover_glyph\":null,\"muted_glyph\":null,\"nonselection_glyph\":{\"id\":\"fc0a3218-b158-4f06-bda5-3062e1ca5ef4\",\"type\":\"Line\"},\"selection_glyph\":null,\"view\":{\"id\":\"af46229f-ea34-42e2-a188-40325a7ee3e0\",\"type\":\"CDSView\"}},\"id\":\"3a6d3e26-e919-4cb3-a825-50a1490def84\",\"type\":\"GlyphRenderer\"},{\"attributes\":{\"source\":{\"id\":\"5da58e77-aee7-4690-976d-38cb12ac0c12\",\"type\":\"ColumnDataSource\"}},\"id\":\"93bf0d28-b5c9-4145-b9af-737342e14601\",\"type\":\"CDSView\"},{\"attributes\":{\"line_alpha\":0.1,\"line_color\":\"#1f77b4\",\"line_width\":2,\"x\":{\"field\":\"x\"},\"y\":{\"field\":\"y\"}},\"id\":\"ecb0dfc7-d7bb-445f-bbd4-ab8f62b675bf\",\"type\":\"Line\"},{\"attributes\":{\"plot\":null,\"text\":\"\"},\"id\":\"2a5e6d88-cd44-417c-a201-02fbc9b017c2\",\"type\":\"Title\"},{\"attributes\":{\"below\":[{\"id\":\"6590a353-1f1a-494b-8054-139b2ce4fa47\",\"type\":\"LinearAxis\"}],\"left\":[{\"id\":\"f68a4ca4-d75b-4662-9b4b-aa7855b0f789\",\"type\":\"LinearAxis\"}],\"plot_height\":400,\"plot_width\":800,\"renderers\":[{\"id\":\"6590a353-1f1a-494b-8054-139b2ce4fa47\",\"type\":\"LinearAxis\"},{\"id\":\"a1eb8046-e206-440f-8f00-9829d50d3a32\",\"type\":\"Grid\"},{\"id\":\"f68a4ca4-d75b-4662-9b4b-aa7855b0f789\",\"type\":\"LinearAxis\"},{\"id\":\"a7316483-18c6-4c18-80d8-aac47e672230\",\"type\":\"Grid\"},{\"id\":\"c3cd7e40-b0c7-4dab-a70d-0fe15f2318af\",\"type\":\"BoxAnnotation\"},{\"id\":\"3d7e226d-c5cd-4f5e-a328-145eb3365a76\",\"type\":\"Legend\"},{\"id\":\"3a6d3e26-e919-4cb3-a825-50a1490def84\",\"type\":\"GlyphRenderer\"},{\"id\":\"407f535f-b3b6-4ef1-9a37-c29239842db4\",\"type\":\"GlyphRenderer\"},{\"id\":\"087c90bb-d1ce-4b84-8002-8f85f6dd307e\",\"type\":\"GlyphRenderer\"},{\"id\":\"c98822bf-aefe-43fd-943a-340c300c5ff3\",\"type\":\"GlyphRenderer\"},{\"id\":\"041daf6a-882c-4f49-892e-6a1b751a054f\",\"type\":\"GlyphRenderer\"},{\"id\":\"32f55336-5f91-4353-bbee-8440ef6deea3\",\"type\":\"GlyphRenderer\"},{\"id\":\"35e9da25-d005-4b75-a563-126c29024ce1\",\"type\":\"GlyphRenderer\"}],\"title\":{\"id\":\"2a5e6d88-cd44-417c-a201-02fbc9b017c2\",\"type\":\"Title\"},\"toolbar\":{\"id\":\"5b1a15dc-97f2-447b-ab96-1e5c3500ff20\",\"type\":\"Toolbar\"},\"x_range\":{\"id\":\"31c0600f-0b82-42a0-a29c-5ad66b837718\",\"type\":\"DataRange1d\"},\"x_scale\":{\"id\":\"1bd6c8a1-700a-42f6-8314-9cb252d6b18f\",\"type\":\"LinearScale\"},\"y_range\":{\"id\":\"7fa8fc10-f98c-409a-aa11-ccc2562ea9ea\",\"type\":\"DataRange1d\"},\"y_scale\":{\"id\":\"19ef2a95-b097-4871-aa7d-c499c56b59f5\",\"type\":\"LinearScale\"}},\"id\":\"5d0abdf2-066b-4e69-b979-b7501d1f3180\",\"subtype\":\"Figure\",\"type\":\"Plot\"},{\"attributes\":{\"callback\":null,\"column_names\":[\"x\",\"y\"],\"data\":{\"x\":[0,1,2,3,4,5,6,7,8,9,10,11,12,13,14,15,16,17,18,19,20,21,22,23],\"y\":[195,161,135,95,70,70,46,41,86,102,124,150,183,121,164,149,151,140,164,161,140,162,204,207]}},\"id\":\"43d7c29e-304e-4fa2-83c8-244cabe73b43\",\"type\":\"ColumnDataSource\"},{\"attributes\":{\"callback\":null,\"column_names\":[\"x\",\"y\"],\"data\":{\"x\":[0,1,2,3,4,5,6,7,8,9,10,11,12,13,14,15,16,17,18,19,20,21,22,23],\"y\":[128,86,66,43,48,35,61,73,93,132,122,151,163,141,171,155,134,152,178,159,166,177,158,133]}},\"id\":\"5ca50c3e-86d0-41f5-9573-480c66d8b84a\",\"type\":\"ColumnDataSource\"},{\"attributes\":{\"source\":{\"id\":\"382881e9-6ffd-4cde-98ed-638c537cd0bd\",\"type\":\"ColumnDataSource\"}},\"id\":\"e4b32582-d9ce-4288-a8a5-b9048fc21780\",\"type\":\"CDSView\"},{\"attributes\":{\"data_source\":{\"id\":\"382881e9-6ffd-4cde-98ed-638c537cd0bd\",\"type\":\"ColumnDataSource\"},\"glyph\":{\"id\":\"cb2ef0cd-caa8-4743-849e-6b90e45af1c1\",\"type\":\"Line\"},\"hover_glyph\":null,\"muted_glyph\":null,\"nonselection_glyph\":{\"id\":\"b7c8f926-b162-438d-a1b5-3008ba8e9fb8\",\"type\":\"Line\"},\"selection_glyph\":null,\"view\":{\"id\":\"e4b32582-d9ce-4288-a8a5-b9048fc21780\",\"type\":\"CDSView\"}},\"id\":\"c98822bf-aefe-43fd-943a-340c300c5ff3\",\"type\":\"GlyphRenderer\"},{\"attributes\":{\"line_alpha\":0.1,\"line_color\":\"#1f77b4\",\"line_width\":2,\"x\":{\"field\":\"x\"},\"y\":{\"field\":\"y\"}},\"id\":\"b7c8f926-b162-438d-a1b5-3008ba8e9fb8\",\"type\":\"Line\"},{\"attributes\":{},\"id\":\"19ef2a95-b097-4871-aa7d-c499c56b59f5\",\"type\":\"LinearScale\"},{\"attributes\":{\"label\":{\"value\":\"Wednesday\"},\"renderers\":[{\"id\":\"087c90bb-d1ce-4b84-8002-8f85f6dd307e\",\"type\":\"GlyphRenderer\"}]},\"id\":\"051a7557-b064-474e-87c1-a2f681e1aa49\",\"type\":\"LegendItem\"},{\"attributes\":{\"line_color\":\"#1f78b4\",\"line_width\":2,\"x\":{\"field\":\"x\"},\"y\":{\"field\":\"y\"}},\"id\":\"924a0b2e-77a7-4f5a-a819-55ab21b68ac3\",\"type\":\"Line\"},{\"attributes\":{\"items\":[{\"id\":\"2fb5c840-00fd-453f-8d2a-f1c16ca9bca1\",\"type\":\"LegendItem\"},{\"id\":\"586fd240-7b41-4bdd-904a-dc4e38c835d6\",\"type\":\"LegendItem\"},{\"id\":\"051a7557-b064-474e-87c1-a2f681e1aa49\",\"type\":\"LegendItem\"},{\"id\":\"ab2fe3d1-0113-40f2-af8d-50fa73bd4c37\",\"type\":\"LegendItem\"},{\"id\":\"0942a23e-409a-46dc-bebe-0a50a36ae7ae\",\"type\":\"LegendItem\"},{\"id\":\"cf1c5d3e-f840-44d4-acfe-5bf46298ee3e\",\"type\":\"LegendItem\"},{\"id\":\"7d8feeb3-ba8b-4722-9a1e-1e872c17edf4\",\"type\":\"LegendItem\"}],\"plot\":{\"id\":\"5d0abdf2-066b-4e69-b979-b7501d1f3180\",\"subtype\":\"Figure\",\"type\":\"Plot\"}},\"id\":\"3d7e226d-c5cd-4f5e-a328-145eb3365a76\",\"type\":\"Legend\"},{\"attributes\":{\"label\":{\"value\":\"Tuesday\"},\"renderers\":[{\"id\":\"407f535f-b3b6-4ef1-9a37-c29239842db4\",\"type\":\"GlyphRenderer\"}]},\"id\":\"586fd240-7b41-4bdd-904a-dc4e38c835d6\",\"type\":\"LegendItem\"},{\"attributes\":{\"label\":{\"value\":\"Monday\"},\"renderers\":[{\"id\":\"3a6d3e26-e919-4cb3-a825-50a1490def84\",\"type\":\"GlyphRenderer\"}]},\"id\":\"2fb5c840-00fd-453f-8d2a-f1c16ca9bca1\",\"type\":\"LegendItem\"},{\"attributes\":{\"label\":{\"value\":\"Thursday\"},\"renderers\":[{\"id\":\"c98822bf-aefe-43fd-943a-340c300c5ff3\",\"type\":\"GlyphRenderer\"}]},\"id\":\"ab2fe3d1-0113-40f2-af8d-50fa73bd4c37\",\"type\":\"LegendItem\"},{\"attributes\":{\"data_source\":{\"id\":\"5da58e77-aee7-4690-976d-38cb12ac0c12\",\"type\":\"ColumnDataSource\"},\"glyph\":{\"id\":\"02d150f9-ca7c-4774-bb71-1c35cd5873dc\",\"type\":\"Line\"},\"hover_glyph\":null,\"muted_glyph\":null,\"nonselection_glyph\":{\"id\":\"ecb0dfc7-d7bb-445f-bbd4-ab8f62b675bf\",\"type\":\"Line\"},\"selection_glyph\":null,\"view\":{\"id\":\"93bf0d28-b5c9-4145-b9af-737342e14601\",\"type\":\"CDSView\"}},\"id\":\"041daf6a-882c-4f49-892e-6a1b751a054f\",\"type\":\"GlyphRenderer\"},{\"attributes\":{\"source\":{\"id\":\"5ca50c3e-86d0-41f5-9573-480c66d8b84a\",\"type\":\"ColumnDataSource\"}},\"id\":\"27a97bc7-0812-470b-bf96-a5b185c886bb\",\"type\":\"CDSView\"},{\"attributes\":{},\"id\":\"ce7f793d-0954-4a9e-a724-dfd2ed40dfc8\",\"type\":\"BasicTickFormatter\"},{\"attributes\":{\"callback\":null},\"id\":\"31c0600f-0b82-42a0-a29c-5ad66b837718\",\"type\":\"DataRange1d\"},{\"attributes\":{\"data_source\":{\"id\":\"43d7c29e-304e-4fa2-83c8-244cabe73b43\",\"type\":\"ColumnDataSource\"},\"glyph\":{\"id\":\"3c6290ec-cf70-4e5c-93d0-4d9c2723bade\",\"type\":\"Line\"},\"hover_glyph\":null,\"muted_glyph\":null,\"nonselection_glyph\":{\"id\":\"80632a43-2568-4e04-a65d-9fa71cd1a28b\",\"type\":\"Line\"},\"selection_glyph\":null,\"view\":{\"id\":\"a1c2b027-cd6c-4c96-bb1f-78d67fc6346b\",\"type\":\"CDSView\"}},\"id\":\"32f55336-5f91-4353-bbee-8440ef6deea3\",\"type\":\"GlyphRenderer\"},{\"attributes\":{\"formatter\":{\"id\":\"ce7f793d-0954-4a9e-a724-dfd2ed40dfc8\",\"type\":\"BasicTickFormatter\"},\"plot\":{\"id\":\"5d0abdf2-066b-4e69-b979-b7501d1f3180\",\"subtype\":\"Figure\",\"type\":\"Plot\"},\"ticker\":{\"id\":\"fd02c9ec-dee0-4e9f-95b2-927c64b73597\",\"type\":\"BasicTicker\"}},\"id\":\"6590a353-1f1a-494b-8054-139b2ce4fa47\",\"type\":\"LinearAxis\"},{\"attributes\":{\"line_alpha\":0.1,\"line_color\":\"#1f77b4\",\"line_width\":2,\"x\":{\"field\":\"x\"},\"y\":{\"field\":\"y\"}},\"id\":\"80632a43-2568-4e04-a65d-9fa71cd1a28b\",\"type\":\"Line\"},{\"attributes\":{\"label\":{\"value\":\"Friday\"},\"renderers\":[{\"id\":\"041daf6a-882c-4f49-892e-6a1b751a054f\",\"type\":\"GlyphRenderer\"}]},\"id\":\"0942a23e-409a-46dc-bebe-0a50a36ae7ae\",\"type\":\"LegendItem\"},{\"attributes\":{\"source\":{\"id\":\"43d7c29e-304e-4fa2-83c8-244cabe73b43\",\"type\":\"ColumnDataSource\"}},\"id\":\"a1c2b027-cd6c-4c96-bb1f-78d67fc6346b\",\"type\":\"CDSView\"},{\"attributes\":{\"label\":{\"value\":\"Sunday\"},\"renderers\":[{\"id\":\"35e9da25-d005-4b75-a563-126c29024ce1\",\"type\":\"GlyphRenderer\"}]},\"id\":\"7d8feeb3-ba8b-4722-9a1e-1e872c17edf4\",\"type\":\"LegendItem\"},{\"attributes\":{\"line_color\":\"#fb9a99\",\"line_width\":2,\"x\":{\"field\":\"x\"},\"y\":{\"field\":\"y\"}},\"id\":\"02d150f9-ca7c-4774-bb71-1c35cd5873dc\",\"type\":\"Line\"},{\"attributes\":{\"label\":{\"value\":\"Saturday\"},\"renderers\":[{\"id\":\"32f55336-5f91-4353-bbee-8440ef6deea3\",\"type\":\"GlyphRenderer\"}]},\"id\":\"cf1c5d3e-f840-44d4-acfe-5bf46298ee3e\",\"type\":\"LegendItem\"},{\"attributes\":{\"plot\":{\"id\":\"5d0abdf2-066b-4e69-b979-b7501d1f3180\",\"subtype\":\"Figure\",\"type\":\"Plot\"},\"ticker\":{\"id\":\"fd02c9ec-dee0-4e9f-95b2-927c64b73597\",\"type\":\"BasicTicker\"}},\"id\":\"a1eb8046-e206-440f-8f00-9829d50d3a32\",\"type\":\"Grid\"},{\"attributes\":{\"callback\":null,\"column_names\":[\"x\",\"y\"],\"data\":{\"x\":[0,1,2,3,4,5,6,7,8,9,10,11,12,13,14,15,16,17,18,19,20,21,22,23],\"y\":[198,122,99,69,50,51,68,70,107,154,170,175,213,200,195,218,203,212,233,250,220,188,242,234]}},\"id\":\"5da58e77-aee7-4690-976d-38cb12ac0c12\",\"type\":\"ColumnDataSource\"},{\"attributes\":{},\"id\":\"6a897502-31cd-42fa-ac9b-2dc1109def2c\",\"type\":\"SaveTool\"},{\"attributes\":{\"line_color\":\"#e31a1c\",\"line_width\":2,\"x\":{\"field\":\"x\"},\"y\":{\"field\":\"y\"}},\"id\":\"3c6290ec-cf70-4e5c-93d0-4d9c2723bade\",\"type\":\"Line\"},{\"attributes\":{\"overlay\":{\"id\":\"c3cd7e40-b0c7-4dab-a70d-0fe15f2318af\",\"type\":\"BoxAnnotation\"}},\"id\":\"14b96f15-fdde-47b0-b204-64f923bef27d\",\"type\":\"BoxZoomTool\"},{\"attributes\":{\"source\":{\"id\":\"48e50e0a-ec09-4e78-8f3e-45bdc7bc3335\",\"type\":\"ColumnDataSource\"}},\"id\":\"0efc3955-0926-4256-ae2c-54ceb91258c8\",\"type\":\"CDSView\"},{\"attributes\":{},\"id\":\"df09f144-bf21-4d14-9da4-fa8b4a2ecdbb\",\"type\":\"ResetTool\"},{\"attributes\":{},\"id\":\"1bd6c8a1-700a-42f6-8314-9cb252d6b18f\",\"type\":\"LinearScale\"},{\"attributes\":{\"dimension\":1,\"plot\":{\"id\":\"5d0abdf2-066b-4e69-b979-b7501d1f3180\",\"subtype\":\"Figure\",\"type\":\"Plot\"},\"ticker\":{\"id\":\"c1a6ed5c-0eda-400b-b48b-baa75cd217de\",\"type\":\"BasicTicker\"}},\"id\":\"a7316483-18c6-4c18-80d8-aac47e672230\",\"type\":\"Grid\"},{\"attributes\":{},\"id\":\"41a80024-1d97-4907-be94-39077ece53ad\",\"type\":\"PanTool\"},{\"attributes\":{},\"id\":\"fd02c9ec-dee0-4e9f-95b2-927c64b73597\",\"type\":\"BasicTicker\"},{\"attributes\":{\"data_source\":{\"id\":\"5ca50c3e-86d0-41f5-9573-480c66d8b84a\",\"type\":\"ColumnDataSource\"},\"glyph\":{\"id\":\"924a0b2e-77a7-4f5a-a819-55ab21b68ac3\",\"type\":\"Line\"},\"hover_glyph\":null,\"muted_glyph\":null,\"nonselection_glyph\":{\"id\":\"fba133e6-f63c-440b-8c04-96e09b756a46\",\"type\":\"Line\"},\"selection_glyph\":null,\"view\":{\"id\":\"27a97bc7-0812-470b-bf96-a5b185c886bb\",\"type\":\"CDSView\"}},\"id\":\"407f535f-b3b6-4ef1-9a37-c29239842db4\",\"type\":\"GlyphRenderer\"},{\"attributes\":{},\"id\":\"c1a6ed5c-0eda-400b-b48b-baa75cd217de\",\"type\":\"BasicTicker\"},{\"attributes\":{\"callback\":null},\"id\":\"7fa8fc10-f98c-409a-aa11-ccc2562ea9ea\",\"type\":\"DataRange1d\"},{\"attributes\":{\"bottom_units\":\"screen\",\"fill_alpha\":{\"value\":0.5},\"fill_color\":{\"value\":\"lightgrey\"},\"left_units\":\"screen\",\"level\":\"overlay\",\"line_alpha\":{\"value\":1.0},\"line_color\":{\"value\":\"black\"},\"line_dash\":[4,4],\"line_width\":{\"value\":2},\"plot\":null,\"render_mode\":\"css\",\"right_units\":\"screen\",\"top_units\":\"screen\"},\"id\":\"c3cd7e40-b0c7-4dab-a70d-0fe15f2318af\",\"type\":\"BoxAnnotation\"},{\"attributes\":{\"formatter\":{\"id\":\"830b33b2-1289-4624-a7a6-6219910d8ad2\",\"type\":\"BasicTickFormatter\"},\"plot\":{\"id\":\"5d0abdf2-066b-4e69-b979-b7501d1f3180\",\"subtype\":\"Figure\",\"type\":\"Plot\"},\"ticker\":{\"id\":\"c1a6ed5c-0eda-400b-b48b-baa75cd217de\",\"type\":\"BasicTicker\"}},\"id\":\"f68a4ca4-d75b-4662-9b4b-aa7855b0f789\",\"type\":\"LinearAxis\"},{\"attributes\":{\"callback\":null,\"column_names\":[\"x\",\"y\"],\"data\":{\"x\":[0,1,2,3,4,5,6,7,8,9,10,11,12,13,14,15,16,17,18,19,20,21,22,23],\"y\":[183,100,62,69,57,53,49,87,136,172,177,187,228,184,220,216,205,196,248,221,196,191,200,184]}},\"id\":\"48e50e0a-ec09-4e78-8f3e-45bdc7bc3335\",\"type\":\"ColumnDataSource\"},{\"attributes\":{\"line_color\":\"#a6cee3\",\"line_width\":2,\"x\":{\"field\":\"x\"},\"y\":{\"field\":\"y\"}},\"id\":\"de304617-37ac-47ef-98df-100c3c48aab4\",\"type\":\"Line\"},{\"attributes\":{\"active_drag\":\"auto\",\"active_inspect\":\"auto\",\"active_scroll\":\"auto\",\"active_tap\":\"auto\",\"tools\":[{\"id\":\"41a80024-1d97-4907-be94-39077ece53ad\",\"type\":\"PanTool\"},{\"id\":\"344c3e72-b214-4197-b7c9-f5029b7ce188\",\"type\":\"WheelZoomTool\"},{\"id\":\"14b96f15-fdde-47b0-b204-64f923bef27d\",\"type\":\"BoxZoomTool\"},{\"id\":\"6a897502-31cd-42fa-ac9b-2dc1109def2c\",\"type\":\"SaveTool\"},{\"id\":\"df09f144-bf21-4d14-9da4-fa8b4a2ecdbb\",\"type\":\"ResetTool\"},{\"id\":\"0af6d39e-3d5f-4a8e-b0f7-ee7b4f17ea2f\",\"type\":\"HelpTool\"}]},\"id\":\"5b1a15dc-97f2-447b-ab96-1e5c3500ff20\",\"type\":\"Toolbar\"},{\"attributes\":{\"line_alpha\":0.1,\"line_color\":\"#1f77b4\",\"line_width\":2,\"x\":{\"field\":\"x\"},\"y\":{\"field\":\"y\"}},\"id\":\"fba133e6-f63c-440b-8c04-96e09b756a46\",\"type\":\"Line\"},{\"attributes\":{\"line_alpha\":0.1,\"line_color\":\"#1f77b4\",\"line_width\":2,\"x\":{\"field\":\"x\"},\"y\":{\"field\":\"y\"}},\"id\":\"9fad90f0-72ff-4856-b219-e2ce6ff95136\",\"type\":\"Line\"},{\"attributes\":{\"line_color\":\"#fdbf6f\",\"line_width\":2,\"x\":{\"field\":\"x\"},\"y\":{\"field\":\"y\"}},\"id\":\"d28dfff8-d400-4b28-a9fc-1253a1eed0bd\",\"type\":\"Line\"},{\"attributes\":{\"source\":{\"id\":\"3a3b8b22-407a-4215-b350-1b8ef6361193\",\"type\":\"ColumnDataSource\"}},\"id\":\"2d6f79cd-ef8e-4b57-b48e-d37c1224c43e\",\"type\":\"CDSView\"},{\"attributes\":{\"line_alpha\":0.1,\"line_color\":\"#1f77b4\",\"line_width\":2,\"x\":{\"field\":\"x\"},\"y\":{\"field\":\"y\"}},\"id\":\"fc0a3218-b158-4f06-bda5-3062e1ca5ef4\",\"type\":\"Line\"},{\"attributes\":{},\"id\":\"344c3e72-b214-4197-b7c9-f5029b7ce188\",\"type\":\"WheelZoomTool\"}],\"root_ids\":[\"5d0abdf2-066b-4e69-b979-b7501d1f3180\"]},\"title\":\"Bokeh Application\",\"version\":\"0.12.13\"}};\n",
       "  var render_items = [{\"docid\":\"1b5c7c54-6735-4d17-9b1e-c84269bf0165\",\"elementid\":\"ad2237fa-9bab-40a7-b18a-4dbf83c97cb4\",\"modelid\":\"5d0abdf2-066b-4e69-b979-b7501d1f3180\"}];\n",
       "  root.Bokeh.embed.embed_items_notebook(docs_json, render_items);\n",
       "\n",
       "  }\n",
       "  if (root.Bokeh !== undefined) {\n",
       "    embed_document(root);\n",
       "  } else {\n",
       "    var attempts = 0;\n",
       "    var timer = setInterval(function(root) {\n",
       "      if (root.Bokeh !== undefined) {\n",
       "        embed_document(root);\n",
       "        clearInterval(timer);\n",
       "      }\n",
       "      attempts++;\n",
       "      if (attempts > 100) {\n",
       "        console.log(\"Bokeh: ERROR: Unable to run BokehJS code because BokehJS library is missing\")\n",
       "        clearInterval(timer);\n",
       "      }\n",
       "    }, 10, root)\n",
       "  }\n",
       "})(window);"
      ],
      "application/vnd.bokehjs_exec.v0+json": ""
     },
     "metadata": {
      "application/vnd.bokehjs_exec.v0+json": {
       "id": "5d0abdf2-066b-4e69-b979-b7501d1f3180"
      }
     },
     "output_type": "display_data"
    }
   ],
   "source": [
    "show(p_list[6])"
   ]
  },
  {
   "cell_type": "code",
   "execution_count": 66,
   "metadata": {},
   "outputs": [],
   "source": [
    "%matplotlib inline"
   ]
  },
  {
   "cell_type": "code",
   "execution_count": 67,
   "metadata": {},
   "outputs": [
    {
     "data": {
      "text/plain": [
       "<matplotlib.axes._subplots.AxesSubplot at 0x13b354a8>"
      ]
     },
     "execution_count": 67,
     "metadata": {},
     "output_type": "execute_result"
    },
    {
     "data": {
      "image/png": "[encoded data removed]",
      "text/plain": [
       "<matplotlib.figure.Figure at 0x13b472b0>"
      ]
     },
     "metadata": {},
     "output_type": "display_data"
    }
   ],
   "source": [
    "df.groupby(['Month'])['Latitude'].count().plot()"
   ]
  },
  {
   "cell_type": "code",
   "execution_count": null,
   "metadata": {
    "collapsed": true
   },
   "outputs": [],
   "source": []
  }
 ],
 "metadata": {
  "kernelspec": {
   "display_name": "Python 3",
   "language": "python",
   "name": "python3"
  },
  "language_info": {
   "codemirror_mode": {
    "name": "ipython",
    "version": 3
   },
   "file_extension": ".py",
   "mimetype": "text/x-python",
   "name": "python",
   "nbconvert_exporter": "python",
   "pygments_lexer": "ipython3",
   "version": "3.6.2"
  }
 },
 "nbformat": 4,
 "nbformat_minor": 2
}
